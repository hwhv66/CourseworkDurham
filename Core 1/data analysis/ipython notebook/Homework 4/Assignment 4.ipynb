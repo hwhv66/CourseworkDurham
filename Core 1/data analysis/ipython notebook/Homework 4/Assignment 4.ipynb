{
 "cells": [
  {
   "cell_type": "code",
   "execution_count": 3,
   "metadata": {
    "deletable": false,
    "editable": false,
    "nbgrader": {
     "cell_type": "code",
     "checksum": "1d3f7f5d23684c6451854d9452df7b13",
     "grade": false,
     "grade_id": "cell-40c4dfc6e28ab56c",
     "locked": true,
     "schema_version": 3,
     "solution": false,
     "task": false
    }
   },
   "outputs": [],
   "source": [
    "%matplotlib nbagg\n",
    "from __future__ import division\n",
    "from scipy.stats import norm\n",
    "from IPython.display import HTML\n",
    "from IPython.display import display\n",
    "from scipy.optimize import *\n",
    "import numpy as np\n",
    "import pandas as pd\n",
    "import matplotlib.pyplot as plt"
   ]
  },
  {
   "cell_type": "markdown",
   "metadata": {
    "deletable": false,
    "editable": false,
    "nbgrader": {
     "cell_type": "markdown",
     "checksum": "34c85014e3f8aadb528543cf66190422",
     "grade": false,
     "grade_id": "cell-f389a57f40f241d1",
     "locked": true,
     "schema_version": 3,
     "solution": false,
     "task": false
    }
   },
   "source": [
    "## Question 1: Linear Regression (10 marks) \n",
    "\n",
    "The data listed below come from an experiment to verify Ohm's law. The voltage across a resistor (the dependent variable) was measured as a function of the current flowing (the independent variable).  The precision of the voltmeter was 0.01mV, and the uncertainty in the current was negligible.\n",
    "\n",
    "\\begin{equation}\n",
    "\\begin{array}{lccccc}\n",
    "\\hline\n",
    "{\\rm Current~(\\mu A)} &10&20&30&40&50\\\\\n",
    "{\\rm Voltage~(mV)} &0.98&1.98&2.98&3.97&4.95\\\\\n",
    "\\hline\n",
    "{\\rm Current~(\\mu A)} &60&70&80&90&\\\\\n",
    "{\\rm Voltage~(mV)} &5.95&6.93&7.93&8.91&\\\\\n",
    "\\hline\n",
    "\\end{array} \n",
    "\\end{equation}\n",
    "\n",
    "This data is saved as 'ohms_law.csv'\n",
    "\n",
    "Required:\n",
    "<bf>\n",
    ">(i) Calculate the unweighted best-fit gradient and intercept, and their uncertainties. (2 marks) \n",
    "<bf>\n",
    ">(ii) Calculate the common uncertainty, $\\alpha_{\\rm CU}$, and compare the value with the experimental uncertainty. (2 marks) \n",
    "<bf>\n",
    ">(iii) Plot a graph of the data and add the best-fit straight line. Remember to label your axes. (4 marks) \n",
    "<bf>\n",
    ">(iv) Calculate the residuals, and comment on their magnitudes. (2 marks) "
   ]
  },
  {
   "cell_type": "markdown",
   "metadata": {
    "deletable": false,
    "editable": false,
    "nbgrader": {
     "cell_type": "markdown",
     "checksum": "2ba36c8ca7d403c3add1fce75b40f47e",
     "grade": false,
     "grade_id": "cell-346250500b7ef9aa",
     "locked": true,
     "schema_version": 3,
     "solution": false,
     "task": false
    }
   },
   "source": [
    "### (i) Calculate the unweighted best-fit gradient and intercept, and their uncertainties."
   ]
  },
  {
   "cell_type": "code",
   "execution_count": 4,
   "metadata": {
    "deletable": false,
    "nbgrader": {
     "cell_type": "code",
     "checksum": "918ee5184ff3a3158d4d88383ad33fa9",
     "grade": false,
     "grade_id": "cell-2da102702f6dcc8c",
     "locked": false,
     "schema_version": 3,
     "solution": true,
     "task": false
    }
   },
   "outputs": [
    {
     "name": "stdout",
     "output_type": "stream",
     "text": [
      "(0.0990833333313682, -0.0008333333355163841, 9.236442385408873e-05, 0.005197641422796618)\n"
     ]
    }
   ],
   "source": [
    "data = pd.read_csv('ohms_law.csv')\n",
    "current = np.array(data.iloc[:,0])\n",
    "voltage = np.array(data.iloc[:,1])\n",
    "voltage_error = data.iloc[:,2]\n",
    "\n",
    "def linear(x,m,c):\n",
    "    return x*m + c\n",
    "\n",
    "def one_i():\n",
    "    gradient = 0\n",
    "    intercept = 0\n",
    "    uncertainty_gradient = 0\n",
    "    uncertainty_intercept = 0\n",
    "    popt, pcov = curve_fit(linear, current, voltage)\n",
    "    gradient = popt[0]\n",
    "    intercept = popt[1]\n",
    "    uncertainty_gradient = pcov[0,0]**0.5\n",
    "    uncertainty_intercept = pcov[1,1]**0.5\n",
    "    # YOUR CODE HERE\n",
    "    return(gradient,intercept,uncertainty_gradient,uncertainty_intercept)\n",
    "\n",
    "print(one_i())"
   ]
  },
  {
   "cell_type": "code",
   "execution_count": 5,
   "metadata": {
    "deletable": false,
    "editable": false,
    "nbgrader": {
     "cell_type": "code",
     "checksum": "b197e1c88982b9f77cd47379b26adf33",
     "grade": true,
     "grade_id": "cell-5ad418f25c3c73d6",
     "locked": true,
     "points": 0.5,
     "schema_version": 3,
     "solution": false,
     "task": false
    }
   },
   "outputs": [
    {
     "data": {
      "text/plain": [
       "'TEST CELL- DO NOT DELETE'"
      ]
     },
     "execution_count": 5,
     "metadata": {},
     "output_type": "execute_result"
    }
   ],
   "source": [
    "'''TEST CELL- DO NOT DELETE'''"
   ]
  },
  {
   "cell_type": "code",
   "execution_count": 6,
   "metadata": {
    "deletable": false,
    "editable": false,
    "nbgrader": {
     "cell_type": "code",
     "checksum": "94089bdbef94e68d1f8c30f67ccbad6e",
     "grade": true,
     "grade_id": "cell-b4206294c20a03ce",
     "locked": true,
     "points": 0.5,
     "schema_version": 3,
     "solution": false,
     "task": false
    }
   },
   "outputs": [
    {
     "data": {
      "text/plain": [
       "'TEST CELL- DO NOT DELETE'"
      ]
     },
     "execution_count": 6,
     "metadata": {},
     "output_type": "execute_result"
    }
   ],
   "source": [
    "'''TEST CELL- DO NOT DELETE'''"
   ]
  },
  {
   "cell_type": "code",
   "execution_count": 7,
   "metadata": {
    "deletable": false,
    "editable": false,
    "nbgrader": {
     "cell_type": "code",
     "checksum": "8540151faeb3244fdcb4b1024b230ecb",
     "grade": true,
     "grade_id": "cell-c2cec72417bd361a",
     "locked": true,
     "points": 0.5,
     "schema_version": 3,
     "solution": false,
     "task": false
    }
   },
   "outputs": [
    {
     "data": {
      "text/plain": [
       "'TEST CELL- DO NOT DELETE'"
      ]
     },
     "execution_count": 7,
     "metadata": {},
     "output_type": "execute_result"
    }
   ],
   "source": [
    "'''TEST CELL- DO NOT DELETE'''"
   ]
  },
  {
   "cell_type": "code",
   "execution_count": 8,
   "metadata": {
    "deletable": false,
    "editable": false,
    "nbgrader": {
     "cell_type": "code",
     "checksum": "a52ca05ba76c7a66eb67900db52ad6cc",
     "grade": true,
     "grade_id": "cell-47c3d6ba5ff441ba",
     "locked": true,
     "points": 0.5,
     "schema_version": 3,
     "solution": false,
     "task": false
    }
   },
   "outputs": [
    {
     "data": {
      "text/plain": [
       "'TEST CELL- DO NOT DELETE'"
      ]
     },
     "execution_count": 8,
     "metadata": {},
     "output_type": "execute_result"
    }
   ],
   "source": [
    "'''TEST CELL- DO NOT DELETE'''"
   ]
  },
  {
   "cell_type": "markdown",
   "metadata": {
    "deletable": false,
    "editable": false,
    "nbgrader": {
     "cell_type": "markdown",
     "checksum": "3aba88d0eef5adec149c6c911f9d2d10",
     "grade": false,
     "grade_id": "cell-a65e585028abc0ca",
     "locked": true,
     "schema_version": 3,
     "solution": false,
     "task": false
    }
   },
   "source": [
    "### (ii) Calculate the common uncertainty (inside the function) and compare with the experimental uncertainty (by typing your comparison in the markdown cell below the function). You must return your answer in micro volts."
   ]
  },
  {
   "cell_type": "code",
   "execution_count": 9,
   "metadata": {
    "deletable": false,
    "nbgrader": {
     "cell_type": "code",
     "checksum": "67f289b1e0983b1d4fc39b6e74ae84ff",
     "grade": false,
     "grade_id": "cell-23ca67bedc042f5f",
     "locked": false,
     "schema_version": 3,
     "solution": true,
     "task": false
    }
   },
   "outputs": [
    {
     "name": "stdout",
     "output_type": "stream",
     "text": [
      "7.154752000627042\n"
     ]
    }
   ],
   "source": [
    "data = pd.read_csv('ohms_law.csv')\n",
    "current = np.array(data.iloc[:,0])\n",
    "voltage = np.array(data.iloc[:,1])\n",
    "voltage_error = data.iloc[:,2]\n",
    "\n",
    "def one_ii():\n",
    "    # YOUR CODE HERE\n",
    "    N = len(current)\n",
    "    m, c,_,_ = one_i()\n",
    "    total = 0\n",
    "    for i in range(len(current)):\n",
    "        total += (voltage[i] - m * current[i] - c) ** 2\n",
    "    common_uncertainty = np.sqrt(1 / (N - 2) * total)\n",
    "    common_uncertainty *= 1e3\n",
    "    return(common_uncertainty)\n",
    "\n",
    "print(one_ii())"
   ]
  },
  {
   "cell_type": "markdown",
   "metadata": {
    "deletable": false,
    "nbgrader": {
     "cell_type": "markdown",
     "checksum": "792d05949f670fe24e49b928452ebf69",
     "grade": true,
     "grade_id": "cell-eece40263baad66e",
     "locked": false,
     "points": 2,
     "schema_version": 3,
     "solution": true,
     "task": false
    }
   },
   "source": [
    "Comparing with the experimental uncertainty, the common uncertainty is close to the uncertainty caused by the voltmeter."
   ]
  },
  {
   "cell_type": "markdown",
   "metadata": {
    "deletable": false,
    "editable": false,
    "nbgrader": {
     "cell_type": "markdown",
     "checksum": "98c846fe7df4dc3fab217ce05d84673d",
     "grade": false,
     "grade_id": "cell-e162461c7741ae68",
     "locked": true,
     "schema_version": 3,
     "solution": false,
     "task": false
    }
   },
   "source": [
    "### (iii) Plot a graph of the data adding the best fit line and residuals below."
   ]
  },
  {
   "cell_type": "code",
   "execution_count": 10,
   "metadata": {
    "deletable": false,
    "nbgrader": {
     "cell_type": "code",
     "checksum": "4a65e128740dc5b12e740b0e1ae35433",
     "grade": true,
     "grade_id": "cell-10e53c1885ea0bbf",
     "locked": false,
     "points": 4,
     "schema_version": 3,
     "solution": true,
     "task": false
    }
   },
   "outputs": [
    {
     "name": "stdout",
     "output_type": "stream",
     "text": [
      "0.0990833333313682\n",
      "-0.0008333333355234895\n"
     ]
    },
    {
     "data": {
      "application/javascript": [
       "/* Put everything inside the global mpl namespace */\n",
       "window.mpl = {};\n",
       "\n",
       "\n",
       "mpl.get_websocket_type = function() {\n",
       "    if (typeof(WebSocket) !== 'undefined') {\n",
       "        return WebSocket;\n",
       "    } else if (typeof(MozWebSocket) !== 'undefined') {\n",
       "        return MozWebSocket;\n",
       "    } else {\n",
       "        alert('Your browser does not have WebSocket support.' +\n",
       "              'Please try Chrome, Safari or Firefox ≥ 6. ' +\n",
       "              'Firefox 4 and 5 are also supported but you ' +\n",
       "              'have to enable WebSockets in about:config.');\n",
       "    };\n",
       "}\n",
       "\n",
       "mpl.figure = function(figure_id, websocket, ondownload, parent_element) {\n",
       "    this.id = figure_id;\n",
       "\n",
       "    this.ws = websocket;\n",
       "\n",
       "    this.supports_binary = (this.ws.binaryType != undefined);\n",
       "\n",
       "    if (!this.supports_binary) {\n",
       "        var warnings = document.getElementById(\"mpl-warnings\");\n",
       "        if (warnings) {\n",
       "            warnings.style.display = 'block';\n",
       "            warnings.textContent = (\n",
       "                \"This browser does not support binary websocket messages. \" +\n",
       "                    \"Performance may be slow.\");\n",
       "        }\n",
       "    }\n",
       "\n",
       "    this.imageObj = new Image();\n",
       "\n",
       "    this.context = undefined;\n",
       "    this.message = undefined;\n",
       "    this.canvas = undefined;\n",
       "    this.rubberband_canvas = undefined;\n",
       "    this.rubberband_context = undefined;\n",
       "    this.format_dropdown = undefined;\n",
       "\n",
       "    this.image_mode = 'full';\n",
       "\n",
       "    this.root = $('<div/>');\n",
       "    this._root_extra_style(this.root)\n",
       "    this.root.attr('style', 'display: inline-block');\n",
       "\n",
       "    $(parent_element).append(this.root);\n",
       "\n",
       "    this._init_header(this);\n",
       "    this._init_canvas(this);\n",
       "    this._init_toolbar(this);\n",
       "\n",
       "    var fig = this;\n",
       "\n",
       "    this.waiting = false;\n",
       "\n",
       "    this.ws.onopen =  function () {\n",
       "            fig.send_message(\"supports_binary\", {value: fig.supports_binary});\n",
       "            fig.send_message(\"send_image_mode\", {});\n",
       "            if (mpl.ratio != 1) {\n",
       "                fig.send_message(\"set_dpi_ratio\", {'dpi_ratio': mpl.ratio});\n",
       "            }\n",
       "            fig.send_message(\"refresh\", {});\n",
       "        }\n",
       "\n",
       "    this.imageObj.onload = function() {\n",
       "            if (fig.image_mode == 'full') {\n",
       "                // Full images could contain transparency (where diff images\n",
       "                // almost always do), so we need to clear the canvas so that\n",
       "                // there is no ghosting.\n",
       "                fig.context.clearRect(0, 0, fig.canvas.width, fig.canvas.height);\n",
       "            }\n",
       "            fig.context.drawImage(fig.imageObj, 0, 0);\n",
       "        };\n",
       "\n",
       "    this.imageObj.onunload = function() {\n",
       "        fig.ws.close();\n",
       "    }\n",
       "\n",
       "    this.ws.onmessage = this._make_on_message_function(this);\n",
       "\n",
       "    this.ondownload = ondownload;\n",
       "}\n",
       "\n",
       "mpl.figure.prototype._init_header = function() {\n",
       "    var titlebar = $(\n",
       "        '<div class=\"ui-dialog-titlebar ui-widget-header ui-corner-all ' +\n",
       "        'ui-helper-clearfix\"/>');\n",
       "    var titletext = $(\n",
       "        '<div class=\"ui-dialog-title\" style=\"width: 100%; ' +\n",
       "        'text-align: center; padding: 3px;\"/>');\n",
       "    titlebar.append(titletext)\n",
       "    this.root.append(titlebar);\n",
       "    this.header = titletext[0];\n",
       "}\n",
       "\n",
       "\n",
       "\n",
       "mpl.figure.prototype._canvas_extra_style = function(canvas_div) {\n",
       "\n",
       "}\n",
       "\n",
       "\n",
       "mpl.figure.prototype._root_extra_style = function(canvas_div) {\n",
       "\n",
       "}\n",
       "\n",
       "mpl.figure.prototype._init_canvas = function() {\n",
       "    var fig = this;\n",
       "\n",
       "    var canvas_div = $('<div/>');\n",
       "\n",
       "    canvas_div.attr('style', 'position: relative; clear: both; outline: 0');\n",
       "\n",
       "    function canvas_keyboard_event(event) {\n",
       "        return fig.key_event(event, event['data']);\n",
       "    }\n",
       "\n",
       "    canvas_div.keydown('key_press', canvas_keyboard_event);\n",
       "    canvas_div.keyup('key_release', canvas_keyboard_event);\n",
       "    this.canvas_div = canvas_div\n",
       "    this._canvas_extra_style(canvas_div)\n",
       "    this.root.append(canvas_div);\n",
       "\n",
       "    var canvas = $('<canvas/>');\n",
       "    canvas.addClass('mpl-canvas');\n",
       "    canvas.attr('style', \"left: 0; top: 0; z-index: 0; outline: 0\")\n",
       "\n",
       "    this.canvas = canvas[0];\n",
       "    this.context = canvas[0].getContext(\"2d\");\n",
       "\n",
       "    var backingStore = this.context.backingStorePixelRatio ||\n",
       "\tthis.context.webkitBackingStorePixelRatio ||\n",
       "\tthis.context.mozBackingStorePixelRatio ||\n",
       "\tthis.context.msBackingStorePixelRatio ||\n",
       "\tthis.context.oBackingStorePixelRatio ||\n",
       "\tthis.context.backingStorePixelRatio || 1;\n",
       "\n",
       "    mpl.ratio = (window.devicePixelRatio || 1) / backingStore;\n",
       "\n",
       "    var rubberband = $('<canvas/>');\n",
       "    rubberband.attr('style', \"position: absolute; left: 0; top: 0; z-index: 1;\")\n",
       "\n",
       "    var pass_mouse_events = true;\n",
       "\n",
       "    canvas_div.resizable({\n",
       "        start: function(event, ui) {\n",
       "            pass_mouse_events = false;\n",
       "        },\n",
       "        resize: function(event, ui) {\n",
       "            fig.request_resize(ui.size.width, ui.size.height);\n",
       "        },\n",
       "        stop: function(event, ui) {\n",
       "            pass_mouse_events = true;\n",
       "            fig.request_resize(ui.size.width, ui.size.height);\n",
       "        },\n",
       "    });\n",
       "\n",
       "    function mouse_event_fn(event) {\n",
       "        if (pass_mouse_events)\n",
       "            return fig.mouse_event(event, event['data']);\n",
       "    }\n",
       "\n",
       "    rubberband.mousedown('button_press', mouse_event_fn);\n",
       "    rubberband.mouseup('button_release', mouse_event_fn);\n",
       "    // Throttle sequential mouse events to 1 every 20ms.\n",
       "    rubberband.mousemove('motion_notify', mouse_event_fn);\n",
       "\n",
       "    rubberband.mouseenter('figure_enter', mouse_event_fn);\n",
       "    rubberband.mouseleave('figure_leave', mouse_event_fn);\n",
       "\n",
       "    canvas_div.on(\"wheel\", function (event) {\n",
       "        event = event.originalEvent;\n",
       "        event['data'] = 'scroll'\n",
       "        if (event.deltaY < 0) {\n",
       "            event.step = 1;\n",
       "        } else {\n",
       "            event.step = -1;\n",
       "        }\n",
       "        mouse_event_fn(event);\n",
       "    });\n",
       "\n",
       "    canvas_div.append(canvas);\n",
       "    canvas_div.append(rubberband);\n",
       "\n",
       "    this.rubberband = rubberband;\n",
       "    this.rubberband_canvas = rubberband[0];\n",
       "    this.rubberband_context = rubberband[0].getContext(\"2d\");\n",
       "    this.rubberband_context.strokeStyle = \"#000000\";\n",
       "\n",
       "    this._resize_canvas = function(width, height) {\n",
       "        // Keep the size of the canvas, canvas container, and rubber band\n",
       "        // canvas in synch.\n",
       "        canvas_div.css('width', width)\n",
       "        canvas_div.css('height', height)\n",
       "\n",
       "        canvas.attr('width', width * mpl.ratio);\n",
       "        canvas.attr('height', height * mpl.ratio);\n",
       "        canvas.attr('style', 'width: ' + width + 'px; height: ' + height + 'px;');\n",
       "\n",
       "        rubberband.attr('width', width);\n",
       "        rubberband.attr('height', height);\n",
       "    }\n",
       "\n",
       "    // Set the figure to an initial 600x600px, this will subsequently be updated\n",
       "    // upon first draw.\n",
       "    this._resize_canvas(600, 600);\n",
       "\n",
       "    // Disable right mouse context menu.\n",
       "    $(this.rubberband_canvas).bind(\"contextmenu\",function(e){\n",
       "        return false;\n",
       "    });\n",
       "\n",
       "    function set_focus () {\n",
       "        canvas.focus();\n",
       "        canvas_div.focus();\n",
       "    }\n",
       "\n",
       "    window.setTimeout(set_focus, 100);\n",
       "}\n",
       "\n",
       "mpl.figure.prototype._init_toolbar = function() {\n",
       "    var fig = this;\n",
       "\n",
       "    var nav_element = $('<div/>')\n",
       "    nav_element.attr('style', 'width: 100%');\n",
       "    this.root.append(nav_element);\n",
       "\n",
       "    // Define a callback function for later on.\n",
       "    function toolbar_event(event) {\n",
       "        return fig.toolbar_button_onclick(event['data']);\n",
       "    }\n",
       "    function toolbar_mouse_event(event) {\n",
       "        return fig.toolbar_button_onmouseover(event['data']);\n",
       "    }\n",
       "\n",
       "    for(var toolbar_ind in mpl.toolbar_items) {\n",
       "        var name = mpl.toolbar_items[toolbar_ind][0];\n",
       "        var tooltip = mpl.toolbar_items[toolbar_ind][1];\n",
       "        var image = mpl.toolbar_items[toolbar_ind][2];\n",
       "        var method_name = mpl.toolbar_items[toolbar_ind][3];\n",
       "\n",
       "        if (!name) {\n",
       "            // put a spacer in here.\n",
       "            continue;\n",
       "        }\n",
       "        var button = $('<button/>');\n",
       "        button.addClass('ui-button ui-widget ui-state-default ui-corner-all ' +\n",
       "                        'ui-button-icon-only');\n",
       "        button.attr('role', 'button');\n",
       "        button.attr('aria-disabled', 'false');\n",
       "        button.click(method_name, toolbar_event);\n",
       "        button.mouseover(tooltip, toolbar_mouse_event);\n",
       "\n",
       "        var icon_img = $('<span/>');\n",
       "        icon_img.addClass('ui-button-icon-primary ui-icon');\n",
       "        icon_img.addClass(image);\n",
       "        icon_img.addClass('ui-corner-all');\n",
       "\n",
       "        var tooltip_span = $('<span/>');\n",
       "        tooltip_span.addClass('ui-button-text');\n",
       "        tooltip_span.html(tooltip);\n",
       "\n",
       "        button.append(icon_img);\n",
       "        button.append(tooltip_span);\n",
       "\n",
       "        nav_element.append(button);\n",
       "    }\n",
       "\n",
       "    var fmt_picker_span = $('<span/>');\n",
       "\n",
       "    var fmt_picker = $('<select/>');\n",
       "    fmt_picker.addClass('mpl-toolbar-option ui-widget ui-widget-content');\n",
       "    fmt_picker_span.append(fmt_picker);\n",
       "    nav_element.append(fmt_picker_span);\n",
       "    this.format_dropdown = fmt_picker[0];\n",
       "\n",
       "    for (var ind in mpl.extensions) {\n",
       "        var fmt = mpl.extensions[ind];\n",
       "        var option = $(\n",
       "            '<option/>', {selected: fmt === mpl.default_extension}).html(fmt);\n",
       "        fmt_picker.append(option)\n",
       "    }\n",
       "\n",
       "    // Add hover states to the ui-buttons\n",
       "    $( \".ui-button\" ).hover(\n",
       "        function() { $(this).addClass(\"ui-state-hover\");},\n",
       "        function() { $(this).removeClass(\"ui-state-hover\");}\n",
       "    );\n",
       "\n",
       "    var status_bar = $('<span class=\"mpl-message\"/>');\n",
       "    nav_element.append(status_bar);\n",
       "    this.message = status_bar[0];\n",
       "}\n",
       "\n",
       "mpl.figure.prototype.request_resize = function(x_pixels, y_pixels) {\n",
       "    // Request matplotlib to resize the figure. Matplotlib will then trigger a resize in the client,\n",
       "    // which will in turn request a refresh of the image.\n",
       "    this.send_message('resize', {'width': x_pixels, 'height': y_pixels});\n",
       "}\n",
       "\n",
       "mpl.figure.prototype.send_message = function(type, properties) {\n",
       "    properties['type'] = type;\n",
       "    properties['figure_id'] = this.id;\n",
       "    this.ws.send(JSON.stringify(properties));\n",
       "}\n",
       "\n",
       "mpl.figure.prototype.send_draw_message = function() {\n",
       "    if (!this.waiting) {\n",
       "        this.waiting = true;\n",
       "        this.ws.send(JSON.stringify({type: \"draw\", figure_id: this.id}));\n",
       "    }\n",
       "}\n",
       "\n",
       "\n",
       "mpl.figure.prototype.handle_save = function(fig, msg) {\n",
       "    var format_dropdown = fig.format_dropdown;\n",
       "    var format = format_dropdown.options[format_dropdown.selectedIndex].value;\n",
       "    fig.ondownload(fig, format);\n",
       "}\n",
       "\n",
       "\n",
       "mpl.figure.prototype.handle_resize = function(fig, msg) {\n",
       "    var size = msg['size'];\n",
       "    if (size[0] != fig.canvas.width || size[1] != fig.canvas.height) {\n",
       "        fig._resize_canvas(size[0], size[1]);\n",
       "        fig.send_message(\"refresh\", {});\n",
       "    };\n",
       "}\n",
       "\n",
       "mpl.figure.prototype.handle_rubberband = function(fig, msg) {\n",
       "    var x0 = msg['x0'] / mpl.ratio;\n",
       "    var y0 = (fig.canvas.height - msg['y0']) / mpl.ratio;\n",
       "    var x1 = msg['x1'] / mpl.ratio;\n",
       "    var y1 = (fig.canvas.height - msg['y1']) / mpl.ratio;\n",
       "    x0 = Math.floor(x0) + 0.5;\n",
       "    y0 = Math.floor(y0) + 0.5;\n",
       "    x1 = Math.floor(x1) + 0.5;\n",
       "    y1 = Math.floor(y1) + 0.5;\n",
       "    var min_x = Math.min(x0, x1);\n",
       "    var min_y = Math.min(y0, y1);\n",
       "    var width = Math.abs(x1 - x0);\n",
       "    var height = Math.abs(y1 - y0);\n",
       "\n",
       "    fig.rubberband_context.clearRect(\n",
       "        0, 0, fig.canvas.width, fig.canvas.height);\n",
       "\n",
       "    fig.rubberband_context.strokeRect(min_x, min_y, width, height);\n",
       "}\n",
       "\n",
       "mpl.figure.prototype.handle_figure_label = function(fig, msg) {\n",
       "    // Updates the figure title.\n",
       "    fig.header.textContent = msg['label'];\n",
       "}\n",
       "\n",
       "mpl.figure.prototype.handle_cursor = function(fig, msg) {\n",
       "    var cursor = msg['cursor'];\n",
       "    switch(cursor)\n",
       "    {\n",
       "    case 0:\n",
       "        cursor = 'pointer';\n",
       "        break;\n",
       "    case 1:\n",
       "        cursor = 'default';\n",
       "        break;\n",
       "    case 2:\n",
       "        cursor = 'crosshair';\n",
       "        break;\n",
       "    case 3:\n",
       "        cursor = 'move';\n",
       "        break;\n",
       "    }\n",
       "    fig.rubberband_canvas.style.cursor = cursor;\n",
       "}\n",
       "\n",
       "mpl.figure.prototype.handle_message = function(fig, msg) {\n",
       "    fig.message.textContent = msg['message'];\n",
       "}\n",
       "\n",
       "mpl.figure.prototype.handle_draw = function(fig, msg) {\n",
       "    // Request the server to send over a new figure.\n",
       "    fig.send_draw_message();\n",
       "}\n",
       "\n",
       "mpl.figure.prototype.handle_image_mode = function(fig, msg) {\n",
       "    fig.image_mode = msg['mode'];\n",
       "}\n",
       "\n",
       "mpl.figure.prototype.updated_canvas_event = function() {\n",
       "    // Called whenever the canvas gets updated.\n",
       "    this.send_message(\"ack\", {});\n",
       "}\n",
       "\n",
       "// A function to construct a web socket function for onmessage handling.\n",
       "// Called in the figure constructor.\n",
       "mpl.figure.prototype._make_on_message_function = function(fig) {\n",
       "    return function socket_on_message(evt) {\n",
       "        if (evt.data instanceof Blob) {\n",
       "            /* FIXME: We get \"Resource interpreted as Image but\n",
       "             * transferred with MIME type text/plain:\" errors on\n",
       "             * Chrome.  But how to set the MIME type?  It doesn't seem\n",
       "             * to be part of the websocket stream */\n",
       "            evt.data.type = \"image/png\";\n",
       "\n",
       "            /* Free the memory for the previous frames */\n",
       "            if (fig.imageObj.src) {\n",
       "                (window.URL || window.webkitURL).revokeObjectURL(\n",
       "                    fig.imageObj.src);\n",
       "            }\n",
       "\n",
       "            fig.imageObj.src = (window.URL || window.webkitURL).createObjectURL(\n",
       "                evt.data);\n",
       "            fig.updated_canvas_event();\n",
       "            fig.waiting = false;\n",
       "            return;\n",
       "        }\n",
       "        else if (typeof evt.data === 'string' && evt.data.slice(0, 21) == \"data:image/png;base64\") {\n",
       "            fig.imageObj.src = evt.data;\n",
       "            fig.updated_canvas_event();\n",
       "            fig.waiting = false;\n",
       "            return;\n",
       "        }\n",
       "\n",
       "        var msg = JSON.parse(evt.data);\n",
       "        var msg_type = msg['type'];\n",
       "\n",
       "        // Call the  \"handle_{type}\" callback, which takes\n",
       "        // the figure and JSON message as its only arguments.\n",
       "        try {\n",
       "            var callback = fig[\"handle_\" + msg_type];\n",
       "        } catch (e) {\n",
       "            console.log(\"No handler for the '\" + msg_type + \"' message type: \", msg);\n",
       "            return;\n",
       "        }\n",
       "\n",
       "        if (callback) {\n",
       "            try {\n",
       "                // console.log(\"Handling '\" + msg_type + \"' message: \", msg);\n",
       "                callback(fig, msg);\n",
       "            } catch (e) {\n",
       "                console.log(\"Exception inside the 'handler_\" + msg_type + \"' callback:\", e, e.stack, msg);\n",
       "            }\n",
       "        }\n",
       "    };\n",
       "}\n",
       "\n",
       "// from http://stackoverflow.com/questions/1114465/getting-mouse-location-in-canvas\n",
       "mpl.findpos = function(e) {\n",
       "    //this section is from http://www.quirksmode.org/js/events_properties.html\n",
       "    var targ;\n",
       "    if (!e)\n",
       "        e = window.event;\n",
       "    if (e.target)\n",
       "        targ = e.target;\n",
       "    else if (e.srcElement)\n",
       "        targ = e.srcElement;\n",
       "    if (targ.nodeType == 3) // defeat Safari bug\n",
       "        targ = targ.parentNode;\n",
       "\n",
       "    // jQuery normalizes the pageX and pageY\n",
       "    // pageX,Y are the mouse positions relative to the document\n",
       "    // offset() returns the position of the element relative to the document\n",
       "    var x = e.pageX - $(targ).offset().left;\n",
       "    var y = e.pageY - $(targ).offset().top;\n",
       "\n",
       "    return {\"x\": x, \"y\": y};\n",
       "};\n",
       "\n",
       "/*\n",
       " * return a copy of an object with only non-object keys\n",
       " * we need this to avoid circular references\n",
       " * http://stackoverflow.com/a/24161582/3208463\n",
       " */\n",
       "function simpleKeys (original) {\n",
       "  return Object.keys(original).reduce(function (obj, key) {\n",
       "    if (typeof original[key] !== 'object')\n",
       "        obj[key] = original[key]\n",
       "    return obj;\n",
       "  }, {});\n",
       "}\n",
       "\n",
       "mpl.figure.prototype.mouse_event = function(event, name) {\n",
       "    var canvas_pos = mpl.findpos(event)\n",
       "\n",
       "    if (name === 'button_press')\n",
       "    {\n",
       "        this.canvas.focus();\n",
       "        this.canvas_div.focus();\n",
       "    }\n",
       "\n",
       "    var x = canvas_pos.x * mpl.ratio;\n",
       "    var y = canvas_pos.y * mpl.ratio;\n",
       "\n",
       "    this.send_message(name, {x: x, y: y, button: event.button,\n",
       "                             step: event.step,\n",
       "                             guiEvent: simpleKeys(event)});\n",
       "\n",
       "    /* This prevents the web browser from automatically changing to\n",
       "     * the text insertion cursor when the button is pressed.  We want\n",
       "     * to control all of the cursor setting manually through the\n",
       "     * 'cursor' event from matplotlib */\n",
       "    event.preventDefault();\n",
       "    return false;\n",
       "}\n",
       "\n",
       "mpl.figure.prototype._key_event_extra = function(event, name) {\n",
       "    // Handle any extra behaviour associated with a key event\n",
       "}\n",
       "\n",
       "mpl.figure.prototype.key_event = function(event, name) {\n",
       "\n",
       "    // Prevent repeat events\n",
       "    if (name == 'key_press')\n",
       "    {\n",
       "        if (event.which === this._key)\n",
       "            return;\n",
       "        else\n",
       "            this._key = event.which;\n",
       "    }\n",
       "    if (name == 'key_release')\n",
       "        this._key = null;\n",
       "\n",
       "    var value = '';\n",
       "    if (event.ctrlKey && event.which != 17)\n",
       "        value += \"ctrl+\";\n",
       "    if (event.altKey && event.which != 18)\n",
       "        value += \"alt+\";\n",
       "    if (event.shiftKey && event.which != 16)\n",
       "        value += \"shift+\";\n",
       "\n",
       "    value += 'k';\n",
       "    value += event.which.toString();\n",
       "\n",
       "    this._key_event_extra(event, name);\n",
       "\n",
       "    this.send_message(name, {key: value,\n",
       "                             guiEvent: simpleKeys(event)});\n",
       "    return false;\n",
       "}\n",
       "\n",
       "mpl.figure.prototype.toolbar_button_onclick = function(name) {\n",
       "    if (name == 'download') {\n",
       "        this.handle_save(this, null);\n",
       "    } else {\n",
       "        this.send_message(\"toolbar_button\", {name: name});\n",
       "    }\n",
       "};\n",
       "\n",
       "mpl.figure.prototype.toolbar_button_onmouseover = function(tooltip) {\n",
       "    this.message.textContent = tooltip;\n",
       "};\n",
       "mpl.toolbar_items = [[\"Home\", \"Reset original view\", \"fa fa-home icon-home\", \"home\"], [\"Back\", \"Back to  previous view\", \"fa fa-arrow-left icon-arrow-left\", \"back\"], [\"Forward\", \"Forward to next view\", \"fa fa-arrow-right icon-arrow-right\", \"forward\"], [\"\", \"\", \"\", \"\"], [\"Pan\", \"Pan axes with left mouse, zoom with right\", \"fa fa-arrows icon-move\", \"pan\"], [\"Zoom\", \"Zoom to rectangle\", \"fa fa-square-o icon-check-empty\", \"zoom\"], [\"\", \"\", \"\", \"\"], [\"Download\", \"Download plot\", \"fa fa-floppy-o icon-save\", \"download\"]];\n",
       "\n",
       "mpl.extensions = [\"eps\", \"pdf\", \"png\", \"ps\", \"raw\", \"svg\"];\n",
       "\n",
       "mpl.default_extension = \"png\";var comm_websocket_adapter = function(comm) {\n",
       "    // Create a \"websocket\"-like object which calls the given IPython comm\n",
       "    // object with the appropriate methods. Currently this is a non binary\n",
       "    // socket, so there is still some room for performance tuning.\n",
       "    var ws = {};\n",
       "\n",
       "    ws.close = function() {\n",
       "        comm.close()\n",
       "    };\n",
       "    ws.send = function(m) {\n",
       "        //console.log('sending', m);\n",
       "        comm.send(m);\n",
       "    };\n",
       "    // Register the callback with on_msg.\n",
       "    comm.on_msg(function(msg) {\n",
       "        //console.log('receiving', msg['content']['data'], msg);\n",
       "        // Pass the mpl event to the overridden (by mpl) onmessage function.\n",
       "        ws.onmessage(msg['content']['data'])\n",
       "    });\n",
       "    return ws;\n",
       "}\n",
       "\n",
       "mpl.mpl_figure_comm = function(comm, msg) {\n",
       "    // This is the function which gets called when the mpl process\n",
       "    // starts-up an IPython Comm through the \"matplotlib\" channel.\n",
       "\n",
       "    var id = msg.content.data.id;\n",
       "    // Get hold of the div created by the display call when the Comm\n",
       "    // socket was opened in Python.\n",
       "    var element = $(\"#\" + id);\n",
       "    var ws_proxy = comm_websocket_adapter(comm)\n",
       "\n",
       "    function ondownload(figure, format) {\n",
       "        window.open(figure.imageObj.src);\n",
       "    }\n",
       "\n",
       "    var fig = new mpl.figure(id, ws_proxy,\n",
       "                           ondownload,\n",
       "                           element.get(0));\n",
       "\n",
       "    // Call onopen now - mpl needs it, as it is assuming we've passed it a real\n",
       "    // web socket which is closed, not our websocket->open comm proxy.\n",
       "    ws_proxy.onopen();\n",
       "\n",
       "    fig.parent_element = element.get(0);\n",
       "    fig.cell_info = mpl.find_output_cell(\"<div id='\" + id + \"'></div>\");\n",
       "    if (!fig.cell_info) {\n",
       "        console.error(\"Failed to find cell for figure\", id, fig);\n",
       "        return;\n",
       "    }\n",
       "\n",
       "    var output_index = fig.cell_info[2]\n",
       "    var cell = fig.cell_info[0];\n",
       "\n",
       "};\n",
       "\n",
       "mpl.figure.prototype.handle_close = function(fig, msg) {\n",
       "    var width = fig.canvas.width/mpl.ratio\n",
       "    fig.root.unbind('remove')\n",
       "\n",
       "    // Update the output cell to use the data from the current canvas.\n",
       "    fig.push_to_output();\n",
       "    var dataURL = fig.canvas.toDataURL();\n",
       "    // Re-enable the keyboard manager in IPython - without this line, in FF,\n",
       "    // the notebook keyboard shortcuts fail.\n",
       "    IPython.keyboard_manager.enable()\n",
       "    $(fig.parent_element).html('<img src=\"' + dataURL + '\" width=\"' + width + '\">');\n",
       "    fig.close_ws(fig, msg);\n",
       "}\n",
       "\n",
       "mpl.figure.prototype.close_ws = function(fig, msg){\n",
       "    fig.send_message('closing', msg);\n",
       "    // fig.ws.close()\n",
       "}\n",
       "\n",
       "mpl.figure.prototype.push_to_output = function(remove_interactive) {\n",
       "    // Turn the data on the canvas into data in the output cell.\n",
       "    var width = this.canvas.width/mpl.ratio\n",
       "    var dataURL = this.canvas.toDataURL();\n",
       "    this.cell_info[1]['text/html'] = '<img src=\"' + dataURL + '\" width=\"' + width + '\">';\n",
       "}\n",
       "\n",
       "mpl.figure.prototype.updated_canvas_event = function() {\n",
       "    // Tell IPython that the notebook contents must change.\n",
       "    IPython.notebook.set_dirty(true);\n",
       "    this.send_message(\"ack\", {});\n",
       "    var fig = this;\n",
       "    // Wait a second, then push the new image to the DOM so\n",
       "    // that it is saved nicely (might be nice to debounce this).\n",
       "    setTimeout(function () { fig.push_to_output() }, 1000);\n",
       "}\n",
       "\n",
       "mpl.figure.prototype._init_toolbar = function() {\n",
       "    var fig = this;\n",
       "\n",
       "    var nav_element = $('<div/>')\n",
       "    nav_element.attr('style', 'width: 100%');\n",
       "    this.root.append(nav_element);\n",
       "\n",
       "    // Define a callback function for later on.\n",
       "    function toolbar_event(event) {\n",
       "        return fig.toolbar_button_onclick(event['data']);\n",
       "    }\n",
       "    function toolbar_mouse_event(event) {\n",
       "        return fig.toolbar_button_onmouseover(event['data']);\n",
       "    }\n",
       "\n",
       "    for(var toolbar_ind in mpl.toolbar_items){\n",
       "        var name = mpl.toolbar_items[toolbar_ind][0];\n",
       "        var tooltip = mpl.toolbar_items[toolbar_ind][1];\n",
       "        var image = mpl.toolbar_items[toolbar_ind][2];\n",
       "        var method_name = mpl.toolbar_items[toolbar_ind][3];\n",
       "\n",
       "        if (!name) { continue; };\n",
       "\n",
       "        var button = $('<button class=\"btn btn-default\" href=\"#\" title=\"' + name + '\"><i class=\"fa ' + image + ' fa-lg\"></i></button>');\n",
       "        button.click(method_name, toolbar_event);\n",
       "        button.mouseover(tooltip, toolbar_mouse_event);\n",
       "        nav_element.append(button);\n",
       "    }\n",
       "\n",
       "    // Add the status bar.\n",
       "    var status_bar = $('<span class=\"mpl-message\" style=\"text-align:right; float: right;\"/>');\n",
       "    nav_element.append(status_bar);\n",
       "    this.message = status_bar[0];\n",
       "\n",
       "    // Add the close button to the window.\n",
       "    var buttongrp = $('<div class=\"btn-group inline pull-right\"></div>');\n",
       "    var button = $('<button class=\"btn btn-mini btn-primary\" href=\"#\" title=\"Stop Interaction\"><i class=\"fa fa-power-off icon-remove icon-large\"></i></button>');\n",
       "    button.click(function (evt) { fig.handle_close(fig, {}); } );\n",
       "    button.mouseover('Stop Interaction', toolbar_mouse_event);\n",
       "    buttongrp.append(button);\n",
       "    var titlebar = this.root.find($('.ui-dialog-titlebar'));\n",
       "    titlebar.prepend(buttongrp);\n",
       "}\n",
       "\n",
       "mpl.figure.prototype._root_extra_style = function(el){\n",
       "    var fig = this\n",
       "    el.on(\"remove\", function(){\n",
       "\tfig.close_ws(fig, {});\n",
       "    });\n",
       "}\n",
       "\n",
       "mpl.figure.prototype._canvas_extra_style = function(el){\n",
       "    // this is important to make the div 'focusable\n",
       "    el.attr('tabindex', 0)\n",
       "    // reach out to IPython and tell the keyboard manager to turn it's self\n",
       "    // off when our div gets focus\n",
       "\n",
       "    // location in version 3\n",
       "    if (IPython.notebook.keyboard_manager) {\n",
       "        IPython.notebook.keyboard_manager.register_events(el);\n",
       "    }\n",
       "    else {\n",
       "        // location in version 2\n",
       "        IPython.keyboard_manager.register_events(el);\n",
       "    }\n",
       "\n",
       "}\n",
       "\n",
       "mpl.figure.prototype._key_event_extra = function(event, name) {\n",
       "    var manager = IPython.notebook.keyboard_manager;\n",
       "    if (!manager)\n",
       "        manager = IPython.keyboard_manager;\n",
       "\n",
       "    // Check for shift+enter\n",
       "    if (event.shiftKey && event.which == 13) {\n",
       "        this.canvas_div.blur();\n",
       "        event.shiftKey = false;\n",
       "        // Send a \"J\" for go to next cell\n",
       "        event.which = 74;\n",
       "        event.keyCode = 74;\n",
       "        manager.command_mode();\n",
       "        manager.handle_keydown(event);\n",
       "    }\n",
       "}\n",
       "\n",
       "mpl.figure.prototype.handle_save = function(fig, msg) {\n",
       "    fig.ondownload(fig, null);\n",
       "}\n",
       "\n",
       "\n",
       "mpl.find_output_cell = function(html_output) {\n",
       "    // Return the cell and output element which can be found *uniquely* in the notebook.\n",
       "    // Note - this is a bit hacky, but it is done because the \"notebook_saving.Notebook\"\n",
       "    // IPython event is triggered only after the cells have been serialised, which for\n",
       "    // our purposes (turning an active figure into a static one), is too late.\n",
       "    var cells = IPython.notebook.get_cells();\n",
       "    var ncells = cells.length;\n",
       "    for (var i=0; i<ncells; i++) {\n",
       "        var cell = cells[i];\n",
       "        if (cell.cell_type === 'code'){\n",
       "            for (var j=0; j<cell.output_area.outputs.length; j++) {\n",
       "                var data = cell.output_area.outputs[j];\n",
       "                if (data.data) {\n",
       "                    // IPython >= 3 moved mimebundle to data attribute of output\n",
       "                    data = data.data;\n",
       "                }\n",
       "                if (data['text/html'] == html_output) {\n",
       "                    return [cell, data, j];\n",
       "                }\n",
       "            }\n",
       "        }\n",
       "    }\n",
       "}\n",
       "\n",
       "// Register the function which deals with the matplotlib target/channel.\n",
       "// The kernel may be null if the page has been refreshed.\n",
       "if (IPython.notebook.kernel != null) {\n",
       "    IPython.notebook.kernel.comm_manager.register_target('matplotlib', mpl.mpl_figure_comm);\n",
       "}\n"
      ],
      "text/plain": [
       "<IPython.core.display.Javascript object>"
      ]
     },
     "metadata": {},
     "output_type": "display_data"
    },
    {
     "data": {
      "text/html": [
       "<img src=\"data:image/png;base64,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\" width=\"640\">"
      ],
      "text/plain": [
       "<IPython.core.display.HTML object>"
      ]
     },
     "metadata": {},
     "output_type": "display_data"
    },
    {
     "data": {
      "text/plain": [
       "(-0.02, 0.02)"
      ]
     },
     "execution_count": 10,
     "metadata": {},
     "output_type": "execute_result"
    }
   ],
   "source": [
    "gradient = 0\n",
    "intercept = 0\n",
    "uncertainty_gradient = 0\n",
    "uncertainty_intercept = 0\n",
    "popt, pcov = curve_fit(linear, current, voltage, sigma = voltage_error)\n",
    "print(popt[0])\n",
    "print(popt[1])\n",
    "gradient = popt[0]\n",
    "intercept = popt[1]\n",
    "ys_pred = []\n",
    "for x in current:\n",
    "    ys_pred.append(gradient * x + intercept)\n",
    "residuals = []\n",
    "for i in range(len(voltage)):\n",
    "    residuals.append(voltage[i] - ys_pred[i])\n",
    "fig = plt.figure()\n",
    "frame1 = fig.add_axes((.1,.3,.9,.6))\n",
    "plt.plot(current, ys_pred, 'r-', label='fit: m=%5.3f, c=%5.3f' % tuple(popt))\n",
    "plt.plot(current, voltage, 'b*', label='true data')\n",
    "plt.xlabel(\"current(ua)\")\n",
    "plt.ylabel(\"voltage(mv)\")\n",
    "plt.title(\"best fit line current-voltage and residuals\")\n",
    "plt.legend()\n",
    "frame2 = fig.add_axes((.1,.1,.9,.2))\n",
    "plt.plot(current, residuals, 'ro')\n",
    "plt.xlabel(\"current(ua)\")\n",
    "plt.ylabel(\"residual(mv)\")\n",
    "plt.ylim(-0.02, 0.02)"
   ]
  },
  {
   "cell_type": "markdown",
   "metadata": {
    "deletable": false,
    "editable": false,
    "nbgrader": {
     "cell_type": "markdown",
     "checksum": "4c295fa7c6d24052d6d1b9806903d986",
     "grade": false,
     "grade_id": "cell-472c73698fd9a265",
     "locked": true,
     "schema_version": 3,
     "solution": false,
     "task": false
    }
   },
   "source": [
    "### (iv) Comment on the magnitude of the residuals."
   ]
  },
  {
   "cell_type": "markdown",
   "metadata": {
    "deletable": false,
    "nbgrader": {
     "cell_type": "markdown",
     "checksum": "8d650737056d8f62acf8d38d14dfbd50",
     "grade": true,
     "grade_id": "cell-7c4a9554aab2b3ff",
     "locked": false,
     "points": 2,
     "schema_version": 3,
     "solution": true,
     "task": false
    }
   },
   "source": [
    "The residuals have a mean of zero and show no obivious structure. Maybe with more and more points, the residual value can plot a Gaussian distribution histogram."
   ]
  },
  {
   "cell_type": "markdown",
   "metadata": {
    "deletable": false,
    "editable": false,
    "nbgrader": {
     "cell_type": "markdown",
     "checksum": "d7ed1f884399618fc78b42b35433ff26",
     "grade": false,
     "grade_id": "cell-170854d1e9e8dbfc",
     "locked": true,
     "schema_version": 3,
     "solution": false,
     "task": false
    }
   },
   "source": [
    "## Question 2: Does the noise on a photo-diode signal follow a Gaussian distribution? (10 marks) \n",
    "\n",
    "As we discussed in Chapter 1, for very low intensities the distribution of counts from a photo-detector is expected to follow the  Poisson shot-noise distribution.  However, for larger photon fluxes the noise on the voltage generated in a photo-diode circuit is expected to follow a Gaussian distribution.  \n",
    "\n",
    "![title](photodiode.JPG)\n",
    "The above figure shows the signal output from a photo-diode as a function of time, and in part (b)  a histogram of the distribution of data.  The number of observed data points lying within specified bands, $O_i$, is given below.\n",
    "\n",
    "\\begin{equation}\n",
    "\\begin{array}{lccc}\n",
    "\\hline\n",
    "\\mbox{Interval/$\\sigma$} &(-\\infty,-2.5)&(-2.5, -2)&(-2, -1.5)\\\\\n",
    "O &9&48&142\\\\\n",
    "\\hline\n",
    "\\mbox{Interval/$\\sigma$} &(-1.5, -1)&(-1, -0.5)&(-0.5, 0)\\\\\n",
    "O &154&438&521\\\\\n",
    "\\hline\n",
    "\\mbox{Interval/$\\sigma$} &(0, 0.5)&(0.5, 1)&(1, 1.5)\\\\\n",
    "O &405&318&299\\\\\n",
    "\\hline\n",
    "\\mbox{Interval/$\\sigma$} &(1.5, 2)&(2, 2.5)&(2.5, \\infty)\\\\\n",
    "O &100&57&9\\\\\n",
    "\\hline\n",
    "\\end{array} \n",
    "\\end{equation}\n",
    "\n",
    "Required:\n",
    "\n",
    ">(i) Use the equation,\n",
    "\n",
    "\\begin{equation}\n",
    "P(x_1 \\leq x \\leq x_2) = \\frac{1}{\\sigma\\sqrt{2\\pi}}\\int_{x_1}^{x_2}exp(-\\frac{(x-\\bar{x})^2}{2\\sigma^2})dx\n",
    "\\end{equation}\n",
    "\n",
    ">to determine the  number of data points expected in each interval, $E_i$. You must give your answer to 4 decimal places (2 marks) \n",
    "\n",
    "<bf>\n",
    "(ii) Show that $E_i>5$ for all bins, and state why there is no need to combine sequential bins. (2 marks) \n",
    "<bf>\n",
    "(iii) Calculate $\\chi^2$ from the formula (2 marks) \n",
    "    \n",
    "$\\displaystyle{\\chi ^2  = \\sum\\limits_{i=1}^{12} {{{\\left( {O_i  - E_i } \\right)^2 } \\over {E_i }}}}$.\n",
    "\n",
    "<bf>\n",
    "(iv) Calculate the number of degrees of freedom. (2 marks) \n",
    "<bf>\n",
    "(v) Given the answers you found in (iii) and (iv), are the data consistent with the hypothesis of a Gaussian distribution? (2 marks) "
   ]
  },
  {
   "cell_type": "markdown",
   "metadata": {
    "deletable": false,
    "editable": false,
    "nbgrader": {
     "cell_type": "markdown",
     "checksum": "59ef6c71bdf54b373028c416272175bd",
     "grade": false,
     "grade_id": "cell-8d424b07c52b1cc5",
     "locked": true,
     "schema_version": 3,
     "solution": false,
     "task": false
    }
   },
   "source": [
    "### (i) Determine the number of data points expected in each interval, $E_i$. You must give your answer to 4 decimal places"
   ]
  },
  {
   "cell_type": "code",
   "execution_count": 11,
   "metadata": {
    "deletable": false,
    "nbgrader": {
     "cell_type": "code",
     "checksum": "dd8e5d6e996a7a95669d05cf8364651e",
     "grade": false,
     "grade_id": "cell-900d346ce7ab7656",
     "locked": false,
     "schema_version": 3,
     "solution": true,
     "task": false
    }
   },
   "outputs": [
    {
     "name": "stdout",
     "output_type": "stream",
     "text": [
      "[15.524163314440331, 41.351166556007655, 110.14267330169719, 229.6201316564975, 374.7057119863245, 478.6561531850328, 478.6561531850328, 374.7057119863245, 229.62013165649748, 110.14267330169719, 41.35116655600763, 15.524163314440397]\n"
     ]
    }
   ],
   "source": [
    "def two_i():\n",
    "    intervals = [-1000000000,-2.5,-2,-1.5,-1,-0.5,0,0.5,1,1.5,2,2.5,10000000000]\n",
    "    expected_possibility = []\n",
    "    for i in range(len(intervals) - 1):\n",
    "        expected_possibility.append(norm.cdf(intervals[i + 1]) - norm.cdf(intervals[i])) \n",
    "    total = 9 + 48 + 142 + 154 + 438 + 521 + 405 + 318 + 299 + 100 + 57 + 9\n",
    "    expected_points = []\n",
    "    for i in range(len(expected_possibility)):\n",
    "        expected_points.append(expected_possibility[i] * total)\n",
    "    # YOUR CODE HERE\n",
    "    return(expected_points)\n",
    "\n",
    "print(two_i())"
   ]
  },
  {
   "cell_type": "code",
   "execution_count": 12,
   "metadata": {
    "deletable": false,
    "editable": false,
    "nbgrader": {
     "cell_type": "code",
     "checksum": "8137d9b8a5b153fe9c32ba806e6a1014",
     "grade": true,
     "grade_id": "cell-65b55b43baf8e9d0",
     "locked": true,
     "points": 2,
     "schema_version": 3,
     "solution": false,
     "task": false
    }
   },
   "outputs": [
    {
     "data": {
      "text/plain": [
       "'TEST CELL- DO NOT DELETE'"
      ]
     },
     "execution_count": 12,
     "metadata": {},
     "output_type": "execute_result"
    }
   ],
   "source": [
    "'''TEST CELL- DO NOT DELETE'''"
   ]
  },
  {
   "cell_type": "markdown",
   "metadata": {
    "deletable": false,
    "editable": false,
    "nbgrader": {
     "cell_type": "markdown",
     "checksum": "2d2bf507889f3526400d3ac656efc7d7",
     "grade": false,
     "grade_id": "cell-96cd8b36c2765873",
     "locked": true,
     "schema_version": 3,
     "solution": false,
     "task": false
    }
   },
   "source": [
    "### (ii) Is $E_i > 5$ for all bins? State why there is no need to combine sequential bins."
   ]
  },
  {
   "cell_type": "markdown",
   "metadata": {
    "deletable": false,
    "nbgrader": {
     "cell_type": "markdown",
     "checksum": "39de8429bfc824799c282eeceb52e60f",
     "grade": true,
     "grade_id": "cell-f83818aa3d93a934",
     "locked": false,
     "points": 2,
     "schema_version": 3,
     "solution": true,
     "task": false
    }
   },
   "source": [
    "Yes, for all the bins, E_i > 5, $\\frac{\\left(O_{i}-E_{i}\\right)^{2}}{E_{i}}$ has E_i as its denominator, if E_i is too small, the chi2 will be too large and it will be hard to use for detecting whether the model is good or not. So we need to keep E_i more than 5. Since all the bins are more than 5, there is no need to combine sequential bins."
   ]
  },
  {
   "cell_type": "markdown",
   "metadata": {
    "deletable": false,
    "editable": false,
    "nbgrader": {
     "cell_type": "markdown",
     "checksum": "63dff4160fd82ca150961686b57b8204",
     "grade": false,
     "grade_id": "cell-96a0c700952ba207",
     "locked": true,
     "schema_version": 3,
     "solution": false,
     "task": false
    }
   },
   "source": [
    "### (iii) Calculate  $\\chi^2$."
   ]
  },
  {
   "cell_type": "code",
   "execution_count": 13,
   "metadata": {
    "deletable": false,
    "nbgrader": {
     "cell_type": "code",
     "checksum": "69a6b2b7f971efd8b02725f7ebdf3de9",
     "grade": false,
     "grade_id": "cell-17fc644bfb7738d9",
     "locked": false,
     "schema_version": 3,
     "solution": true,
     "task": false
    }
   },
   "outputs": [
    {
     "name": "stdout",
     "output_type": "stream",
     "text": [
      "102.84329322658839\n"
     ]
    }
   ],
   "source": [
    "def two_iii():\n",
    "    # YOUR CODE HERE\n",
    "    observed_points = [9, 48, 142, 154, 438, 521, 405, 318, 299, 100, 57, 9]\n",
    "    expected_points = two_i()\n",
    "    chi2 = 0\n",
    "    for i in range(len(observed_points)):\n",
    "        chi2 += (observed_points[i] - expected_points[i]) ** 2 / expected_points[i]\n",
    "    return(chi2)\n",
    "\n",
    "print(two_iii())"
   ]
  },
  {
   "cell_type": "code",
   "execution_count": 14,
   "metadata": {
    "deletable": false,
    "editable": false,
    "nbgrader": {
     "cell_type": "code",
     "checksum": "5a382c743929dc107ed785a4612b0d20",
     "grade": true,
     "grade_id": "cell-b8ec4e34798b0d32",
     "locked": true,
     "points": 2,
     "schema_version": 3,
     "solution": false,
     "task": false
    }
   },
   "outputs": [
    {
     "data": {
      "text/plain": [
       "'TEST CELL- DO NOT DELETE'"
      ]
     },
     "execution_count": 14,
     "metadata": {},
     "output_type": "execute_result"
    }
   ],
   "source": [
    "'''TEST CELL- DO NOT DELETE'''"
   ]
  },
  {
   "cell_type": "markdown",
   "metadata": {},
   "source": [
    "### (iv) What is the number of degrees of freedom?"
   ]
  },
  {
   "cell_type": "code",
   "execution_count": 15,
   "metadata": {
    "deletable": false,
    "nbgrader": {
     "cell_type": "code",
     "checksum": "4e412cd0bcca4687a8496e8e9bb2ab07",
     "grade": false,
     "grade_id": "cell-5005170a6bdda7c3",
     "locked": false,
     "schema_version": 3,
     "solution": true,
     "task": false
    }
   },
   "outputs": [
    {
     "name": "stdout",
     "output_type": "stream",
     "text": [
      "9\n"
     ]
    }
   ],
   "source": [
    "def two_iv():\n",
    "    # YOUR CODE HERE\n",
    "    n = 12\n",
    "    N = 3\n",
    "    degrees_of_freedom = n - N\n",
    "    return(degrees_of_freedom)\n",
    "\n",
    "print(two_iv())"
   ]
  },
  {
   "cell_type": "code",
   "execution_count": 16,
   "metadata": {
    "deletable": false,
    "editable": false,
    "nbgrader": {
     "cell_type": "code",
     "checksum": "c3a30e91017f72fbc2c1d0e7fd91b12a",
     "grade": true,
     "grade_id": "cell-56e33679e5f1d476",
     "locked": true,
     "points": 2,
     "schema_version": 3,
     "solution": false,
     "task": false
    }
   },
   "outputs": [
    {
     "data": {
      "text/plain": [
       "'TEST CELL- DO NOT DELETE'"
      ]
     },
     "execution_count": 16,
     "metadata": {},
     "output_type": "execute_result"
    }
   ],
   "source": [
    "'''TEST CELL- DO NOT DELETE'''"
   ]
  },
  {
   "cell_type": "markdown",
   "metadata": {
    "deletable": false,
    "editable": false,
    "nbgrader": {
     "cell_type": "markdown",
     "checksum": "e079c058e84f66af38162a149f122746",
     "grade": false,
     "grade_id": "cell-b1247786f2505b59",
     "locked": true,
     "schema_version": 3,
     "solution": false,
     "task": false
    }
   },
   "source": [
    "### (v) Given the answers you found in (iii) and (iv), are the data consistent with the hypothesis of a Gaussian distribution?"
   ]
  },
  {
   "cell_type": "markdown",
   "metadata": {
    "deletable": false,
    "nbgrader": {
     "cell_type": "markdown",
     "checksum": "7fc3a96cfff977172761c92377418fc9",
     "grade": true,
     "grade_id": "cell-afac1f918fe49e6f",
     "locked": false,
     "points": 2,
     "schema_version": 3,
     "solution": true,
     "task": false
    }
   },
   "source": [
    "$\\chi_{\\nu}^{2}=\\frac{\\chi_{\\min }^{2}}{\\nu}$=11.427032580732043 >> 1, so according to the principle, it s not a good hypothesis using Gaussian distribution model."
   ]
  },
  {
   "cell_type": "markdown",
   "metadata": {
    "deletable": false,
    "editable": false,
    "nbgrader": {
     "cell_type": "markdown",
     "checksum": "8f70ee649ae282115a7e4716834b2a7a",
     "grade": false,
     "grade_id": "cell-fc4ee66626e6ea5c",
     "locked": true,
     "schema_version": 3,
     "solution": false,
     "task": false
    }
   },
   "source": [
    "## Question 3: Benford's Law of Anomalous Numbers (10 marks)\n",
    "\n",
    "It has been observed that the first pages of a table of common logarithms\n",
    "show more wear than do the last pages, indicating that more used numbers begin with the digit 1 than with the digit 9. (F. Benford, Proceedings of the American Philosophical Society, 78,  March 1938).  The Law can be stated that the probability of obtaining a first digit $a$ is equal to $\\log_{10}\\left(1+1/a\\right)$.\n",
    "\n",
    "![title](benford_table.JPG)\n",
    "\n",
    "Table 1 shows some of the data sets analysed by Benford, of which is saved as 'benford.csv'.\n",
    "\n",
    "Let's consider the rivers row.\n",
    "\n",
    "Required:\n",
    "<bf>\n",
    ">(i) Use Benford's Law to calculate the probability of obtaining a first digit of $a$, for $1\\leq a \\leq9$. (2 marks) \n",
    "<bf>\n",
    ">(ii) Using Benford's formula and the total count for that group, calculate the expected number of occurrences of the first digit being $a$, $E_{a}$, for $1\\leq a \\leq9$.   (2 marks) \n",
    "<bf>\n",
    ">(iii) Ascertain whether some of the bins should be combined.  (1 mark) \n",
    "<bf>\n",
    ">(iv) From the table, and the total count for that group, calculate the observed number of occurrences of the first digit being $a$, $O_{a}$, for $1\\leq a \\leq9$. (2 mark) \n",
    "<bf>\n",
    ">(v)  Calculate $\\chi^2$ and the number of degrees of freedom.  (1 mark)\n",
    "<bf>\n",
    ">(vi) Test the hypothesis that the distribution for that group follows Benford's Law. (2 marks) "
   ]
  },
  {
   "cell_type": "markdown",
   "metadata": {
    "deletable": false,
    "editable": false,
    "nbgrader": {
     "cell_type": "markdown",
     "checksum": "4b6c7171f629bedb20d00c1f6b03cd3c",
     "grade": false,
     "grade_id": "cell-ed301551dc9fbcbc",
     "locked": true,
     "schema_version": 3,
     "solution": false,
     "task": false
    }
   },
   "source": [
    "### (i) Use Benford's Law to calculate the probability of obtaining a first digit of $a$, for $1\\leq a \\leq9$. "
   ]
  },
  {
   "cell_type": "code",
   "execution_count": 17,
   "metadata": {
    "deletable": false,
    "nbgrader": {
     "cell_type": "code",
     "checksum": "8c2a78e9d00daf23454974015386fae8",
     "grade": false,
     "grade_id": "cell-45e5faf7c6a54f45",
     "locked": false,
     "schema_version": 3,
     "solution": true,
     "task": false
    }
   },
   "outputs": [
    {
     "name": "stdout",
     "output_type": "stream",
     "text": [
      "[0.3010299956639812, 0.17609125905568124, 0.12493873660829992, 0.09691001300805642, 0.07918124604762482, 0.06694678963061322, 0.05799194697768673, 0.05115252244738129, 0.04575749056067514]\n"
     ]
    }
   ],
   "source": [
    "def three_i():\n",
    "    '''Your function must return an array of all the probabilities from a=1 to a=9'''\n",
    "    aa = [i + 1 for i in range(9)]\n",
    "    probability = []\n",
    "    for a in aa:\n",
    "        probability.append(np.log10(1 + 1 / a))\n",
    "    \n",
    "    # YOUR CODE HERE\n",
    "    return(probability)\n",
    "\n",
    "print(three_i())"
   ]
  },
  {
   "cell_type": "code",
   "execution_count": 18,
   "metadata": {
    "deletable": false,
    "editable": false,
    "nbgrader": {
     "cell_type": "code",
     "checksum": "f9645d94327ff7c3c1ac22b18a8f79f8",
     "grade": true,
     "grade_id": "cell-f39493c64206ac30",
     "locked": true,
     "points": 2,
     "schema_version": 3,
     "solution": false,
     "task": false
    }
   },
   "outputs": [
    {
     "data": {
      "text/plain": [
       "'TEST CELL- DO NOT DELETE'"
      ]
     },
     "execution_count": 18,
     "metadata": {},
     "output_type": "execute_result"
    }
   ],
   "source": [
    "'''TEST CELL- DO NOT DELETE'''"
   ]
  },
  {
   "cell_type": "markdown",
   "metadata": {
    "deletable": false,
    "editable": false,
    "nbgrader": {
     "cell_type": "markdown",
     "checksum": "3dc720d69db4fff76c0c58602ed81a93",
     "grade": false,
     "grade_id": "cell-9f3afca053f924f7",
     "locked": true,
     "schema_version": 3,
     "solution": false,
     "task": false
    }
   },
   "source": [
    "### (ii) Using Benford's formula and the total count for that group, calculate the expected number of occurrences of the first digit being $a$, $E_{a}$, for $1\\leq a \\leq9$.  "
   ]
  },
  {
   "cell_type": "code",
   "execution_count": 19,
   "metadata": {
    "deletable": false,
    "nbgrader": {
     "cell_type": "code",
     "checksum": "7a2ff3d6e49656f680c17bc3d31ab26a",
     "grade": false,
     "grade_id": "cell-393b9e3f22100cbc",
     "locked": false,
     "schema_version": 3,
     "solution": true,
     "task": false
    },
    "scrolled": true
   },
   "outputs": [
    {
     "name": "stdout",
     "output_type": "stream",
     "text": [
      "[100.8450485474337, 58.990571783653216, 41.854476763780475, 32.464854357698904, 26.525717425954316, 22.427174526255428, 19.427302237525055, 17.136095019872734, 15.328759337826172]\n"
     ]
    }
   ],
   "source": [
    "def three_ii():\n",
    "    total = 335\n",
    "    probabilitys = three_i()\n",
    "    expected_occurances = []\n",
    "    for probability in probabilitys:\n",
    "        expected_occurances.append(total * probability)\n",
    "    \n",
    "    # YOUR CODE HERE\n",
    "    return(expected_occurances)\n",
    "\n",
    "print(three_ii())"
   ]
  },
  {
   "cell_type": "code",
   "execution_count": 20,
   "metadata": {
    "deletable": false,
    "editable": false,
    "nbgrader": {
     "cell_type": "code",
     "checksum": "f9b18476bf333bad095516212edb9337",
     "grade": true,
     "grade_id": "cell-1a6e998987adecf9",
     "locked": true,
     "points": 2,
     "schema_version": 3,
     "solution": false,
     "task": false
    }
   },
   "outputs": [
    {
     "data": {
      "text/plain": [
       "'TEST CELL- DO NOT DELETE'"
      ]
     },
     "execution_count": 20,
     "metadata": {},
     "output_type": "execute_result"
    }
   ],
   "source": [
    "'''TEST CELL- DO NOT DELETE'''"
   ]
  },
  {
   "cell_type": "markdown",
   "metadata": {
    "deletable": false,
    "editable": false,
    "nbgrader": {
     "cell_type": "markdown",
     "checksum": "2ca302a39c012539bc1e656b800b2e4f",
     "grade": false,
     "grade_id": "cell-40680339029d7f5c",
     "locked": true,
     "schema_version": 3,
     "solution": false,
     "task": false
    }
   },
   "source": [
    "### (iii) Ascertain whether some of the bins should be combined."
   ]
  },
  {
   "cell_type": "markdown",
   "metadata": {
    "deletable": false,
    "nbgrader": {
     "cell_type": "markdown",
     "checksum": "74a074ddb4be784fd2e6f1ae98dd514d",
     "grade": true,
     "grade_id": "cell-881393bfc0b48d24",
     "locked": false,
     "points": 1,
     "schema_version": 3,
     "solution": true,
     "task": false
    }
   },
   "source": [
    "None of the bins need to be combined, since for all of the bins, E_i is over 5."
   ]
  },
  {
   "cell_type": "markdown",
   "metadata": {
    "deletable": false,
    "editable": false,
    "nbgrader": {
     "cell_type": "markdown",
     "checksum": "9b171ca66c5bfd437333de12e82e3090",
     "grade": false,
     "grade_id": "cell-e193c19e5f977b5f",
     "locked": true,
     "schema_version": 3,
     "solution": false,
     "task": false
    }
   },
   "source": [
    "### (iv) From the table, and the total count for that group, calculate the observed number of occurrences of the first digit being $a$, $O_{a}$, for $1\\leq a \\leq9$. "
   ]
  },
  {
   "cell_type": "code",
   "execution_count": 22,
   "metadata": {
    "deletable": false,
    "nbgrader": {
     "cell_type": "code",
     "checksum": "a2847fe4df57bc00c37a380f6413f7ba",
     "grade": false,
     "grade_id": "cell-c2bb5c7c211a543f",
     "locked": false,
     "schema_version": 3,
     "solution": true,
     "task": false
    }
   },
   "outputs": [
    {
     "name": "stdout",
     "output_type": "stream",
     "text": [
      "[104.0, 55.0, 36.0, 38.0, 24.0, 29.0, 18.0, 14.0, 17.0]\n"
     ]
    }
   ],
   "source": [
    "def three_iv():\n",
    "    '''Your function must return an array of occurances from a = 1 to a = 9'''\n",
    "    observed_probability = [0.31, 0.164, 0.107, 0.113, 0.072, 0.086, 0.055, 0.042, 0.051]\n",
    "    observed_occurances = []\n",
    "    total = 335\n",
    "    for p in observed_probability:\n",
    "        observed_occurances.append(np.round(p * total))\n",
    "    # YOUR CODE HERE\n",
    "    return(observed_occurances)\n",
    "\n",
    "print(three_iv())"
   ]
  },
  {
   "cell_type": "code",
   "execution_count": 44,
   "metadata": {
    "deletable": false,
    "editable": false,
    "nbgrader": {
     "cell_type": "code",
     "checksum": "4294229a90f03255aea280fc76b2905f",
     "grade": true,
     "grade_id": "cell-0ceb9f5e67534e2b",
     "locked": true,
     "points": 2,
     "schema_version": 3,
     "solution": false,
     "task": false
    }
   },
   "outputs": [
    {
     "data": {
      "text/plain": [
       "'TEST CELL- DO NOT DELETE'"
      ]
     },
     "execution_count": 44,
     "metadata": {},
     "output_type": "execute_result"
    }
   ],
   "source": [
    "'''TEST CELL- DO NOT DELETE'''"
   ]
  },
  {
   "cell_type": "markdown",
   "metadata": {
    "deletable": false,
    "editable": false,
    "nbgrader": {
     "cell_type": "markdown",
     "checksum": "1ff772f7c810bb02431bc3c780fcb16f",
     "grade": false,
     "grade_id": "cell-226826944c81ef61",
     "locked": true,
     "schema_version": 3,
     "solution": false,
     "task": false
    }
   },
   "source": [
    "### (v)  Calculate $\\chi^2$ and the number of degrees of freedom.  "
   ]
  },
  {
   "cell_type": "code",
   "execution_count": 45,
   "metadata": {
    "deletable": false,
    "nbgrader": {
     "cell_type": "code",
     "checksum": "5be2176c0b7c4053ca48775510976201",
     "grade": false,
     "grade_id": "cell-5f86bd2890b459a4",
     "locked": false,
     "schema_version": 3,
     "solution": true,
     "task": false
    }
   },
   "outputs": [
    {
     "name": "stdout",
     "output_type": "stream",
     "text": [
      "(5.159115592265763, 8)\n"
     ]
    }
   ],
   "source": [
    "def three_v():\n",
    "    '''Your function must return the chi^2 value and the degrees of freedom'''\n",
    "    # YOUR CODE HERE\n",
    "    n = 1\n",
    "    N = 9\n",
    "    expected_occurances = three_ii()\n",
    "    observed_occurances = three_iv()\n",
    "    degrees_of_freedom = N - n\n",
    "    chi2 = 0\n",
    "    for i in range(len(expected_occurances)):\n",
    "        chi2 += (observed_occurances[i] - expected_occurances[i]) ** 2 / expected_occurances[i]\n",
    "    return(chi2,degrees_of_freedom)\n",
    "\n",
    "print(three_v())"
   ]
  },
  {
   "cell_type": "code",
   "execution_count": 24,
   "metadata": {
    "deletable": false,
    "editable": false,
    "nbgrader": {
     "cell_type": "code",
     "checksum": "d5210c45cecbcc674e4ef07798f2e001",
     "grade": true,
     "grade_id": "cell-76c8e6ab37cd40ab",
     "locked": true,
     "points": 0.5,
     "schema_version": 3,
     "solution": false,
     "task": false
    }
   },
   "outputs": [
    {
     "data": {
      "text/plain": [
       "'TEST CELL- DO NOT DELETE'"
      ]
     },
     "execution_count": 24,
     "metadata": {},
     "output_type": "execute_result"
    }
   ],
   "source": [
    "'''TEST CELL- DO NOT DELETE'''"
   ]
  },
  {
   "cell_type": "code",
   "execution_count": 25,
   "metadata": {
    "deletable": false,
    "editable": false,
    "nbgrader": {
     "cell_type": "code",
     "checksum": "863b8c71f63e50ddfc8c00d52344f092",
     "grade": true,
     "grade_id": "cell-659082c4b3b7a7f8",
     "locked": true,
     "points": 0.5,
     "schema_version": 3,
     "solution": false,
     "task": false
    }
   },
   "outputs": [
    {
     "data": {
      "text/plain": [
       "'TEST CELL- DO NOT DELETE'"
      ]
     },
     "execution_count": 25,
     "metadata": {},
     "output_type": "execute_result"
    }
   ],
   "source": [
    "'''TEST CELL- DO NOT DELETE'''"
   ]
  },
  {
   "cell_type": "markdown",
   "metadata": {
    "deletable": false,
    "editable": false,
    "nbgrader": {
     "cell_type": "markdown",
     "checksum": "8ed719a3db05d2b3bd5515ce6762ef7b",
     "grade": false,
     "grade_id": "cell-ecca7b4aa7ca3cdd",
     "locked": true,
     "schema_version": 3,
     "solution": false,
     "task": false
    }
   },
   "source": [
    "### (vi) Test the hypothesis that the distribution for that group follows Benford's Law and make appropiate comments."
   ]
  },
  {
   "cell_type": "markdown",
   "metadata": {
    "deletable": false,
    "nbgrader": {
     "cell_type": "markdown",
     "checksum": "0fb4989c82a2cc10226d6eac2b303ec2",
     "grade": true,
     "grade_id": "cell-ba2979ff8d026334",
     "locked": false,
     "points": 2,
     "schema_version": 3,
     "solution": true,
     "task": false
    }
   },
   "source": [
    "$X\\left(\\chi^{2} ; v\\right)=\\frac{\\left(\\chi^{2}\\right)^{\\left(\\frac{v}{2}-1\\right)} \\exp \\left[-\\chi^{2} / 2\\right]}{2^{v / 2} \\Gamma(v / 2)}$\n",
    "\n",
    "$P\\left(\\chi_{\\min }^{2} \\leq \\chi^{2} \\leq \\infty ; v\\right)=\\int_{\\chi_{\\min }^{2}}^{\\infty} X\\left(\\chi^{2} ; v\\right) \\mathrm{d} \\chi^{2}$\n",
    "\n",
    "For the degrees of fredom equals to 8, so\n",
    "\n",
    "$X\\left(\\chi^{2} ; 8\\right)$ = 0.11\n",
    "\n",
    "$P\\left(\\chi_{\\min }^{2} \\leq \\chi^{2} \\leq \\infty ; v\\right)=\\int_{\\chi_{\\min }^{2}}^{\\infty} X\\left(\\chi^{2} ; 8\\right) \\mathrm{d} \\chi^{2}$ = 0.74\n",
    "\n",
    "Also, $\\chi_{\\nu}^{2}=\\frac{\\chi_{\\min }^{2}}{\\nu}$ = 0.64\n",
    "\n",
    "So, it s a good fit, because $\\chi_{\\nu}^{2} \\approx 1$ and $P\\left(\\chi_{\\min }^{2} ; \\nu\\right) \\approx 0.5$\n",
    "\n",
    "The process of calculation is following below:"
   ]
  },
  {
   "cell_type": "code",
   "execution_count": 49,
   "metadata": {},
   "outputs": [
    {
     "name": "stdout",
     "output_type": "stream",
     "text": [
      "0.10843433639370458\n"
     ]
    }
   ],
   "source": [
    "chi2, degrees_of_freedom = three_v()\n",
    "answer = chi2 ** (degrees_of_freedom / 2 - 1) * np.exp(-1 * chi2 / 2) / (2 ** (degrees_of_freedom / 2) * 6)\n",
    "print(answer)"
   ]
  },
  {
   "cell_type": "code",
   "execution_count": 50,
   "metadata": {},
   "outputs": [
    {
     "name": "stdout",
     "output_type": "stream",
     "text": [
      "0.7404421727734498\n"
     ]
    }
   ],
   "source": [
    "from scipy.integrate import quad\n",
    "def chi2_solve(chi2, degrees_of_freedom):\n",
    "    return chi2 ** (degrees_of_freedom / 2 - 1) * np.exp(-1 * chi2 / 2) / (2 ** (degrees_of_freedom / 2) * 6)\n",
    "value, err = quad(chi2_solve, chi2, np.inf, degrees_of_freedom)\n",
    "print(value)"
   ]
  },
  {
   "cell_type": "code",
   "execution_count": 51,
   "metadata": {},
   "outputs": [
    {
     "name": "stdout",
     "output_type": "stream",
     "text": [
      "0.6448894490332204\n"
     ]
    }
   ],
   "source": [
    "chi2,degrees_of_freedom = three_v()\n",
    "print(chi2 / degrees_of_freedom)"
   ]
  },
  {
   "cell_type": "markdown",
   "metadata": {
    "deletable": false,
    "editable": false,
    "nbgrader": {
     "cell_type": "markdown",
     "checksum": "a62af7447f85cf8a9dab8df53afbc9c6",
     "grade": false,
     "grade_id": "cell-a1e80448837b5f0b",
     "locked": true,
     "schema_version": 3,
     "solution": false,
     "task": false
    }
   },
   "source": [
    "## Question 4: Analysing Bevington's data (10 marks) \n",
    "\n",
    "In this question we will analyse the data from Table~8.1 in P.R. Bevington's book 'Data reduction and error analysis'.\n",
    "\n",
    "The data can be obtained from the file BevingtonData.csv. There are two columns: time, and number of counts detected.\n",
    "\n",
    "The experiment involves irradiating a coin with thermal neutrons to create two short-lived silver isotopes that subsequently decay by beta emission.  Students count the emitted beta particles in 15s intervals for approximately 4 minutes.\n",
    "\n",
    "The model to describe the data has five parameters:  a background, $a_1$; amplitudes of two excited states, $a_2$ and $a_3$, respectively;\n",
    "the mean lives of the excited states, $a_4$ and $a_5$, respectively. Mathematically, we can represent the decay by the fitting function:\n",
    "\\begin{equation}\n",
    "y=a_1+a_2{\\rm e}^{-t/a_4}+a_3{\\rm e}^{-t/a_5}.\n",
    "\\end{equation}\n",
    "\n",
    "Required:\n",
    "\n",
    ">(i) What are the count errors? (2 marks)\n",
    "<bf>\n",
    ">(ii) Perform a fit to find the parameters (with their errors) (4 marks) \n",
    "<bf>\n",
    ">(iii) What is the reduced $\\chi^2$ value? (2 marks) \n",
    "<bf>\n",
    ">(iv) Plot an appropriate graph (i.e. counts versus time, with residuals) (2 marks) \n"
   ]
  },
  {
   "cell_type": "markdown",
   "metadata": {
    "deletable": false,
    "editable": false,
    "nbgrader": {
     "cell_type": "markdown",
     "checksum": "460e24f75211646d132111f061a99aa3",
     "grade": false,
     "grade_id": "cell-acf3b9687cf46f6e",
     "locked": true,
     "schema_version": 3,
     "solution": false,
     "task": false
    }
   },
   "source": [
    "### (i) What are the count errors?"
   ]
  },
  {
   "cell_type": "code",
   "execution_count": 52,
   "metadata": {
    "deletable": false,
    "nbgrader": {
     "cell_type": "code",
     "checksum": "ea7678862f515301e53a1ba6b40c6755",
     "grade": false,
     "grade_id": "cell-085aea60e56c3c9c",
     "locked": false,
     "schema_version": 3,
     "solution": true,
     "task": false
    }
   },
   "outputs": [
    {
     "name": "stdout",
     "output_type": "stream",
     "text": [
      "[27.83882181415011, 21.88606862823929, 19.493588689617926, 17.378147196982766, 13.601470508735444, 12.529964086141668, 11.704699910719626, 10.908712114635714, 10.488088481701515, 9.433981132056603, 8.602325267042627, 7.810249675906654, 8.12403840463596, 8.246211251235321, 6.928203230275509, 7.3484692283495345, 7.14142842854285, 6.782329983125268, 7.416198487095663, 5.385164807134504, 5.291502622129181, 6.082762530298219, 7.0, 5.0990195135927845, 5.916079783099616, 5.385164807134504, 5.5677643628300215, 4.898979485566356, 5.0, 5.916079783099616, 4.898979485566356, 5.477225575051661, 5.0990195135927845, 5.291502622129181, 4.58257569495584, 4.242640687119285, 4.47213595499958, 5.196152422706632, 4.123105625617661, 4.123105625617661, 3.7416573867739413, 4.123105625617661, 4.898979485566356, 3.3166247903554, 4.69041575982343, 4.123105625617661, 3.4641016151377544, 3.1622776601683795, 3.605551275463989, 4.0, 3.0, 3.0, 3.7416573867739413, 4.58257569495584, 4.123105625617661, 3.605551275463989, 3.4641016151377544, 4.242640687119285, 3.1622776601683795]\n"
     ]
    }
   ],
   "source": [
    "data = pd.read_csv('BevingtonData.csv')\n",
    "time = np.array(data.iloc[:,0])\n",
    "count = np.array(data.iloc[:,1])\n",
    "\n",
    "def count_errors():\n",
    "    '''Your function should return an array of the errors on each of the counts.'''\n",
    "    errors = []\n",
    "    for num in count:\n",
    "        errors.append(np.sqrt(num))\n",
    "    # YOUR CODE HERE\n",
    "    return(errors)\n",
    "\n",
    "print(count_errors())"
   ]
  },
  {
   "cell_type": "code",
   "execution_count": 53,
   "metadata": {
    "deletable": false,
    "editable": false,
    "nbgrader": {
     "cell_type": "code",
     "checksum": "a92f1485dd109e2ee82f89c43d00253f",
     "grade": true,
     "grade_id": "cell-acaa7a947652696b",
     "locked": true,
     "points": 1,
     "schema_version": 3,
     "solution": false,
     "task": false
    }
   },
   "outputs": [],
   "source": [
    "'''TEST CELL- DO NOT DELETE'''\n",
    "assert len(count_errors()) == 59, 'Please make sure that your function returns an array of length 59.' "
   ]
  },
  {
   "cell_type": "code",
   "execution_count": 54,
   "metadata": {
    "deletable": false,
    "editable": false,
    "nbgrader": {
     "cell_type": "code",
     "checksum": "f529ede2a8e4855156728fff1227226e",
     "grade": true,
     "grade_id": "cell-d108a8e40091983b",
     "locked": true,
     "points": 1,
     "schema_version": 3,
     "solution": false,
     "task": false
    }
   },
   "outputs": [
    {
     "data": {
      "text/plain": [
       "'TEST CELL- DO NOT DELETE'"
      ]
     },
     "execution_count": 54,
     "metadata": {},
     "output_type": "execute_result"
    }
   ],
   "source": [
    "'''TEST CELL- DO NOT DELETE'''"
   ]
  },
  {
   "cell_type": "markdown",
   "metadata": {},
   "source": [
    "### (ii) Perform a fit using the fitting function f defined in the cell below. What are the best-fit parameters for a1, ..., a5 along with their errors?"
   ]
  },
  {
   "cell_type": "code",
   "execution_count": 55,
   "metadata": {
    "deletable": false,
    "nbgrader": {
     "cell_type": "code",
     "checksum": "c24d41a3c125c75698fc3b2424f3be6b",
     "grade": false,
     "grade_id": "cell-fc356e31ddc7fee4",
     "locked": false,
     "schema_version": 3,
     "solution": true,
     "task": false
    }
   },
   "outputs": [
    {
     "name": "stdout",
     "output_type": "stream",
     "text": [
      "(10.134140601876235, 957.7711153388628, 128.28177316987416, 34.2442067676362, 209.68988059482038, 2.100692465768677, 54.77994188434144, 23.440771648769907, 2.788361413937251, 35.13891273408218)\n"
     ]
    }
   ],
   "source": [
    "data = pd.read_csv('BevingtonData.csv')\n",
    "time = np.array(data.iloc[:,0])\n",
    "count = np.array(data.iloc[:,1])\n",
    "\n",
    "def f(time, a1, a2, a3, a4, a5):\n",
    "    return a1 + a2*np.exp(-time/a4) + a3*np.exp(-time/a5)\n",
    "\n",
    "def best_fit_line():\n",
    "    a1 = 0\n",
    "    a2 = 0\n",
    "    a3 = 0\n",
    "    a4 = 0\n",
    "    a5 = 0\n",
    "    error_a1 = 0\n",
    "    error_a2 = 0\n",
    "    error_a3 = 0\n",
    "    error_a4 = 0\n",
    "    error_a5 = 0\n",
    "    errors = count_errors()\n",
    "    popt, pcov = curve_fit(f, xdata = time, ydata = count, sigma = errors, p0 = [11, 930, 100, 30, 200])\n",
    "    a1 = popt[0]\n",
    "    a2 = popt[1]\n",
    "    a3 = popt[2]\n",
    "    a4 = popt[3]\n",
    "    a5 = popt[4]\n",
    "    error_a1 = pcov[0][0] ** 0.5\n",
    "    error_a2 = pcov[1][1] ** 0.5\n",
    "    error_a3 = pcov[2][2] ** 0.5\n",
    "    error_a4 = pcov[3][3] ** 0.5\n",
    "    error_a5 = pcov[4][4] ** 0.5\n",
    "    # YOUR CODE HERE\n",
    "    return(a1,a2,a3,a4,a5,error_a1,error_a2,error_a3,error_a4,error_a5)\n",
    "\n",
    "print(best_fit_line())\n"
   ]
  },
  {
   "cell_type": "code",
   "execution_count": 56,
   "metadata": {
    "deletable": false,
    "editable": false,
    "nbgrader": {
     "cell_type": "code",
     "checksum": "84e8a5ac6b9d49de7dc610c7566db69a",
     "grade": true,
     "grade_id": "cell-dd1fe17e5a1050d9",
     "locked": true,
     "points": 0.5,
     "schema_version": 3,
     "solution": false,
     "task": false
    },
    "scrolled": true
   },
   "outputs": [
    {
     "data": {
      "text/plain": [
       "'TEST CELL- DO NOT DELETE'"
      ]
     },
     "execution_count": 56,
     "metadata": {},
     "output_type": "execute_result"
    }
   ],
   "source": [
    "'''TEST CELL- DO NOT DELETE'''"
   ]
  },
  {
   "cell_type": "code",
   "execution_count": 57,
   "metadata": {
    "deletable": false,
    "editable": false,
    "nbgrader": {
     "cell_type": "code",
     "checksum": "53eb6d5abb65b72b4e7b5369a31c5a89",
     "grade": true,
     "grade_id": "cell-ea809ddf75d52199",
     "locked": true,
     "points": 0.25,
     "schema_version": 3,
     "solution": false,
     "task": false
    }
   },
   "outputs": [
    {
     "data": {
      "text/plain": [
       "'TEST CELL- DO NOT DELETE'"
      ]
     },
     "execution_count": 57,
     "metadata": {},
     "output_type": "execute_result"
    }
   ],
   "source": [
    "'''TEST CELL- DO NOT DELETE'''"
   ]
  },
  {
   "cell_type": "code",
   "execution_count": 58,
   "metadata": {
    "deletable": false,
    "editable": false,
    "nbgrader": {
     "cell_type": "code",
     "checksum": "16fa0153d2ea8135076697c341b19b5a",
     "grade": true,
     "grade_id": "cell-767e9943749c6027",
     "locked": true,
     "points": 0.25,
     "schema_version": 3,
     "solution": false,
     "task": false
    }
   },
   "outputs": [
    {
     "data": {
      "text/plain": [
       "'TEST CELL- DO NOT DELETE'"
      ]
     },
     "execution_count": 58,
     "metadata": {},
     "output_type": "execute_result"
    }
   ],
   "source": [
    "'''TEST CELL- DO NOT DELETE'''"
   ]
  },
  {
   "cell_type": "code",
   "execution_count": 59,
   "metadata": {
    "deletable": false,
    "editable": false,
    "nbgrader": {
     "cell_type": "code",
     "checksum": "916d963b0bc02a42dac0823e43671d1d",
     "grade": true,
     "grade_id": "cell-513e8cf5c4f09d9d",
     "locked": true,
     "points": 0.5,
     "schema_version": 3,
     "solution": false,
     "task": false
    }
   },
   "outputs": [
    {
     "data": {
      "text/plain": [
       "'TEST CELL- DO NOT DELETE'"
      ]
     },
     "execution_count": 59,
     "metadata": {},
     "output_type": "execute_result"
    }
   ],
   "source": [
    "'''TEST CELL- DO NOT DELETE'''"
   ]
  },
  {
   "cell_type": "code",
   "execution_count": 60,
   "metadata": {
    "deletable": false,
    "editable": false,
    "nbgrader": {
     "cell_type": "code",
     "checksum": "f8054dcef643534354742dfb4d57f5ef",
     "grade": true,
     "grade_id": "cell-85d12ab102f0120f",
     "locked": true,
     "points": 0.5,
     "schema_version": 3,
     "solution": false,
     "task": false
    }
   },
   "outputs": [
    {
     "data": {
      "text/plain": [
       "'TEST CELL- DO NOT DELETE'"
      ]
     },
     "execution_count": 60,
     "metadata": {},
     "output_type": "execute_result"
    }
   ],
   "source": [
    "'''TEST CELL- DO NOT DELETE'''"
   ]
  },
  {
   "cell_type": "code",
   "execution_count": 61,
   "metadata": {
    "deletable": false,
    "editable": false,
    "nbgrader": {
     "cell_type": "code",
     "checksum": "fdd461894e630d991d71d796c9d7273a",
     "grade": true,
     "grade_id": "cell-de8a1f97805c4ea7",
     "locked": true,
     "points": 0.5,
     "schema_version": 3,
     "solution": false,
     "task": false
    }
   },
   "outputs": [
    {
     "data": {
      "text/plain": [
       "'TEST CELL- DO NOT DELETE'"
      ]
     },
     "execution_count": 61,
     "metadata": {},
     "output_type": "execute_result"
    }
   ],
   "source": [
    "'''TEST CELL- DO NOT DELETE'''"
   ]
  },
  {
   "cell_type": "code",
   "execution_count": 62,
   "metadata": {
    "deletable": false,
    "editable": false,
    "nbgrader": {
     "cell_type": "code",
     "checksum": "7bc0b9b7b4f5bd27426c11391879d2c3",
     "grade": true,
     "grade_id": "cell-17af0d5d7dbf5d65",
     "locked": true,
     "points": 0.25,
     "schema_version": 3,
     "solution": false,
     "task": false
    }
   },
   "outputs": [
    {
     "data": {
      "text/plain": [
       "'TEST CELL- DO NOT DELETE'"
      ]
     },
     "execution_count": 62,
     "metadata": {},
     "output_type": "execute_result"
    }
   ],
   "source": [
    "'''TEST CELL- DO NOT DELETE'''"
   ]
  },
  {
   "cell_type": "code",
   "execution_count": 63,
   "metadata": {
    "deletable": false,
    "editable": false,
    "nbgrader": {
     "cell_type": "code",
     "checksum": "02ab075c386904cdd9dd439df714e699",
     "grade": true,
     "grade_id": "cell-a2b1209ca63ea092",
     "locked": true,
     "points": 0.25,
     "schema_version": 3,
     "solution": false,
     "task": false
    }
   },
   "outputs": [
    {
     "data": {
      "text/plain": [
       "'TEST CELL- DO NOT DELETE'"
      ]
     },
     "execution_count": 63,
     "metadata": {},
     "output_type": "execute_result"
    }
   ],
   "source": [
    "'''TEST CELL- DO NOT DELETE'''"
   ]
  },
  {
   "cell_type": "code",
   "execution_count": 64,
   "metadata": {
    "deletable": false,
    "editable": false,
    "nbgrader": {
     "cell_type": "code",
     "checksum": "7992cea7a21d5eb8c20b6226c09c1101",
     "grade": true,
     "grade_id": "cell-eb0fe1461bcc86f5",
     "locked": true,
     "points": 0.5,
     "schema_version": 3,
     "solution": false,
     "task": false
    }
   },
   "outputs": [
    {
     "data": {
      "text/plain": [
       "'TEST CELL- DO NOT DELETE'"
      ]
     },
     "execution_count": 64,
     "metadata": {},
     "output_type": "execute_result"
    }
   ],
   "source": [
    "'''TEST CELL- DO NOT DELETE'''"
   ]
  },
  {
   "cell_type": "code",
   "execution_count": 65,
   "metadata": {
    "deletable": false,
    "editable": false,
    "nbgrader": {
     "cell_type": "code",
     "checksum": "272e0f246808c1eaf9503569cece4746",
     "grade": true,
     "grade_id": "cell-adf3af9a3fa78ced",
     "locked": true,
     "points": 0.5,
     "schema_version": 3,
     "solution": false,
     "task": false
    }
   },
   "outputs": [
    {
     "data": {
      "text/plain": [
       "'TEST CELL- DO NOT DELETE'"
      ]
     },
     "execution_count": 65,
     "metadata": {},
     "output_type": "execute_result"
    }
   ],
   "source": [
    "'''TEST CELL- DO NOT DELETE'''"
   ]
  },
  {
   "cell_type": "markdown",
   "metadata": {
    "deletable": false,
    "editable": false,
    "nbgrader": {
     "cell_type": "markdown",
     "checksum": "79634150ee2f121d626e5adfd5d6d0eb",
     "grade": false,
     "grade_id": "cell-40842b5bfd4bdf9f",
     "locked": true,
     "schema_version": 3,
     "solution": false,
     "task": false
    }
   },
   "source": [
    "### (iii) What is the reduced $\\chi^2$ value?"
   ]
  },
  {
   "cell_type": "code",
   "execution_count": 66,
   "metadata": {
    "deletable": false,
    "nbgrader": {
     "cell_type": "code",
     "checksum": "24cbb6ab41906079278699810e743247",
     "grade": false,
     "grade_id": "cell-9070eaddc08da724",
     "locked": false,
     "schema_version": 3,
     "solution": true,
     "task": false
    }
   },
   "outputs": [
    {
     "name": "stdout",
     "output_type": "stream",
     "text": [
      "1.223676361281971\n"
     ]
    }
   ],
   "source": [
    "def reduced_chi_squared():\n",
    "    reduced_chi_squared = 0\n",
    "    errors = count_errors()\n",
    "    N = len(errors)\n",
    "    n = 5\n",
    "    degrees_of_freedom = N - n\n",
    "    chi2 = 0\n",
    "    a1,a2,a3,a4,a5,_,_,_,_,_ = best_fit_line()\n",
    "    for i in range(len(time)):\n",
    "        chi2 += (f(time[i], a1, a2, a3, a4, a5) - count[i]) ** 2 / errors[i] ** 2\n",
    "    reduced_chi_squared = chi2 / degrees_of_freedom\n",
    "    # YOUR CODE HERE\n",
    "    return(reduced_chi_squared)\n",
    "print(reduced_chi_squared())"
   ]
  },
  {
   "cell_type": "code",
   "execution_count": 67,
   "metadata": {
    "deletable": false,
    "editable": false,
    "nbgrader": {
     "cell_type": "code",
     "checksum": "c874b125f9f3d71ef8716b08499d3e61",
     "grade": true,
     "grade_id": "cell-3d4e13d5cec04fbb",
     "locked": true,
     "points": 2,
     "schema_version": 3,
     "solution": false,
     "task": false
    }
   },
   "outputs": [
    {
     "data": {
      "text/plain": [
       "'TEST CELL- DO NOT DELETE'"
      ]
     },
     "execution_count": 67,
     "metadata": {},
     "output_type": "execute_result"
    }
   ],
   "source": [
    "'''TEST CELL- DO NOT DELETE'''"
   ]
  },
  {
   "cell_type": "markdown",
   "metadata": {
    "deletable": false,
    "editable": false,
    "nbgrader": {
     "cell_type": "markdown",
     "checksum": "40a0190cd189087ee6f695fa5e0e5a7e",
     "grade": false,
     "grade_id": "cell-ada96cb439d86652",
     "locked": true,
     "schema_version": 3,
     "solution": false,
     "task": false
    }
   },
   "source": [
    "### (iv) Plot a suitable graph. This is, counts versus time, with residuals."
   ]
  },
  {
   "cell_type": "code",
   "execution_count": 88,
   "metadata": {
    "deletable": false,
    "nbgrader": {
     "cell_type": "code",
     "checksum": "9662428c456f9c69314b46afdebc6542",
     "grade": true,
     "grade_id": "cell-b9bf6e691fcfd5ab",
     "locked": false,
     "points": 2,
     "schema_version": 3,
     "solution": true,
     "task": false
    }
   },
   "outputs": [
    {
     "data": {
      "application/javascript": [
       "/* Put everything inside the global mpl namespace */\n",
       "window.mpl = {};\n",
       "\n",
       "\n",
       "mpl.get_websocket_type = function() {\n",
       "    if (typeof(WebSocket) !== 'undefined') {\n",
       "        return WebSocket;\n",
       "    } else if (typeof(MozWebSocket) !== 'undefined') {\n",
       "        return MozWebSocket;\n",
       "    } else {\n",
       "        alert('Your browser does not have WebSocket support.' +\n",
       "              'Please try Chrome, Safari or Firefox ≥ 6. ' +\n",
       "              'Firefox 4 and 5 are also supported but you ' +\n",
       "              'have to enable WebSockets in about:config.');\n",
       "    };\n",
       "}\n",
       "\n",
       "mpl.figure = function(figure_id, websocket, ondownload, parent_element) {\n",
       "    this.id = figure_id;\n",
       "\n",
       "    this.ws = websocket;\n",
       "\n",
       "    this.supports_binary = (this.ws.binaryType != undefined);\n",
       "\n",
       "    if (!this.supports_binary) {\n",
       "        var warnings = document.getElementById(\"mpl-warnings\");\n",
       "        if (warnings) {\n",
       "            warnings.style.display = 'block';\n",
       "            warnings.textContent = (\n",
       "                \"This browser does not support binary websocket messages. \" +\n",
       "                    \"Performance may be slow.\");\n",
       "        }\n",
       "    }\n",
       "\n",
       "    this.imageObj = new Image();\n",
       "\n",
       "    this.context = undefined;\n",
       "    this.message = undefined;\n",
       "    this.canvas = undefined;\n",
       "    this.rubberband_canvas = undefined;\n",
       "    this.rubberband_context = undefined;\n",
       "    this.format_dropdown = undefined;\n",
       "\n",
       "    this.image_mode = 'full';\n",
       "\n",
       "    this.root = $('<div/>');\n",
       "    this._root_extra_style(this.root)\n",
       "    this.root.attr('style', 'display: inline-block');\n",
       "\n",
       "    $(parent_element).append(this.root);\n",
       "\n",
       "    this._init_header(this);\n",
       "    this._init_canvas(this);\n",
       "    this._init_toolbar(this);\n",
       "\n",
       "    var fig = this;\n",
       "\n",
       "    this.waiting = false;\n",
       "\n",
       "    this.ws.onopen =  function () {\n",
       "            fig.send_message(\"supports_binary\", {value: fig.supports_binary});\n",
       "            fig.send_message(\"send_image_mode\", {});\n",
       "            if (mpl.ratio != 1) {\n",
       "                fig.send_message(\"set_dpi_ratio\", {'dpi_ratio': mpl.ratio});\n",
       "            }\n",
       "            fig.send_message(\"refresh\", {});\n",
       "        }\n",
       "\n",
       "    this.imageObj.onload = function() {\n",
       "            if (fig.image_mode == 'full') {\n",
       "                // Full images could contain transparency (where diff images\n",
       "                // almost always do), so we need to clear the canvas so that\n",
       "                // there is no ghosting.\n",
       "                fig.context.clearRect(0, 0, fig.canvas.width, fig.canvas.height);\n",
       "            }\n",
       "            fig.context.drawImage(fig.imageObj, 0, 0);\n",
       "        };\n",
       "\n",
       "    this.imageObj.onunload = function() {\n",
       "        fig.ws.close();\n",
       "    }\n",
       "\n",
       "    this.ws.onmessage = this._make_on_message_function(this);\n",
       "\n",
       "    this.ondownload = ondownload;\n",
       "}\n",
       "\n",
       "mpl.figure.prototype._init_header = function() {\n",
       "    var titlebar = $(\n",
       "        '<div class=\"ui-dialog-titlebar ui-widget-header ui-corner-all ' +\n",
       "        'ui-helper-clearfix\"/>');\n",
       "    var titletext = $(\n",
       "        '<div class=\"ui-dialog-title\" style=\"width: 100%; ' +\n",
       "        'text-align: center; padding: 3px;\"/>');\n",
       "    titlebar.append(titletext)\n",
       "    this.root.append(titlebar);\n",
       "    this.header = titletext[0];\n",
       "}\n",
       "\n",
       "\n",
       "\n",
       "mpl.figure.prototype._canvas_extra_style = function(canvas_div) {\n",
       "\n",
       "}\n",
       "\n",
       "\n",
       "mpl.figure.prototype._root_extra_style = function(canvas_div) {\n",
       "\n",
       "}\n",
       "\n",
       "mpl.figure.prototype._init_canvas = function() {\n",
       "    var fig = this;\n",
       "\n",
       "    var canvas_div = $('<div/>');\n",
       "\n",
       "    canvas_div.attr('style', 'position: relative; clear: both; outline: 0');\n",
       "\n",
       "    function canvas_keyboard_event(event) {\n",
       "        return fig.key_event(event, event['data']);\n",
       "    }\n",
       "\n",
       "    canvas_div.keydown('key_press', canvas_keyboard_event);\n",
       "    canvas_div.keyup('key_release', canvas_keyboard_event);\n",
       "    this.canvas_div = canvas_div\n",
       "    this._canvas_extra_style(canvas_div)\n",
       "    this.root.append(canvas_div);\n",
       "\n",
       "    var canvas = $('<canvas/>');\n",
       "    canvas.addClass('mpl-canvas');\n",
       "    canvas.attr('style', \"left: 0; top: 0; z-index: 0; outline: 0\")\n",
       "\n",
       "    this.canvas = canvas[0];\n",
       "    this.context = canvas[0].getContext(\"2d\");\n",
       "\n",
       "    var backingStore = this.context.backingStorePixelRatio ||\n",
       "\tthis.context.webkitBackingStorePixelRatio ||\n",
       "\tthis.context.mozBackingStorePixelRatio ||\n",
       "\tthis.context.msBackingStorePixelRatio ||\n",
       "\tthis.context.oBackingStorePixelRatio ||\n",
       "\tthis.context.backingStorePixelRatio || 1;\n",
       "\n",
       "    mpl.ratio = (window.devicePixelRatio || 1) / backingStore;\n",
       "\n",
       "    var rubberband = $('<canvas/>');\n",
       "    rubberband.attr('style', \"position: absolute; left: 0; top: 0; z-index: 1;\")\n",
       "\n",
       "    var pass_mouse_events = true;\n",
       "\n",
       "    canvas_div.resizable({\n",
       "        start: function(event, ui) {\n",
       "            pass_mouse_events = false;\n",
       "        },\n",
       "        resize: function(event, ui) {\n",
       "            fig.request_resize(ui.size.width, ui.size.height);\n",
       "        },\n",
       "        stop: function(event, ui) {\n",
       "            pass_mouse_events = true;\n",
       "            fig.request_resize(ui.size.width, ui.size.height);\n",
       "        },\n",
       "    });\n",
       "\n",
       "    function mouse_event_fn(event) {\n",
       "        if (pass_mouse_events)\n",
       "            return fig.mouse_event(event, event['data']);\n",
       "    }\n",
       "\n",
       "    rubberband.mousedown('button_press', mouse_event_fn);\n",
       "    rubberband.mouseup('button_release', mouse_event_fn);\n",
       "    // Throttle sequential mouse events to 1 every 20ms.\n",
       "    rubberband.mousemove('motion_notify', mouse_event_fn);\n",
       "\n",
       "    rubberband.mouseenter('figure_enter', mouse_event_fn);\n",
       "    rubberband.mouseleave('figure_leave', mouse_event_fn);\n",
       "\n",
       "    canvas_div.on(\"wheel\", function (event) {\n",
       "        event = event.originalEvent;\n",
       "        event['data'] = 'scroll'\n",
       "        if (event.deltaY < 0) {\n",
       "            event.step = 1;\n",
       "        } else {\n",
       "            event.step = -1;\n",
       "        }\n",
       "        mouse_event_fn(event);\n",
       "    });\n",
       "\n",
       "    canvas_div.append(canvas);\n",
       "    canvas_div.append(rubberband);\n",
       "\n",
       "    this.rubberband = rubberband;\n",
       "    this.rubberband_canvas = rubberband[0];\n",
       "    this.rubberband_context = rubberband[0].getContext(\"2d\");\n",
       "    this.rubberband_context.strokeStyle = \"#000000\";\n",
       "\n",
       "    this._resize_canvas = function(width, height) {\n",
       "        // Keep the size of the canvas, canvas container, and rubber band\n",
       "        // canvas in synch.\n",
       "        canvas_div.css('width', width)\n",
       "        canvas_div.css('height', height)\n",
       "\n",
       "        canvas.attr('width', width * mpl.ratio);\n",
       "        canvas.attr('height', height * mpl.ratio);\n",
       "        canvas.attr('style', 'width: ' + width + 'px; height: ' + height + 'px;');\n",
       "\n",
       "        rubberband.attr('width', width);\n",
       "        rubberband.attr('height', height);\n",
       "    }\n",
       "\n",
       "    // Set the figure to an initial 600x600px, this will subsequently be updated\n",
       "    // upon first draw.\n",
       "    this._resize_canvas(600, 600);\n",
       "\n",
       "    // Disable right mouse context menu.\n",
       "    $(this.rubberband_canvas).bind(\"contextmenu\",function(e){\n",
       "        return false;\n",
       "    });\n",
       "\n",
       "    function set_focus () {\n",
       "        canvas.focus();\n",
       "        canvas_div.focus();\n",
       "    }\n",
       "\n",
       "    window.setTimeout(set_focus, 100);\n",
       "}\n",
       "\n",
       "mpl.figure.prototype._init_toolbar = function() {\n",
       "    var fig = this;\n",
       "\n",
       "    var nav_element = $('<div/>')\n",
       "    nav_element.attr('style', 'width: 100%');\n",
       "    this.root.append(nav_element);\n",
       "\n",
       "    // Define a callback function for later on.\n",
       "    function toolbar_event(event) {\n",
       "        return fig.toolbar_button_onclick(event['data']);\n",
       "    }\n",
       "    function toolbar_mouse_event(event) {\n",
       "        return fig.toolbar_button_onmouseover(event['data']);\n",
       "    }\n",
       "\n",
       "    for(var toolbar_ind in mpl.toolbar_items) {\n",
       "        var name = mpl.toolbar_items[toolbar_ind][0];\n",
       "        var tooltip = mpl.toolbar_items[toolbar_ind][1];\n",
       "        var image = mpl.toolbar_items[toolbar_ind][2];\n",
       "        var method_name = mpl.toolbar_items[toolbar_ind][3];\n",
       "\n",
       "        if (!name) {\n",
       "            // put a spacer in here.\n",
       "            continue;\n",
       "        }\n",
       "        var button = $('<button/>');\n",
       "        button.addClass('ui-button ui-widget ui-state-default ui-corner-all ' +\n",
       "                        'ui-button-icon-only');\n",
       "        button.attr('role', 'button');\n",
       "        button.attr('aria-disabled', 'false');\n",
       "        button.click(method_name, toolbar_event);\n",
       "        button.mouseover(tooltip, toolbar_mouse_event);\n",
       "\n",
       "        var icon_img = $('<span/>');\n",
       "        icon_img.addClass('ui-button-icon-primary ui-icon');\n",
       "        icon_img.addClass(image);\n",
       "        icon_img.addClass('ui-corner-all');\n",
       "\n",
       "        var tooltip_span = $('<span/>');\n",
       "        tooltip_span.addClass('ui-button-text');\n",
       "        tooltip_span.html(tooltip);\n",
       "\n",
       "        button.append(icon_img);\n",
       "        button.append(tooltip_span);\n",
       "\n",
       "        nav_element.append(button);\n",
       "    }\n",
       "\n",
       "    var fmt_picker_span = $('<span/>');\n",
       "\n",
       "    var fmt_picker = $('<select/>');\n",
       "    fmt_picker.addClass('mpl-toolbar-option ui-widget ui-widget-content');\n",
       "    fmt_picker_span.append(fmt_picker);\n",
       "    nav_element.append(fmt_picker_span);\n",
       "    this.format_dropdown = fmt_picker[0];\n",
       "\n",
       "    for (var ind in mpl.extensions) {\n",
       "        var fmt = mpl.extensions[ind];\n",
       "        var option = $(\n",
       "            '<option/>', {selected: fmt === mpl.default_extension}).html(fmt);\n",
       "        fmt_picker.append(option)\n",
       "    }\n",
       "\n",
       "    // Add hover states to the ui-buttons\n",
       "    $( \".ui-button\" ).hover(\n",
       "        function() { $(this).addClass(\"ui-state-hover\");},\n",
       "        function() { $(this).removeClass(\"ui-state-hover\");}\n",
       "    );\n",
       "\n",
       "    var status_bar = $('<span class=\"mpl-message\"/>');\n",
       "    nav_element.append(status_bar);\n",
       "    this.message = status_bar[0];\n",
       "}\n",
       "\n",
       "mpl.figure.prototype.request_resize = function(x_pixels, y_pixels) {\n",
       "    // Request matplotlib to resize the figure. Matplotlib will then trigger a resize in the client,\n",
       "    // which will in turn request a refresh of the image.\n",
       "    this.send_message('resize', {'width': x_pixels, 'height': y_pixels});\n",
       "}\n",
       "\n",
       "mpl.figure.prototype.send_message = function(type, properties) {\n",
       "    properties['type'] = type;\n",
       "    properties['figure_id'] = this.id;\n",
       "    this.ws.send(JSON.stringify(properties));\n",
       "}\n",
       "\n",
       "mpl.figure.prototype.send_draw_message = function() {\n",
       "    if (!this.waiting) {\n",
       "        this.waiting = true;\n",
       "        this.ws.send(JSON.stringify({type: \"draw\", figure_id: this.id}));\n",
       "    }\n",
       "}\n",
       "\n",
       "\n",
       "mpl.figure.prototype.handle_save = function(fig, msg) {\n",
       "    var format_dropdown = fig.format_dropdown;\n",
       "    var format = format_dropdown.options[format_dropdown.selectedIndex].value;\n",
       "    fig.ondownload(fig, format);\n",
       "}\n",
       "\n",
       "\n",
       "mpl.figure.prototype.handle_resize = function(fig, msg) {\n",
       "    var size = msg['size'];\n",
       "    if (size[0] != fig.canvas.width || size[1] != fig.canvas.height) {\n",
       "        fig._resize_canvas(size[0], size[1]);\n",
       "        fig.send_message(\"refresh\", {});\n",
       "    };\n",
       "}\n",
       "\n",
       "mpl.figure.prototype.handle_rubberband = function(fig, msg) {\n",
       "    var x0 = msg['x0'] / mpl.ratio;\n",
       "    var y0 = (fig.canvas.height - msg['y0']) / mpl.ratio;\n",
       "    var x1 = msg['x1'] / mpl.ratio;\n",
       "    var y1 = (fig.canvas.height - msg['y1']) / mpl.ratio;\n",
       "    x0 = Math.floor(x0) + 0.5;\n",
       "    y0 = Math.floor(y0) + 0.5;\n",
       "    x1 = Math.floor(x1) + 0.5;\n",
       "    y1 = Math.floor(y1) + 0.5;\n",
       "    var min_x = Math.min(x0, x1);\n",
       "    var min_y = Math.min(y0, y1);\n",
       "    var width = Math.abs(x1 - x0);\n",
       "    var height = Math.abs(y1 - y0);\n",
       "\n",
       "    fig.rubberband_context.clearRect(\n",
       "        0, 0, fig.canvas.width, fig.canvas.height);\n",
       "\n",
       "    fig.rubberband_context.strokeRect(min_x, min_y, width, height);\n",
       "}\n",
       "\n",
       "mpl.figure.prototype.handle_figure_label = function(fig, msg) {\n",
       "    // Updates the figure title.\n",
       "    fig.header.textContent = msg['label'];\n",
       "}\n",
       "\n",
       "mpl.figure.prototype.handle_cursor = function(fig, msg) {\n",
       "    var cursor = msg['cursor'];\n",
       "    switch(cursor)\n",
       "    {\n",
       "    case 0:\n",
       "        cursor = 'pointer';\n",
       "        break;\n",
       "    case 1:\n",
       "        cursor = 'default';\n",
       "        break;\n",
       "    case 2:\n",
       "        cursor = 'crosshair';\n",
       "        break;\n",
       "    case 3:\n",
       "        cursor = 'move';\n",
       "        break;\n",
       "    }\n",
       "    fig.rubberband_canvas.style.cursor = cursor;\n",
       "}\n",
       "\n",
       "mpl.figure.prototype.handle_message = function(fig, msg) {\n",
       "    fig.message.textContent = msg['message'];\n",
       "}\n",
       "\n",
       "mpl.figure.prototype.handle_draw = function(fig, msg) {\n",
       "    // Request the server to send over a new figure.\n",
       "    fig.send_draw_message();\n",
       "}\n",
       "\n",
       "mpl.figure.prototype.handle_image_mode = function(fig, msg) {\n",
       "    fig.image_mode = msg['mode'];\n",
       "}\n",
       "\n",
       "mpl.figure.prototype.updated_canvas_event = function() {\n",
       "    // Called whenever the canvas gets updated.\n",
       "    this.send_message(\"ack\", {});\n",
       "}\n",
       "\n",
       "// A function to construct a web socket function for onmessage handling.\n",
       "// Called in the figure constructor.\n",
       "mpl.figure.prototype._make_on_message_function = function(fig) {\n",
       "    return function socket_on_message(evt) {\n",
       "        if (evt.data instanceof Blob) {\n",
       "            /* FIXME: We get \"Resource interpreted as Image but\n",
       "             * transferred with MIME type text/plain:\" errors on\n",
       "             * Chrome.  But how to set the MIME type?  It doesn't seem\n",
       "             * to be part of the websocket stream */\n",
       "            evt.data.type = \"image/png\";\n",
       "\n",
       "            /* Free the memory for the previous frames */\n",
       "            if (fig.imageObj.src) {\n",
       "                (window.URL || window.webkitURL).revokeObjectURL(\n",
       "                    fig.imageObj.src);\n",
       "            }\n",
       "\n",
       "            fig.imageObj.src = (window.URL || window.webkitURL).createObjectURL(\n",
       "                evt.data);\n",
       "            fig.updated_canvas_event();\n",
       "            fig.waiting = false;\n",
       "            return;\n",
       "        }\n",
       "        else if (typeof evt.data === 'string' && evt.data.slice(0, 21) == \"data:image/png;base64\") {\n",
       "            fig.imageObj.src = evt.data;\n",
       "            fig.updated_canvas_event();\n",
       "            fig.waiting = false;\n",
       "            return;\n",
       "        }\n",
       "\n",
       "        var msg = JSON.parse(evt.data);\n",
       "        var msg_type = msg['type'];\n",
       "\n",
       "        // Call the  \"handle_{type}\" callback, which takes\n",
       "        // the figure and JSON message as its only arguments.\n",
       "        try {\n",
       "            var callback = fig[\"handle_\" + msg_type];\n",
       "        } catch (e) {\n",
       "            console.log(\"No handler for the '\" + msg_type + \"' message type: \", msg);\n",
       "            return;\n",
       "        }\n",
       "\n",
       "        if (callback) {\n",
       "            try {\n",
       "                // console.log(\"Handling '\" + msg_type + \"' message: \", msg);\n",
       "                callback(fig, msg);\n",
       "            } catch (e) {\n",
       "                console.log(\"Exception inside the 'handler_\" + msg_type + \"' callback:\", e, e.stack, msg);\n",
       "            }\n",
       "        }\n",
       "    };\n",
       "}\n",
       "\n",
       "// from http://stackoverflow.com/questions/1114465/getting-mouse-location-in-canvas\n",
       "mpl.findpos = function(e) {\n",
       "    //this section is from http://www.quirksmode.org/js/events_properties.html\n",
       "    var targ;\n",
       "    if (!e)\n",
       "        e = window.event;\n",
       "    if (e.target)\n",
       "        targ = e.target;\n",
       "    else if (e.srcElement)\n",
       "        targ = e.srcElement;\n",
       "    if (targ.nodeType == 3) // defeat Safari bug\n",
       "        targ = targ.parentNode;\n",
       "\n",
       "    // jQuery normalizes the pageX and pageY\n",
       "    // pageX,Y are the mouse positions relative to the document\n",
       "    // offset() returns the position of the element relative to the document\n",
       "    var x = e.pageX - $(targ).offset().left;\n",
       "    var y = e.pageY - $(targ).offset().top;\n",
       "\n",
       "    return {\"x\": x, \"y\": y};\n",
       "};\n",
       "\n",
       "/*\n",
       " * return a copy of an object with only non-object keys\n",
       " * we need this to avoid circular references\n",
       " * http://stackoverflow.com/a/24161582/3208463\n",
       " */\n",
       "function simpleKeys (original) {\n",
       "  return Object.keys(original).reduce(function (obj, key) {\n",
       "    if (typeof original[key] !== 'object')\n",
       "        obj[key] = original[key]\n",
       "    return obj;\n",
       "  }, {});\n",
       "}\n",
       "\n",
       "mpl.figure.prototype.mouse_event = function(event, name) {\n",
       "    var canvas_pos = mpl.findpos(event)\n",
       "\n",
       "    if (name === 'button_press')\n",
       "    {\n",
       "        this.canvas.focus();\n",
       "        this.canvas_div.focus();\n",
       "    }\n",
       "\n",
       "    var x = canvas_pos.x * mpl.ratio;\n",
       "    var y = canvas_pos.y * mpl.ratio;\n",
       "\n",
       "    this.send_message(name, {x: x, y: y, button: event.button,\n",
       "                             step: event.step,\n",
       "                             guiEvent: simpleKeys(event)});\n",
       "\n",
       "    /* This prevents the web browser from automatically changing to\n",
       "     * the text insertion cursor when the button is pressed.  We want\n",
       "     * to control all of the cursor setting manually through the\n",
       "     * 'cursor' event from matplotlib */\n",
       "    event.preventDefault();\n",
       "    return false;\n",
       "}\n",
       "\n",
       "mpl.figure.prototype._key_event_extra = function(event, name) {\n",
       "    // Handle any extra behaviour associated with a key event\n",
       "}\n",
       "\n",
       "mpl.figure.prototype.key_event = function(event, name) {\n",
       "\n",
       "    // Prevent repeat events\n",
       "    if (name == 'key_press')\n",
       "    {\n",
       "        if (event.which === this._key)\n",
       "            return;\n",
       "        else\n",
       "            this._key = event.which;\n",
       "    }\n",
       "    if (name == 'key_release')\n",
       "        this._key = null;\n",
       "\n",
       "    var value = '';\n",
       "    if (event.ctrlKey && event.which != 17)\n",
       "        value += \"ctrl+\";\n",
       "    if (event.altKey && event.which != 18)\n",
       "        value += \"alt+\";\n",
       "    if (event.shiftKey && event.which != 16)\n",
       "        value += \"shift+\";\n",
       "\n",
       "    value += 'k';\n",
       "    value += event.which.toString();\n",
       "\n",
       "    this._key_event_extra(event, name);\n",
       "\n",
       "    this.send_message(name, {key: value,\n",
       "                             guiEvent: simpleKeys(event)});\n",
       "    return false;\n",
       "}\n",
       "\n",
       "mpl.figure.prototype.toolbar_button_onclick = function(name) {\n",
       "    if (name == 'download') {\n",
       "        this.handle_save(this, null);\n",
       "    } else {\n",
       "        this.send_message(\"toolbar_button\", {name: name});\n",
       "    }\n",
       "};\n",
       "\n",
       "mpl.figure.prototype.toolbar_button_onmouseover = function(tooltip) {\n",
       "    this.message.textContent = tooltip;\n",
       "};\n",
       "mpl.toolbar_items = [[\"Home\", \"Reset original view\", \"fa fa-home icon-home\", \"home\"], [\"Back\", \"Back to  previous view\", \"fa fa-arrow-left icon-arrow-left\", \"back\"], [\"Forward\", \"Forward to next view\", \"fa fa-arrow-right icon-arrow-right\", \"forward\"], [\"\", \"\", \"\", \"\"], [\"Pan\", \"Pan axes with left mouse, zoom with right\", \"fa fa-arrows icon-move\", \"pan\"], [\"Zoom\", \"Zoom to rectangle\", \"fa fa-square-o icon-check-empty\", \"zoom\"], [\"\", \"\", \"\", \"\"], [\"Download\", \"Download plot\", \"fa fa-floppy-o icon-save\", \"download\"]];\n",
       "\n",
       "mpl.extensions = [\"eps\", \"pdf\", \"png\", \"ps\", \"raw\", \"svg\"];\n",
       "\n",
       "mpl.default_extension = \"png\";var comm_websocket_adapter = function(comm) {\n",
       "    // Create a \"websocket\"-like object which calls the given IPython comm\n",
       "    // object with the appropriate methods. Currently this is a non binary\n",
       "    // socket, so there is still some room for performance tuning.\n",
       "    var ws = {};\n",
       "\n",
       "    ws.close = function() {\n",
       "        comm.close()\n",
       "    };\n",
       "    ws.send = function(m) {\n",
       "        //console.log('sending', m);\n",
       "        comm.send(m);\n",
       "    };\n",
       "    // Register the callback with on_msg.\n",
       "    comm.on_msg(function(msg) {\n",
       "        //console.log('receiving', msg['content']['data'], msg);\n",
       "        // Pass the mpl event to the overridden (by mpl) onmessage function.\n",
       "        ws.onmessage(msg['content']['data'])\n",
       "    });\n",
       "    return ws;\n",
       "}\n",
       "\n",
       "mpl.mpl_figure_comm = function(comm, msg) {\n",
       "    // This is the function which gets called when the mpl process\n",
       "    // starts-up an IPython Comm through the \"matplotlib\" channel.\n",
       "\n",
       "    var id = msg.content.data.id;\n",
       "    // Get hold of the div created by the display call when the Comm\n",
       "    // socket was opened in Python.\n",
       "    var element = $(\"#\" + id);\n",
       "    var ws_proxy = comm_websocket_adapter(comm)\n",
       "\n",
       "    function ondownload(figure, format) {\n",
       "        window.open(figure.imageObj.src);\n",
       "    }\n",
       "\n",
       "    var fig = new mpl.figure(id, ws_proxy,\n",
       "                           ondownload,\n",
       "                           element.get(0));\n",
       "\n",
       "    // Call onopen now - mpl needs it, as it is assuming we've passed it a real\n",
       "    // web socket which is closed, not our websocket->open comm proxy.\n",
       "    ws_proxy.onopen();\n",
       "\n",
       "    fig.parent_element = element.get(0);\n",
       "    fig.cell_info = mpl.find_output_cell(\"<div id='\" + id + \"'></div>\");\n",
       "    if (!fig.cell_info) {\n",
       "        console.error(\"Failed to find cell for figure\", id, fig);\n",
       "        return;\n",
       "    }\n",
       "\n",
       "    var output_index = fig.cell_info[2]\n",
       "    var cell = fig.cell_info[0];\n",
       "\n",
       "};\n",
       "\n",
       "mpl.figure.prototype.handle_close = function(fig, msg) {\n",
       "    var width = fig.canvas.width/mpl.ratio\n",
       "    fig.root.unbind('remove')\n",
       "\n",
       "    // Update the output cell to use the data from the current canvas.\n",
       "    fig.push_to_output();\n",
       "    var dataURL = fig.canvas.toDataURL();\n",
       "    // Re-enable the keyboard manager in IPython - without this line, in FF,\n",
       "    // the notebook keyboard shortcuts fail.\n",
       "    IPython.keyboard_manager.enable()\n",
       "    $(fig.parent_element).html('<img src=\"' + dataURL + '\" width=\"' + width + '\">');\n",
       "    fig.close_ws(fig, msg);\n",
       "}\n",
       "\n",
       "mpl.figure.prototype.close_ws = function(fig, msg){\n",
       "    fig.send_message('closing', msg);\n",
       "    // fig.ws.close()\n",
       "}\n",
       "\n",
       "mpl.figure.prototype.push_to_output = function(remove_interactive) {\n",
       "    // Turn the data on the canvas into data in the output cell.\n",
       "    var width = this.canvas.width/mpl.ratio\n",
       "    var dataURL = this.canvas.toDataURL();\n",
       "    this.cell_info[1]['text/html'] = '<img src=\"' + dataURL + '\" width=\"' + width + '\">';\n",
       "}\n",
       "\n",
       "mpl.figure.prototype.updated_canvas_event = function() {\n",
       "    // Tell IPython that the notebook contents must change.\n",
       "    IPython.notebook.set_dirty(true);\n",
       "    this.send_message(\"ack\", {});\n",
       "    var fig = this;\n",
       "    // Wait a second, then push the new image to the DOM so\n",
       "    // that it is saved nicely (might be nice to debounce this).\n",
       "    setTimeout(function () { fig.push_to_output() }, 1000);\n",
       "}\n",
       "\n",
       "mpl.figure.prototype._init_toolbar = function() {\n",
       "    var fig = this;\n",
       "\n",
       "    var nav_element = $('<div/>')\n",
       "    nav_element.attr('style', 'width: 100%');\n",
       "    this.root.append(nav_element);\n",
       "\n",
       "    // Define a callback function for later on.\n",
       "    function toolbar_event(event) {\n",
       "        return fig.toolbar_button_onclick(event['data']);\n",
       "    }\n",
       "    function toolbar_mouse_event(event) {\n",
       "        return fig.toolbar_button_onmouseover(event['data']);\n",
       "    }\n",
       "\n",
       "    for(var toolbar_ind in mpl.toolbar_items){\n",
       "        var name = mpl.toolbar_items[toolbar_ind][0];\n",
       "        var tooltip = mpl.toolbar_items[toolbar_ind][1];\n",
       "        var image = mpl.toolbar_items[toolbar_ind][2];\n",
       "        var method_name = mpl.toolbar_items[toolbar_ind][3];\n",
       "\n",
       "        if (!name) { continue; };\n",
       "\n",
       "        var button = $('<button class=\"btn btn-default\" href=\"#\" title=\"' + name + '\"><i class=\"fa ' + image + ' fa-lg\"></i></button>');\n",
       "        button.click(method_name, toolbar_event);\n",
       "        button.mouseover(tooltip, toolbar_mouse_event);\n",
       "        nav_element.append(button);\n",
       "    }\n",
       "\n",
       "    // Add the status bar.\n",
       "    var status_bar = $('<span class=\"mpl-message\" style=\"text-align:right; float: right;\"/>');\n",
       "    nav_element.append(status_bar);\n",
       "    this.message = status_bar[0];\n",
       "\n",
       "    // Add the close button to the window.\n",
       "    var buttongrp = $('<div class=\"btn-group inline pull-right\"></div>');\n",
       "    var button = $('<button class=\"btn btn-mini btn-primary\" href=\"#\" title=\"Stop Interaction\"><i class=\"fa fa-power-off icon-remove icon-large\"></i></button>');\n",
       "    button.click(function (evt) { fig.handle_close(fig, {}); } );\n",
       "    button.mouseover('Stop Interaction', toolbar_mouse_event);\n",
       "    buttongrp.append(button);\n",
       "    var titlebar = this.root.find($('.ui-dialog-titlebar'));\n",
       "    titlebar.prepend(buttongrp);\n",
       "}\n",
       "\n",
       "mpl.figure.prototype._root_extra_style = function(el){\n",
       "    var fig = this\n",
       "    el.on(\"remove\", function(){\n",
       "\tfig.close_ws(fig, {});\n",
       "    });\n",
       "}\n",
       "\n",
       "mpl.figure.prototype._canvas_extra_style = function(el){\n",
       "    // this is important to make the div 'focusable\n",
       "    el.attr('tabindex', 0)\n",
       "    // reach out to IPython and tell the keyboard manager to turn it's self\n",
       "    // off when our div gets focus\n",
       "\n",
       "    // location in version 3\n",
       "    if (IPython.notebook.keyboard_manager) {\n",
       "        IPython.notebook.keyboard_manager.register_events(el);\n",
       "    }\n",
       "    else {\n",
       "        // location in version 2\n",
       "        IPython.keyboard_manager.register_events(el);\n",
       "    }\n",
       "\n",
       "}\n",
       "\n",
       "mpl.figure.prototype._key_event_extra = function(event, name) {\n",
       "    var manager = IPython.notebook.keyboard_manager;\n",
       "    if (!manager)\n",
       "        manager = IPython.keyboard_manager;\n",
       "\n",
       "    // Check for shift+enter\n",
       "    if (event.shiftKey && event.which == 13) {\n",
       "        this.canvas_div.blur();\n",
       "        event.shiftKey = false;\n",
       "        // Send a \"J\" for go to next cell\n",
       "        event.which = 74;\n",
       "        event.keyCode = 74;\n",
       "        manager.command_mode();\n",
       "        manager.handle_keydown(event);\n",
       "    }\n",
       "}\n",
       "\n",
       "mpl.figure.prototype.handle_save = function(fig, msg) {\n",
       "    fig.ondownload(fig, null);\n",
       "}\n",
       "\n",
       "\n",
       "mpl.find_output_cell = function(html_output) {\n",
       "    // Return the cell and output element which can be found *uniquely* in the notebook.\n",
       "    // Note - this is a bit hacky, but it is done because the \"notebook_saving.Notebook\"\n",
       "    // IPython event is triggered only after the cells have been serialised, which for\n",
       "    // our purposes (turning an active figure into a static one), is too late.\n",
       "    var cells = IPython.notebook.get_cells();\n",
       "    var ncells = cells.length;\n",
       "    for (var i=0; i<ncells; i++) {\n",
       "        var cell = cells[i];\n",
       "        if (cell.cell_type === 'code'){\n",
       "            for (var j=0; j<cell.output_area.outputs.length; j++) {\n",
       "                var data = cell.output_area.outputs[j];\n",
       "                if (data.data) {\n",
       "                    // IPython >= 3 moved mimebundle to data attribute of output\n",
       "                    data = data.data;\n",
       "                }\n",
       "                if (data['text/html'] == html_output) {\n",
       "                    return [cell, data, j];\n",
       "                }\n",
       "            }\n",
       "        }\n",
       "    }\n",
       "}\n",
       "\n",
       "// Register the function which deals with the matplotlib target/channel.\n",
       "// The kernel may be null if the page has been refreshed.\n",
       "if (IPython.notebook.kernel != null) {\n",
       "    IPython.notebook.kernel.comm_manager.register_target('matplotlib', mpl.mpl_figure_comm);\n",
       "}\n"
      ],
      "text/plain": [
       "<IPython.core.display.Javascript object>"
      ]
     },
     "metadata": {},
     "output_type": "display_data"
    },
    {
     "data": {
      "text/html": [
       "<img src=\"data:image/png;base64,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\" width=\"640\">"
      ],
      "text/plain": [
       "<IPython.core.display.HTML object>"
      ]
     },
     "metadata": {},
     "output_type": "display_data"
    },
    {
     "data": {
      "text/plain": [
       "[<matplotlib.lines.Line2D at 0x7f1e8836ea90>]"
      ]
     },
     "execution_count": 88,
     "metadata": {},
     "output_type": "execute_result"
    }
   ],
   "source": [
    "# YOUR CODE HERE\n",
    "a1,a2,a3,a4,a5,_,_,_,_,_ = best_fit_line()\n",
    "count_pred = []\n",
    "for t in time:\n",
    "    count_pred.append(f(t, a1, a2, a3, a4, a5))\n",
    "residuals = []\n",
    "for i in range(len(count_pred)):\n",
    "    residuals.append(count[i] - count_pred[i])\n",
    "\n",
    "fig = plt.figure()\n",
    "frame1 = fig.add_axes((.1,.3,.9,.6))\n",
    "plt.plot(time, count_pred, 'r-', label='fit line')\n",
    "plt.plot(time, count, 'b*', label='the true data')\n",
    "plt.xlabel(\"time\")\n",
    "plt.ylabel(\"count\")\n",
    "plt.title(\"best fit line time-count and residuals\")\n",
    "plt.legend()\n",
    "frame2 = fig.add_axes((.1,.1,.9,.2))\n",
    "plt.xlabel(\"time\")\n",
    "plt.ylabel(\"count residuals\")\n",
    "plt.ylim(-70, 70)\n",
    "plt.plot(time, residuals, 'ro')"
   ]
  },
  {
   "cell_type": "code",
   "execution_count": null,
   "metadata": {},
   "outputs": [],
   "source": []
  },
  {
   "cell_type": "code",
   "execution_count": null,
   "metadata": {},
   "outputs": [],
   "source": []
  },
  {
   "cell_type": "code",
   "execution_count": null,
   "metadata": {},
   "outputs": [],
   "source": []
  }
 ],
 "metadata": {
  "kernelspec": {
   "display_name": "Python 3",
   "language": "python",
   "name": "python3"
  },
  "language_info": {
   "codemirror_mode": {
    "name": "ipython",
    "version": 3
   },
   "file_extension": ".py",
   "mimetype": "text/x-python",
   "name": "python",
   "nbconvert_exporter": "python",
   "pygments_lexer": "ipython3",
   "version": "3.6.3"
  }
 },
 "nbformat": 4,
 "nbformat_minor": 2
}
