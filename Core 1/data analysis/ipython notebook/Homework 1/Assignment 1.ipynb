{
 "cells": [
  {
   "cell_type": "markdown",
   "metadata": {
    "deletable": false,
    "editable": false,
    "nbgrader": {
     "cell_type": "markdown",
     "checksum": "477ec9984d203f955a6e702aec7d4f29",
     "grade": false,
     "grade_id": "cell-5df98e2c42315dfd",
     "locked": true,
     "schema_version": 3,
     "solution": false,
     "task": false
    }
   },
   "source": [
    "# Data Analysis Homework 1"
   ]
  },
  {
   "cell_type": "code",
   "execution_count": 2,
   "metadata": {
    "deletable": false,
    "editable": false,
    "nbgrader": {
     "cell_type": "code",
     "checksum": "f9960969f27771913cfa899aaf364719",
     "grade": false,
     "grade_id": "cell-6880a7a39f660792",
     "locked": true,
     "schema_version": 3,
     "solution": false,
     "task": false
    }
   },
   "outputs": [],
   "source": [
    "from __future__ import division\n",
    "from IPython.display import HTML\n",
    "from IPython.display import display\n",
    "from scipy.special import erf\n",
    "from scipy.special import erfc\n",
    "from math import factorial as factorial\n",
    "from random import seed\n",
    "from random import randint\n",
    "import numpy as np\n",
    "import pandas as pd\n",
    "import matplotlib.pyplot as plt"
   ]
  },
  {
   "cell_type": "markdown",
   "metadata": {
    "deletable": false,
    "editable": false,
    "nbgrader": {
     "cell_type": "markdown",
     "checksum": "d0707dc5164c4883d66c8d5c8fa04a49",
     "grade": false,
     "grade_id": "cell-391591ed0633fc70",
     "locked": true,
     "schema_version": 3,
     "solution": false,
     "task": false
    }
   },
   "source": [
    "## Question 1: Mean, Standard Deviation and Standard Error\n",
    "\n",
    "12 measurements of the sensitivity of a photo diode circuit (in Amps/Watt) are: \n",
    "<bf>\n",
    "11.45, 10.91, 11.60, 10.59, 10.32, 10.34, 11.00, 10.94, 11.67, 11.67, 11.06, and 10.57. \n",
    "<bf>\n",
    "Calculate:\n",
    "<blockquote>\n",
    "<bf>\n",
    "(i) The Mean.\n",
    "<bf>\n",
    "(ii) The Standard Deviation.\n",
    "<bf>\n",
    "(iii) The Standard Error.\n",
    "<bf>\n",
    "(iv) How would you report the result?"
   ]
  },
  {
   "cell_type": "code",
   "execution_count": 3,
   "metadata": {},
   "outputs": [],
   "source": [
    "data = [11.45, 10.91, 11.60, 10.59, 10.32, 10.34, 11.00, 10.94, 11.67, 11.67, 11.06, 10.57]"
   ]
  },
  {
   "cell_type": "markdown",
   "metadata": {
    "deletable": false,
    "editable": false,
    "nbgrader": {
     "cell_type": "markdown",
     "checksum": "d3a318615d7e5cfcf30ecf3fe2d6c239",
     "grade": false,
     "grade_id": "cell-23fb767aff3c3ff7",
     "locked": true,
     "schema_version": 3,
     "solution": false,
     "task": false
    }
   },
   "source": [
    "### (i) Calculate the Mean"
   ]
  },
  {
   "cell_type": "code",
   "execution_count": 4,
   "metadata": {
    "deletable": false,
    "nbgrader": {
     "cell_type": "code",
     "checksum": "184aba2e126d7be748eae11eed08e091",
     "grade": false,
     "grade_id": "cell-1f30bb7600418b90",
     "locked": false,
     "schema_version": 3,
     "solution": true,
     "task": false
    }
   },
   "outputs": [
    {
     "name": "stdout",
     "output_type": "stream",
     "text": [
      "11.01\n"
     ]
    }
   ],
   "source": [
    "def one_i(data):\n",
    "    count = 0\n",
    "    for i in data:\n",
    "        count += i\n",
    "    return count / len(data)\n",
    "print(one_i(data))"
   ]
  },
  {
   "cell_type": "code",
   "execution_count": 5,
   "metadata": {
    "deletable": false,
    "editable": false,
    "nbgrader": {
     "cell_type": "code",
     "checksum": "808cc5218df3df01b0303693ec8d56e5",
     "grade": true,
     "grade_id": "cell-c8d84a9e66832e49",
     "locked": true,
     "points": 1,
     "schema_version": 3,
     "solution": false,
     "task": false
    }
   },
   "outputs": [],
   "source": [
    "'''TEST CELL- DO NOT DELETE'''\n",
    "# sanity checks:\n",
    "assert one_i(data) <= np.max(data)\n",
    "assert one_i(data) >= np.min(data)"
   ]
  },
  {
   "cell_type": "markdown",
   "metadata": {
    "deletable": false,
    "editable": false,
    "nbgrader": {
     "cell_type": "markdown",
     "checksum": "46cead234477cddc20427ed0162ad648",
     "grade": false,
     "grade_id": "cell-539feb16e1c24dc8",
     "locked": true,
     "schema_version": 3,
     "solution": false,
     "task": false
    }
   },
   "source": [
    "### (ii) Calculate the sample Standard Deviation."
   ]
  },
  {
   "cell_type": "code",
   "execution_count": 13,
   "metadata": {
    "deletable": false,
    "nbgrader": {
     "cell_type": "code",
     "checksum": "53ceb27df30d7fbd60a0d30e3ef2830a",
     "grade": false,
     "grade_id": "cell-a39132967e02e09f",
     "locked": false,
     "schema_version": 3,
     "solution": true,
     "task": false
    }
   },
   "outputs": [],
   "source": [
    "def one_ii(data):\n",
    "    mean = one_i(data)\n",
    "    count = 0\n",
    "    for i in data:\n",
    "        count += (i - mean) ** 2\n",
    "    count /= (len(data))\n",
    "    count = count ** (1/2)\n",
    "    return count"
   ]
  },
  {
   "cell_type": "code",
   "execution_count": 14,
   "metadata": {},
   "outputs": [
    {
     "name": "stdout",
     "output_type": "stream",
     "text": [
      "0.4765675887706449\n"
     ]
    }
   ],
   "source": [
    "print(one_ii(data))"
   ]
  },
  {
   "cell_type": "code",
   "execution_count": 15,
   "metadata": {
    "deletable": false,
    "editable": false,
    "nbgrader": {
     "cell_type": "code",
     "checksum": "cf43f9bf3885ab1a591a91407a6ff7c5",
     "grade": true,
     "grade_id": "cell-5b307d4b6811e71e",
     "locked": true,
     "points": 1,
     "schema_version": 3,
     "solution": false,
     "task": false
    }
   },
   "outputs": [],
   "source": [
    "'''TEST CELL- DO NOT DELETE'''\n",
    "# sanity check:\n",
    "assert one_ii(data) >= 0"
   ]
  },
  {
   "cell_type": "markdown",
   "metadata": {
    "deletable": false,
    "editable": false,
    "nbgrader": {
     "cell_type": "markdown",
     "checksum": "86612716c7292479aebb7f71a4755d4f",
     "grade": false,
     "grade_id": "cell-a199c2d3eaaeabaf",
     "locked": true,
     "schema_version": 3,
     "solution": false,
     "task": false
    }
   },
   "source": [
    "### (iii) Calculate the Standard Error."
   ]
  },
  {
   "cell_type": "code",
   "execution_count": 16,
   "metadata": {
    "deletable": false,
    "nbgrader": {
     "cell_type": "code",
     "checksum": "1b1b817968531c91e70a57167ee81e55",
     "grade": false,
     "grade_id": "cell-d98d2b7fc610d222",
     "locked": false,
     "schema_version": 3,
     "solution": true,
     "task": false
    }
   },
   "outputs": [],
   "source": [
    "def one_iii(data):\n",
    "    return one_ii(data) / (len(data) ** (1/2))"
   ]
  },
  {
   "cell_type": "code",
   "execution_count": 17,
   "metadata": {},
   "outputs": [
    {
     "name": "stdout",
     "output_type": "stream",
     "text": [
      "0.13757321283189136\n"
     ]
    }
   ],
   "source": [
    "print(one_iii(data))"
   ]
  },
  {
   "cell_type": "code",
   "execution_count": 18,
   "metadata": {
    "deletable": false,
    "editable": false,
    "nbgrader": {
     "cell_type": "code",
     "checksum": "85e3157716488f00320eb0a5518bc29e",
     "grade": true,
     "grade_id": "cell-e2c186bc7293c572",
     "locked": true,
     "points": 1,
     "schema_version": 3,
     "solution": false,
     "task": false
    }
   },
   "outputs": [],
   "source": [
    "'''TEST CELL- DO NOT DELETE'''\n",
    "# sanity check:\n",
    "assert one_ii(data) >= 0"
   ]
  },
  {
   "cell_type": "markdown",
   "metadata": {
    "deletable": false,
    "editable": false,
    "nbgrader": {
     "cell_type": "markdown",
     "checksum": "5a93724bd870ef5628f05d35158fb7cb",
     "grade": false,
     "grade_id": "cell-49744f7c13a892eb",
     "locked": true,
     "schema_version": 3,
     "solution": false,
     "task": false
    }
   },
   "source": [
    "### (iv) How would you report the result?"
   ]
  },
  {
   "cell_type": "code",
   "execution_count": 19,
   "metadata": {
    "deletable": false,
    "nbgrader": {
     "cell_type": "markdown",
     "checksum": "d4deb590ff6014cfef026e94fa3edd6f",
     "grade": true,
     "grade_id": "cell-466eee4d73c04131",
     "locked": false,
     "points": 2,
     "schema_version": 3,
     "solution": true,
     "task": false
    }
   },
   "outputs": [
    {
     "data": {
      "text/plain": [
       "10.6"
      ]
     },
     "execution_count": 19,
     "metadata": {},
     "output_type": "execute_result"
    }
   ],
   "source": [
    "11.1 +- 0.1 Amps/Watts"
   ]
  },
  {
   "cell_type": "markdown",
   "metadata": {
    "deletable": false,
    "editable": false,
    "nbgrader": {
     "cell_type": "markdown",
     "checksum": "505e224fc693f9c0dfff3259747a97b5",
     "grade": false,
     "grade_id": "cell-9d6e425a0d20717a",
     "locked": true,
     "schema_version": 3,
     "solution": false,
     "task": false
    }
   },
   "source": [
    "## Question 2: Error in the error\n",
    "\n",
    "Consider a set of measurements with the standard error calculated to be $\\alpha=0.987654321$.  Here we address the question of how many significant figures should be quoted.  \n",
    "\n",
    "Required:\n",
    "<blockquote>\n",
    "\n",
    "(i) Using pandas or any other software package, make a CSV file with four columns.  The first column should be $N$, the number of measurements on which $\\alpha$ is based.  In the second column write $\\alpha$ to the nine significant figures quoted above. The third and fourth columns should be ${\\displaystyle \\alpha\\left(1-\\frac{1}{\\sqrt{2N-2}}\\right)}$    and  ${\\displaystyle \\alpha\\left(1+\\frac{1}{\\sqrt{2N-2}}\\right)}$, respectively.  As we are interested in the variation over a large dynamic range, choose values for $N$ such as 2, 3, 5, 10, 20, 30, etc. \n",
    "<bf>\n",
    "(ii) Verify the statement from Section 2.7.1 that the number of data points,  N , needs to approach a few tens of thousands before the second significant figure in the error can be quoted, i.e. when the values in the three columns become equal to the second significant figure. Use the model that you constructed in the previous part of the question and make appropiate comments using data\n",
    "<bf>\n",
    "(iii) Repeat the analysis for the case where α=0.123456789, i.e. the first significant digit of the error is 1. Make appropiate comments.\n",
    "<bf>\n",
    "(iv) How many data points must be collected before the third significant figure can be quoted?"
   ]
  },
  {
   "cell_type": "markdown",
   "metadata": {
    "deletable": false,
    "editable": false,
    "nbgrader": {
     "cell_type": "markdown",
     "checksum": "8b8739a13aa9c9f7c1cde7f0c2cbd5d2",
     "grade": false,
     "grade_id": "cell-d599e98cff358ee3",
     "locked": true,
     "points": 1,
     "schema_version": 3,
     "solution": false,
     "task": true
    }
   },
   "source": [
    "### (i) Using pandas or any other software package, make a CSV file with four columns.  The first column should be $N$, the number of measurements on which $\\alpha$ is based.  In the second column write $\\alpha$ to the nine significant figures quoted above. The third and fourth columns should be ${\\displaystyle \\alpha\\left(1-\\frac{1}{\\sqrt{2N-2}}\\right)}$    and  ${\\displaystyle \\alpha\\left(1+\\frac{1}{\\sqrt{2N-2}}\\right)}$, respectively.  As we are interested in the variation over a large dynamic range, choose values for $N$ such as 2, 3, 5, 10, 20, 30, etc. "
   ]
  },
  {
   "cell_type": "code",
   "execution_count": 20,
   "metadata": {},
   "outputs": [
    {
     "data": {
      "text/html": [
       "<div>\n",
       "<style scoped>\n",
       "    .dataframe tbody tr th:only-of-type {\n",
       "        vertical-align: middle;\n",
       "    }\n",
       "\n",
       "    .dataframe tbody tr th {\n",
       "        vertical-align: top;\n",
       "    }\n",
       "\n",
       "    .dataframe thead th {\n",
       "        text-align: right;\n",
       "    }\n",
       "</style>\n",
       "<table border=\"1\" class=\"dataframe\">\n",
       "  <thead>\n",
       "    <tr style=\"text-align: right;\">\n",
       "      <th></th>\n",
       "      <th>0</th>\n",
       "      <th>1</th>\n",
       "      <th>2</th>\n",
       "      <th>3</th>\n",
       "    </tr>\n",
       "  </thead>\n",
       "  <tbody>\n",
       "    <tr>\n",
       "      <th>0</th>\n",
       "      <td>2</td>\n",
       "      <td>0.987654</td>\n",
       "      <td>0.289277</td>\n",
       "      <td>1.686031</td>\n",
       "    </tr>\n",
       "    <tr>\n",
       "      <th>1</th>\n",
       "      <td>3</td>\n",
       "      <td>0.987654</td>\n",
       "      <td>0.493827</td>\n",
       "      <td>1.481481</td>\n",
       "    </tr>\n",
       "    <tr>\n",
       "      <th>2</th>\n",
       "      <td>5</td>\n",
       "      <td>0.987654</td>\n",
       "      <td>0.638466</td>\n",
       "      <td>1.336843</td>\n",
       "    </tr>\n",
       "    <tr>\n",
       "      <th>3</th>\n",
       "      <td>10</td>\n",
       "      <td>0.987654</td>\n",
       "      <td>0.754862</td>\n",
       "      <td>1.220447</td>\n",
       "    </tr>\n",
       "    <tr>\n",
       "      <th>4</th>\n",
       "      <td>20</td>\n",
       "      <td>0.987654</td>\n",
       "      <td>0.827436</td>\n",
       "      <td>1.147873</td>\n",
       "    </tr>\n",
       "    <tr>\n",
       "      <th>5</th>\n",
       "      <td>30</td>\n",
       "      <td>0.987654</td>\n",
       "      <td>0.857969</td>\n",
       "      <td>1.117340</td>\n",
       "    </tr>\n",
       "    <tr>\n",
       "      <th>6</th>\n",
       "      <td>100</td>\n",
       "      <td>0.987654</td>\n",
       "      <td>0.917465</td>\n",
       "      <td>1.057844</td>\n",
       "    </tr>\n",
       "  </tbody>\n",
       "</table>\n",
       "</div>"
      ],
      "text/plain": [
       "     0         1         2         3\n",
       "0    2  0.987654  0.289277  1.686031\n",
       "1    3  0.987654  0.493827  1.481481\n",
       "2    5  0.987654  0.638466  1.336843\n",
       "3   10  0.987654  0.754862  1.220447\n",
       "4   20  0.987654  0.827436  1.147873\n",
       "5   30  0.987654  0.857969  1.117340\n",
       "6  100  0.987654  0.917465  1.057844"
      ]
     },
     "execution_count": 20,
     "metadata": {},
     "output_type": "execute_result"
    }
   ],
   "source": [
    "csv = []\n",
    "value = [2, 3, 5, 10, 20, 30, 100]\n",
    "a = 0.987654321\n",
    "for i in value:\n",
    "    listTmp = []\n",
    "    listTmp.append(i)\n",
    "    listTmp.append(a)\n",
    "    listTmp.append(a * (1 - (1 / (2 * i - 2) ** 0.5)))\n",
    "    listTmp.append(a * (1 + (1 / (2 * i - 2) ** 0.5)))\n",
    "    csv.append(listTmp)\n",
    "\n",
    "pd.DataFrame(csv)"
   ]
  },
  {
   "cell_type": "markdown",
   "metadata": {
    "deletable": false,
    "editable": false,
    "nbgrader": {
     "cell_type": "markdown",
     "checksum": "99aac8769d8631012737cc92cae77fe9",
     "grade": false,
     "grade_id": "cell-5993b07c1f78a9e5",
     "locked": true,
     "points": 1,
     "schema_version": 3,
     "solution": false,
     "task": true
    }
   },
   "source": [
    "### (ii) Verify the statement from Section 2.7.1 that the number of data points,  N , needs to approach a few tens of thousands before the second significant figure in the error can be quoted, i.e. when the values in the three columns become equal to the second significant figure. Use the model that you constructed in the previous part of the question and make appropiate comments using data"
   ]
  },
  {
   "cell_type": "code",
   "execution_count": 21,
   "metadata": {},
   "outputs": [
    {
     "data": {
      "text/html": [
       "<div>\n",
       "<style scoped>\n",
       "    .dataframe tbody tr th:only-of-type {\n",
       "        vertical-align: middle;\n",
       "    }\n",
       "\n",
       "    .dataframe tbody tr th {\n",
       "        vertical-align: top;\n",
       "    }\n",
       "\n",
       "    .dataframe thead th {\n",
       "        text-align: right;\n",
       "    }\n",
       "</style>\n",
       "<table border=\"1\" class=\"dataframe\">\n",
       "  <thead>\n",
       "    <tr style=\"text-align: right;\">\n",
       "      <th></th>\n",
       "      <th>0</th>\n",
       "      <th>1</th>\n",
       "      <th>2</th>\n",
       "      <th>3</th>\n",
       "    </tr>\n",
       "  </thead>\n",
       "  <tbody>\n",
       "    <tr>\n",
       "      <th>0</th>\n",
       "      <td>10</td>\n",
       "      <td>0.987654</td>\n",
       "      <td>0.754862</td>\n",
       "      <td>1.220447</td>\n",
       "    </tr>\n",
       "    <tr>\n",
       "      <th>1</th>\n",
       "      <td>100</td>\n",
       "      <td>0.987654</td>\n",
       "      <td>0.917465</td>\n",
       "      <td>1.057844</td>\n",
       "    </tr>\n",
       "    <tr>\n",
       "      <th>2</th>\n",
       "      <td>1000</td>\n",
       "      <td>0.987654</td>\n",
       "      <td>0.965559</td>\n",
       "      <td>1.009750</td>\n",
       "    </tr>\n",
       "    <tr>\n",
       "      <th>3</th>\n",
       "      <td>10000</td>\n",
       "      <td>0.987654</td>\n",
       "      <td>0.980670</td>\n",
       "      <td>0.994638</td>\n",
       "    </tr>\n",
       "    <tr>\n",
       "      <th>4</th>\n",
       "      <td>100000</td>\n",
       "      <td>0.987654</td>\n",
       "      <td>0.985446</td>\n",
       "      <td>0.989863</td>\n",
       "    </tr>\n",
       "    <tr>\n",
       "      <th>5</th>\n",
       "      <td>1000000</td>\n",
       "      <td>0.987654</td>\n",
       "      <td>0.986956</td>\n",
       "      <td>0.988353</td>\n",
       "    </tr>\n",
       "    <tr>\n",
       "      <th>6</th>\n",
       "      <td>10000000</td>\n",
       "      <td>0.987654</td>\n",
       "      <td>0.987433</td>\n",
       "      <td>0.987875</td>\n",
       "    </tr>\n",
       "  </tbody>\n",
       "</table>\n",
       "</div>"
      ],
      "text/plain": [
       "          0         1         2         3\n",
       "0        10  0.987654  0.754862  1.220447\n",
       "1       100  0.987654  0.917465  1.057844\n",
       "2      1000  0.987654  0.965559  1.009750\n",
       "3     10000  0.987654  0.980670  0.994638\n",
       "4    100000  0.987654  0.985446  0.989863\n",
       "5   1000000  0.987654  0.986956  0.988353\n",
       "6  10000000  0.987654  0.987433  0.987875"
      ]
     },
     "execution_count": 21,
     "metadata": {},
     "output_type": "execute_result"
    }
   ],
   "source": [
    "csv = []\n",
    "value = [10, 100, 1000, 10000, 100000, 1000000, 10000000]\n",
    "a = 0.987654321\n",
    "for i in value:\n",
    "    listTmp = []\n",
    "    listTmp.append(i)\n",
    "    listTmp.append(a)\n",
    "    listTmp.append(a * (1 - (1 / (2 * i - 2) ** 0.5)))\n",
    "    listTmp.append(a * (1 + (1 / (2 * i - 2) ** 0.5)))\n",
    "    csv.append(listTmp)\n",
    "\n",
    "pd.DataFrame(csv)"
   ]
  },
  {
   "cell_type": "markdown",
   "metadata": {},
   "source": [
    "We need 10 thousand to approach the second significant figure"
   ]
  },
  {
   "cell_type": "markdown",
   "metadata": {
    "deletable": false,
    "editable": false,
    "nbgrader": {
     "cell_type": "markdown",
     "checksum": "c849acec52b7f6e6ce18c095e04d286c",
     "grade": false,
     "grade_id": "cell-f75cd98f6880a76d",
     "locked": true,
     "schema_version": 3,
     "solution": false,
     "task": false
    }
   },
   "source": [
    "### (iii) Repeat the analysis for the case where  α=0.123456789, i.e. the first significant digit of the error is 1. Make appropiate comments."
   ]
  },
  {
   "cell_type": "code",
   "execution_count": 22,
   "metadata": {},
   "outputs": [
    {
     "data": {
      "text/html": [
       "<div>\n",
       "<style scoped>\n",
       "    .dataframe tbody tr th:only-of-type {\n",
       "        vertical-align: middle;\n",
       "    }\n",
       "\n",
       "    .dataframe tbody tr th {\n",
       "        vertical-align: top;\n",
       "    }\n",
       "\n",
       "    .dataframe thead th {\n",
       "        text-align: right;\n",
       "    }\n",
       "</style>\n",
       "<table border=\"1\" class=\"dataframe\">\n",
       "  <thead>\n",
       "    <tr style=\"text-align: right;\">\n",
       "      <th></th>\n",
       "      <th>0</th>\n",
       "      <th>1</th>\n",
       "      <th>2</th>\n",
       "      <th>3</th>\n",
       "    </tr>\n",
       "  </thead>\n",
       "  <tbody>\n",
       "    <tr>\n",
       "      <th>0</th>\n",
       "      <td>10</td>\n",
       "      <td>0.123457</td>\n",
       "      <td>0.094358</td>\n",
       "      <td>0.152556</td>\n",
       "    </tr>\n",
       "    <tr>\n",
       "      <th>1</th>\n",
       "      <td>100</td>\n",
       "      <td>0.123457</td>\n",
       "      <td>0.114683</td>\n",
       "      <td>0.132230</td>\n",
       "    </tr>\n",
       "    <tr>\n",
       "      <th>2</th>\n",
       "      <td>1000</td>\n",
       "      <td>0.123457</td>\n",
       "      <td>0.120695</td>\n",
       "      <td>0.126219</td>\n",
       "    </tr>\n",
       "    <tr>\n",
       "      <th>3</th>\n",
       "      <td>10000</td>\n",
       "      <td>0.123457</td>\n",
       "      <td>0.122584</td>\n",
       "      <td>0.124330</td>\n",
       "    </tr>\n",
       "    <tr>\n",
       "      <th>4</th>\n",
       "      <td>100000</td>\n",
       "      <td>0.123457</td>\n",
       "      <td>0.123181</td>\n",
       "      <td>0.123733</td>\n",
       "    </tr>\n",
       "  </tbody>\n",
       "</table>\n",
       "</div>"
      ],
      "text/plain": [
       "        0         1         2         3\n",
       "0      10  0.123457  0.094358  0.152556\n",
       "1     100  0.123457  0.114683  0.132230\n",
       "2    1000  0.123457  0.120695  0.126219\n",
       "3   10000  0.123457  0.122584  0.124330\n",
       "4  100000  0.123457  0.123181  0.123733"
      ]
     },
     "execution_count": 22,
     "metadata": {},
     "output_type": "execute_result"
    }
   ],
   "source": [
    "csv = []\n",
    "value = [10, 100, 1000, 10000, 100000]\n",
    "a = 0.123456789\n",
    "for i in value:\n",
    "    listTmp = []\n",
    "    listTmp.append(i)\n",
    "    listTmp.append(a)\n",
    "    listTmp.append(a * (1 - (1 / (2 * i - 2) ** 0.5)))\n",
    "    listTmp.append(a * (1 + (1 / (2 * i - 2) ** 0.5)))\n",
    "    csv.append(listTmp)\n",
    "\n",
    "pd.DataFrame(csv)"
   ]
  },
  {
   "cell_type": "markdown",
   "metadata": {
    "deletable": false,
    "nbgrader": {
     "cell_type": "markdown",
     "checksum": "d12b071091002c85867ba080abda1e1a",
     "grade": true,
     "grade_id": "cell-2a6f2602c2bf313b",
     "locked": false,
     "points": 2,
     "schema_version": 3,
     "solution": true,
     "task": false
    }
   },
   "source": [
    "We need 100 data to approach the first significant digit"
   ]
  },
  {
   "cell_type": "markdown",
   "metadata": {
    "deletable": false,
    "editable": false,
    "nbgrader": {
     "cell_type": "markdown",
     "checksum": "1fe325c0df9f6bfcebb95381e4bfdfa4",
     "grade": false,
     "grade_id": "cell-777db7dee58f70c3",
     "locked": true,
     "schema_version": 3,
     "solution": false,
     "task": false
    }
   },
   "source": [
    "### (iv) How many data points must be collected before the third significant figure can be quoted?"
   ]
  },
  {
   "cell_type": "markdown",
   "metadata": {
    "deletable": false,
    "nbgrader": {
     "cell_type": "markdown",
     "checksum": "c00f8163f55fcdfccbf88b627f12fb63",
     "grade": true,
     "grade_id": "cell-16c1501b47df208b",
     "locked": false,
     "points": 1,
     "schema_version": 3,
     "solution": true,
     "task": false
    }
   },
   "source": [
    "For the a=0.987654321, we need 10 million to approach the third significant digit.\n",
    "For the a=0.123456789, we need 100 thousand to approach the third significant digit."
   ]
  },
  {
   "cell_type": "markdown",
   "metadata": {
    "deletable": false,
    "editable": false,
    "nbgrader": {
     "cell_type": "markdown",
     "checksum": "88560496c95a4d4a9959095a3e2e7309",
     "grade": false,
     "grade_id": "cell-c835d3c4ea562667",
     "locked": true,
     "schema_version": 3,
     "solution": false,
     "task": false
    }
   },
   "source": [
    "## Question 3: Confidence limits for a Gaussian Distribution\n",
    "\n",
    "|Centred on Mean | Measurements within range | Measurements outside range |\n",
    "| --- | --- | --- |\n",
    "| $\\pm\\sigma$ | 68% | 32% |\n",
    "| $\\pm1.65\\sigma$ | 90% | 10% |\n",
    "| $\\pm2\\sigma$ | 95% | 5% |\n",
    "| $\\pm2.58\\sigma$ | 99% | 1% |\n",
    "| $\\pm3\\sigma$ | 99.7% | 0.3% |\n",
    "\n",
    "(i) Verify the results of the above table for the fraction of the data which lies within different ranges of a Gaussian probability distribution function. \n",
    "<bf>\n",
    "(ii) What fraction of the data lies outside the following ranges from the mean? \n",
    "<blockquote>\n",
    "<bf>\n",
    "(a) $\\pm4\\sigma$ \n",
    "<bf>\n",
    "(b) $\\pm5\\sigma$.  \n",
    "</blockquote>\n",
    "\n",
    "(iii) What is the (symmetric) range within which the following fractions of the data lie, leaving your answer in terms of $\\sigma$? \n",
    "<blockquote>\n",
    "<bf>\n",
    "(a) 50% \n",
    "<bf>\n",
    "(b) 99.9%."
   ]
  },
  {
   "cell_type": "markdown",
   "metadata": {
    "deletable": false,
    "editable": false,
    "nbgrader": {
     "cell_type": "markdown",
     "checksum": "7784359f763723d29e91a95caa10ebc4",
     "grade": false,
     "grade_id": "cell-6b9340cab837f845",
     "locked": true,
     "schema_version": 3,
     "solution": false,
     "task": false
    }
   },
   "source": [
    "### (i) Verify the results of the above table for the fraction of the data which lies within different ranges of a Gaussian probability distribution function. You must return your answers as an ARRAY OF PERCENTAGES."
   ]
  },
  {
   "cell_type": "code",
   "execution_count": 84,
   "metadata": {
    "deletable": false,
    "nbgrader": {
     "cell_type": "code",
     "checksum": "9ffec16775cc3868a60aee09c55b53b6",
     "grade": false,
     "grade_id": "cell-cb3b3ea0dd967211",
     "locked": false,
     "schema_version": 3,
     "solution": true,
     "task": false
    }
   },
   "outputs": [
    {
     "name": "stdout",
     "output_type": "stream",
     "text": [
      "[0.6766, 0.8982, 0.9529, 0.9906, 0.9969]\n"
     ]
    }
   ],
   "source": [
    "def three_i():\n",
    "    '''Return the measurements in range as an array. '''\n",
    "    u = 2\n",
    "    a = 0.1\n",
    "    value = [1, 1.65, 2, 2.58, 3]\n",
    "    distribution = np.random.normal(u, a, 10000)\n",
    "    measurements_in_range = []\n",
    "    for i in value:\n",
    "        count = 0\n",
    "        for num in distribution:\n",
    "            if (u - a * i) < num < (u + a * i):\n",
    "                count += 1\n",
    "        count /= len(distribution)\n",
    "        measurements_in_range.append(count)\n",
    "    \n",
    "    # YOUR CODE HERE\n",
    "    return(measurements_in_range)\n",
    "\n",
    "print(three_i())"
   ]
  },
  {
   "cell_type": "code",
   "execution_count": 73,
   "metadata": {
    "deletable": false,
    "editable": false,
    "nbgrader": {
     "cell_type": "code",
     "checksum": "46cc145c7233c00cb4068ce8f9c13e00",
     "grade": true,
     "grade_id": "cell-ef65dc2928c4f4e3",
     "locked": true,
     "points": 1,
     "schema_version": 3,
     "solution": false,
     "task": false
    }
   },
   "outputs": [],
   "source": [
    "'''TEST CELL- DO NOT DELETE'''\n",
    "# sanity check\n",
    "assert type(three_i()) == list or type(three_i()) ==np.ndarray"
   ]
  },
  {
   "cell_type": "markdown",
   "metadata": {
    "deletable": false,
    "editable": false,
    "nbgrader": {
     "cell_type": "markdown",
     "checksum": "de0566d36837c1d325d9632c461d57b8",
     "grade": false,
     "grade_id": "cell-556fd501de70283d",
     "locked": true,
     "schema_version": 3,
     "solution": false,
     "task": false
    }
   },
   "source": [
    "### (ii) What fraction of the data lies outside the following ranges from the mean? You must return your answer as a PERCENTAGE.\n",
    "<blockquote>\n",
    "<bf>\n",
    "(a) $\\pm4\\sigma$ \n",
    "    \n",
    "<bf>\n",
    "(b) $\\pm5\\sigma$.  \n",
    "</blockquote>\n"
   ]
  },
  {
   "cell_type": "code",
   "execution_count": 78,
   "metadata": {
    "deletable": false,
    "nbgrader": {
     "cell_type": "code",
     "checksum": "52b8abb3ec44b83bbb3ba1d5e2e6fd5a",
     "grade": false,
     "grade_id": "cell-b7cac0e7b716f636",
     "locked": false,
     "schema_version": 3,
     "solution": true,
     "task": false
    }
   },
   "outputs": [
    {
     "name": "stdout",
     "output_type": "stream",
     "text": [
      "99.993100%\n",
      "99.999900%\n"
     ]
    }
   ],
   "source": [
    "def three_iia():\n",
    "    '''Return the fraction of measurements outside the range as a PERCENTAGE'''\n",
    "    value = 4\n",
    "    u = 2\n",
    "    a = 0.1\n",
    "    distribution = np.random.normal(u, a, 1000000)\n",
    "    count = 0\n",
    "    for num in distribution:\n",
    "        if (u - a * value) < num < (u + a * value):\n",
    "            count += 1\n",
    "    count /= len(distribution)\n",
    "    measurements_in_range = count\n",
    "    return measurements_in_range\n",
    "\n",
    "def three_iib():\n",
    "    '''Return the fraction of measurements outside the range as a PERCENTAGE'''\n",
    "    value = 5\n",
    "    u = 2\n",
    "    a = 0.1\n",
    "    distribution = np.random.normal(u, a, 1000000)\n",
    "    count = 0\n",
    "    for num in distribution:\n",
    "        if (u - a * value) < num < (u + a * value):\n",
    "            count += 1\n",
    "    count /= len(distribution)\n",
    "    measurements_in_range = count\n",
    "    return measurements_in_range\n",
    "    \n",
    "print(\"%f%%\" % (three_iia() * 100))\n",
    "print(\"%f%%\" % (three_iib() * 100))"
   ]
  },
  {
   "cell_type": "code",
   "execution_count": 41,
   "metadata": {
    "deletable": false,
    "editable": false,
    "nbgrader": {
     "cell_type": "code",
     "checksum": "a3f8da271bf6e897ba0d1f3d7770c88f",
     "grade": true,
     "grade_id": "cell-d42c99dc6210d903",
     "locked": true,
     "points": 1,
     "schema_version": 3,
     "solution": false,
     "task": false
    }
   },
   "outputs": [],
   "source": [
    "'''TEST CELL- DO NOT DELETE'''\n",
    "# sanity checks:\n",
    "assert three_iia() >= 0.0\n",
    "assert three_iia() <= 1.0"
   ]
  },
  {
   "cell_type": "code",
   "execution_count": 27,
   "metadata": {
    "deletable": false,
    "editable": false,
    "nbgrader": {
     "cell_type": "code",
     "checksum": "d1edad8ed70fbf5fae3eb1425a487649",
     "grade": true,
     "grade_id": "cell-380c9ec897a92b29",
     "locked": true,
     "points": 1,
     "schema_version": 3,
     "solution": false,
     "task": false
    }
   },
   "outputs": [],
   "source": [
    "'''TEST CELL- DO NOT DELETE'''\n",
    "# sanity checks:\n",
    "assert three_iib() >= 0.0\n",
    "assert three_iib() <= 1.0"
   ]
  },
  {
   "cell_type": "markdown",
   "metadata": {
    "deletable": false,
    "editable": false,
    "nbgrader": {
     "cell_type": "markdown",
     "checksum": "379de314131efdd2119b809dd58869a4",
     "grade": false,
     "grade_id": "cell-94af1f6921d1ba1b",
     "locked": true,
     "schema_version": 3,
     "solution": false,
     "task": false
    }
   },
   "source": [
    "### (iii) What is the (symmetric) range within which the following fractions of the data lie, leaving your answer in terms of $\\sigma$?\n",
    "<blockquote>\n",
    "<bf>\n",
    "(a) 50% \n",
    "<bf>\n",
    "(b) 99.9%."
   ]
  },
  {
   "cell_type": "code",
   "execution_count": 28,
   "metadata": {
    "deletable": false,
    "nbgrader": {
     "cell_type": "code",
     "checksum": "04276ac126736ddebaf838d309c75e26",
     "grade": false,
     "grade_id": "cell-ea06e70d0156df5d",
     "locked": false,
     "schema_version": 3,
     "solution": true,
     "task": false
    }
   },
   "outputs": [
    {
     "name": "stdout",
     "output_type": "stream",
     "text": [
      "0.6528022319580629\n",
      "3.9531174657100365\n",
      "0.9888525509296557\n"
     ]
    }
   ],
   "source": [
    "def three_iiia():\n",
    "    u = 2\n",
    "    a = 0.1\n",
    "    distribution = np.random.normal(u, a, 10000)\n",
    "    a_new_50 = np.percentile(distribution, 25)\n",
    "    answer_50 = (u - a_new_50) / a\n",
    "    return answer_50\n",
    "\n",
    "def three_iiib():\n",
    "    '''Return the multiple of sigma'''\n",
    "    u = 2\n",
    "    a = 0.1\n",
    "    distribution = np.random.normal(u, a, 1000000)\n",
    "    a_new_999 = np.percentile(distribution, 0.005)\n",
    "    answer_999 = (u - a_new_999) / a\n",
    "    return answer_999\n",
    "\n",
    "print(three_iiia())\n",
    "print(three_iiib())"
   ]
  },
  {
   "cell_type": "code",
   "execution_count": 29,
   "metadata": {
    "deletable": false,
    "editable": false,
    "nbgrader": {
     "cell_type": "code",
     "checksum": "c3d41d0990e894f75326ad21190a96e3",
     "grade": true,
     "grade_id": "cell-9c6fe6f7619bc07e",
     "locked": true,
     "points": 1,
     "schema_version": 3,
     "solution": false,
     "task": false
    }
   },
   "outputs": [],
   "source": [
    "'''TEST CELL- DO NOT DELETE'''\n",
    "# sanity checks:\n",
    "assert three_iiia() >= 0.0"
   ]
  },
  {
   "cell_type": "code",
   "execution_count": 30,
   "metadata": {
    "deletable": false,
    "editable": false,
    "nbgrader": {
     "cell_type": "code",
     "checksum": "68333e0e1532942716efc68fefbdf2a8",
     "grade": true,
     "grade_id": "cell-cc5b8aa06feca6d8",
     "locked": true,
     "points": 1,
     "schema_version": 3,
     "solution": false,
     "task": false
    }
   },
   "outputs": [],
   "source": [
    "'''TEST CELL- DO NOT DELETE'''\n",
    "# sanity check\n",
    "assert three_iiib() >= 0.0"
   ]
  },
  {
   "cell_type": "markdown",
   "metadata": {},
   "source": [
    "## Question 4: Identifying a Potential Outlier\n",
    "\n",
    "Seven successive measurements of the charge stored on a capacitor (all in $\\mu C$) are: \n",
    "<bf>\n",
    "45.7, 53.2, 48.4, 45.1, 51.4, 62.1 and 49.3. \n",
    "<bf>\n",
    "The sixth reading appears anomalously large. \n",
    "\n",
    "Required:\n",
    "<blockquote>\n",
    "(i) Apply Chauvenet’s criterion to ascertain whether this data point should be rejected. In the comment, you must state 'ACCEPT' or 'REJECT'. \n",
    "</blockquote>\n",
    "<blockquote>\n",
    "(ii) Having decided whether to keep 6 or 7 data points, calculate:\n",
    "<bf>\n",
    "<blockquote>\n",
    "(a) The Mean\n",
    "</blockquote>\n",
    "<bf>\n",
    "<blockquote>\n",
    "(b) Standard Deviation\n",
    "</blockquote>\n",
    "<bf>\n",
    "<blockquote>\n",
    "(c) Error of the Charge."
   ]
  },
  {
   "cell_type": "markdown",
   "metadata": {
    "deletable": false,
    "editable": false,
    "nbgrader": {
     "cell_type": "markdown",
     "checksum": "45a577add978f832cfeed6362d2f6cb8",
     "grade": false,
     "grade_id": "cell-7b14766c8e43ccd0",
     "locked": true,
     "schema_version": 3,
     "solution": false,
     "task": false
    }
   },
   "source": [
    "### (i) Apply Chauvenet’s criterion to ascertain whether this data point should be rejected. In the comment, you must state 'ACCEPT' or 'REJECT'. "
   ]
  },
  {
   "cell_type": "code",
   "execution_count": 86,
   "metadata": {
    "deletable": false,
    "nbgrader": {
     "cell_type": "code",
     "checksum": "bf2facc5daa42d3ee152307c0968b002",
     "grade": false,
     "grade_id": "cell-d57a8bde9200f07a",
     "locked": false,
     "schema_version": 3,
     "solution": true,
     "task": false
    }
   },
   "outputs": [],
   "source": [
    "data_points = [45.7, 53.2, 48.4, 45.1, 51.4, 62.1, 49.3]\n",
    "\n",
    "def four_i():\n",
    "    '''Your function must return the probability of an outlier, n_out and your comment to ACCEPT or REJECT'''\n",
    "    probability_outlier = 0\n",
    "    n_out = 0\n",
    "    comment = ''\n",
    "    # YOUR CODE HERE\n",
    "    mean_origin = one_i(data_points)\n",
    "    standard_deviation_origin = one_ii(data_points)\n",
    "    standard_error_origin = one_iii(data_points)\n",
    "    \n",
    "    value = []\n",
    "    for i in range(len(data_points)):\n",
    "        value.append(abs(data_points[i] - mean_origin) / standard_deviation_origin)\n",
    "        \n",
    "    distribution = np.random.normal(mean_origin, standard_deviation_origin, 100000)\n",
    "    measurements_in_range = []\n",
    "    for i in value:\n",
    "        count = 0\n",
    "        for num in distribution:\n",
    "            if (mean_origin - standard_deviation_origin * i) < num < (mean_origin + standard_deviation_origin * i):\n",
    "                count += 1\n",
    "        count /= len(distribution)\n",
    "        measurements_in_range.append(count)\n",
    "    \n",
    "    # calculate the most highest probability of all elemengt being the outlier \n",
    "    p_0 = 1\n",
    "    for p in range(len(measurements_in_range)):\n",
    "        if p_0 > 1 - measurements_in_range[p]:\n",
    "            p_0 = 1 - measurements_in_range[p]\n",
    "            outlier_index = p\n",
    "            \n",
    "    n_out = p_0 * len(data_points)\n",
    "    probability_outlier = p_0\n",
    "    \n",
    "    # calculate the probability of every element being the outlier \n",
    "    all_probability_outlier = []\n",
    "    for p in measurements_in_range:\n",
    "        all_probability_outlier.append((1 - p) * len(data_points))\n",
    "    \n",
    "    if n_out < 0.5:\n",
    "        comment = \"REJECT\"\n",
    "    else:\n",
    "        comment = \"ACCEPT\"\n",
    "    \n",
    "    return(probability_outlier,n_out,comment)"
   ]
  },
  {
   "cell_type": "code",
   "execution_count": 87,
   "metadata": {
    "deletable": false,
    "editable": false,
    "nbgrader": {
     "cell_type": "code",
     "checksum": "4159f6356eb2a0872beb4a5162e64f07",
     "grade": true,
     "grade_id": "cell-cbccc601f98153fe",
     "locked": true,
     "points": 2,
     "schema_version": 3,
     "solution": false,
     "task": false
    }
   },
   "outputs": [],
   "source": [
    "'''TEST CELL- DO NOT DELETE'''\n",
    "# sanity check\n",
    "test = four_i()\n",
    "assert type(test[0]) == float\n",
    "assert type(test[1]) == float\n",
    "assert type(test[2]) == str"
   ]
  },
  {
   "cell_type": "markdown",
   "metadata": {
    "deletable": false,
    "editable": false,
    "nbgrader": {
     "cell_type": "markdown",
     "checksum": "ddc9eeecacb1e1481472956be411fd44",
     "grade": false,
     "grade_id": "cell-5414540ba84410ed",
     "locked": true,
     "schema_version": 3,
     "solution": false,
     "task": false
    }
   },
   "source": [
    "### (iia) Having decided whether to keep 6 or 7 datapoints, calculate the mean."
   ]
  },
  {
   "cell_type": "code",
   "execution_count": 36,
   "metadata": {
    "deletable": false,
    "nbgrader": {
     "cell_type": "code",
     "checksum": "04a19239276fa7be0c28a72dec5cea98",
     "grade": false,
     "grade_id": "cell-57df2747e1fa2468",
     "locked": false,
     "schema_version": 3,
     "solution": true,
     "task": false
    }
   },
   "outputs": [],
   "source": [
    "def four_iia():\n",
    "    new_data_points = []\n",
    "    data_points = [45.7, 53.2, 48.4, 45.1, 51.4, 62.1, 49.3]\n",
    "    for i in range(len(data_points)):\n",
    "        if (i != 5):\n",
    "            new_data_points.append(data_points[i])\n",
    "    return one_i(new_data_points)\n",
    "    # YOUR CODE HERE"
   ]
  },
  {
   "cell_type": "code",
   "execution_count": 37,
   "metadata": {
    "deletable": false,
    "editable": false,
    "nbgrader": {
     "cell_type": "code",
     "checksum": "e2d7607d9e318252ff800090ce51be04",
     "grade": true,
     "grade_id": "cell-c5eefbd8840abd9e",
     "locked": true,
     "points": 1,
     "schema_version": 3,
     "solution": false,
     "task": false
    }
   },
   "outputs": [
    {
     "name": "stdout",
     "output_type": "stream",
     "text": [
      "48.85\n"
     ]
    }
   ],
   "source": [
    "'''TEST CELL- DO NOT DELETE'''\n",
    "# sanity check:\n",
    "assert four_iia() > 0.0"
   ]
  },
  {
   "cell_type": "markdown",
   "metadata": {
    "deletable": false,
    "editable": false,
    "nbgrader": {
     "cell_type": "markdown",
     "checksum": "6c69a038b7be64d53d469805b078049b",
     "grade": false,
     "grade_id": "cell-441fa0b8a14d768d",
     "locked": true,
     "schema_version": 3,
     "solution": false,
     "task": false
    }
   },
   "source": [
    "### (iib) Having decided whether to keep 6 or 7 datapoints, calculate the standard deviation."
   ]
  },
  {
   "cell_type": "code",
   "execution_count": null,
   "metadata": {
    "deletable": false,
    "nbgrader": {
     "cell_type": "code",
     "checksum": "b6cfa6b9c874f33b52d059bac86d5682",
     "grade": false,
     "grade_id": "cell-c516a3dbbe1b564d",
     "locked": false,
     "schema_version": 3,
     "solution": true,
     "task": false
    }
   },
   "outputs": [],
   "source": [
    "def four_iib():\n",
    "    new_data_points = []\n",
    "    data_points = [45.7, 53.2, 48.4, 45.1, 51.4, 62.1, 49.3]\n",
    "    for i in range(len(data_points)):\n",
    "        if (i != 5):\n",
    "            new_data_points.append(data_points[i])\n",
    "    return one_ii(new_data_points)\n",
    "    # YOUR CODE HERE"
   ]
  },
  {
   "cell_type": "code",
   "execution_count": null,
   "metadata": {
    "deletable": false,
    "editable": false,
    "nbgrader": {
     "cell_type": "code",
     "checksum": "3389aa1f3901fb87ae38b27a1db2ecf9",
     "grade": true,
     "grade_id": "cell-e20d058c1f4f740b",
     "locked": true,
     "points": 1,
     "schema_version": 3,
     "solution": false,
     "task": false
    }
   },
   "outputs": [],
   "source": [
    "'''TEST CELL- DO NOT DELETE'''\n",
    "assert four_iib() > 0.0"
   ]
  },
  {
   "cell_type": "markdown",
   "metadata": {
    "deletable": false,
    "editable": false,
    "nbgrader": {
     "cell_type": "markdown",
     "checksum": "acbaa8661cd875df57b01c0aa4622c5a",
     "grade": false,
     "grade_id": "cell-6f50253083fc8efb",
     "locked": true,
     "schema_version": 3,
     "solution": false,
     "task": false
    }
   },
   "source": [
    "### (iic) Having decided whether to keep 6 or 7 datapoints, calculate the standard error."
   ]
  },
  {
   "cell_type": "code",
   "execution_count": 38,
   "metadata": {
    "deletable": false,
    "nbgrader": {
     "cell_type": "code",
     "checksum": "ea1943fb57a54d9398e9a16dfebc0840",
     "grade": false,
     "grade_id": "cell-72bdab1dc4e58cb5",
     "locked": false,
     "schema_version": 3,
     "solution": true,
     "task": false
    }
   },
   "outputs": [],
   "source": [
    "def four_iic():\n",
    "    '''Your function should return the standard error'''\n",
    "    new_data_points = []\n",
    "    data_points = [45.7, 53.2, 48.4, 45.1, 51.4, 62.1, 49.3]\n",
    "    for i in range(len(data_points)):\n",
    "        if (i != 5):\n",
    "            new_data_points.append(data_points[i])\n",
    "    return one_iii(new_data_points)"
   ]
  },
  {
   "cell_type": "code",
   "execution_count": 39,
   "metadata": {
    "deletable": false,
    "editable": false,
    "nbgrader": {
     "cell_type": "code",
     "checksum": "770f4efc2c94c1f14ddffad3773e3ca2",
     "grade": true,
     "grade_id": "cell-dddf086593ffbb44",
     "locked": true,
     "points": 1,
     "schema_version": 3,
     "solution": false,
     "task": false
    }
   },
   "outputs": [],
   "source": [
    "'''TEST CELL- DO NOT DELETE'''\n",
    "# sanity check:\n",
    "assert four_iic() > 0.0"
   ]
  },
  {
   "cell_type": "markdown",
   "metadata": {
    "deletable": false,
    "editable": false,
    "nbgrader": {
     "cell_type": "markdown",
     "checksum": "fd5e695a99dbfbd8afc49a51b37eeb7f",
     "grade": false,
     "grade_id": "cell-a152b676ad381ebc",
     "locked": true,
     "schema_version": 3,
     "solution": false,
     "task": false
    }
   },
   "source": [
    "## Question 5: Poisson and Gaussian\n",
    "\n",
    "Required:\n",
    "<bf>\n",
    "<blockquote>\n",
    "(i) Plot a histogram of a Poisson distribution with mean 35.  \n",
    "<bf>\n",
    "</blockquote>\n",
    "<blockquote>\n",
    "(ii) Using the same axes plot the continuous function of a Gaussian with a mean of 35, and standard deviation $\\sqrt{35}$.  \n",
    "</blockquote>\n",
    "<bf>\n",
    "<blockquote>\n",
    "(iii) Comment on the similarities and differences between the distributions."
   ]
  },
  {
   "cell_type": "markdown",
   "metadata": {
    "deletable": false,
    "editable": false,
    "nbgrader": {
     "cell_type": "markdown",
     "checksum": "d602e202596fb8f069aa09f1421e7efe",
     "grade": false,
     "grade_id": "cell-15b2117e9f2f7163",
     "locked": true,
     "schema_version": 3,
     "solution": false,
     "task": false
    }
   },
   "source": [
    "### (i) Plot a histogram of a Poisson distribution with mean 35.  \n",
    "<bf>\n",
    "### (ii) Using the same axes plot the continuous function of a Gaussian with a mean of 35, and standard deviation $\\sqrt{35}$. "
   ]
  },
  {
   "cell_type": "code",
   "execution_count": 7,
   "metadata": {
    "deletable": false,
    "nbgrader": {
     "cell_type": "code",
     "checksum": "d411a6a22c3661e3021ec2422c8ef273",
     "grade": true,
     "grade_id": "cell-0426f30beebbbf0a",
     "locked": false,
     "points": 3,
     "schema_version": 3,
     "solution": true,
     "task": false
    }
   },
   "outputs": [
    {
     "data": {
      "image/png": "[encoded data removed]",
      "text/plain": [
       "<Figure size 432x288 with 1 Axes>"
      ]
     },
     "metadata": {},
     "output_type": "display_data"
    },
    {
     "data": {
      "image/png": "[encoded data removed]",
      "text/plain": [
       "<Figure size 432x288 with 1 Axes>"
      ]
     },
     "metadata": {},
     "output_type": "display_data"
    }
   ],
   "source": [
    "def five_i_and_ii():\n",
    "    u = 35\n",
    "    a = 35 ** 0.5\n",
    "    poisson_distribution = np.random.poisson(u, 10000)\n",
    "    gaussian_distribution = np.random.normal(u, a, 10000)\n",
    "    plt.title(\"poisson distribution\")\n",
    "    plt.xlabel(\"X\")\n",
    "    plt.hist(poisson_distribution, 20)\n",
    "    plt.show()\n",
    "    plt.title(\"gaussian distribution\")\n",
    "    plt.xlabel(\"X\")\n",
    "    plt.hist(gaussian_distribution, 20)\n",
    "    plt.show()\n",
    "\n",
    "five_i_and_ii()"
   ]
  },
  {
   "cell_type": "markdown",
   "metadata": {
    "deletable": false,
    "editable": false,
    "nbgrader": {
     "cell_type": "markdown",
     "checksum": "e670d8324b0291a381638563cc07239d",
     "grade": false,
     "grade_id": "cell-5fa38a2ed1140bbb",
     "locked": true,
     "schema_version": 3,
     "solution": false,
     "task": false
    }
   },
   "source": [
    "### (iii) Comment on the similarities and differences between the distributions."
   ]
  },
  {
   "cell_type": "markdown",
   "metadata": {
    "deletable": false,
    "nbgrader": {
     "cell_type": "markdown",
     "checksum": "d86bccb99bcc0c294307a1f430539ae7",
     "grade": true,
     "grade_id": "cell-9806cc011bb8f9fa",
     "locked": false,
     "points": 2,
     "schema_version": 3,
     "solution": true,
     "task": false
    }
   },
   "source": [
    "Similarities:\n",
    "the hist image they show is quite similar\n",
    "\n",
    "differences:\n",
    "possion distribution is constructed by discrete value, but the Gaussian is not. Possion is skewed, however Gaussian is uniform."
   ]
  },
  {
   "cell_type": "markdown",
   "metadata": {
    "deletable": false,
    "editable": false,
    "nbgrader": {
     "cell_type": "markdown",
     "checksum": "bef40f5f65e02ca17cdfdfab0fe5af53",
     "grade": false,
     "grade_id": "cell-3d52d5b0d0b4c916",
     "locked": true,
     "schema_version": 3,
     "solution": false,
     "task": false
    }
   },
   "source": [
    "## Question 6: Bumps that go missing\n",
    "\n",
    "(Some of this text is from a Physics World article: http://physicsworld.com/cws/article/news/2016/apr/19/theorizing-about-the-lhcs-750-gev-bump)\n",
    "<bf>\n",
    "Last year, the LHC's ATLAS and CMS experiments both reported a small 'bump' in their data that denoted an excess of photon pairs with a combined mass of around 750 GeV. As this unexpected bump could be the first hint of a new massive particle that is not predicted by the Standard Model of particle physics, the data generated hundreds of theory papers that attempt to explain the signal.  Taking into account what is known as the look-elsewhere effect, CMS says it has seen an excess with a statistical significance of 1.6$\\sigma$, while ATLAS reports a significance of about 2$\\sigma$ –- corresponding, respectively, to a roughly 1 in 10 and 1 in 20 chance that the result is a fluke.\n",
    "\n",
    "While these levels are far below the 5$\\sigma$ 'gold standard' that must be met to claim a discovery, the fact that both collaborations saw a bump at the same energy has excited theoretical physicists.}\n",
    "<bf>\n",
    "From the Cern Courier, October 2016:\n",
    "<bf>\n",
    "\n",
    "![title](figure_1A.JPG)\n",
    "\n",
    "> In a dramatic parallel session, both ATLAS and CMS revealed that their 2016 data do not confirm the previous hints of a diphoton resonance at 750 GeV (figure 1); apparently, those hints were nothing more than tantalising statistical fluctuations."
   ]
  },
  {
   "cell_type": "markdown",
   "metadata": {
    "deletable": false,
    "editable": false,
    "nbgrader": {
     "cell_type": "markdown",
     "checksum": "f62d19f022b323922e6db558ada9e772",
     "grade": false,
     "grade_id": "cell-8889d8d01c6e630b",
     "locked": true,
     "schema_version": 3,
     "solution": false,
     "task": false
    }
   },
   "source": [
    "### (i) Write two sentences explaining what the 'look-elsewhere effect' is."
   ]
  },
  {
   "cell_type": "markdown",
   "metadata": {
    "deletable": false,
    "nbgrader": {
     "cell_type": "markdown",
     "checksum": "a17c1302a94248f4d36b8ce56eea64fb",
     "grade": true,
     "grade_id": "cell-30cffe9ac982d5eb",
     "locked": false,
     "points": 1,
     "schema_version": 3,
     "solution": true,
     "task": false
    }
   },
   "source": [
    "Once a theory was raised, there might be something which cannot be explained by that. Moreover, if we can look elsewhere - like the event happening in mean plus 1.6σ, this might be a new thing we make a difference."
   ]
  },
  {
   "cell_type": "markdown",
   "metadata": {
    "deletable": false,
    "editable": false,
    "nbgrader": {
     "cell_type": "markdown",
     "checksum": "b38f5aff9c3346f0f5bf1b5ff608dc3b",
     "grade": false,
     "grade_id": "cell-2e88022412e9a1a4",
     "locked": true,
     "schema_version": 3,
     "solution": false,
     "task": false
    }
   },
   "source": [
    "### (ii) There  are typically more than 100 papers a year from these detectors, each of which has up to 10 histograms, each of which has 50-100 bins.  Assuming that there are $10^5$ bins in a year, how many 2, 3, 4 and 5$\\sigma$ events will there be?"
   ]
  },
  {
   "cell_type": "code",
   "execution_count": 53,
   "metadata": {
    "deletable": false,
    "nbgrader": {
     "cell_type": "code",
     "checksum": "7cb6144842029730f5c766b80acd50ea",
     "grade": true,
     "grade_id": "cell-e13b59565cda93f2",
     "locked": false,
     "points": 3,
     "schema_version": 3,
     "solution": true,
     "task": false
    }
   },
   "outputs": [],
   "source": [
    "def six_ii():\n",
    "    '''Your function should return the number of 2,3,4,5 sigma events'''\n",
    "    '''Assuming that 2 sigma:0.95, 3sigma:0.997, 4sigma:0.999, 5sigma: 0.999997'''\n",
    "    # YOUR CODE HERE\n",
    "    different_sigma_percentage = [0.95, 0.997, 0.999, 0.999997]\n",
    "    bins = 10e5\n",
    "    two_sigma = bins * different_sigma_percentage[0]\n",
    "    three_sigma = bins * different_sigma_percentage[1]\n",
    "    four_sigma = bins * different_sigma_percentage[2]\n",
    "    five_sigma = bins * different_sigma_percentage[3]\n",
    "    \n",
    "    return(two_sigma, three_sigma, four_sigma, five_sigma)"
   ]
  },
  {
   "cell_type": "markdown",
   "metadata": {
    "deletable": false,
    "editable": false,
    "nbgrader": {
     "cell_type": "markdown",
     "checksum": "21a11d10a6c49951a1d10423d89ce474",
     "grade": false,
     "grade_id": "cell-f2637be9d590717a",
     "locked": true,
     "schema_version": 3,
     "solution": false,
     "task": false
    }
   },
   "source": [
    "### (iii) What are the chances of two 2$\\sigma$ events at the same energy?"
   ]
  },
  {
   "cell_type": "code",
   "execution_count": 52,
   "metadata": {
    "deletable": false,
    "nbgrader": {
     "cell_type": "code",
     "checksum": "1e4b19bb402e88e916d4e9c23591fcb9",
     "grade": true,
     "grade_id": "cell-5330b85f7d1a5c67",
     "locked": false,
     "points": 1,
     "schema_version": 3,
     "solution": true,
     "task": false
    }
   },
   "outputs": [],
   "source": [
    "def six_iii():\n",
    "    '''Your function should return the probability of two 2 sigma events at the same energy'''\n",
    "    different_sigma_percentage = [0.95, 0.997, 0.999, 0.999997]\n",
    "    return different_sigma_percentage[0] ** 2\n",
    "    # YOUR CODE HERE"
   ]
  },
  {
   "cell_type": "markdown",
   "metadata": {
    "deletable": false,
    "editable": false,
    "nbgrader": {
     "cell_type": "markdown",
     "checksum": "482d3e85d9f260909214bd299e4930f9",
     "grade": false,
     "grade_id": "cell-b1ef0244c2c5e2c4",
     "locked": true,
     "schema_version": 3,
     "solution": false,
     "task": false
    }
   },
   "source": [
    "## Coding Exercise\n",
    "\n",
    "Choose one of the distributions we discussed in the context of the Central Limit theorem: either the uniform distribution, the triangular distribution or a Gaussian distribution. They should span the interval 0 to 1.\n",
    "<bf>\n",
    "Write code that allows you to choose numbers at random from this distribution. Then,\n",
    "\n",
    "<blockquote>\n",
    "<bf>\n",
    "(i) Choose 1,000 numbers at random, and plot a histogram of their occurrences.\n",
    "</blockquote>\n",
    "<bf>\n",
    "<blockquote>\n",
    "(ii) Choose 2 numbers from  the distribution at random, and average them.  Repeat this 1,000 times and plot a histogram.\n",
    "<bf>\n",
    "</blockquote>\n",
    "<blockquote>\n",
    "(iii) Do the same for the sum of 3, 4 and 5 numbers, and make the corresponding plots.\n",
    "<bf>\n",
    "</blockquote>\n",
    "<blockquote>\n",
    "(iv) Comment on your results."
   ]
  },
  {
   "cell_type": "code",
   "execution_count": 90,
   "metadata": {
    "deletable": false,
    "nbgrader": {
     "cell_type": "code",
     "checksum": "dfa6d5b2a46d28470f11ae73950cdb6c",
     "grade": true,
     "grade_id": "cell-0571ee7f7d7263e5",
     "locked": false,
     "points": 0,
     "schema_version": 3,
     "solution": true,
     "task": false
    }
   },
   "outputs": [
    {
     "data": {
      "text/plain": [
       "(array([  4.,  17.,  84., 148., 233., 218., 168.,  86.,  36.,   6.]),\n",
       " array([0.11333736, 0.1885938 , 0.26385025, 0.33910669, 0.41436314,\n",
       "        0.48961958, 0.56487603, 0.64013247, 0.71538892, 0.79064536,\n",
       "        0.86590181]),\n",
       " <a list of 10 Patch objects>)"
      ]
     },
     "execution_count": 90,
     "metadata": {},
     "output_type": "execute_result"
    },
    {
     "data": {
      "image/png": "[encoded data removed]",
      "text/plain": [
       "<Figure size 432x288 with 1 Axes>"
      ]
     },
     "metadata": {},
     "output_type": "display_data"
    },
    {
     "data": {
      "image/png": "[encoded data removed]",
      "text/plain": [
       "<Figure size 432x288 with 1 Axes>"
      ]
     },
     "metadata": {},
     "output_type": "display_data"
    },
    {
     "data": {
      "image/png": "[encoded data removed]",
      "text/plain": [
       "<Figure size 432x288 with 1 Axes>"
      ]
     },
     "metadata": {},
     "output_type": "display_data"
    },
    {
     "data": {
      "image/png": "[encoded data removed]",
      "text/plain": [
       "<Figure size 432x288 with 1 Axes>"
      ]
     },
     "metadata": {},
     "output_type": "display_data"
    },
    {
     "data": {
      "image/png": "[encoded data removed]",
      "text/plain": [
       "<Figure size 432x288 with 1 Axes>"
      ]
     },
     "metadata": {},
     "output_type": "display_data"
    }
   ],
   "source": [
    "uniform = [np.random.random() for x in range(1000)]\n",
    "plt.figure()\n",
    "plt.title(\"uniform in 0-1 distribution\")\n",
    "plt.hist(uniform, 10)\n",
    "\n",
    "uniform_average2 = []\n",
    "for i in range(len(uniform)):\n",
    "    indexs = [np.random.randint(0, 999) for x in range(2)]\n",
    "    count = 0\n",
    "    for index in indexs:\n",
    "        count += uniform[index]\n",
    "    count /= 2\n",
    "    uniform_average2.append(count)\n",
    "\n",
    "plt.figure()\n",
    "plt.title(\"2 average when uniform in 0-1 distribution\")\n",
    "plt.hist(uniform_average2, 10)\n",
    "\n",
    "uniform_average3 = []\n",
    "for i in range(len(uniform)):\n",
    "    indexs = [np.random.randint(0, 999) for x in range(3)]\n",
    "    count = 0\n",
    "    for index in indexs:\n",
    "        count += uniform[index]\n",
    "    count /= 3\n",
    "    uniform_average3.append(count)\n",
    "\n",
    "plt.figure()\n",
    "plt.title(\"3 average when uniform in 0-1 distribution\")\n",
    "plt.hist(uniform_average3, 10)\n",
    "\n",
    "uniform_average4 = []\n",
    "for i in range(len(uniform)):\n",
    "    indexs = [np.random.randint(0, 999) for x in range(4)]\n",
    "    count = 0\n",
    "    for index in indexs:\n",
    "        count += uniform[index]\n",
    "    count /= 4\n",
    "    uniform_average4.append(count)\n",
    "\n",
    "plt.figure()\n",
    "plt.title(\"4 average when uniform in 0-1 distribution\")\n",
    "plt.hist(uniform_average4, 10)\n",
    "\n",
    "uniform_average5 = []\n",
    "for i in range(len(uniform)):\n",
    "    indexs = [np.random.randint(0, 999) for x in range(5)]\n",
    "    count = 0\n",
    "    for index in indexs:\n",
    "        count += uniform[index]\n",
    "    count /= 5\n",
    "    uniform_average5.append(count)\n",
    "\n",
    "plt.figure()\n",
    "plt.title(\"5 average when uniform in 0-1 distribution\")\n",
    "plt.hist(uniform_average5, 10)"
   ]
  },
  {
   "cell_type": "markdown",
   "metadata": {
    "deletable": false,
    "editable": false,
    "nbgrader": {
     "cell_type": "markdown",
     "checksum": "085ca8f3a92e2452a21e4b80ce9c6398",
     "grade": false,
     "grade_id": "cell-67d8356d201791ba",
     "locked": true,
     "schema_version": 3,
     "solution": false,
     "task": false
    }
   },
   "source": [
    "### (iv) Comment on your results."
   ]
  },
  {
   "cell_type": "markdown",
   "metadata": {
    "deletable": false,
    "nbgrader": {
     "cell_type": "markdown",
     "checksum": "e1d39f8b3c3e5697bc62156b57fabce3",
     "grade": true,
     "grade_id": "cell-1419c5cc8e817aa2",
     "locked": false,
     "points": 0,
     "schema_version": 3,
     "solution": true,
     "task": false
    }
   },
   "source": [
    "No matter which distribution I choose, the result is a Gaussian distribution with mean 0.5. Also, when there are more numbers used to calculate the average, the Gaussian looks like the Gaussian more."
   ]
  }
 ],
 "metadata": {
  "kernelspec": {
   "display_name": "Python 3",
   "language": "python",
   "name": "python3"
  },
  "language_info": {
   "codemirror_mode": {
    "name": "ipython",
    "version": 3
   },
   "file_extension": ".py",
   "mimetype": "text/x-python",
   "name": "python",
   "nbconvert_exporter": "python",
   "pygments_lexer": "ipython3",
   "version": "3.6.3"
  }
 },
 "nbformat": 4,
 "nbformat_minor": 2
}
