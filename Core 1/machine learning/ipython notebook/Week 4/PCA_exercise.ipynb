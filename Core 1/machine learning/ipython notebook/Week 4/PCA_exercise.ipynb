{
 "cells": [
  {
   "cell_type": "markdown",
   "metadata": {},
   "source": [
    "# PCA exercise"
   ]
  },
  {
   "cell_type": "code",
   "execution_count": 187,
   "metadata": {},
   "outputs": [],
   "source": [
    "import numpy as np"
   ]
  },
  {
   "cell_type": "markdown",
   "metadata": {},
   "source": [
    "This creates a dataset of 200 data points. "
   ]
  },
  {
   "cell_type": "code",
   "execution_count": 188,
   "metadata": {},
   "outputs": [],
   "source": [
    "np.random.seed(1976)\n",
    "A = np.random.random(size=(7,7))\n",
    "cov = np.dot(A.T,A)\n",
    "X = np.random.multivariate_normal(np.zeros(7),cov, size=200)\n",
    "av = np.average(X,axis=0)\n",
    "std = np.std(X, axis=0)\n",
    "\n",
    "Xnorm = (X-av)/std "
   ]
  },
  {
   "cell_type": "markdown",
   "metadata": {},
   "source": [
    "## Task 1\n",
    "\n",
    "Use PCA to determine how many dimensions you need to keep to maintain 95% of the variance. \n",
    "\n",
    "Determine the transformation that projects the dataset `Xnorm` onto the space of reduced dimension that keeps 95% of the variance. Verify explicitely that the variance of the reduced data is what you expect.  "
   ]
  },
  {
   "cell_type": "code",
   "execution_count": 209,
   "metadata": {
    "deletable": false,
    "nbgrader": {
     "cell_type": "code",
     "checksum": "8e717030ae0751550448b95460017539",
     "grade": false,
     "grade_id": "cell-cd323f568c932db8",
     "locked": false,
     "schema_version": 3,
     "solution": true,
     "task": false
    }
   },
   "outputs": [],
   "source": [
    "# Determine the fractions of the variance that the first i principle components maintain.\n",
    "# Return your result as an array of length 7 where entry i represents the fraction of\n",
    "# the explained variance maintained by the first i principle components. \n",
    "from sklearn.decomposition import PCA\n",
    "def calculate_fractions(X):\n",
    "    # YOUR CODE HERE\n",
    "#     n_samples, n_features = X.shape\n",
    "#     sigma = np.dot(np.transpose(X),X)\n",
    "    \n",
    "#     eig_val, eig_vec = np.linalg.eig(sigma)\n",
    "    \n",
    "#     fraction = np.cumsum(eig_val) / np.sum(eig_val)\n",
    "#     eig_pairs = [(np.abs(eig_val[i]), eig_vec[:,i]) for i in range(n_features)]\n",
    "    \n",
    "#     eig_pairs.sort(reverse=True)\n",
    "    \n",
    "#     feature=np.array([ele[1] for ele in eig_pairs[:7]])\n",
    "    \n",
    "#     data=np.dot(X,np.transpose(feature))\n",
    "    \n",
    "#     return fraction\n",
    "    pca = PCA(n_components = 7)\n",
    "    pca.fit(X)\n",
    "    fractions = pca.explained_variance_ratio_\n",
    "    for i in range(1, len(fractions)):\n",
    "        fractions[i] += fractions[i - 1]\n",
    "    print(fractions)\n",
    "    return(fractions)"
   ]
  },
  {
   "cell_type": "code",
   "execution_count": 210,
   "metadata": {
    "deletable": false,
    "editable": false,
    "nbgrader": {
     "cell_type": "code",
     "checksum": "66d2f882510465345b195a1df5b0b457",
     "grade": true,
     "grade_id": "cell-996b98fab8f000c6",
     "locked": true,
     "points": 2,
     "schema_version": 3,
     "solution": false,
     "task": false
    }
   },
   "outputs": [
    {
     "name": "stdout",
     "output_type": "stream",
     "text": [
      "[0.82887306 0.90096354 0.96292231 0.98337372 0.99726923 0.99913066\n",
      " 1.        ]\n"
     ]
    }
   ],
   "source": [
    "assert np.isclose(calculate_fractions(Xnorm),np.array([0.82887306, 0.90096354, 0.96292231, 0.98337372, 0.99726923, 0.99913066, 1. ])).all()"
   ]
  },
  {
   "cell_type": "code",
   "execution_count": 194,
   "metadata": {
    "deletable": false,
    "nbgrader": {
     "cell_type": "code",
     "checksum": "a4d954771d0a99b7a591bb13e488da8f",
     "grade": false,
     "grade_id": "cell-fd31404711715adb",
     "locked": false,
     "schema_version": 3,
     "solution": true,
     "task": false
    }
   },
   "outputs": [
    {
     "name": "stdout",
     "output_type": "stream",
     "text": [
      "[[-0.22672849 -0.80162514  0.29934808]\n",
      " [ 1.45611279 -0.41283112 -0.03976126]\n",
      " [ 1.76252416 -1.40875441 -1.25272327]]\n"
     ]
    }
   ],
   "source": [
    "# Determine the transformation that projects the dataset Xnorm onto the space of reduced dimension \n",
    "# that keeps 95% of the variance\n",
    "\n",
    "# Name the reduced dataset 'reduced'. We will use a dataset with this name as an input in one of the test cells.\n",
    "pca = PCA(n_components = 0.95)\n",
    "reduced = pca.fit_transform(Xnorm)\n",
    "print(reduced[:3])"
   ]
  },
  {
   "cell_type": "code",
   "execution_count": 202,
   "metadata": {
    "deletable": false,
    "nbgrader": {
     "cell_type": "code",
     "checksum": "01c6c89fab1f9cd3e72ffe4987f69610",
     "grade": false,
     "grade_id": "cell-cf72ca11c8c149ed",
     "locked": false,
     "schema_version": 3,
     "solution": true,
     "task": false
    }
   },
   "outputs": [
    {
     "data": {
      "text/plain": [
       "6.740456198634824"
      ]
     },
     "execution_count": 202,
     "metadata": {},
     "output_type": "execute_result"
    }
   ],
   "source": [
    "# Verify explicitely that the variance of the reduced data is what you expect. \n",
    "# Calculate the variance of the reduced data set\n",
    "\n",
    "# your function should return the variance of reduced data set\n",
    "def calculate_variance(reduced):\n",
    "    return np.trace(np.dot(reduced.T, reduced)/ reduced.shape[0])\n",
    "\n",
    "calculate_variance(reduced)"
   ]
  },
  {
   "cell_type": "code",
   "execution_count": 200,
   "metadata": {
    "deletable": false,
    "editable": false,
    "nbgrader": {
     "cell_type": "code",
     "checksum": "09719f7f557f16ea0dd2387f7c125fe6",
     "grade": true,
     "grade_id": "cell-8ce650559053bd54",
     "locked": true,
     "points": 2,
     "schema_version": 3,
     "solution": false,
     "task": false
    }
   },
   "outputs": [],
   "source": [
    "assert np.isclose(calculate_variance(reduced),6.740456198634824)"
   ]
  },
  {
   "cell_type": "markdown",
   "metadata": {},
   "source": [
    "Compare the variance to your results from `calculate_fractions`. \n"
   ]
  },
  {
   "cell_type": "code",
   "execution_count": null,
   "metadata": {
    "deletable": false,
    "nbgrader": {
     "cell_type": "code",
     "checksum": "c2dc8250b202ef49c6748a66dae33d63",
     "grade": false,
     "grade_id": "cell-ba06057c20e2403a",
     "locked": false,
     "schema_version": 3,
     "solution": true,
     "task": false
    }
   },
   "outputs": [],
   "source": [
    "# YOUR CODE HERE"
   ]
  }
 ],
 "metadata": {
  "kernelspec": {
   "display_name": "Python 3",
   "language": "python",
   "name": "python3"
  },
  "language_info": {
   "codemirror_mode": {
    "name": "ipython",
    "version": 3
   },
   "file_extension": ".py",
   "mimetype": "text/x-python",
   "name": "python",
   "nbconvert_exporter": "python",
   "pygments_lexer": "ipython3",
   "version": "3.6.3"
  }
 },
 "nbformat": 4,
 "nbformat_minor": 2
}
