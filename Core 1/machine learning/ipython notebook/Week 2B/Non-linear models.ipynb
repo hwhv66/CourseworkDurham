{
 "cells": [
  {
   "cell_type": "markdown",
   "metadata": {},
   "source": [
    "# Non linear models"
   ]
  },
  {
   "cell_type": "code",
   "execution_count": 1,
   "metadata": {},
   "outputs": [],
   "source": [
    "from sklearn import datasets\n",
    "import numpy as np\n",
    "from matplotlib import pyplot as plt"
   ]
  },
  {
   "cell_type": "markdown",
   "metadata": {},
   "source": [
    "This creates the data we will play with:"
   ]
  },
  {
   "cell_type": "code",
   "execution_count": 2,
   "metadata": {},
   "outputs": [],
   "source": [
    "noisy_circles = datasets.make_circles(n_samples=100, factor=.5,\n",
    "                                      noise=.05, random_state=1)\n",
    "X = np.array(noisy_circles[0])\n",
    "y = noisy_circles[1]"
   ]
  },
  {
   "cell_type": "markdown",
   "metadata": {},
   "source": [
    "Let's plot it:"
   ]
  },
  {
   "cell_type": "code",
   "execution_count": 3,
   "metadata": {},
   "outputs": [
    {
     "data": {
      "text/plain": [
       "<matplotlib.collections.PathCollection at 0x7f397b0f3cf8>"
      ]
     },
     "execution_count": 3,
     "metadata": {},
     "output_type": "execute_result"
    },
    {
     "data": {
      "image/png": "[encoded data removed]",
      "text/plain": [
       "<Figure size 432x288 with 1 Axes>"
      ]
     },
     "metadata": {},
     "output_type": "display_data"
    }
   ],
   "source": [
    "plt.scatter(X[:,0][y==1],X[:,1][y==1], color='r')\n",
    "plt.scatter(X[:,0][y==0],X[:,-1][y==0], color='b')\n"
   ]
  },
  {
   "cell_type": "markdown",
   "metadata": {
    "deletable": false,
    "editable": false,
    "nbgrader": {
     "cell_type": "markdown",
     "checksum": "40a6f9e4dcbf7e2c37b837caa8251cff",
     "grade": false,
     "grade_id": "cell-20813a8b79b5714e",
     "locked": true,
     "schema_version": 3,
     "solution": false,
     "task": false
    }
   },
   "source": [
    "Implement the function `augment` that takes as argument `X` a `nd`x`nf` dataset of `nd` data points with `nf` features. It should return an augmented dataset the contains a constant term, the original features and all second order combinations of features.\n",
    "The augmented matrix should look like this\n",
    "\n",
    "$$ \n",
    "\\left(\n",
    "\\begin{matrix}\n",
    "X_{11} & X_{12}  & \\cdots & X_{1n_f}\\\\\n",
    "X_{21} & \\\\\n",
    "\\vdots \\\\\n",
    "X_{n_d 1} & & & X_{n_d n_f}\n",
    "\\end{matrix}\n",
    "\\right)\n",
    "\\rightarrow\n",
    "\\left(\n",
    "\\begin{array}{c|cccc| cccc|ccc}\n",
    "%\\begin{matrix}\n",
    "1& X_{11} & X_{12}  & \\cdots & X_{1n_f} & X_{11}^2 & X_{12}^2 & \\cdots & X_{1n_f}^2  \n",
    "& X_{11}\\cdot X_{12} & \\cdots & X_{1 (n_f-1)}\\cdot X_{1 n_f} \\\\\n",
    "1& X_{21} & \\\\\n",
    "\\vdots \\\\\n",
    "1& X_{n_d 1} & & & X_{n_d n_f}\n",
    "& & & & & & \n",
    "& X_{n_d (n_f-1)}\\cdot X_{n_d n_f} \\\\\n",
    "%\\end{matrix}\n",
    "\\end{array}\n",
    "\\right)\n",
    "$$\n",
    "\n",
    "I.e. your new matrix should contain a vector of ones, then the orginal matrix, then the squared terms of the features, then products of the features. "
   ]
  },
  {
   "cell_type": "code",
   "execution_count": 4,
   "metadata": {
    "deletable": false,
    "nbgrader": {
     "cell_type": "code",
     "checksum": "7ef571c14d7a8db89a8adf7c06497e2e",
     "grade": false,
     "grade_id": "cell-168c7e9fa5820739",
     "locked": false,
     "schema_version": 3,
     "solution": true,
     "task": false
    }
   },
   "outputs": [],
   "source": [
    "def augment(X):\n",
    "    nd, nf = X.shape\n",
    "    # YOUR CODE HERE\n",
    "    Xaug = []\n",
    "    tmp = []\n",
    "    for i in range(nd):\n",
    "        tmp.append(1.0)\n",
    "        tmp.append(X[i][0])\n",
    "        tmp.append(X[i][1])\n",
    "        tmp.append(X[i][0] ** 2)\n",
    "        tmp.append(X[i][1] ** 2)\n",
    "        tmp.append(X[i][0] * X[i][1])\n",
    "        Xaug.append(np.array(tmp.copy()))\n",
    "        tmp = []\n",
    "    return np.array(Xaug)"
   ]
  },
  {
   "cell_type": "code",
   "execution_count": 5,
   "metadata": {
    "deletable": false,
    "editable": false,
    "nbgrader": {
     "cell_type": "code",
     "checksum": "b629b9b6588bcc1329c4751fb0d402d5",
     "grade": true,
     "grade_id": "cell-c032b1d333211a2c",
     "locked": true,
     "points": 4,
     "schema_version": 3,
     "solution": false,
     "task": false
    }
   },
   "outputs": [],
   "source": [
    "Xaug = augment(X)\n",
    "assert Xaug.shape == (100, 6)\n",
    "assert set(Xaug[0,:]) == set([-0.39910416635565776,\n",
    " -0.24312948020420502,\n",
    " 0.05911194414436692,\n",
    " 0.09703398851338364,\n",
    " 0.15928413560244456,\n",
    " 1.0])"
   ]
  },
  {
   "cell_type": "markdown",
   "metadata": {
    "deletable": false,
    "editable": false,
    "nbgrader": {
     "cell_type": "markdown",
     "checksum": "fc7602f50b54341b8ad80065a08966bd",
     "grade": false,
     "grade_id": "cell-6bdc78384f0ffddd",
     "locked": true,
     "points": 4,
     "schema_version": 3,
     "solution": false,
     "task": true
    }
   },
   "source": [
    "Use a logistic regresssion model to fit to the augmented data. Create a plot to show that with the additional features we can separate the data. To make a contour plot, you can create a grid in the input feature space and calculate the prediction of each of the grid points which you can plot using the `contourf` function.\n",
    "\n",
    "To plot the selection boundary of the model, you can follow these steps:\n",
    "\n",
    "(i) Create a grid of the (two) input features in X, $x_1$ and $x_2$.  To do so, you can for instance combine two arrays using the `np.meshgrid` function.\n",
    "\n",
    "(ii) Use the `ravel` function to turn the arrays of the grid coordinates into two one-dimensional, i.e. a one-dimensional array for the $x_1$ coordinates and a one-dimensional array for the $x_2$ coordinate. Then, combine the `x1` and `x2` arrays to a matrix of $[x_1, x_2]$ pairs. \n",
    "\n",
    "(iii) Calculate the prediction $Z$ for the (augmented) grid matrix using the `predict` function of Logistic Regression. The function will return a one-dimensional array of the prediction for the data points. You can regroup this array into a two-dimensional one using the `reshape` function.\n",
    "\n",
    "(iv) Make a contour plot of the grid data using the `contourf` function.\n",
    "\n",
    "You might also find it useful, to look at the following example of a similar problem which goes through the steps of creating a grid:\n",
    "\n",
    "https://scikit-learn.org/stable/auto_examples/ensemble/plot_voting_decision_regions.html"
   ]
  },
  {
   "cell_type": "code",
   "execution_count": 6,
   "metadata": {
    "deletable": false,
    "nbgrader": {
     "cell_type": "code",
     "checksum": "1c17b640889ea8db15e6f764c280e718",
     "grade": false,
     "grade_id": "cell-cc3ab866b816b2f2",
     "locked": false,
     "schema_version": 3,
     "solution": true,
     "task": false
    }
   },
   "outputs": [
    {
     "data": {
      "text/plain": [
       "<matplotlib.contour.QuadContourSet at 0x7f3972a68908>"
      ]
     },
     "execution_count": 6,
     "metadata": {},
     "output_type": "execute_result"
    },
    {
     "data": {
      "image/png": "[encoded data removed]",
      "text/plain": [
       "<Figure size 432x288 with 1 Axes>"
      ]
     },
     "metadata": {},
     "output_type": "display_data"
    }
   ],
   "source": [
    "from sklearn.linear_model import LogisticRegression\n",
    "lr = LogisticRegression(solver='lbfgs')\n",
    "\n",
    "\n",
    "# plot the data (copied from above)\n",
    "plt.scatter(X[:,0][y==1],X[:,1][y==1], color='r',alpha=0.4)\n",
    "plt.scatter(X[:,0][y==0],X[:,-1][y==0], color='b',alpha=0.4)\n",
    "X_temp = augment(X)\n",
    "lr.fit(X_temp, y)\n",
    "\n",
    "# you can use this color map for your contour plot to use the same colors as for the data points\n",
    "# you need to put it in as an argument like this:\n",
    "# plt.contourf(... , alpha=0.1, cmap=cmap)\n",
    "from matplotlib.colors import ListedColormap\n",
    "colors = ['b','r']\n",
    "cmap = ListedColormap(colors)\n",
    "\n",
    "# # YOUR CODE HERE\n",
    "x_min, x_max = X_temp[:, 1].min() - 0.1, X_temp[:, 1].max() + 0.1\n",
    "y_min, y_max = X_temp[:, 2].min() - 0.1, X_temp[:, 2].max() + 0.1\n",
    "xx, yy = np.meshgrid(np.arange(x_min, x_max, 0.01),\n",
    "                     np.arange(y_min, y_max, 0.01))\n",
    "Z = lr.predict(augment(np.c_[xx.ravel(), yy.ravel()]))\n",
    "Z = Z.reshape(xx.shape)\n",
    "plt.contourf(xx, yy, Z, alpha=0.1, cmap=cmap)"
   ]
  },
  {
   "cell_type": "markdown",
   "metadata": {
    "deletable": false,
    "editable": false,
    "nbgrader": {
     "cell_type": "markdown",
     "checksum": "a1b91baeb85b464a950e94bc5af2f6d9",
     "grade": false,
     "grade_id": "cell-decccfbec7e8a436",
     "locked": true,
     "schema_version": 3,
     "solution": false,
     "task": false
    }
   },
   "source": [
    "# Regularisation\n",
    "Use the training and validation set below to find the best values of $\\alpha$ to use in the ridge regression loss for a eighth-order polynomial model. Train your model on the training sample and use the score (or loss) of the test sample as a measure for the quality of the fit. \n",
    "\n",
    "You may find it useful to include the modules commented out below (Ridge, PolynomialFeatures, LinearRegression). To find out more about these modules and their functionality, please check out the sklearn website. "
   ]
  },
  {
   "cell_type": "code",
   "execution_count": 12,
   "metadata": {
    "deletable": false,
    "nbgrader": {
     "cell_type": "code",
     "checksum": "560dee3770a129b5f5f17ba76822b2f5",
     "grade": false,
     "grade_id": "cell-75bb887c62295264",
     "locked": false,
     "schema_version": 3,
     "solution": true,
     "task": false
    }
   },
   "outputs": [
    {
     "data": {
      "image/png": "[encoded data removed]",
      "text/plain": [
       "<Figure size 432x288 with 1 Axes>"
      ]
     },
     "metadata": {},
     "output_type": "display_data"
    },
    {
     "name": "stdout",
     "output_type": "stream",
     "text": [
      "The best value of alpha is  0.1\n"
     ]
    }
   ],
   "source": [
    "from sklearn.model_selection import train_test_split\n",
    "from sklearn.linear_model import Ridge\n",
    "from sklearn.preprocessing import PolynomialFeatures\n",
    "from sklearn.linear_model import LinearRegression\n",
    "\n",
    "def fn(x):\n",
    "    return 7-8*x-0.5*x**2+0.5*x**3\n",
    "  \n",
    "n_train = 100\n",
    "np.random.seed(1122)\n",
    "xs = np.linspace(0,5)\n",
    "rxs = 5* np.random.random(n_train)\n",
    "X1D = np.array([rxs]).T\n",
    "noise = np.random.normal(size = (n_train) )\n",
    "ys1D = fn(rxs)+noise\n",
    "\n",
    "# split into training and test sample\n",
    "X_train, X_test, y_train, y_test = train_test_split(X1D, ys1D, test_size=0.4, random_state=0)\n",
    "\n",
    "# this plots the full data sample and the function fn\n",
    "plt.plot(xs, fn(xs),'b--')\n",
    "plt.plot(rxs, ys1D,'ok')\n",
    "plt.xlabel('x')\n",
    "plt.ylabel('y');\n",
    "plt.show()\n",
    "# YOUR CODE HERE\n",
    "alpha = []\n",
    "scores = []\n",
    "def bestAlpha(alpha, scores):\n",
    "    best_alpha = 0 # enter your best value for alpha to one signifcant digit here\n",
    "    tmp = 1e-4\n",
    "    while tmp < 1e5:\n",
    "        alpha.append(tmp)\n",
    "        tmp *= 10\n",
    "    max_score = -2\n",
    "    for al in alpha:\n",
    "        rd = Ridge(al)\n",
    "        poly = PolynomialFeatures(8)\n",
    "        rd.fit(poly.fit_transform(X_train), y_train)\n",
    "        y_pred = rd.predict(poly.fit_transform(X_test))\n",
    "        score = rd.score(poly.fit_transform(X_test), y_test)\n",
    "        scores.append(score)\n",
    "        if max_score < score:\n",
    "            max_score = score\n",
    "            best_alpha = al\n",
    "    return best_alpha\n",
    "\n",
    "print('The best value of alpha is ', bestAlpha(alpha, scores))"
   ]
  },
  {
   "cell_type": "code",
   "execution_count": 13,
   "metadata": {
    "deletable": false,
    "editable": false,
    "nbgrader": {
     "cell_type": "code",
     "checksum": "f0b47e848093de11d947c01d2515bff9",
     "grade": true,
     "grade_id": "cell-51c1085bd3daa566",
     "locked": true,
     "points": 2,
     "schema_version": 3,
     "solution": false,
     "task": false
    }
   },
   "outputs": [],
   "source": [
    "# This cell is used for automatic grading. Please do not delete it. "
   ]
  },
  {
   "cell_type": "markdown",
   "metadata": {
    "deletable": false,
    "editable": false,
    "nbgrader": {
     "cell_type": "markdown",
     "checksum": "158e9a0ad36a4bf73262c716cc758849",
     "grade": false,
     "grade_id": "cell-150ea6096286c89f",
     "locked": true,
     "points": 10,
     "schema_version": 3,
     "solution": false,
     "task": true
    }
   },
   "source": [
    "Make a plot of the score as a funtion of $\\alpha$. Use a logarithmic scale for the x-axis and display the range $\\alpha = [10^{-4}, \\, 10^{4}]$."
   ]
  },
  {
   "cell_type": "code",
   "execution_count": 19,
   "metadata": {
    "deletable": false,
    "nbgrader": {
     "cell_type": "code",
     "checksum": "650d543f7ec500cca7ef4acb4daf3045",
     "grade": false,
     "grade_id": "cell-fd35e0c3f9133fe0",
     "locked": false,
     "schema_version": 3,
     "solution": true,
     "task": false
    }
   },
   "outputs": [
    {
     "name": "stdout",
     "output_type": "stream",
     "text": [
      "[-4. -3. -2. -1.  0.  1.  2.  3.  4.]\n",
      "[0.9343543153280163, 0.9373902090517633, 0.939199515317468, 0.9393398241105695, 0.930523922139665, 0.8796165447690907, 0.7812923760290644, 0.6296541651472007, 0.4824141600171419]\n"
     ]
    },
    {
     "data": {
      "text/plain": [
       "[<matplotlib.lines.Line2D at 0x7f3970646be0>]"
      ]
     },
     "execution_count": 19,
     "metadata": {},
     "output_type": "execute_result"
    },
    {
     "data": {
      "image/png": "[encoded data removed]",
      "text/plain": [
       "<Figure size 432x288 with 1 Axes>"
      ]
     },
     "metadata": {},
     "output_type": "display_data"
    }
   ],
   "source": [
    "plt.figure()\n",
    "print(np.log10(alpha))\n",
    "print(scores)\n",
    "plt.title(\"scores for different alpha\")\n",
    "plt.xlabel(\"log10(alpha)\")\n",
    "plt.ylabel(\"score\")\n",
    "plt.plot(np.log10(alpha), scores)"
   ]
  },
  {
   "cell_type": "code",
   "execution_count": null,
   "metadata": {},
   "outputs": [],
   "source": []
  },
  {
   "cell_type": "code",
   "execution_count": null,
   "metadata": {},
   "outputs": [],
   "source": []
  }
 ],
 "metadata": {
  "kernelspec": {
   "display_name": "Python 3",
   "language": "python",
   "name": "python3"
  },
  "language_info": {
   "codemirror_mode": {
    "name": "ipython",
    "version": 3
   },
   "file_extension": ".py",
   "mimetype": "text/x-python",
   "name": "python",
   "nbconvert_exporter": "python",
   "pygments_lexer": "ipython3",
   "version": "3.6.3"
  }
 },
 "nbformat": 4,
 "nbformat_minor": 2
}
