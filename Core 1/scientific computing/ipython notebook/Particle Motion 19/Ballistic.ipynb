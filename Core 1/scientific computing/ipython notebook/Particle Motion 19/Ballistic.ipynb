{
 "cells": [
  {
   "cell_type": "markdown",
   "metadata": {
    "deletable": false,
    "editable": false,
    "nbgrader": {
     "cell_type": "markdown",
     "checksum": "8dae94061c6eeee5c35c41a24dc50aca",
     "grade": false,
     "grade_id": "cell-65a5c427f1d64075",
     "locked": true,
     "schema_version": 3,
     "solution": false,
     "task": false
    }
   },
   "source": [
    "## Workshop notebooks\n",
    "\n",
    "When working on your solution, you can save your notebook as many times as you like. You can also submit \n",
    "as many times as you like. In fact, it is a good idea to save and submit often.\n",
    "\n",
    "**Only the last submission before the deadline** will be marked.\n",
    "Note that you have to **submit** at least once for your work to be marked."
   ]
  },
  {
   "cell_type": "markdown",
   "metadata": {
    "deletable": false,
    "editable": false,
    "nbgrader": {
     "cell_type": "markdown",
     "checksum": "2e43f968704599081b22bb442c92482d",
     "grade": false,
     "grade_id": "cell-1bb4128a362354c2",
     "locked": true,
     "schema_version": 3,
     "solution": false,
     "task": false
    }
   },
   "source": [
    "The notebook contains cells with code. Some of the code is (intentionally) missing. Please insert appropriate code where it says 'YOUR CODE HERE' and delete or comment out the 'raise NotImplementedError()' statements. Cells which do not contain any 'YOUR CODE HERE' lines will allow you to test your code; if they return an error there is something wrong with your implementation; if they do not return an error your code might be correct (it is unfortunately not possible to check for every possible error)."
   ]
  },
  {
   "cell_type": "markdown",
   "metadata": {
    "deletable": false,
    "editable": false,
    "nbgrader": {
     "cell_type": "markdown",
     "checksum": "e58979927e125928ad3ebdbb68689aee",
     "grade": false,
     "grade_id": "cell-3a205b141ed1c6da",
     "locked": true,
     "schema_version": 3,
     "solution": false,
     "task": false
    }
   },
   "source": [
    "# Workshop II: Ballistic motion\n",
    "\n",
    "In this exercise we are going to integrate numerically the trajectory for ballistic motion.\n",
    "This will include adding terms to model height-dependent air friction. You will implement different Runge-Kutta integration schemes to compute the trajactories.\n",
    "\n",
    "Total marks for this assignment is 14.\n",
    "\n",
    "Note:\n",
    "  - simply add numerical value in a dropbox for it to get marked\n",
    "  \n",
    "  - when asked for true/false in a box: \n",
    "      - ticking a box means True\n",
    "      - not ticking (or ticking an even number of times) yields False \n",
    "\n"
   ]
  },
  {
   "cell_type": "code",
   "execution_count": 14,
   "metadata": {},
   "outputs": [],
   "source": [
    "%matplotlib inline\n",
    "import matplotlib.pyplot as plt\n",
    "import numpy as np\n",
    "import pylab\n",
    "import sys\n",
    "import os\n",
    "import scipy\n",
    "sys.path.append(os.getcwd())\n",
    "from DEq_Solver import DEq_Solver\n",
    "from scipy.optimize import fsolve"
   ]
  },
  {
   "cell_type": "markdown",
   "metadata": {
    "deletable": false,
    "editable": false,
    "nbgrader": {
     "cell_type": "markdown",
     "checksum": "cd10c2dcb610b9293dffabc1684ffd72",
     "grade": false,
     "grade_id": "cell-0d053d2bc1c56a63",
     "locked": true,
     "schema_version": 3,
     "solution": false,
     "task": false
    }
   },
   "source": [
    "Please implement the second and fourth order Runge-Kutta method in this cell. See the online notes for the relevant expressions. As in workshop I, you need to update the value of `self.x`. You have access to \n",
    "- the current coordinates array as ``self.x``\n",
    "- the current time as ``self.t``\n",
    "- the derivative $dx/dt$ as ``self.kernel.dx_dt(self.x,self.t)``\n",
    "- the timestep $\\delta t$ as ``self.delta_t``.\n",
    "\n",
    "Note that both classes below are derived from the DEq_Solver class which is defined in DEq_Solver.py (same directory). They will thus feature all methods defined in DEq_Solver as well as the methods defined for the individual derived classes.\n"
   ]
  },
  {
   "cell_type": "code",
   "execution_count": 4,
   "metadata": {
    "deletable": false,
    "nbgrader": {
     "cell_type": "code",
     "checksum": "8b2fbc776c4c5457b8823945a47cbedf",
     "grade": false,
     "grade_id": "cell-51bb8bbaf33c2dc5",
     "locked": false,
     "schema_version": 3,
     "solution": true
    }
   },
   "outputs": [],
   "source": [
    "class RK2Solver(DEq_Solver):\n",
    "    def __init__(self,kernel):\n",
    "        self.kernel  = kernel\n",
    "    def makeStep(self):\n",
    "        ### Your code here (Q.2a) ###\n",
    "        # YOUR CODE HERE\n",
    "        self.x += self.kernel.dx_dt(self.x + self.delta_t / 2 * self.kernel.dx_dt(self.x,self.t), self.t + self.delta_t / 2) * self.delta_t \n",
    "        self.t += self.delta_t\n",
    "        \n",
    "class RK4Solver(DEq_Solver):\n",
    "    def __init__(self,kernel):\n",
    "        self.kernel  = kernel\n",
    "    def makeStep(self):\n",
    "        ### Your code here (Q.2a) ###\n",
    "        # YOUR CODE HERE\n",
    "        x1 = self.x\n",
    "        t1 = self.t\n",
    "        x2 = self.x + self.kernel.dx_dt(x1, t1) * self.delta_t / 2\n",
    "        t2 = self.t + self.delta_t / 2\n",
    "        x3 = self.x + self.kernel.dx_dt(x2, t2) * self.delta_t / 2\n",
    "        t3 = t2\n",
    "        x4 = self.x + self.kernel.dx_dt(x3, t3) * self.delta_t\n",
    "        t4 = self.t + self.delta_t\n",
    "        \n",
    "        self.x += (self.delta_t / 6) * (self.kernel.dx_dt(x1, t1) + 2 * self.kernel.dx_dt(x2, t2) + 2 * self.kernel.dx_dt(x3, t3) + self.kernel.dx_dt(x4, t4))\n",
    "        self.t += self.delta_t\n",
    "\n"
   ]
  },
  {
   "cell_type": "markdown",
   "metadata": {},
   "source": [
    "This cell tests the RK2 implementation\n",
    "\n",
    "**2 marks**"
   ]
  },
  {
   "cell_type": "code",
   "execution_count": 1,
   "metadata": {
    "deletable": false,
    "editable": false,
    "init_cell": true,
    "nbgrader": {
     "cell_type": "code",
     "checksum": "e8d752b38d33e38b8f326ead13ca8ef9",
     "grade": true,
     "grade_id": "cell-96b770dddd0d2dc7",
     "locked": true,
     "points": 2,
     "schema_version": 3,
     "solution": false
    },
    "tags": [
     "hide_input"
    ]
   },
   "outputs": [
    {
     "ename": "NameError",
     "evalue": "name 'RK2Solver' is not defined",
     "output_type": "error",
     "traceback": [
      "\u001b[0;31m---------------------------------------------------------------------------\u001b[0m",
      "\u001b[0;31mNameError\u001b[0m                                 Traceback (most recent call last)",
      "\u001b[0;32m<ipython-input-1-45f5a4aa72fc>\u001b[0m in \u001b[0;36m<module>\u001b[0;34m()\u001b[0m\n\u001b[1;32m      3\u001b[0m         \u001b[0;32mreturn\u001b[0m \u001b[0;36m2.0\u001b[0m\u001b[0;34m*\u001b[0m\u001b[0mt\u001b[0m\u001b[0;34m+\u001b[0m\u001b[0mx\u001b[0m\u001b[0;34m\u001b[0m\u001b[0m\n\u001b[1;32m      4\u001b[0m \u001b[0;34m\u001b[0m\u001b[0m\n\u001b[0;32m----> 5\u001b[0;31m \u001b[0msolver\u001b[0m\u001b[0;34m=\u001b[0m\u001b[0mRK2Solver\u001b[0m\u001b[0;34m(\u001b[0m\u001b[0mtestKernel\u001b[0m\u001b[0;34m)\u001b[0m\u001b[0;34m\u001b[0m\u001b[0m\n\u001b[0m\u001b[1;32m      6\u001b[0m \u001b[0mx0\u001b[0m\u001b[0;34m=\u001b[0m\u001b[0mnp\u001b[0m\u001b[0;34m.\u001b[0m\u001b[0marray\u001b[0m\u001b[0;34m(\u001b[0m\u001b[0;34m[\u001b[0m\u001b[0;36m0.0\u001b[0m\u001b[0;34m]\u001b[0m\u001b[0;34m)\u001b[0m\u001b[0;34m\u001b[0m\u001b[0m\n\u001b[1;32m      7\u001b[0m \u001b[0msolver\u001b[0m\u001b[0;34m.\u001b[0m\u001b[0minitialise\u001b[0m\u001b[0;34m(\u001b[0m\u001b[0mx0\u001b[0m\u001b[0;34m,\u001b[0m\u001b[0;36m0\u001b[0m\u001b[0;34m,\u001b[0m\u001b[0;36m1\u001b[0m\u001b[0;34m,\u001b[0m\u001b[0;36m0.1\u001b[0m\u001b[0;34m)\u001b[0m\u001b[0;34m\u001b[0m\u001b[0m\n",
      "\u001b[0;31mNameError\u001b[0m: name 'RK2Solver' is not defined"
     ]
    }
   ],
   "source": [
    "class testKernel:\n",
    "    def dx_dt(x,t):\n",
    "        return 2.0*t+x\n",
    "\n",
    "solver=RK2Solver(testKernel)\n",
    "x0=np.array([0.0])\n",
    "solver.initialise(x0,0,1,0.1)\n",
    "for i in range(5):\n",
    "    solver.makeStep()\n",
    "assert np.isclose(solver.x[0],0.2948935)"
   ]
  },
  {
   "cell_type": "markdown",
   "metadata": {
    "deletable": false,
    "editable": false,
    "nbgrader": {
     "cell_type": "markdown",
     "checksum": "27c5090525483b3c9dcf0c0d116afcfd",
     "grade": false,
     "grade_id": "cell-45f8721fd8fb39b9",
     "locked": true,
     "schema_version": 3,
     "solution": false,
     "task": false
    }
   },
   "source": [
    "This cell tests the RK4 implementation\n",
    "\n",
    "**4 marks**\n"
   ]
  },
  {
   "cell_type": "code",
   "execution_count": 6,
   "metadata": {
    "deletable": false,
    "editable": false,
    "nbgrader": {
     "cell_type": "code",
     "checksum": "6ef7a77e2eda234c65e0bedca93e02cc",
     "grade": true,
     "grade_id": "cell-20761fbacd95598a",
     "locked": true,
     "points": 4,
     "schema_version": 3,
     "solution": false
    },
    "tags": [
     "hide_input"
    ]
   },
   "outputs": [],
   "source": [
    "class testKernel:\n",
    "    def dx_dt(x,t):\n",
    "        return 2.0*t+x[1]-3.0*x[0]\n",
    "\n",
    "solver=RK4Solver(testKernel)\n",
    "x0=np.array([1.0,0.2])\n",
    "solver.initialise(x0,0,1,0.1)\n",
    "for i in range(5):\n",
    "    solver.makeStep()\n",
    "assert np.isclose(solver.x,np.array([0.29898195, -0.50101805])).all()"
   ]
  },
  {
   "cell_type": "markdown",
   "metadata": {
    "deletable": false,
    "editable": false,
    "nbgrader": {
     "cell_type": "markdown",
     "checksum": "494353b0cd935d39553006a2b4abe0f2",
     "grade": false,
     "grade_id": "cell-dff485f4e5170a83",
     "locked": true,
     "schema_version": 3,
     "solution": false,
     "task": false
    }
   },
   "source": [
    "We want to compute the projectile's range  -- that is the distance it travels horizontally before it hits the ground (assuming Earth is flat!). To do so, we interpolate the trajectory between the two final steps to determine the range more accurately. The function in the cell below implements **linear interpolation**.\n",
    "\n",
    "Interpolate the value of $f(x)$ given $left=(x0,y0)$ and $right=(x1,y1)$ anchor points (where $left$ is the last step \n",
    "with $y>0$, and $right$ is the first step where $y<0$. $y$ is of course the height above the ground.)\n"
   ]
  },
  {
   "cell_type": "code",
   "execution_count": 7,
   "metadata": {
    "deletable": false,
    "nbgrader": {
     "cell_type": "code",
     "checksum": "90cf68db521609e86c44f2ea2ef6f0ce",
     "grade": false,
     "grade_id": "cell-e3562aa160f74a6b",
     "locked": false,
     "schema_version": 3,
     "solution": true
    }
   },
   "outputs": [],
   "source": [
    "\n",
    "def interpolate(x,left,right):\n",
    "    \"\"\"Interpolate the value of f(x) given left=(x0,y0)\n",
    "        and right=(x1,y1) anchor points.\"\"\"\n",
    "    x0, y0 = left\n",
    "    x1, y1 = right\n",
    "    ### Your code here (Q.3a) ###\n",
    "    # YOUR CODE HERE\n",
    "    return y0 + (y1 - y0) * (x - x0) / (x1 - x0)"
   ]
  },
  {
   "cell_type": "markdown",
   "metadata": {
    "deletable": false,
    "editable": false,
    "nbgrader": {
     "cell_type": "markdown",
     "checksum": "f34bf4541e4a41e482b814c2a0960500",
     "grade": false,
     "grade_id": "cell-98d235625097306e",
     "locked": true,
     "schema_version": 3,
     "solution": false,
     "task": false
    }
   },
   "source": [
    "This cell tests your implementation of linear interpolation\n",
    "\n",
    "**1 mark**"
   ]
  },
  {
   "cell_type": "code",
   "execution_count": 8,
   "metadata": {
    "deletable": false,
    "editable": false,
    "nbgrader": {
     "cell_type": "code",
     "checksum": "e797374ee16cf421e6422e3e4416975a",
     "grade": true,
     "grade_id": "cell-13c4b23b473dcf99",
     "locked": true,
     "points": 1,
     "schema_version": 3,
     "solution": false
    },
    "tags": [
     "hide_input"
    ]
   },
   "outputs": [],
   "source": [
    "left=(0.4,4.5)\n",
    "right=(0.6,7.78)\n",
    "assert np.isclose(interpolate(0.45,left,right),5.32)"
   ]
  },
  {
   "cell_type": "markdown",
   "metadata": {
    "deletable": false,
    "editable": false,
    "nbgrader": {
     "cell_type": "markdown",
     "checksum": "8e5fd431f9a691b002d768a0c40adb30",
     "grade": false,
     "grade_id": "cell-051cc705e3b4383a",
     "locked": true,
     "schema_version": 3,
     "solution": false,
     "task": false
    }
   },
   "source": [
    "As discussed in the lecture, a second order differential equation (here, describing the trajectory of a projectile) can be re-written as two coupled, first order equations. Since we have two, second-order DEs (one for horizontal motion, one for vertical motion), we will have 4 coupled first order equations for ballistic motion in two dimensions.\n",
    "\n",
    "We implement this by using the array ``x = numpy.array([s,h,vs,vh])``, where ``s`` and ``vs`` are horizontal distance and horizontal velocity, and ``h`` and ``vh`` are height and vertical velocity, respectively.\n",
    "\n",
    "We will use the linear interpolation function to determine the range of the projectile by interpolating the last two steps of the solver to height $h = 0$.\n",
    "\n",
    "Implement the kernel ``dx_dt`` in the class below and also complete the method for drag as a function of velocity ${\\bf v}$, using an expression similar to that in the notes,\n",
    "\n",
    "${\\bf F}_{\\rm drag}(h) = -B_{2,\\rm drag}(h)\\,v^2\\frac{\\bf v}{v}$\n",
    "\n",
    "Implement 3 different air models for the drag coefficient as a function of height, $h$:\n",
    "\n",
    " - constant: $B_{2,  \\rm drag}=1$\n",
    " \n",
    " - isothermal: $B_{2,\\rm drag}(h)=\\exp(-h/10^4{\\rm m})$\n",
    " \n",
    " - adiabatic: \n",
    "     - $B_{2,\\rm drag}(h)=0$ for $h> (300./0.0065){\\rm m}$\n",
    "     \n",
    "     - $B_{2,\\rm drag}(h) = (1-0.0065*h/ (300{\\rm m}))^{2.5}$ for $h\\le (300./0.0065){\\rm m}$\n",
    "             \n",
    "Assume the projectile's mass, is $m=1$ kg. In this expression, the factors 300 and 0.0065 appy to Earth's atmosphere.\n"
   ]
  },
  {
   "cell_type": "code",
   "execution_count": 9,
   "metadata": {
    "deletable": false,
    "nbgrader": {
     "cell_type": "code",
     "checksum": "c58501caf508f00c38bc5eb0fa358e25",
     "grade": false,
     "grade_id": "cell-d19f62d1e529e4af",
     "locked": false,
     "schema_version": 3,
     "solution": true
    }
   },
   "outputs": [],
   "source": [
    "\n",
    "class Cannonball:\n",
    "    def __init__(self,B_m,airmodel='const'):\n",
    "        \"\"\"Initialize a cannonball object with drag coefficient B/m\n",
    "        and an optional air density model\"\"\"\n",
    "        self.B_m = float(B_m)\n",
    "        self.airmodel = airmodel\n",
    "\n",
    "    def dx_dt(self,x,t):   \n",
    "        ####### Your code here (Q.1a) #######\n",
    "        ### USE correctionFactor HERE (Q.1b) ###\n",
    "        # YOUR CODE HERE\n",
    "        d = []\n",
    "        vx = x[2]\n",
    "        vy = x[3]\n",
    "        y = x[1]\n",
    "        g = 9.81\n",
    "        v = np.sqrt(vx ** 2 + vy ** 2)\n",
    "        d.append(vx)\n",
    "        d.append(vy)\n",
    "        d.append(-1 * v * vx * self.B_m * self.correctionFactor(x[1]))\n",
    "        d.append(-1 * (g + v * vy * self.B_m * self.correctionFactor(x[1])))\n",
    "        return np.array(d)\n",
    "        \n",
    "\n",
    "    def correctionFactor(self,height):\n",
    "        \"\"\"The air density correction rho/rho_0\"\"\"\n",
    "        ### Your code here (Q.1b) ###\n",
    "        if   self.airmodel == 'const':  \n",
    "            return 1.0\n",
    "        elif self.airmodel == 'isothermal': \n",
    "            return np.exp(-1 * height / (10 ** 4))\n",
    "        elif self.airmodel == 'adiabatic':  \n",
    "            if height > 300 / 0.0065:\n",
    "                return 0\n",
    "            else:\n",
    "                return (1 - 0.0065 * height / 300) ** 2.5\n",
    "        else:\n",
    "            raise Exception('Unknown air model',self.airmodel)\n",
    "\n",
    "\n",
    "\n",
    "def cannon_range(solver):\n",
    "    \"\"\"Calculates the range of the shot by interpolating between the\n",
    "    last two points in the solver history.\"\"\"\n",
    "    xs, ys, _, _ = solver.coordinateSteps()\n",
    "    ### RETURN INTERPOLATED RANGE VALUE HERE (Q.3c) ###\n",
    "    # YOUR CODE HERE\n",
    "    for i in range(len(solver.history)):\n",
    "        return interpolate(0,(ys[-2],xs[-2]),(ys[-1],xs[-1]))"
   ]
  },
  {
   "cell_type": "markdown",
   "metadata": {
    "deletable": false,
    "editable": false,
    "nbgrader": {
     "cell_type": "markdown",
     "checksum": "ac52eb8dd3d6625c2b57b8fb5dadaa64",
     "grade": false,
     "grade_id": "cell-514624f3a7bf8e21",
     "locked": true,
     "schema_version": 3,
     "solution": false,
     "task": false
    }
   },
   "source": [
    "This cell tests the ballistic motion implementation\n",
    "\n",
    "**1 mark**"
   ]
  },
  {
   "cell_type": "code",
   "execution_count": 10,
   "metadata": {
    "deletable": false,
    "editable": false,
    "nbgrader": {
     "cell_type": "code",
     "checksum": "374cdeb258f14c401335fa6da17c6e47",
     "grade": true,
     "grade_id": "cell-54ea647e5b5e78d6",
     "locked": true,
     "points": 1,
     "schema_version": 3,
     "solution": false
    }
   },
   "outputs": [],
   "source": [
    "test_const=Cannonball(4.5e-2,airmodel='const')\n",
    "test_iso=Cannonball(4.5e-2,airmodel='isothermal')\n",
    "test_adia=Cannonball(4.5e-2,airmodel='adiabatic')\n",
    "x=np.array([0.0,3.4,0.1,0.7])\n",
    "test_const.dx_dt(x,0.1)\n",
    "assert np.isclose(test_const.dx_dt(x,0.1),np.array([  0.1, 0.7, -3.18198052e-03,\n",
    "        -9.83227386e+00])).all()\n",
    "\n",
    "assert test_const.correctionFactor(0.9)==1\n",
    "assert np.isclose(test_iso.correctionFactor(912),0.912835,1e-4)\n",
    "assert np.isclose(test_adia.correctionFactor(912),0.9513297,1e-4)"
   ]
  },
  {
   "cell_type": "markdown",
   "metadata": {
    "deletable": false,
    "editable": false,
    "nbgrader": {
     "cell_type": "markdown",
     "checksum": "23bef0dfa307bf4741e8765a131302a3",
     "grade": false,
     "grade_id": "cell-efeb4974505dec40",
     "locked": true,
     "schema_version": 3,
     "solution": false,
     "task": false
    }
   },
   "source": [
    "The cell below can be used to visualize the trajectory of the projectile, for different choices of\n",
    "how the air density depends on height $h$.\n",
    "\n"
   ]
  },
  {
   "cell_type": "code",
   "execution_count": 11,
   "metadata": {},
   "outputs": [
    {
     "name": "stdout",
     "output_type": "stream",
     "text": [
      "Air model is: const\n",
      "Method RK2:\tRange=27746.005637 m\n",
      "Method RK4:\tRange=27551.986281 m\n",
      "Air model is: isothermal\n",
      "Method RK2:\tRange=41925.324632 m\n",
      "Method RK4:\tRange=41027.359501 m\n",
      "Air model is: adiabatic\n",
      "Method RK2:\tRange=35570.683809 m\n",
      "Method RK4:\tRange=35038.477992 m\n"
     ]
    },
    {
     "data": {
      "image/png": "[encoded data removed]",
      "text/plain": [
       "<Figure size 864x432 with 1 Axes>"
      ]
     },
     "metadata": {},
     "output_type": "display_data"
    }
   ],
   "source": [
    "shapes  = {'const':'--','isothermal':'-.','adiabatic':'-'}\n",
    "colours = {'Euler':'y','RK2':'k','RK4':'r'}\n",
    "\n",
    "v0       =  1000   # Initial velocity (m/s)\n",
    "phi_deg  = 45      # Initial angle (deg)\n",
    "t0       = 0       # launch time (s)\n",
    "t1       = 200.    # maximum duration of flight (s)\n",
    "delta_t  = 5.0     # time-step of integrator (s)\n",
    "B_m      = 4.5e-5  # Drag coeffecient divided by projectile's mass, B/m (1/kg)\n",
    "\n",
    "# convert angle from degrees to radians\n",
    "phi      = phi_deg * np.pi / 180.\n",
    "\n",
    "# generate initial state vector\n",
    "x0 = np.array([0, 0, v0*np.cos(phi), v0*np.sin(phi)])\n",
    "\n",
    "# prepare plot and annotate with initial parameters\n",
    "fig, ax = plt.subplots(1, 1, figsize = (12, 6))\n",
    "\n",
    "fig.suptitle(' Projectile motion, initial speed, $v0=$%s [m/s], initial angle $phi=$%s [deg], $B/m=$%s [1/kg], dt=%s [s]'\n",
    "            %(\n",
    "                v0,\n",
    "                phi_deg,\n",
    "                B_m,\n",
    "                delta_t))\n",
    "    \n",
    "# plot horizontal distance,s, vs height, h\n",
    "ax.set_ylabel(r'height, $h$ [m]')\n",
    "ax.set_xlabel(r'distance, $s$ [m]')\n",
    "    \n",
    "def negativeY(x):\n",
    "    return x[1] < 0\n",
    "\n",
    "\n",
    "maxy=0\n",
    "for airmodel in ['const','isothermal','adiabatic']:\n",
    "    print ('Air model is:',airmodel)\n",
    "    cannon = Cannonball(B_m,airmodel)\n",
    "\n",
    "    for solverType,name in [\n",
    "            (RK2Solver,'RK2'),\n",
    "            (RK4Solver,'RK4')\n",
    "    ]:\n",
    "        solver = solverType(cannon)\n",
    "        result = solver.solve(x0,t0,t1,delta_t,terminateCondition=negativeY)\n",
    "        print ('Method %s:\\tRange=%.6f m' % (name,cannon_range(solver)))\n",
    "\n",
    "        xs,ys,_,_ = solver.coordinateSteps()\n",
    "        ax.plot(xs, ys, shapes[airmodel]+colours[name],\n",
    "                   label='%s %s'%(name,airmodel))\n",
    "\n",
    "ax.legend()        \n",
    "fig.savefig('trajectory.pdf')        \n",
    "\n"
   ]
  },
  {
   "cell_type": "code",
   "execution_count": null,
   "metadata": {
    "init_cell": true,
    "tags": [
     "hide_input"
    ]
   },
   "outputs": [],
   "source": [
    "# v0 =  np.arange(813.40, 813.41, 0.001) # Initial velocity (m/s)\n",
    "# phi = 25 # Initial angle (deg)\n",
    "# # phis= np.arange(12.6,12.8,0.01)\n",
    "# # phis= np.arange(45.2,45.3,0.01)\n",
    "# ranges=[]\n",
    "# for v in v0: \n",
    "#    phir = phi * np.pi / 180. \n",
    "#    x0 = np.array([0, 0, v*np.cos(phir), v*np.sin(phir)])\n",
    "\n",
    "#    t0 = 0.\n",
    "#    t1 = 100.\n",
    "\n",
    "#    B_m = 2e-5   # Drag coeffcient B/m (m^-1, realistic value is 4e-5)\n",
    "#    deltat = 1e-3  # Size of timestep (s)\n",
    "#    cannon=Cannonball(B_m, airmodel='adiabatic')\n",
    "#    solver = RK4Solver(cannon)\n",
    "#    solver.solve(x0,t0,t1,deltat,terminateCondition=negativeY)\n",
    "#    ranges.append(cannon_range(solver))\n",
    "# print(ranges)\n",
    "# pylab.plot(v0,ranges)\n",
    "\n",
    "# \n",
    "def func_solve(i):\n",
    "    v0 = i # Initial velocity (m/s)\n",
    "    phi = 25 # Initial angle (deg)\n",
    "    # phis= np.arange(12.6,12.8,0.01)\n",
    "    # phis= np.arange(45.2,45.3,0.01)\n",
    "    ranges=[]\n",
    "    phir = phi * np.pi / 180. \n",
    "    x0 = np.array([0, 0, v0*np.cos(phir), v0*np.sin(phir)])\n",
    "\n",
    "    t0 = 0.\n",
    "    t1 = 100.\n",
    "\n",
    "    B_m = 2e-5   # Drag coeffcient B/m (m^-1, realistic value is 4e-5)\n",
    "    deltat = 1e-3  # Size of timestep (s)\n",
    "    cannon=Cannonball(B_m, airmodel='adiabatic')\n",
    "    solver = RK4Solver(cannon)\n",
    "    solver.solve(x0,t0,t1,deltat,terminateCondition=negativeY)\n",
    "    print('Method %s:\\tRange=%.6f m' % (name,cannon_range(solver)))\n",
    "    return cannon_range(solver) - 33256\n",
    "\n",
    "r = fsolve(func_solve, 800)\n",
    "print(r)"
   ]
  },
  {
   "cell_type": "markdown",
   "metadata": {},
   "source": [
    "The following questions is for **2 marks**"
   ]
  },
  {
   "cell_type": "code",
   "execution_count": null,
   "metadata": {
    "init_cell": true,
    "tags": [
     "hide_input"
    ]
   },
   "outputs": [],
   "source": [
    "from ipywidgets import widgets, interact, interactive, fixed\n",
    "from ipywidgets import Button, HBox, VBox\n",
    "import shelve\n",
    "assessmentName=\"test_ballistic\";\n",
    "import os\n",
    "\n",
    "def get_last_value(key):\n",
    "    if os.path.isfile('.choices.shelve') or os.path.isfile('.choices.shelve.dir'):\n",
    "        s=shelve.open('.choices.shelve')\n",
    "        return s.get(key,None)\n",
    "    return None\n",
    "\n",
    "def make_value_change_fn(assessmentName,name):\n",
    "    def fn(change):\n",
    "        s=shelve.open('.choices.shelve')\n",
    "        key='{0}_{1}'.format(assessmentName,name)\n",
    "        s[key]=change['new']\n",
    "        s.close()\n",
    "    return fn\n",
    " \n",
    "class myFloatBox:\n",
    "    def __init__(self,name,description,long_description):\n",
    "        self.name=name\n",
    "        self.description=description\n",
    "        self.long_description=long_description\n",
    "    def getWidget(self):\n",
    "        self.widgets=[ \n",
    "              widgets.FloatText(\n",
    "              description=self.description,\n",
    "        disabled=False,\n",
    "                  value=get_last_value('{0}_{1}'.format(assessmentName,self.name))\n",
    "        )]\n",
    "        \n",
    "        txt=widgets.HTMLMath(\n",
    "            value=self.long_description,\n",
    "            placeholder='',\n",
    "            description='',\n",
    "        )\n",
    "        \n",
    "        self.widget=VBox([txt]+self.widgets)\n",
    "        self.widgets[0].observe(make_value_change_fn(assessmentName,self.name), names='value')\n",
    "\n",
    "        return self.widget\n",
    "    \n",
    "mfb=myFloatBox('velocity','Velocity =',\"Use the adiabatic air model \"\n",
    "               \"with a value of B/m = 2e-5, and a launch angle of 25 degrees, compute \"\n",
    "               \"the launch speed, $v0$, that yields a range of 33256.0 m. Give your answer accurate to \"\n",
    "               \"6 significant digits. \")\n",
    "mfb.getWidget()\n"
   ]
  },
  {
   "cell_type": "code",
   "execution_count": null,
   "metadata": {
    "deletable": false,
    "editable": false,
    "nbgrader": {
     "cell_type": "code",
     "checksum": "b0450ededadf23e31e523b11d12ee6f5",
     "grade": true,
     "grade_id": "cell-993680a3cf7952dc",
     "locked": true,
     "points": 2,
     "schema_version": 3,
     "solution": false,
     "task": false
    }
   },
   "outputs": [],
   "source": []
  },
  {
   "cell_type": "markdown",
   "metadata": {
    "deletable": false,
    "editable": false,
    "nbgrader": {
     "cell_type": "markdown",
     "checksum": "4553e197340384c49fb3ed0dbaf7939c",
     "grade": false,
     "grade_id": "cell-d033c0c8cf9ef37a",
     "locked": true,
     "schema_version": 3,
     "solution": false,
     "task": false
    }
   },
   "source": [
    "Integrate the projectile using the following parameters:\n",
    "  - v0       =  1000   # Initial velocity (m/s)\n",
    "  - phi_deg  = 45      # Initial angle (deg)\n",
    "  - t0       = 0       # launch time (s)\n",
    "  - B_m      = 4.5e-5  # Drag coeffecient divided by projectile's mass, B/m (1/kg)\n",
    "\n",
    "using the RK4 integrator. Determine the time step, delta_t, below which the range is accurate to better than 1 m.\n",
    "Your answer should be accurate to within a factor of 2.\n",
    "\n",
    "**2 marks**\n",
    "\n"
   ]
  },
  {
   "cell_type": "code",
   "execution_count": null,
   "metadata": {
    "init_cell": true,
    "tags": [
     "hide_input"
    ]
   },
   "outputs": [],
   "source": [
    "mfb2=myFloatBox('dt_rk4',\"delta_t= \",\"Time step (s) below which RK4 is accurate to better than 1 m for our set-up \"\n",
    "               \" Should be accurate to within a factor 2\")\n",
    "mfb2.getWidget()"
   ]
  },
  {
   "cell_type": "code",
   "execution_count": null,
   "metadata": {
    "tags": [
     "hide_input"
    ]
   },
   "outputs": [],
   "source": [
    "# v0       =  1000   # Initial velocity (m/s)\n",
    "# phi_deg  = 45      # Initial angle (deg)\n",
    "# t0       = 0       # launch time (s)\n",
    "# t1       = 200.    # maximum duration of flight (s)\n",
    "# delta_t  = 2.0     # time-step of integrator (s)\n",
    "# B_m      = 4.5e-5  # Drag coeffecient divided by projectile's mass, B/m (1/kg)\n",
    "\n",
    "# # first determine required accuracy of RK4 - delta_t=0.01 is accurate to better than 1 m\n",
    "# phi      = phi_deg * np.pi / 180.\n",
    "# delta_ts = 10.**(np.arange(-2.3,-2.2,0.01))\n",
    "# ranges   = []\n",
    "# for delta_t in delta_ts:\n",
    "#     x0 = np.array([0, 0, v0*np.cos(phi), v0*np.sin(phi)])\n",
    "#     t0      = 0.\n",
    "#     t1      = 200.\n",
    "#     print(delta_t)\n",
    "#     cannon=Cannonball(B_m,airmodel='adiabatic')\n",
    "#     solver = RK4Solver(cannon)\n",
    "#     solver.solve(x0,t0,t1,delta_t,terminateCondition=negativeY)\n",
    "#     ranges.append(solver.history[-1][1][0] - solver.history[-2][1][0])\n",
    "   \n",
    "\n",
    "\n",
    "# print(ranges)\n",
    "\n",
    "\n"
   ]
  },
  {
   "cell_type": "code",
   "execution_count": null,
   "metadata": {
    "deletable": false,
    "editable": false,
    "init_cell": true,
    "nbgrader": {
     "cell_type": "code",
     "checksum": "235b603a2b3f73b3bf0bbb828adb5928",
     "grade": true,
     "grade_id": "cell-58ac8c42ef8a841d",
     "locked": true,
     "points": 2,
     "schema_version": 3,
     "solution": false,
     "task": false
    }
   },
   "outputs": [],
   "source": []
  },
  {
   "cell_type": "code",
   "execution_count": 70,
   "metadata": {
    "tags": [
     "hide_input"
    ]
   },
   "outputs": [
    {
     "name": "stdout",
     "output_type": "stream",
     "text": [
      "0.005011872336272725\n",
      "0.005128613839913648\n",
      "0.005248074602497723\n",
      "0.005370317963702522\n",
      "0.005495408738576237\n",
      "0.00562341325190348\n",
      "0.0057543993733715545\n",
      "0.005888436553555872\n",
      "0.006025595860743556\n",
      "0.006165950018614797\n",
      "[0.955850375474256, 0.9781077386578545, 1.0009053845642484, 1.0242339912292664, 1.048080776054121, 1.0725446233118419, 1.0974999925892917, 1.1230486693093553, 1.1491784955796902, 1.1760121584593435]\n"
     ]
    },
    {
     "data": {
      "text/plain": [
       "[<matplotlib.lines.Line2D at 0x7fc3603cf978>]"
      ]
     },
     "execution_count": 70,
     "metadata": {},
     "output_type": "execute_result"
    },
    {
     "data": {
      "image/png": "[encoded data removed]",
      "text/plain": [
       "<Figure size 432x288 with 1 Axes>"
      ]
     },
     "metadata": {},
     "output_type": "display_data"
    }
   ],
   "source": [
    "# now redo with RK2\n",
    "delta_ts = 10.**(np.arange(-2.3,-2.2,0.01))\n",
    "ranges   = []\n",
    "for delta_t in delta_ts:\n",
    "    x0 = np.array([0, 0, v0*np.cos(phi), v0*np.sin(phi)])\n",
    "    t0      = 0.\n",
    "    t1      = 200.\n",
    "    print(delta_t)\n",
    "    cannon=Cannonball(B_m,airmodel='adiabatic')\n",
    "    solver = RK2Solver(cannon)\n",
    "    solver.solve(x0,t0,t1,delta_t,terminateCondition=negativeY)\n",
    "    ranges.append(solver.history[-1][1][0] - solver.history[-2][1][0])\n",
    "\n",
    "print(ranges)    \n",
    "pylab.plot(np.log10(delta_ts), ranges,'+')"
   ]
  },
  {
   "cell_type": "markdown",
   "metadata": {
    "deletable": false,
    "editable": false,
    "nbgrader": {
     "cell_type": "markdown",
     "checksum": "427be0db04718ad7330fb5e50f8d79e2",
     "grade": false,
     "grade_id": "cell-5fc4d3849be9b71d",
     "locked": true,
     "schema_version": 3,
     "solution": false,
     "task": false
    }
   },
   "source": [
    "Now use the RK2 integrator. Determine the time step, delta_t, below which its range is within 1 m of the RK4 answer.\n",
    "Your answer should be accurate to within a factor of 2.\n",
    "\n",
    "**2marks**\n"
   ]
  },
  {
   "cell_type": "code",
   "execution_count": null,
   "metadata": {
    "init_cell": true,
    "tags": [
     "hide_input"
    ]
   },
   "outputs": [],
   "source": [
    "mfb3=myFloatBox('dt_rk2',\"delta_t= \",\"Time step (s) below which RK2 gives same answer as converged RK4 to within 1 m our set-up.\"\n",
    "               \" The answer should be accurate to within a factor of 2.\")\n",
    "mfb3.getWidget()"
   ]
  },
  {
   "cell_type": "code",
   "execution_count": null,
   "metadata": {
    "deletable": false,
    "editable": false,
    "init_cell": true,
    "nbgrader": {
     "cell_type": "code",
     "checksum": "19801e964f4811d1932150f2c25dad29",
     "grade": true,
     "grade_id": "cell-881e3e1059054879",
     "locked": true,
     "points": 2,
     "schema_version": 3,
     "solution": false,
     "task": false
    }
   },
   "outputs": [],
   "source": []
  },
  {
   "cell_type": "markdown",
   "metadata": {},
   "source": [
    "## Play area\n",
    "\n",
    "Below is a play area - there are no marks to be collected. You may want to try-out the ballistic motion code you've written by computing and plotting different trajectories. As an example, investigate how the range depends on the mass of the projectile.\n",
    "\n",
    "So far we have looked at the effect on drag on the projectile's flight. Also very relevant is the projectile's **spin**. Rafael Nadal manages to make a tennis ball spin at an almost unbelievable rate of 3000 rpm (rotations per minute). Spin is also crucial in golf. To increase range, players launch the ball with **back spin** at a rate of nearly 3000 rpm. This is so large that initially, the net acceleration on the golf ball is up, rather than down (that is, the force due to spin is larger than due to gravity). Develop a mathematical model for this, and implement it in your existing code.\n",
    "\n"
   ]
  },
  {
   "cell_type": "code",
   "execution_count": null,
   "metadata": {},
   "outputs": [],
   "source": []
  },
  {
   "cell_type": "code",
   "execution_count": null,
   "metadata": {},
   "outputs": [],
   "source": []
  },
  {
   "cell_type": "code",
   "execution_count": null,
   "metadata": {},
   "outputs": [],
   "source": []
  },
  {
   "cell_type": "code",
   "execution_count": null,
   "metadata": {},
   "outputs": [],
   "source": []
  },
  {
   "cell_type": "code",
   "execution_count": null,
   "metadata": {},
   "outputs": [],
   "source": []
  },
  {
   "cell_type": "code",
   "execution_count": null,
   "metadata": {},
   "outputs": [],
   "source": []
  },
  {
   "cell_type": "code",
   "execution_count": null,
   "metadata": {},
   "outputs": [],
   "source": []
  },
  {
   "cell_type": "code",
   "execution_count": null,
   "metadata": {},
   "outputs": [],
   "source": []
  },
  {
   "cell_type": "code",
   "execution_count": null,
   "metadata": {},
   "outputs": [],
   "source": []
  }
 ],
 "metadata": {
  "kernelspec": {
   "display_name": "Python 3",
   "language": "python",
   "name": "python3"
  },
  "language_info": {
   "codemirror_mode": {
    "name": "ipython",
    "version": 3
   },
   "file_extension": ".py",
   "mimetype": "text/x-python",
   "name": "python",
   "nbconvert_exporter": "python",
   "pygments_lexer": "ipython3",
   "version": "3.6.3"
  }
 },
 "nbformat": 4,
 "nbformat_minor": 2
}
