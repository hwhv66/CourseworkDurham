{
 "cells": [
  {
   "cell_type": "markdown",
   "metadata": {
    "deletable": false,
    "editable": false,
    "nbgrader": {
     "cell_type": "markdown",
     "checksum": "b95e77352616f4a0f3fb358ba1144242",
     "grade": false,
     "grade_id": "cell-374aed7191635f77",
     "locked": true,
     "schema_version": 3,
     "solution": false,
     "task": false
    }
   },
   "source": [
    "# The Ising model and phase transitions"
   ]
  },
  {
   "cell_type": "markdown",
   "metadata": {
    "deletable": false,
    "editable": false,
    "nbgrader": {
     "cell_type": "markdown",
     "checksum": "bc46cab3493f2c2100fdffcdaec80b98",
     "grade": false,
     "grade_id": "cell-645f8dca03a170b8",
     "locked": true,
     "schema_version": 3,
     "solution": false,
     "task": false
    }
   },
   "source": [
    "### Remarks on completing the module\n",
    "\n",
    "\n",
    "This assignment is summatively assessed.\n",
    "It is imperative that you submit the notebook on time.\n"
   ]
  },
  {
   "cell_type": "code",
   "execution_count": 66,
   "metadata": {
    "tags": [
     "hide_input"
    ]
   },
   "outputs": [],
   "source": [
    "##### from ipywidgets import widgets, interact, interactive, fixed\n",
    "from ipywidgets import widgets, interact, interactive, fixed\n",
    "from ipywidgets import Button, HBox, VBox\n",
    "import shelve\n",
    "assessmentName=\"ID\";\n",
    "import os\n",
    "\n",
    "def get_last_value(key):\n",
    "    if os.path.isfile('.choices.shelve') or os.path.isfile('.choices.shelve.dir'):\n",
    "        s=shelve.open('.choices.shelve')\n",
    "        return s.get(key,None)\n",
    "    return None\n",
    "\n",
    "def make_value_change_fn(assessmentName,name):\n",
    "    def fn(change):\n",
    "        s=shelve.open('.choices.shelve')\n",
    "        key='{0}_{1}'.format(assessmentName,name)\n",
    "        s[key]=change['new']\n",
    "        s.close()\n",
    "    return fn\n",
    " \n",
    "class myFloatBox:\n",
    "    def __init__(self,name,description,long_description):\n",
    "        self.name=name\n",
    "        self.description=description\n",
    "        self.long_description=long_description\n",
    "    def getWidget(self):\n",
    "        self.widgets=[ \n",
    "              widgets.FloatText(\n",
    "              description=self.description,\n",
    "        disabled=False,\n",
    "                  value=get_last_value('{0}_{1}'.format(assessmentName,self.name))\n",
    "        )]\n",
    "        \n",
    "        txt=widgets.HTMLMath(\n",
    "            value=self.long_description,\n",
    "            placeholder='',\n",
    "            description='',\n",
    "        )\n",
    "        \n",
    "        self.widget=VBox([txt]+self.widgets)\n",
    "        self.widgets[0].observe(make_value_change_fn(assessmentName,self.name), names='value')\n",
    "\n",
    "        return self.widget"
   ]
  },
  {
   "cell_type": "markdown",
   "metadata": {
    "deletable": false,
    "editable": false,
    "nbgrader": {
     "cell_type": "markdown",
     "checksum": "6a24a1ef7677d31284bc7ef45b3bc3bc",
     "grade": false,
     "grade_id": "cell-601df74115383a30",
     "locked": true,
     "schema_version": 3,
     "solution": false,
     "task": false
    }
   },
   "source": [
    "### Ising model\n",
    "The task for this assignment is to implement the Ising Model introduced in the lecture. The structure in terms of a code skeleton provided below needs to be followed. Otherwise the automatic tests, which allow you to test different parts of you implementation, will not work.\n",
    "\n",
    "We consider an Ising model, in which the interaction energy $E_i=E(s_i)$ of spin $i$ is calculated from\n",
    "\n",
    "\\begin{align}\n",
    "E(s_{i}) = \\frac{J}{2} \\sum\\limits_{j} (1-s_{i} s_{j})\n",
    "\\end{align}\n",
    "where the sum is over the 4 nearest neighbours of $i$.\n",
    "\n",
    "We will restrict the calculation to a 2 dimensional grid throughout, hence 4 nearest neighbours, $x=\\pm 1$, $y=\\pm 1$. Notice that the expression for $E$ is different from the form considered in the lecture. \n",
    "\n",
    "\n",
    "\n",
    "To simplify the calculations, we will use the dimensionless interaction energy \n",
    "$$\n",
    "\\mathcal{E}(s_\\mathrm{i})  \\equiv \\frac{\\beta}{2} \\sum\\limits_{j} (1-s_{i} s_{j}),\n",
    "$$\n",
    "where\n",
    "$$\n",
    "\\beta = \\frac{J}{kT},\n",
    "$$\n",
    "in the following. Here, $k$ is Boltzmann's constant, and $T$ is the temperature.\n",
    "\n",
    "Given all $N$ spin states, we calculate\n",
    "the ensenble-averaged macroscopic magnetization $\\bar{M}$, as\n",
    "\\begin{align}\n",
    "\\bar{M} = \\left\\langle\\left|\\frac{1}{N}\\sum_{i=1}^N s_{i}\\right|\\right\\rangle\n",
    "\\end{align}\n",
    "\n",
    "The $\\langle\\rangle$ brackets denote the ensemble average. The parameter $J>0$ has the dimensions of energy, and consequently $\\beta$ is dimensionless.\n",
    "\n",
    "Follow the numbered steps in the following cells.\n",
    "\n"
   ]
  },
  {
   "cell_type": "markdown",
   "metadata": {
    "deletable": false,
    "editable": false,
    "nbgrader": {
     "cell_type": "markdown",
     "checksum": "e7d03942ec9bbdbf79aa9b191de074a6",
     "grade": false,
     "grade_id": "cell-4d2ffc1ee963d79b",
     "locked": true,
     "schema_version": 3,
     "solution": false,
     "task": false
    }
   },
   "source": [
    "The cells below describe how to proceed, step-by-step. Begin by reading through all steps, comparing the instructions\n",
    "to the Ising model discussed in the lecture. Complete the assignment using the cells below. Several cells allow you to test your implementation step by step.\n"
   ]
  },
  {
   "cell_type": "markdown",
   "metadata": {
    "deletable": false,
    "editable": false,
    "nbgrader": {
     "cell_type": "markdown",
     "checksum": "69bdd422a8ed5793209cf1341e7d71ee",
     "grade": false,
     "grade_id": "cell-65bbe9bd64108117",
     "locked": true,
     "schema_version": 3,
     "solution": false,
     "task": false
    }
   },
   "source": [
    "#### 1. Set up the regular grid\n",
    "\n",
    "Set up a 2D grid in the form of a **python class**, called `Grid`. The class should contain\n",
    " - the spin array\n",
    " - the value of $J$\n",
    " \n",
    "The spin array should be a 2D array of dimension $L^2$, with $L=32$. We will address a particular spin with its 2D Cartesian coordinates $(x,y)$, where $x=0\\cdots L-1$ and $y=1\\cdots L-1$ are the indices in the 2D array. So, for example, spin $s_{xy}$ refers to the spin located at vertex $(x,y)$ of the grid.\n",
    "\n",
    "Initialize the spins on the grid randomly, meaning each spin can be either up, $s_{xy}=1$, or down,\n",
    "$s_{xy}=-1$, with equal probability.\n",
    "\n",
    "When performing calculations on the grid, we will assume **periodic boundary conditions**\n",
    "\n",
    "** no marks **"
   ]
  },
  {
   "cell_type": "markdown",
   "metadata": {
    "deletable": false,
    "editable": false,
    "nbgrader": {
     "cell_type": "markdown",
     "checksum": "aad719381a984d37922576b7e40d9bed",
     "grade": false,
     "grade_id": "cell-806075f508c08362",
     "locked": true,
     "schema_version": 3,
     "solution": false,
     "task": false
    }
   },
   "source": [
    "#### 2. Calculate the energy\n",
    "\n",
    "Write a method, `energy`, as part of the class `Grid`, which calculates the interaction energy of a given spin, $s_{xy}$, by summing over its four nearest neighbours. The function should take the grid array, $\\beta$, and the cell indices $x$ and $y$ as parameters. It should **return a python tuple** containing two dimensionless energies corresponding to the energy of the current spin state of cell $xy$, $\\mathcal{E}_\\mathrm{c} \\equiv \\mathcal{E}\\left(s_{xy}^\\mathrm{current}\\right)$ and the energy of the flipped spin state $\\mathcal{E}_\\mathrm{f} \\equiv \\mathcal{E}\\left(s_{xy}^\\mathrm{flipped}\\right)$.\n",
    "\n",
    "This means that for a cell with spin state $s_{xy} = 1$, the method should return $\\left(\\mathcal{E}\\left(s_{xy} = 1\\right), \\mathcal{E}\\left(s_{xy} = -1\\right)\\right)$ and vice versa.\n",
    "\n",
    "** Remember to account for periodic boudnary conditions on the grid.**\n",
    "\n",
    "You can test the implementation of this method using the test cells provded. What are the interaction energies of cells (6,6), (15,0) and (31, 17) of the assignment grid given below (please include the answer to this question in the PDF you hand in). \n",
    "\n",
    "** 2 marks**"
   ]
  },
  {
   "cell_type": "markdown",
   "metadata": {
    "deletable": false,
    "editable": false,
    "nbgrader": {
     "cell_type": "markdown",
     "checksum": "71707960cf7c88854ce541e9f9956aeb",
     "grade": false,
     "grade_id": "cell-7d110fec92ffe196",
     "locked": true,
     "schema_version": 3,
     "solution": false,
     "task": false
    }
   },
   "source": [
    "#### 3. Calculate the probability of flipping a spin\n",
    "\n",
    "The probability that the spin at vertex $(x,y)$ is flipped depends on the spin states of its neighbours and the value of $\\beta$ as explained in the lecture.\n",
    "\n",
    "Write a method `prob_flip` which calculates the probability that spin $s_{xy}$ is flipped, given the (dimensionless) interaction energies for the current state $\\mathcal{E}_\\mathrm{c}$ and the flipped state $\\mathcal{E}_\\mathrm{f}$. \n",
    "\n",
    "The probability for a flip is given by\n",
    "\\begin{align}\n",
    "\\mathcal{P}_\\mathrm{flip} = \n",
    "\\begin{cases}\n",
    "\\exp\\left(-\\left[\\mathcal{E}_\\mathrm{f} - \\mathcal{E}_\\mathrm{c}\\right]\\right) & \\text{if } \\mathcal{E}_\\mathrm{f} > \\mathcal{E}_\\mathrm{c}, \\\\\n",
    "1 & \\text{if } \\mathcal{E}_\\mathrm{f} \\leq \\mathcal{E}_\\mathrm{c}.\n",
    "\\end{cases}\n",
    "\\end{align}\n",
    "\n",
    "You can test the implementation of this method using the test cells provided. What are the probabilities for cells (12, 12), (18,0) and (31, 12) of the assignment grid given below (please include the answer to this question in the PDF you hand in)?\n",
    "\n",
    "** 2 marks **"
   ]
  },
  {
   "cell_type": "markdown",
   "metadata": {
    "deletable": false,
    "editable": false,
    "nbgrader": {
     "cell_type": "markdown",
     "checksum": "8669ba5e5b40ad7a5aa8abbb4e52be23",
     "grade": false,
     "grade_id": "cell-ffafa4ea8f2e4ac6",
     "locked": true,
     "schema_version": 3,
     "solution": false,
     "task": false
    }
   },
   "source": [
    "#### 4. Calculate the macroscopic  magnetisation, $M$\n",
    "\n",
    "Write a method which calculates the current macroscopic magnetisation of a given grid, and add it to the `Grid` class. The function should take the grid-array as a parameter and return the mean, macroscopic magnetisation,\n",
    "\n",
    "$$ M=\\frac{1}{N}\\sum_{i=1}^N s_i\\,.$$\n",
    "\n",
    "You can test the implementation of this method using the test cells provded. Calculate the magnetisation of the assignment grid. State the answer to 3 significant digits on the PDF file you hand in. \n",
    "\n",
    "**2 marks**"
   ]
  },
  {
   "cell_type": "markdown",
   "metadata": {
    "deletable": false,
    "editable": false,
    "nbgrader": {
     "cell_type": "markdown",
     "checksum": "4d002840f6594d12c2a9fe84f29ad816",
     "grade": false,
     "grade_id": "cell-a19bc76b5079c8f4",
     "locked": true,
     "schema_version": 3,
     "solution": false,
     "task": false
    }
   },
   "source": [
    "#### 5. Red-black sweep\n",
    "\n",
    "Write a method to sweep over all spins in turn, first in $x$ (say) and then in $y$ in a **red-black pattern**. \n",
    "Red-black means, first loop over all the red cells on a red-black chessboard pattern (looping over them $x$ first, then $y$). Once all the red cells are done,\n",
    "then update all the black cells. Add this method to the `Grid` class.\n",
    "\n",
    "For each spin in turn, flip the spin or not following the criterion discussed in the lecture. This means that the spin in each cell in turn should be flipped with a probability $\\mathcal{P}_\\mathrm{flip}$ (as discussed in step **3**). \n",
    "\n",
    "You can use the methods implemented in step **2** and **3**.\n",
    "\n",
    "** no marks **\n"
   ]
  },
  {
   "cell_type": "markdown",
   "metadata": {
    "deletable": false,
    "editable": false,
    "nbgrader": {
     "cell_type": "markdown",
     "checksum": "58f400888e9b9fbbc9647bfa965fc07f",
     "grade": false,
     "grade_id": "cell-68bfd9fcead0c447",
     "locked": true,
     "schema_version": 3,
     "solution": false,
     "task": false
    }
   },
   "source": [
    "#### 6. Thermalisation and magnetisation measurement\n",
    "Starting from a random configuration, the system needs to be evolved over a number of full red-black sweeps in order to reach thermal equilibrium. This  *thermalization* is part of the method you develop in this step.\n",
    "\n",
    "Write a method that starts by sweeping the grid $N_\\mathrm{therm}$ times to allow for the system to thermalize before you carry out any measurements. \n",
    "\n",
    "Next, the method should perform a further $N_\\mathrm{measure}$ sweeps, while in addition computing and recording the value of $M$ after every sweep. Use the method you developed in step **4** and the sweep implementaton of step **5**. \n",
    "\n",
    "$N_\\mathrm{therm}$ and $N_\\mathrm{measure}$ are input parameters of the method. The method should return a numpy array of length $N_\\mathrm{measure}$, containing the magentisations measured after each measurement sweep. \n",
    "\n",
    "Add this method to the `Grid` class.\n",
    "\n",
    "**no marks**"
   ]
  },
  {
   "cell_type": "markdown",
   "metadata": {
    "deletable": false,
    "editable": false,
    "nbgrader": {
     "cell_type": "markdown",
     "checksum": "91a1d3925dcf7ada3bd07a0e71cc6e6f",
     "grade": false,
     "grade_id": "cell-3f849a3bf500e7a9",
     "locked": true,
     "schema_version": 3,
     "solution": false,
     "task": false
    }
   },
   "source": [
    "#### 7. Thermalisation \n",
    "\n",
    "Plot the magnetisation over time for 1000 full mesh sweeps for $\\beta = 0.1, 0.8$ and $1.6$ (include the thermalisation period in the plot). Include this plot in the PDF you hand in. Save the plot to a file \n",
    "'Thermalization.pdf'\n",
    "\n",
    "**4 marks**"
   ]
  },
  {
   "cell_type": "markdown",
   "metadata": {
    "deletable": false,
    "editable": false,
    "nbgrader": {
     "cell_type": "markdown",
     "checksum": "fed74590ad361faf0fc415b784862502",
     "grade": false,
     "grade_id": "cell-bc4b6d5d7138c27c",
     "locked": true,
     "schema_version": 3,
     "solution": false,
     "task": false
    }
   },
   "source": [
    "#### 8. Ensemble-averaged magnetisation, $\\bar M$, as a function of $\\beta$\n",
    "\n",
    "Once the system has thermalized (a good choice is $N_\\mathrm{therm} =400$ thermalisation sweeps), measure the time-averaged magnetisation over 1000 sweeps. From this, estimate the ensemble-averaged magnetisation, $\\bar M$. Plot $\\bar M$ as a function of $1/\\beta$ for $\\beta = 1.6, 1.3, 1.1, 1.0, 0.9, 0.8, 0.7, 0.6, 0.4, 0.1$. Include this plot in the PDF you hand in. Save the plot to a file 'Magnetisation.pdf'.\n",
    "\n",
    "**4 marks**"
   ]
  },
  {
   "cell_type": "markdown",
   "metadata": {
    "deletable": false,
    "editable": false,
    "nbgrader": {
     "cell_type": "markdown",
     "checksum": "bd698b7650a9cf2f9eac90aa3b06f631",
     "grade": false,
     "grade_id": "cell-0b9f7dfa7f7c82a8",
     "locked": true,
     "schema_version": 3,
     "solution": false,
     "task": false
    }
   },
   "source": [
    "#### 9. Critical temperature\n",
    "\n",
    "The critical temperature, $T_c$, in the mean field approximation, is given by\n",
    "$$\n",
    "T_c=\\frac{h J}{2k_B},\n",
    "$$\n",
    "where h is the number of nearest-neighbours, as discussed in the lecture. Use this to calculate the critical value $\\beta_c$ which corresponds to the critical temperature and mark it in the plot produced in step **8** (If you could not produce the plot in step **8** you may also mention the numerical value of $\\beta_c$ on the solution you hand in).\n",
    "\n",
    "**2 marks**"
   ]
  },
  {
   "cell_type": "markdown",
   "metadata": {},
   "source": [
    "#### 10. Mean field approximation\n",
    "\n",
    "The ensemble-averaged value of the mean magnitization in the mean field approximation, is the solution of\n",
    "$$\n",
    "\\bar M - \\tanh\\left( \\frac{T_c\\bar M}{T} \\right) = 0\\,,\n",
    "$$\n",
    "as discussed in the lecture. This equation can not be solved analytically for $\\bar M$, for given\n",
    "$T_c/T$.\n",
    "\n",
    "Rewrite the equation in terms of $\\beta$ using the relation between $T$ and $\\beta$ derived before, and solve the resulting formula numerically for $\\beta = 1.6, 1.3, 1.1, 1.0, 0.9, 0.8, 0.7, 0.6, 0.4, 0.1$. You may want to use the root finding methods implemented in previous exercises. Redo the plot of step **8**, but on top of the numerical result, over plot the mean field approximation. Add a legend to the plot which allows to distinguish the solution obtained in step **8** from the mean field approximation.\n",
    "\n",
    "Save the plot as 'MeanField.pdf'\n",
    "\n",
    "**4 marks**\n"
   ]
  },
  {
   "cell_type": "markdown",
   "metadata": {
    "deletable": false,
    "editable": false,
    "nbgrader": {
     "cell_type": "markdown",
     "checksum": "9790dd89cb4affb5a2514cc2dd8de46b",
     "grade": false,
     "grade_id": "cell-9b58f2b4c67a061e",
     "locked": true,
     "schema_version": 3,
     "solution": false,
     "task": false
    }
   },
   "source": [
    "## Solution \n",
    "\n",
    "Use the cells below to complete the assignment. Use the test cells provided to make sure you are on the right track."
   ]
  },
  {
   "cell_type": "code",
   "execution_count": 79,
   "metadata": {
    "init_cell": true
   },
   "outputs": [],
   "source": [
    "%matplotlib inline\n",
    "import numpy as np\n",
    "import matplotlib.pyplot as plt \n",
    "import sys\n",
    "import os\n",
    "sys.path.append(os.getcwd())\n",
    "from scipy.interpolate import CubicSpline\n",
    "import pickle"
   ]
  },
  {
   "cell_type": "code",
   "execution_count": 80,
   "metadata": {
    "init_cell": true,
    "tags": [
     "hide_input"
    ]
   },
   "outputs": [],
   "source": [
    "# This cell is hidden from the student's notebook. It generates the buttons used in the answers.\n",
    "from ipywidgets import widgets, interact, interactive, fixed\n",
    "from ipywidgets import Button, HBox, VBox\n",
    "import shelve\n",
    "assessmentName=\"test\";\n",
    "import os\n",
    "\n",
    "def get_last_value(key):\n",
    "    if os.path.isfile('.choices.shelve') or os.path.isfile('.choices.shelve.dir'):\n",
    "        s=shelve.open('.choices.shelve')\n",
    "        return s.get(key,None)\n",
    "    return None\n",
    "\n",
    "\n",
    "class myRadioButton:\n",
    "    def __init__(self,name,description,options):\n",
    "        self.name=name\n",
    "        self.options=options\n",
    "        self.description=description\n",
    "    def getWidget(self):\n",
    "        def on_value_change(change):\n",
    "            s=shelve.open('.choices.shelve')\n",
    "            key=self.getKey()\n",
    "            s[key]=change['new']\n",
    "            s.close()\n",
    "\n",
    "        self.widget=widgets.RadioButtons(\n",
    "            options=self.options,\n",
    "            value=get_last_value(self.getKey()),\n",
    "            description=self.description,\n",
    "            disabled=False\n",
    "        )\n",
    "        self.widget.observe(on_value_change, names='value')\n",
    "\n",
    "        return self.widget\n",
    "    def getKey(self):\n",
    "        return '{0}_{1}'.format(assessmentName,self.name)\n",
    "        \n",
    "        \n",
    "def on_value_change(change):\n",
    "                s=shelve.open('.choices.shelve')\n",
    "                key='{0}_{1}_{2}'.format(assessmentName,self.name,i)\n",
    "                s[key]=change['new']\n",
    "                s.close()\n",
    "\n",
    "def make_value_change_fn(assessmentName,name,i):\n",
    "        def fn(change):\n",
    "            s=shelve.open('.choices.shelve')\n",
    "            key='{0}_{1}_{2}'.format(assessmentName,name,i)\n",
    "            s[key]=change['new']\n",
    "            s.close()\n",
    "        return fn\n",
    "\n",
    "class myCheckBoxSet:\n",
    "    def __init__(self,name,description,options):\n",
    "        self.name=name\n",
    "        self.options=options\n",
    "        self.description=description\n",
    "    def getWidget(self):\n",
    "        keys=['{0}_{1}_{2}'.format(assessmentName,self.name,i) for i in range(len(self.options))]    \n",
    "        self.widgets=[ widgets.Checkbox(value=get_last_value(key),\n",
    "    description=o,\n",
    "    disabled=False\n",
    "        ) for key,o in zip(keys,self.options)]\n",
    "        \n",
    "        txt=widgets.HTMLMath(\n",
    "            value=self.description,\n",
    "            placeholder='',\n",
    "            description='',\n",
    "        )\n",
    "\n",
    "        \n",
    "        self.widget=VBox([txt]+self.widgets)\n",
    "        for i,w in enumerate(self.widgets):\n",
    "            w.observe(make_value_change_fn(assessmentName,self.name,i), names='value')\n",
    "\n",
    "        return self.widget\n",
    "import mywidgets    "
   ]
  },
  {
   "cell_type": "code",
   "execution_count": 69,
   "metadata": {
    "deletable": false,
    "nbgrader": {
     "cell_type": "code",
     "checksum": "9d956595b2069f7a73cfbad43cd9c95b",
     "grade": false,
     "grade_id": "cell-5f80a438df56bf89",
     "locked": false,
     "schema_version": 3,
     "solution": true,
     "task": false
    }
   },
   "outputs": [],
   "source": [
    "class Grid:\n",
    "    def __init__(self, size, beta):\n",
    "        '''This function initialises the grid, i.e. it sets the \n",
    "        grid size, the value of beta and initialises the cells of the \n",
    "        grid with randomly chosen 'plus' (1) or 'minus' (-1) states.'''\n",
    "        # set self.size, self.beta, and self.cells\n",
    "        # self.cells is a 2D array, so that self.cells[i,j]=+1 or -1, the spin in grid location (i,j)\n",
    "        # YOUR CODE HERE\n",
    "        self.size = size\n",
    "        self.beta = beta\n",
    "        self.cells = []\n",
    "        for i in range(size):\n",
    "            tmp = []\n",
    "            for j in range(size):\n",
    "                if (np.random.random() > 0.5):\n",
    "                    tmp.append(1)\n",
    "                else:\n",
    "                    tmp.append(-1)\n",
    "            self.cells.append(tmp)\n",
    "#         raise NotImplementedError()\n",
    "                \n",
    "    def energy(self, i, j, beta, grid):\n",
    "        '''This function calculates the energies 'e_plus' and 'e_minus' \n",
    "        corresponding to the two possible states 'plus' and 'minus' for the spin at location (i, j)\n",
    "        of a given grid with a given value of beta.\n",
    "        returns: the two energy states 'e_current' and 'e_flip' as a tuple. \n",
    "        'e_current' is the energy of the spin (i,j) in its current spin state\n",
    "        'e_flip' is the energy of the spin (i,j) if you were to flip its spin\n",
    "        '''\n",
    "        # YOUR CODE HERE\n",
    "        e_current = 0\n",
    "        if i + 1 >= len(grid):\n",
    "            e_current += 1 - grid[0][j] * grid[i][j]\n",
    "            e_current += 1 - grid[i - 1][j] * grid[i][j]\n",
    "        else:\n",
    "            e_current += 1 - grid[i - 1][j] * grid[i][j]\n",
    "            e_current += 1 - grid[i + 1][j] * grid[i][j]\n",
    "            \n",
    "        if j + 1 >= len(grid[0]):\n",
    "            e_current += 1 - grid[i][0] * grid[i][j]\n",
    "            e_current += 1 - grid[i][j - 1] * grid[i][j]\n",
    "        else:\n",
    "            e_current += 1 - grid[i][j + 1] * grid[i][j]\n",
    "            e_current += 1 - grid[i][j - 1] * grid[i][j]\n",
    "        e_current *= beta / 2\n",
    "        e_flip = 4 * beta - e_current\n",
    "        return e_current, e_flip\n",
    "    \n",
    "    def prob_flip(self, e_current, e_flip):\n",
    "        '''This function calculates the probability of a spin flip \n",
    "        for a given spin, given the energies e_current and e_flip \n",
    "        of the current and the flipped state for the cell.\n",
    "        returns: the probability for the flip'''\n",
    "        # YOUR CODE HERE\n",
    "#         raise NotImplementedError()\n",
    "        probability_for_flip = 0\n",
    "        if e_current > e_flip:\n",
    "            probability_for_flip = 1\n",
    "        else:\n",
    "            probability_for_flip = np.exp(-1 * abs(e_flip - e_current))\n",
    "        return probability_for_flip\n",
    "    \n",
    "    def sweep(self):\n",
    "        '''This function carries out a single red-black sweep. \n",
    "        returns: nothing. For each spin in turn, it compute the probability for \n",
    "        flipping the spin, using the prob_flip function. Comparing the probablity,\n",
    "        it draws a random number to decide whether or not the flip the spin '''\n",
    "        # YOUR CODE HERE\n",
    "        new_grid = self.cells.copy()\n",
    "        for i in range(0,len(new_grid),2):\n",
    "            for j in range(0,len(new_grid[0]),2):\n",
    "                e_current, e_flip = self.energy(i, j, self.beta, self.cells)\n",
    "                probability_for_flip = self.prob_flip(e_current, e_flip)\n",
    "                if (np.random.random() < probability_for_flip):\n",
    "                    new_grid[i][j] *= -1\n",
    "        for i in range(1,len(new_grid),2):\n",
    "            for j in range(1,len(new_grid[0]),2):\n",
    "                e_current, e_flip = self.energy(i, j, self.beta, self.cells)\n",
    "                probability_for_flip = self.prob_flip(e_current, e_flip)\n",
    "                if (np.random.random() < probability_for_flip):\n",
    "                    new_grid[i][j] *= -1\n",
    "        self.cells = new_grid\n",
    "        new_grid = self.cells.copy()\n",
    "        for i in range(0,len(new_grid),2):\n",
    "            for j in range(1,len(new_grid[0]),2):\n",
    "                e_current, e_flip = self.energy(i, j, self.beta, self.cells)\n",
    "                probability_for_flip = self.prob_flip(e_current, e_flip)\n",
    "                if (np.random.random() < probability_for_flip):\n",
    "                    new_grid[i][j] *= -1\n",
    "        for i in range(1,len(new_grid),2):\n",
    "            for j in range(0,len(new_grid[0]),2):\n",
    "                e_current, e_flip = self.energy(i, j, self.beta, self.cells)\n",
    "                probability_for_flip = self.prob_flip(e_current, e_flip)\n",
    "                if (np.random.random() < probability_for_flip):\n",
    "                    new_grid[i][j] *= -1\n",
    "        new_grid = self.cells.copy()\n",
    "#         raise NotImplementedError()\n",
    "                        \n",
    "                        \n",
    "    def magnetisation(self, grid):\n",
    "        '''This function calculates the mean magnetisation of all the spin in the grid\n",
    "        returns: the mean magnetisation M'''\n",
    "        # YOUR CODE HERE\n",
    "        count = 0\n",
    "        for i in grid:\n",
    "            for j in i:\n",
    "                count += j\n",
    "        M = count / len(grid) / len(grid[0])\n",
    "#         raise NotImplementedError()\n",
    "        return M\n",
    "    \n",
    "    def do_sweeps(self, n_therm, n_measure):\n",
    "        '''This function carries out n_therm thermalisation sweeps and n_measure measurement sweeps.\n",
    "        At the end of each measurement sweep the average magnetisation is computed and recorded.\n",
    "        returns: an array of length 'n_measure' containing the recorded magnetisations for each measurement sweep.\n",
    "        It uses the sweep function, and the magnitization function'''\n",
    "        # YOUR CODE HERE\n",
    "        for i in range(n_therm):\n",
    "            self.sweep()\n",
    "        magnetisation = []\n",
    "        for i in range(n_measure):\n",
    "            self.sweep()\n",
    "            magnetisation.append(self.magnetisation(self.cells))\n",
    "        return magnetisation\n",
    "                                                                    "
   ]
  },
  {
   "cell_type": "markdown",
   "metadata": {
    "deletable": false,
    "editable": false,
    "nbgrader": {
     "cell_type": "markdown",
     "checksum": "1166f8971b842d9cea068a3cfdb6df5c",
     "grade": false,
     "grade_id": "cell-30c77daf2e82d66b",
     "locked": true,
     "schema_version": 3,
     "solution": false,
     "task": false
    }
   },
   "source": [
    "You can use the cells below to test your implementation"
   ]
  },
  {
   "cell_type": "markdown",
   "metadata": {
    "deletable": false,
    "editable": false,
    "nbgrader": {
     "cell_type": "markdown",
     "checksum": "303735cc83ebe9d5259e88fa13dba8f1",
     "grade": false,
     "grade_id": "cell-7baca58afdc08a27",
     "locked": true,
     "schema_version": 3,
     "solution": false,
     "task": false
    }
   },
   "source": [
    "### Test and assignment grids\n",
    "\n",
    "The cell below loads the test grids, `test_grid_1` and `test_grid_2`, and their corresponding values for $\\beta$, `test_beta_1` and `test_beta_2`.\n",
    "\n",
    "In addition, it loads `assignement_grid` and `assignment_beta`.\n",
    "\n",
    "Use the first two grids to test your implementation. Use the third grid to answer the assignment questions."
   ]
  },
  {
   "cell_type": "code",
   "execution_count": 81,
   "metadata": {
    "init_cell": true
   },
   "outputs": [
    {
     "name": "stdout",
     "output_type": "stream",
     "text": [
      " grid 1 loaded, size= 32  , beta=  1.6\n",
      " grid 2 loaded, size= 32  , beta=  0.8\n",
      " grid 3 loaded, size= 32  , beta=  0.1\n"
     ]
    }
   ],
   "source": [
    "filename = 'test_grid_1.pickle'\n",
    "f = open(filename, 'rb')\n",
    "(test_grid_1, test_beta_1) = pickle.load(f)\n",
    "f.close()\n",
    "\n",
    "filename = 'test_grid_2.pickle'\n",
    "f = open(filename, 'rb')\n",
    "(test_grid_2, test_beta_2) = pickle.load(f)\n",
    "f.close()\n",
    "\n",
    "filename = 'assignment_grid.pickle'\n",
    "f = open(filename, 'rb')\n",
    "(assignment_grid, assignment_beta) = pickle.load(f)\n",
    "f.close()\n",
    "\n",
    "print(\" grid 1 loaded, size=\", len(test_grid_1),\" , beta= \", test_beta_1)\n",
    "print(\" grid 2 loaded, size=\", len(test_grid_2),\" , beta= \", test_beta_2)\n",
    "print(\" grid 3 loaded, size=\", len(assignment_grid),\" , beta= \", assignment_beta)"
   ]
  },
  {
   "cell_type": "markdown",
   "metadata": {
    "deletable": false,
    "editable": false,
    "nbgrader": {
     "cell_type": "markdown",
     "checksum": "e311e5fb2348c4319d23ccf45a8d5847",
     "grade": false,
     "grade_id": "cell-34bc9793f2799f66",
     "locked": true,
     "schema_version": 3,
     "solution": false,
     "task": false
    }
   },
   "source": [
    "#### 2. Interaction energy calculation\n",
    "\n",
    "The cell below allows you to test your interaction energy calculation method. If it does not return an error your implementation might be correct.\n"
   ]
  },
  {
   "cell_type": "code",
   "execution_count": 71,
   "metadata": {},
   "outputs": [
    {
     "name": "stdout",
     "output_type": "stream",
     "text": [
      "Your implementation might be correct!\n"
     ]
    }
   ],
   "source": [
    "g1 = Grid(len(test_grid_1), test_beta_1)\n",
    "g2 = Grid(len(test_grid_2), test_beta_2)\n",
    "cells = [(6,6), (15,0), (31,17)]\n",
    "energies_1 = [(0.0, 6.4), (0.0, 6.4), (0.0, 6.4)]\n",
    "energies_2 = [(0.8, 2.4000000000000004), (1.6, 1.6), (2.4, 0.8)]\n",
    "\n",
    "for c, cell in enumerate(cells):\n",
    "    i = cell[0]\n",
    "    j = cell[1]\n",
    "    e_1 = g1.energy(i, j, test_beta_1, test_grid_1)\n",
    "    e_2 = g2.energy(i, j, test_beta_2, test_grid_2)\n",
    "    assert(np.isclose(e_1, energies_1[c]).all())\n",
    "    assert(np.isclose(e_2, energies_2[c]).all())\n",
    "\n",
    "print(\"Your implementation might be correct!\")"
   ]
  },
  {
   "cell_type": "markdown",
   "metadata": {
    "deletable": false,
    "editable": false,
    "nbgrader": {
     "cell_type": "markdown",
     "checksum": "0ccc8553af686778a7d58dfaabb5f266",
     "grade": false,
     "grade_id": "cell-b944a24db748174e",
     "locked": true,
     "schema_version": 3,
     "solution": false,
     "task": false
    }
   },
   "source": [
    "#### 3. Probability calculation\n",
    "\n",
    "The cell below allows you to test your probability calculation method. If it does not return an error your implementation might be correct.\n"
   ]
  },
  {
   "cell_type": "code",
   "execution_count": 72,
   "metadata": {},
   "outputs": [
    {
     "name": "stdout",
     "output_type": "stream",
     "text": [
      "Your implementation might be correct!\n"
     ]
    }
   ],
   "source": [
    "g1 = Grid(len(test_grid_1), test_beta_1)\n",
    "energies = [(0.1, 0.3), (0.2, 0.2), (0.3, 0.1), (1.5, 1.6), (0.1, 1.6), (0.8, 2.4)]\n",
    "probabilities = [0.8187307530779818, 1, 1, 0.9048374180359595, 0.22313016014842982, 0.20189651799465544]\n",
    "this_prob = []\n",
    "\n",
    "for i, e in enumerate(energies):\n",
    "    this_prob.append(g1.prob_flip(e[0], e[1]))\n",
    "assert(np.isclose(this_prob, probabilities).all())\n",
    "\n",
    "print(\"Your implementation might be correct!\")"
   ]
  },
  {
   "cell_type": "markdown",
   "metadata": {
    "deletable": false,
    "editable": false,
    "nbgrader": {
     "cell_type": "markdown",
     "checksum": "f35e5d15ce6584cc45cb6fac08806ece",
     "grade": false,
     "grade_id": "cell-ef8c7d14940705c6",
     "locked": true,
     "schema_version": 3,
     "solution": false,
     "task": false
    }
   },
   "source": [
    "#### 4. Magnetisation calculation\n",
    "\n",
    "The cell below allows you to test your magnetisation method. If it does not return an error your implementation might be correct.\n"
   ]
  },
  {
   "cell_type": "code",
   "execution_count": 73,
   "metadata": {},
   "outputs": [
    {
     "name": "stdout",
     "output_type": "stream",
     "text": [
      "Your implementation might be correct!\n"
     ]
    }
   ],
   "source": [
    "g1 = Grid(len(test_grid_1), test_beta_1)\n",
    "assert(np.isclose(g1.magnetisation(test_grid_1),0.193359375))\n",
    "g2 = Grid(len(test_grid_2), test_beta_2)\n",
    "assert(np.isclose(g2.magnetisation(test_grid_2),-0.3203125))\n",
    "\n",
    "print(\"Your implementation might be correct!\")"
   ]
  },
  {
   "cell_type": "markdown",
   "metadata": {
    "deletable": false,
    "editable": false,
    "nbgrader": {
     "cell_type": "markdown",
     "checksum": "c6ae173e425ceb690b852dc406bb86ca",
     "grade": false,
     "grade_id": "cell-b0739b90a0278994",
     "locked": true,
     "schema_version": 3,
     "solution": false,
     "task": false
    }
   },
   "source": [
    "#### The following hidden cell uses the assignment grid to test\n",
    " - the calculation of energies ** 2 marks**\n",
    " - the calculation of the probabilities ** 2 marks **\n",
    " - the calculation of the magnetization ** 2 marks **\n",
    "    "
   ]
  },
  {
   "cell_type": "code",
   "execution_count": null,
   "metadata": {
    "deletable": false,
    "editable": false,
    "nbgrader": {
     "cell_type": "code",
     "checksum": "a1bc14944c6069db7b40ef1f4028c807",
     "grade": true,
     "grade_id": "cell-8f689829b3325b55",
     "locked": true,
     "points": 2,
     "schema_version": 3,
     "solution": false,
     "task": false
    },
    "tags": [
     "hide_input"
    ]
   },
   "outputs": [],
   "source": []
  },
  {
   "cell_type": "code",
   "execution_count": null,
   "metadata": {
    "deletable": false,
    "editable": false,
    "nbgrader": {
     "cell_type": "code",
     "checksum": "c58d0125411a23b4b5803bfc51c7b747",
     "grade": true,
     "grade_id": "cell-23d164c50af7d0e3",
     "locked": true,
     "points": 2,
     "schema_version": 3,
     "solution": false,
     "task": false
    },
    "tags": [
     "hide_input"
    ]
   },
   "outputs": [],
   "source": []
  },
  {
   "cell_type": "markdown",
   "metadata": {
    "deletable": false,
    "editable": false,
    "nbgrader": {
     "cell_type": "code",
     "checksum": "bf24677ac44949d4500f28cdab514cb1",
     "grade": true,
     "grade_id": "cell-3322c09ef5acf014",
     "locked": true,
     "points": 2,
     "schema_version": 3,
     "solution": false,
     "task": false
    },
    "tags": [
     "hide_input"
    ]
   },
   "source": []
  },
  {
   "cell_type": "markdown",
   "metadata": {
    "deletable": false,
    "editable": false,
    "nbgrader": {
     "cell_type": "markdown",
     "checksum": "e07e10f564f8c96e911f0ce25e743183",
     "grade": false,
     "grade_id": "cell-f26380240bb65f89",
     "locked": true,
     "schema_version": 3,
     "solution": false,
     "task": false
    }
   },
   "source": [
    "#### 5 Implement the red-black sweep\n",
    "\n"
   ]
  },
  {
   "cell_type": "markdown",
   "metadata": {
    "deletable": false,
    "editable": false,
    "nbgrader": {
     "cell_type": "markdown",
     "checksum": "24b2054c4518deff7445630a38fe1845",
     "grade": false,
     "grade_id": "cell-17e4cf0acd9a2642",
     "locked": true,
     "schema_version": 3,
     "solution": false,
     "task": false
    }
   },
   "source": [
    "#### 6 Implement the thermalization step"
   ]
  },
  {
   "cell_type": "markdown",
   "metadata": {
    "deletable": false,
    "editable": false,
    "nbgrader": {
     "cell_type": "markdown",
     "checksum": "1106adc65d25fa3944b94432a429973d",
     "grade": false,
     "grade_id": "cell-89eb505675c5042b",
     "locked": true,
     "schema_version": 3,
     "solution": false,
     "task": false
    }
   },
   "source": [
    "#### 7. Thermalisation \n",
    "\n",
    "Plot the magnetisation over time for 1000 full mesh sweeps for $\\beta = 0.1, 0.8$ and $1.6$ (include the thermalisation period in the plot). Include this plot in the PDF you hand in. Save the plot as file \n",
    "'Thermalisation.pdf'\n",
    "\n",
    "**4 marks**"
   ]
  },
  {
   "cell_type": "code",
   "execution_count": 76,
   "metadata": {
    "deletable": false,
    "nbgrader": {
     "cell_type": "code",
     "checksum": "903b8d0e0c15421337ddd07625d20a7e",
     "grade": true,
     "grade_id": "cell-75a4e5f92a9fd01d",
     "locked": false,
     "points": 4,
     "schema_version": 3,
     "solution": true,
     "task": false
    }
   },
   "outputs": [
    {
     "name": "stdout",
     "output_type": "stream",
     "text": [
      "Calculation finished\n"
     ]
    },
    {
     "name": "stderr",
     "output_type": "stream",
     "text": [
      "/opt/conda/lib/python3.6/site-packages/matplotlib/figure.py:457: UserWarning: matplotlib is currently using a non-GUI backend, so cannot show the figure\n",
      "  \"matplotlib is currently using a non-GUI backend, \"\n"
     ]
    },
    {
     "data": {
      "image/png": "[encoded data removed]",
      "text/plain": [
       "<Figure size 576x360 with 1 Axes>"
      ]
     },
     "metadata": {},
     "output_type": "display_data"
    }
   ],
   "source": [
    "# for each value of beta=[0.1, 0.8, 1.6]\n",
    "#    generate a grid of size=32, with the given value of beta\n",
    "#    perform N=1000 red-black sweeps (each sweep runs over the full 32x32 grid)\n",
    "#    calculate the mean magnetization, M for each sweep\n",
    "#    Plot M as a function of sweep number.\n",
    "#    You may want to use some of the plotting commands below.\n",
    "betas = [0.1, 0.8, 1.6]\n",
    "size = 32\n",
    "grids = []\n",
    "mags = []\n",
    "tmp = []\n",
    "for beta in betas:\n",
    "    grids.append(Grid(size, beta))\n",
    "for grid in grids:\n",
    "    for i in range(1000):\n",
    "        grid.sweep()\n",
    "        tmp.append(grid.magnetisation(grid.cells))\n",
    "    mags.append(tmp)\n",
    "    tmp = []\n",
    "# set-up the figure\n",
    "print(\"Calculation finished\")\n",
    "fig, ax = plt.subplots(1,1, figsize = (8, 5))\n",
    "file = \"Thermalisation.pdf\"\n",
    "# caculate mag, the average magnetization, for N=1000 sweeps\n",
    "# # YOUR CODE HERE\n",
    "# raise NotImplementedError()\n",
    "# plot the result, annotate the file, and save the file\n",
    "ax.set_xlabel(r'$N_{steps}$')\n",
    "ax.set_ylabel(r'$M$')\n",
    "ax.set_ylim([-1.05, 1.05])\n",
    "i = 0\n",
    "for mag in mags:\n",
    "    # pass the value of beta into the plot command to generate the label, as in\n",
    "    ax.plot(np.arange(len(mag)), mag, label='beta=%.2f'%betas[i])\n",
    "    i += 1\n",
    "ax.legend()\n",
    "plt.savefig(file)\n",
    "fig.show()\n",
    "\n",
    "\n"
   ]
  },
  {
   "cell_type": "markdown",
   "metadata": {
    "deletable": false,
    "editable": false,
    "nbgrader": {
     "cell_type": "markdown",
     "checksum": "514878d5b8c54e8cc8f74b497d657a93",
     "grade": false,
     "grade_id": "cell-77e6c065c5f62fe6",
     "locked": true,
     "schema_version": 3,
     "solution": false,
     "task": false
    }
   },
   "source": [
    "#### 8. Ensemble-averaged magnetisation, $\\bar M$, as a function of $\\beta$\n",
    "\n",
    "Once the system has thermalized (a good choice is $N_\\mathrm{therm} =400$ thermalisation sweeps), measure the time-averaged magnetisation over 1000 sweeps. From this, estimate the ensemble-averaged magnetisation, $\\bar M$. Plot $\\bar M$ as a function of $1/\\beta$ for $\\beta = 1.6, 1.3, 1.1, 1.0, 0.9, 0.8, 0.7, 0.6, 0.4, 0.1$. Include this plot in the PDF you hand in. Save the plot to a file 'Magnetisation.pdf'.\n",
    "\n",
    "\n",
    "Perform the following steps:\n",
    " - for each of the listed values of beta:\n",
    " - create a $32\\times32$ random grid\n",
    "     - sweep the for N=400 initial 'thermalization' steps\n",
    "     - **then** sweep for another 1000 steps, calculating $M$ after every sweep\n",
    "     - use this to compute the ensemble-averaged magnitization, $\\bar M$ for that value of $\\beta$\n",
    " - plot $\\bar M$ as a function of $\\beta^{-1}$\n",
    "\n",
    "**4 marks**\n"
   ]
  },
  {
   "cell_type": "code",
   "execution_count": 53,
   "metadata": {
    "deletable": false,
    "nbgrader": {
     "cell_type": "code",
     "checksum": "ac5ca3381a07c39ccec1b99ef170fe43",
     "grade": true,
     "grade_id": "cell-a2a59015a36b8359",
     "locked": false,
     "points": 4,
     "schema_version": 3,
     "solution": true,
     "task": false
    }
   },
   "outputs": [
    {
     "name": "stderr",
     "output_type": "stream",
     "text": [
      "/opt/conda/lib/python3.6/site-packages/matplotlib/figure.py:457: UserWarning: matplotlib is currently using a non-GUI backend, so cannot show the figure\n",
      "  \"matplotlib is currently using a non-GUI backend, \"\n"
     ]
    },
    {
     "data": {
      "image/png": "[encoded data removed]",
      "text/plain": [
       "<Figure size 576x360 with 1 Axes>"
      ]
     },
     "metadata": {},
     "output_type": "display_data"
    }
   ],
   "source": [
    "# Step 8: Magnetisation\n",
    "\n",
    "\n",
    "# set-up the figure\n",
    "file =  \"Magnetisation.pdf\"  \n",
    "fig, ax = plt.subplots(1,1, figsize = (8, 5))\n",
    "\n",
    "# the range of values of beta\n",
    "size = 32\n",
    "betas = [1.6,1.3,1.1,1.0,0.9,0.8,0.7,0.6,0.4,0.1]\n",
    "mean_mags = []\n",
    "# Loop over values of beta, computing the ensemble-averaged M for each beta\n",
    "#    name the resulting ensemble-averaged M mean_mags\n",
    "#    It is an array with the same dimension as betas\n",
    "for beta in betas:\n",
    "    grid = Grid(size, beta)\n",
    "    mean_mags.append(np.mean(grid.do_sweeps(400, 1000)))\n",
    "# YOUR CODE HERE\n",
    "\n",
    "# make the plot\n",
    "ax.set_xlabel(r'$\\beta^{-1}$')\n",
    "ax.set_ylabel(r'$\\bar M$')\n",
    "ax.set_ylim([-1.05, 1.05])\n",
    "ax.set_xlim(0,4)\n",
    "ax.set_title(r'$\\beta^{-1}-\\bar M$')\n",
    "plt.plot(1./np.array(betas), mean_mags)\n",
    "plt.savefig(file)\n",
    "fig.show()\n"
   ]
  },
  {
   "cell_type": "markdown",
   "metadata": {
    "deletable": false,
    "editable": false,
    "nbgrader": {
     "cell_type": "markdown",
     "checksum": "05aa870f4e6b9ed668365222e1a21603",
     "grade": false,
     "grade_id": "cell-9431a9297ca36811",
     "locked": true,
     "schema_version": 3,
     "solution": false,
     "task": false
    }
   },
   "source": [
    "#### 9. Critical temperature\n",
    "\n",
    "The critical temperature, $T_c$, in the mean field approximation, is given by\n",
    "$$\n",
    "T_c=\\frac{h J}{2k_B},\n",
    "$$\n",
    "where h is the number of nearest-neighbours, as discussed in the lecture. Use this to calculate the critical value $\\beta_c$ which corresponds to the critical temperature and mark it in the plot produced in step **8** (If you could not produce the plot in step **8** you may also mention the numerical value of $\\beta_c$ on the solution you hand in).\n",
    "\n",
    "Enter your answer in the box below. If you don't see a box, execute the hidden cell below.\n",
    "\n",
    "**2 marks**"
   ]
  },
  {
   "cell_type": "code",
   "execution_count": 82,
   "metadata": {
    "init_cell": true,
    "tags": [
     "hide_input"
    ]
   },
   "outputs": [
    {
     "data": {
      "application/vnd.jupyter.widget-view+json": {
       "model_id": "d2d5d2bee31f458c849fa75dc9bf1aa7",
       "version_major": 2,
       "version_minor": 0
      },
      "text/plain": [
       "VBox(children=(HTMLMath(value='Enter your analytically calculated value of beta_c to 3 sig figs', placeholder=…"
      ]
     },
     "metadata": {},
     "output_type": "display_data"
    }
   ],
   "source": [
    "beta_crit=mywidgets.myFloatBox('Phasetransition','P1','beta_c=', 'Enter your analytically calculated value of beta_c to 3 sig figs')\n",
    "beta_crit.getWidget()"
   ]
  },
  {
   "cell_type": "code",
   "execution_count": null,
   "metadata": {
    "deletable": false,
    "editable": false,
    "nbgrader": {
     "cell_type": "code",
     "checksum": "c6ef8d72e08a5587167eed7d3e3884ed",
     "grade": true,
     "grade_id": "cell-089678b5eb329443",
     "locked": true,
     "points": 2,
     "schema_version": 3,
     "solution": false,
     "task": false
    },
    "tags": [
     "hide_input"
    ]
   },
   "outputs": [],
   "source": []
  },
  {
   "cell_type": "markdown",
   "metadata": {},
   "source": [
    "#### 10. Mean field approximation\n",
    "\n",
    "The ensemble-averaged value of the mean magnitization in the mean field approximation, is the solution of\n",
    "$$\n",
    "\\bar M - \\tanh\\left( \\frac{T_c\\bar M}{T} \\right) = 0\\,,\n",
    "$$\n",
    "as discussed in the lecture. This equation can not be solved analytically for $\\bar M$, for given\n",
    "$T_c/T$.\n",
    "\n",
    "Rewrite the equation in terms of $\\beta$ using the relation between $T$ and $\\beta$ derived before, and solve the resulting formula numerically for $\\beta = 1.6, 1.3, 1.1, 1.0, 0.9, 0.8, 0.7, 0.6, 0.4, 0.1$. You may want to use the root finding methods implemented in previous exercises. Redo the plot of step **8**, but on top of the numerical result, over plot the mean field approximation. Add a legend to the plot which allows to distinguish the solution obtained in step **8** from the mean field approximation.\n",
    "\n",
    "The numerical value of $\\bar M$ versus $\\beta$ shows that the transition from $\\bar M=0$ at hight $T$ to $\\bar M>0$ at low $T$ is not infinitely sharp. To quantify where the transition occurs, it might be useful to compute\n",
    "$\\beta_{1/2}$, the value of $\\beta$ where $\\bar M=1/2$. Calculate this for both the numerical and mean field approximation, and indicate the point $(\\beta,\\bar M)=(\\beta_{1/2}, 1/2)$ on the plot.\n",
    "\n",
    "Save the plot as 'MeanField.pdf'\n",
    "\n",
    "\n",
    "**4 marks**"
   ]
  },
  {
   "cell_type": "code",
   "execution_count": 77,
   "metadata": {
    "deletable": false,
    "nbgrader": {
     "cell_type": "code",
     "checksum": "75de5e6924652f7db94827fe26879b11",
     "grade": false,
     "grade_id": "cell-a8384464eb95e4d7",
     "locked": false,
     "schema_version": 3,
     "solution": true,
     "task": false
    }
   },
   "outputs": [],
   "source": [
    "# Implement the mean field calculation here: calculate mean_mag_MF, the mean field approximation to the magnetisation\n",
    "# for a given value of beta. Also implement the calculation of the critical value, beta_c, according to the\n",
    "# MFA\n",
    "\n",
    "from scipy.optimize import fsolve\n",
    "# YOUR CODE HERE\n",
    "def solve_m(M, beta):\n",
    "    return M - np.math.tanh(M * 2 * beta)\n",
    "\n",
    "def solve_beta(beta, M):\n",
    "    return M - np.math.tanh(M * 2 * beta)\n",
    "\n",
    "betas = [1.6,1.3,1.1,1.0,0.9,0.8,0.7,0.6,0.4,0.1]\n",
    "betas_tmp = []\n",
    "for beta in betas:\n",
    "    for i in range(3):\n",
    "        betas_tmp.append(beta)\n",
    "mean_mag_MF = []\n",
    "for beta in betas:\n",
    "    mean_mag_MF.append(fsolve(solve_m, 1, beta)[0])\n",
    "    mean_mag_MF.append(fsolve(solve_m, 0, beta)[0])\n",
    "    mean_mag_MF.append(fsolve(solve_m, -1, beta)[0])\n",
    "beta_half = fsolve(solve_beta, 0, 0.5)[0]\n",
    "T = 1 / beta_half\n",
    "# raise NotImplementedError()"
   ]
  },
  {
   "cell_type": "code",
   "execution_count": 78,
   "metadata": {
    "deletable": false,
    "nbgrader": {
     "cell_type": "code",
     "checksum": "64b5389691deebaa315e5764f3bf4157",
     "grade": true,
     "grade_id": "cell-50b81b13e39ebb8a",
     "locked": false,
     "points": 4,
     "schema_version": 3,
     "solution": true,
     "task": false
    }
   },
   "outputs": [
    {
     "name": "stderr",
     "output_type": "stream",
     "text": [
      "/opt/conda/lib/python3.6/site-packages/matplotlib/figure.py:457: UserWarning: matplotlib is currently using a non-GUI backend, so cannot show the figure\n",
      "  \"matplotlib is currently using a non-GUI backend, \"\n"
     ]
    },
    {
     "data": {
      "image/png": "[encoded data removed]",
      "text/plain": [
       "<Figure size 576x360 with 1 Axes>"
      ]
     },
     "metadata": {},
     "output_type": "display_data"
    }
   ],
   "source": [
    "# YOUR CODE HERE\n",
    "fig, ax = plt.subplots(1,1, figsize = (8, 5))\n",
    "file =  \"MeanField.pdf\" \n",
    "ax.set_xlabel(r'$\\beta$')\n",
    "ax.set_ylabel(r'$\\bar M$')\n",
    "ax.set_ylim([-1.05, 1.05])\n",
    "plt.plot(np.array(betas), mean_mags, label=\"experiment data line\")\n",
    "plt.plot(np.array(betas_tmp), mean_mag_MF, '*', label=\"numerical solution for given points\")\n",
    "plt.plot(1/T, 0.5, 'x', label=\"beta value when M_mean=1/2\")\n",
    "plt.title(r'$\\beta$-$\\bar M$')\n",
    "plt.legend()\n",
    "plt.savefig(file)\n",
    "fig.show()"
   ]
  },
  {
   "cell_type": "code",
   "execution_count": null,
   "metadata": {},
   "outputs": [],
   "source": []
  }
 ],
 "metadata": {
  "kernelspec": {
   "display_name": "Python 3",
   "language": "python",
   "name": "python3"
  },
  "language_info": {
   "codemirror_mode": {
    "name": "ipython",
    "version": 3
   },
   "file_extension": ".py",
   "mimetype": "text/x-python",
   "name": "python",
   "nbconvert_exporter": "python",
   "pygments_lexer": "ipython3",
   "version": "3.6.3"
  }
 },
 "nbformat": 4,
 "nbformat_minor": 2
}
