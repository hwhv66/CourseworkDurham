{
 "cells": [
  {
   "cell_type": "markdown",
   "metadata": {
    "deletable": false,
    "editable": false,
    "nbgrader": {
     "cell_type": "markdown",
     "checksum": "162aac331715f26f465c7f77b5d3ad95",
     "grade": false,
     "grade_id": "cell-43153b0edb2ad108",
     "locked": true,
     "schema_version": 3,
     "solution": false,
     "task": false
    }
   },
   "source": [
    "## Workshop notebooks\n",
    "\n",
    "When working on your solution, you can save your notebook as many times as you like. You can also submit \n",
    "as many times as you like. In fact, it is a good idea to save and submit often.\n",
    "\n",
    "**Only the last submission before the deadline** will be marked.\n",
    "Note that you have to **submit** at least once for your work to be marked.\n",
    "\n",
    "** Marks are out of 16 **"
   ]
  },
  {
   "cell_type": "markdown",
   "metadata": {
    "deletable": false,
    "editable": false,
    "nbgrader": {
     "cell_type": "markdown",
     "checksum": "81f6734f7d4df49ae238191225c34e6e",
     "grade": false,
     "grade_id": "cell-2a46e0d302f82a8c",
     "locked": true,
     "schema_version": 3,
     "solution": false,
     "task": false
    }
   },
   "source": [
    "The notebook contains cells with code. Some of the code is (intentionally) missing. Please insert appropriate code where it says 'YOUR CODE HERE' and delete or comment out the 'raise NotImplementedError()' statements. Cells which do not contain any 'YOUR CODE HERE' lines will allow you to test your code; if they return an error there is something wrong with your implementation; if they do not return an error your code might be correct (it is unfortunately not possible to check for every possible error)."
   ]
  },
  {
   "cell_type": "markdown",
   "metadata": {
    "deletable": false,
    "editable": false,
    "nbgrader": {
     "cell_type": "markdown",
     "checksum": "6ce8a081e1933724092eca67340bfb45",
     "grade": false,
     "grade_id": "cell-545ea94a47e65283",
     "locked": true,
     "schema_version": 3,
     "solution": false,
     "task": false
    }
   },
   "source": [
    "## Workshop V: Root finding and integration\n",
    "\n",
    "In this notebook we implement and test methods for numerical integration, namely the **Newton-Cotes**, **trapezoidal** and **Simpson** integration methods. \n",
    "\n"
   ]
  },
  {
   "cell_type": "code",
   "execution_count": 1,
   "metadata": {
    "deletable": false,
    "editable": false,
    "init_cell": true,
    "nbgrader": {
     "cell_type": "code",
     "checksum": "23d29e81d74c07dc57c964cbb2bbbbfd",
     "grade": false,
     "grade_id": "cell-f6b47f5de682f192",
     "locked": true,
     "schema_version": 3,
     "solution": false,
     "task": false
    }
   },
   "outputs": [],
   "source": [
    "%matplotlib inline\n",
    "import numpy as np\n",
    "import math\n",
    "import scipy\n",
    "from scipy import special\n",
    "from matplotlib import pyplot as plt\n",
    "from matplotlib.ticker import MaxNLocator\n"
   ]
  },
  {
   "cell_type": "markdown",
   "metadata": {
    "deletable": false,
    "editable": false,
    "nbgrader": {
     "cell_type": "markdown",
     "checksum": "67e6e4dfd87eacc333d6c1ff974b1a02",
     "grade": false,
     "grade_id": "cell-f1557437943afeae",
     "locked": true,
     "schema_version": 3,
     "solution": false,
     "task": false
    }
   },
   "source": [
    "# Part 1: Root finding\n"
   ]
  },
  {
   "cell_type": "markdown",
   "metadata": {
    "deletable": false,
    "editable": false,
    "nbgrader": {
     "cell_type": "markdown",
     "checksum": "c026956b6205797934904ee959c39c33",
     "grade": false,
     "grade_id": "cell-84e63bf61198ccfc",
     "locked": true,
     "schema_version": 3,
     "solution": false,
     "task": false
    }
   },
   "source": [
    "We will implement three methods to find the zeroes of a given function. In all cases we would like to have the option to record intermediate estimates, for example to determine the rate of convergence, or to debug when no roots are found. To do so, we will use a flag `returnPoints` to specify whether or not we want the list of root trails, and the associated function evaluations, to be returned. For example, if we found the final value of x and have the values of x stored in `xs` and the associated values $f(x_i)$ stored in `vs` we can use this code snippet to return the value:\n",
    "\n",
    "```\n",
    "if returnPoints:\n",
    "    return x,(xs,vs)\n",
    "else:\n",
    "    return x\n",
    "```\n",
    "\n",
    "The initial value(s) provided to the method should be included in `xs` and the corresponding value of the function in `vs`. "
   ]
  },
  {
   "cell_type": "markdown",
   "metadata": {
    "deletable": false,
    "editable": false,
    "nbgrader": {
     "cell_type": "markdown",
     "checksum": "66420a6ac8b9c466a70ffa8317a101ea",
     "grade": false,
     "grade_id": "cell-e66f46d5f7d90796",
     "locked": true,
     "schema_version": 3,
     "solution": false,
     "task": false
    }
   },
   "source": [
    "### Implement the Newton-Raphson method"
   ]
  },
  {
   "cell_type": "code",
   "execution_count": 10,
   "metadata": {
    "deletable": false,
    "nbgrader": {
     "cell_type": "code",
     "checksum": "79df72f1a678720f1ca303e70eb430c0",
     "grade": false,
     "grade_id": "cell-74fa2766b4a257c0",
     "locked": false,
     "schema_version": 3,
     "solution": true,
     "task": false
    }
   },
   "outputs": [],
   "source": [
    "class NotConverging(Exception):\n",
    "    ''' This is an exception to be raised when there is no convergence.'''\n",
    "    pass\n",
    "\n",
    "\n",
    "def NewtonRaphson(f,df,x0,tolerance,returnPoints=False):\n",
    "    '''\n",
    "       Finds a root of the equation f(x)=0.\n",
    "       Input:\n",
    "       f: the function f(x) (must be a one-parameter python function)\n",
    "       df: the derivative of f (must be a one-parameter python function)\n",
    "       x0: the starting value for the root finding (float)\n",
    "       torerance: the integration tolerance (float)\n",
    "       returnPoints: (bool) if True, return the result and the steps, \n",
    "       if False, return only the result. \n",
    "       \n",
    "       The function should stops iterating when \n",
    "       \n",
    "            | x_{i+1} - x_{i} | < tolerance\n",
    "            \n",
    "        and return x_{i+1}.\n",
    "        \n",
    "        To detect cases where there is a convergence problem we raise a \n",
    "        NotConverging exception if after 1000 iterations we have not \n",
    "        satisfied the above condition\n",
    "        \n",
    "    '''\n",
    "    # YOUR CODE HERE\n",
    "    x = x0\n",
    "    ans = []\n",
    "    xs = []\n",
    "    steps = []\n",
    "    step = 0\n",
    "    for i in range(1000):\n",
    "        if returnPoints:\n",
    "            xs.append(x)\n",
    "            steps.append(step)\n",
    "            step += 1\n",
    "        x = x0 - f(x0) / df(x0)\n",
    "        if (abs(x - x0) < tolerance):\n",
    "            if returnPoints:\n",
    "                steps.append(step)\n",
    "                xs.append(x)\n",
    "                ans.append(x)\n",
    "                ans.append([xs, steps])\n",
    "                return ans\n",
    "            else:\n",
    "                return x\n",
    "        x0 = x\n",
    "    raise NotConverging()"
   ]
  },
  {
   "cell_type": "code",
   "execution_count": 11,
   "metadata": {},
   "outputs": [
    {
     "data": {
      "image/png": "[encoded data removed]",
      "text/plain": [
       "<Figure size 720x504 with 1 Axes>"
      ]
     },
     "metadata": {},
     "output_type": "display_data"
    }
   ],
   "source": [
    "# Example test case: find root for the function f(x)=x^2-1\n",
    "def f(x): return np.array(x)**2-1.0\n",
    "def df(x): return 2.0*x\n",
    "\n",
    "# initial guess, take x= 0.5\n",
    "# required accuracy is acc = 1e-3\n",
    "x_guess = 0.5\n",
    "acc     = 1e-3\n",
    "ans     = NewtonRaphson(f,df,x_guess,acc,returnPoints=True)\n",
    "\n",
    "# plot result, including intermediate points\n",
    "fig, ax = plt.subplots(1,1, figsize=(10, 7))\n",
    "\n",
    "ax.plot(ans[1][0],f(ans[1][0]),'v')\n",
    "ax.plot(ans[1][0],f(ans[1][0]))\n",
    "ax.set_xlim([0,2.])\n",
    "ax.set_ylim([-1, 1.])\n",
    "ax.set_ylabel(r\"$x^2-1$\")\n",
    "ax.set_xlabel(r\"$x$\")\n",
    "ax.title.set_text(r\"Newton-Raphson root finding, $x^2-1=0$\")\n",
    "ax.grid(True)\n"
   ]
  },
  {
   "cell_type": "markdown",
   "metadata": {
    "deletable": false,
    "editable": false,
    "nbgrader": {
     "cell_type": "markdown",
     "checksum": "b2305988024cd20d05e30d7e86893e88",
     "grade": false,
     "grade_id": "cell-73490550d7e12d68",
     "locked": true,
     "schema_version": 3,
     "solution": false,
     "task": false
    }
   },
   "source": [
    "The cell below tests your implementation of the Newton-Raphson scheme.\n",
    "\n",
    "** 2 marks **"
   ]
  },
  {
   "cell_type": "code",
   "execution_count": 12,
   "metadata": {
    "deletable": false,
    "editable": false,
    "nbgrader": {
     "cell_type": "code",
     "checksum": "e9eabb6e3735f0949a586a04fca1f684",
     "grade": true,
     "grade_id": "cell-8e63e22b990441e5",
     "locked": true,
     "points": 2,
     "schema_version": 3,
     "solution": false,
     "task": false
    }
   },
   "outputs": [],
   "source": [
    "# this tests the implementation of Newton-Raphson on another function\n",
    "def f(x): return np.log(x)-np.pi \n",
    "def df(x): return 1.0/(x)\n",
    "\n",
    "assert np.isclose(NewtonRaphson(f,df,0.1,1e-10),np.exp(np.pi))\n",
    "x,(xs,vs)=NewtonRaphson(f,df,0.05,1e-3,returnPoints=True)\n",
    "assert len(xs)==9 and len(vs)==9"
   ]
  },
  {
   "cell_type": "markdown",
   "metadata": {
    "deletable": false,
    "editable": false,
    "nbgrader": {
     "cell_type": "markdown",
     "checksum": "b70045f2b9edaedb9f3e8474620a781b",
     "grade": false,
     "grade_id": "cell-02c5c84052fa34d4",
     "locked": true,
     "schema_version": 3,
     "solution": false,
     "task": false
    }
   },
   "source": [
    "### Implement the secant method"
   ]
  },
  {
   "cell_type": "code",
   "execution_count": 13,
   "metadata": {
    "deletable": false,
    "nbgrader": {
     "cell_type": "code",
     "checksum": "705d36591d565f95de6e039afdd50f90",
     "grade": false,
     "grade_id": "cell-1870f180a1b1156c",
     "locked": false,
     "schema_version": 3,
     "solution": true,
     "task": false
    }
   },
   "outputs": [],
   "source": [
    "def secant(f,x0,x1,tolerance,returnPoints=False):\n",
    "    '''\n",
    "    finds a root of the equation f(x)=0, \n",
    "    Input:\n",
    "       f: the function f(x) (must be a one-parameter python function)\n",
    "       x0, x1: the starting values for the root finding (float)\n",
    "       torerance: the integration tolerance (float)\n",
    "       returnPoints: (bool) if True, return the result and the steps, \n",
    "       if False, return only the result. \n",
    "       \n",
    "    x0 and x1 are the first two guesses (x0 != x1). Starting from these, the\n",
    "    method determines subsequent improved guesses, x2, x3, ...\n",
    "    \n",
    "    The termination condition is\n",
    "    \n",
    "    | (x_{i+1}-x{i})/(x_{i+1}+x_{i}) | < tolerance,\n",
    "    \n",
    "    where the x_{i+1} and x_{i} are the two last guesses.\n",
    "    If the method fails to converge after 1000 steps, we bail out\n",
    "    with a NotConverging exception\n",
    "    \n",
    "    '''\n",
    "    # YOUR CODE HERE\n",
    "    ans = []\n",
    "    xs = []\n",
    "    xs.append(x0)\n",
    "    steps = []\n",
    "    steps.append(0)\n",
    "    step = 1\n",
    "    for i in range(1000):\n",
    "        if returnPoints:\n",
    "            xs.append(x1)\n",
    "            steps.append(step)\n",
    "            step += 1\n",
    "        x = x1 - f(x1) * (x1 - x0) / (f(x1) - f(x0))\n",
    "        if (abs((x - x1) / (x + x1)) < tolerance):\n",
    "            if returnPoints:\n",
    "                steps.append(step)\n",
    "                xs.append(x)\n",
    "                ans.append(x)\n",
    "                ans.append([xs, steps])\n",
    "                return ans\n",
    "            else:\n",
    "                return x\n",
    "        x0 = x1\n",
    "        x1 = x\n",
    "    raise NotConverging()"
   ]
  },
  {
   "cell_type": "code",
   "execution_count": 14,
   "metadata": {},
   "outputs": [
    {
     "data": {
      "image/png": "[encoded data removed]",
      "text/plain": [
       "<Figure size 720x504 with 1 Axes>"
      ]
     },
     "metadata": {},
     "output_type": "display_data"
    }
   ],
   "source": [
    "# Example test case: find root for f(x)=x^2-1\n",
    "def f(x): return np.array(x)**2-1.0\n",
    "def df(x): return 2.0*x\n",
    "\n",
    "# initial guesses x0=0.5 and x1=2.0\n",
    "# required accuracy is acc = 1e-3\n",
    "x0, x1, acc = 0.5, 2.0, 1e-3\n",
    "ans = secant(f, x0, x1, acc, returnPoints=True)\n",
    "\n",
    "# plot approach to converged root \n",
    "fig, ax = plt.subplots(1,1, figsize=(10, 7))\n",
    "\n",
    "ax.plot(ans[1][0],f(ans[1][0]),'v')\n",
    "ax.plot(ans[1][0],f(ans[1][0]))\n",
    "ax.set_xlim([0,3.])\n",
    "ax.set_ylim([-2, 4.])\n",
    "ax.set_ylabel(r\"$x^2-1$\")\n",
    "ax.set_xlabel(r\"$x$\")\n",
    "ax.title.set_text(r\"Secant root finding, $x^2-1=0$\")\n",
    "ax.grid(True)"
   ]
  },
  {
   "cell_type": "markdown",
   "metadata": {
    "deletable": false,
    "editable": false,
    "nbgrader": {
     "cell_type": "markdown",
     "checksum": "23f21dae99523fa57cbecddfbe2e4cb6",
     "grade": false,
     "grade_id": "cell-48086cec106880d5",
     "locked": true,
     "schema_version": 3,
     "solution": false,
     "task": false
    }
   },
   "source": [
    "The cell below tests your implementation of the secant method.\n",
    "\n",
    "** 2 marks **"
   ]
  },
  {
   "cell_type": "code",
   "execution_count": 15,
   "metadata": {
    "deletable": false,
    "editable": false,
    "nbgrader": {
     "cell_type": "code",
     "checksum": "08bd6825f93a0cbe15f333fff9cf4325",
     "grade": true,
     "grade_id": "cell-88ec1c031d2ab85b",
     "locked": true,
     "points": 2,
     "schema_version": 3,
     "solution": false,
     "task": false
    }
   },
   "outputs": [],
   "source": [
    "# this tests the implementation of secant root finder on another function\n",
    "def f(x): return np.exp(x)-np.pi \n",
    "def df(x): return np.exp(x)\n",
    "\n",
    "assert np.isclose(secant(f,0,2,1e-10),np.log(np.pi))\n",
    "x,(xs,vs)=secant(f,0,2,1e-3,returnPoints=True)\n",
    "assert len(xs)==8 and len(vs)==8"
   ]
  },
  {
   "cell_type": "markdown",
   "metadata": {
    "deletable": false,
    "editable": false,
    "nbgrader": {
     "cell_type": "markdown",
     "checksum": "f3cc7c35765b41a09d4a964f98cc4ec2",
     "grade": false,
     "grade_id": "cell-50f4f152f7b018fa",
     "locked": true,
     "schema_version": 3,
     "solution": false,
     "task": false
    }
   },
   "source": [
    "### Implement the bisection method"
   ]
  },
  {
   "cell_type": "code",
   "execution_count": 16,
   "metadata": {
    "deletable": false,
    "nbgrader": {
     "cell_type": "code",
     "checksum": "80f313d970adad224cb750eef323a6a4",
     "grade": false,
     "grade_id": "cell-2f4d96ca37ffae66",
     "locked": false,
     "schema_version": 3,
     "solution": true,
     "task": false
    }
   },
   "outputs": [],
   "source": [
    "def bisect(f, x0, x1, tolerance, returnPoints=False):\n",
    "    '''\n",
    "    finds a root of the equation f(x)=0. \n",
    "    \n",
    "    Input:\n",
    "       f: the function f(x) (must be a one-parameter python function)\n",
    "       x0, x1: the first two guesses (float)\n",
    "       torerance: the integration tolerance (float)\n",
    "       returnPoints: (bool) if True, return the result and the steps, \n",
    "       if False, return only the result. \n",
    "       \n",
    "    x0 and x1 are the first two guesses.\n",
    "    They need to **straddle** a root, meaning f(x0)*f(x1)<0.\n",
    " \n",
    "    It should not matter which one corresponds to a positive \n",
    "    value of f. \n",
    "    \n",
    "    The iteration terminates when the length of the interval\n",
    "    between the two last estimates is smaller than the tolerance,\n",
    "    \n",
    "    | x_{i+1} - x_{i} | < tolerance\n",
    "    \n",
    "    When this condition is satisfied, the function should return\n",
    "    \n",
    "    x_{i+2} = (x_{i+1}-x{i}) / 2\n",
    "     \n",
    "     \n",
    "   The list of returned points should not include x0 or x1.\n",
    "\n",
    "    '''\n",
    "    # YOUR CODE HERE\n",
    "    ans = []\n",
    "    xs = []\n",
    "    steps = []\n",
    "    step = 0\n",
    "    x_new = x1\n",
    "    for i in range(1000):\n",
    "        if returnPoints:\n",
    "            xs.append(x_new)\n",
    "            steps.append(step)\n",
    "            step += 1\n",
    "        x = 1/2 * (x0 + x1)\n",
    "        if f(x) * f(x0) < 0:\n",
    "            x1 = x\n",
    "            x_new = x\n",
    "        else:\n",
    "            x0 = x\n",
    "            x_new = x\n",
    "        if (abs(x1 - x0) < tolerance):\n",
    "            if returnPoints:\n",
    "                steps.append(step)\n",
    "                xs.append(x_new)\n",
    "                ans.append(x)\n",
    "                ans.append([xs, steps])\n",
    "                return ans\n",
    "            else:\n",
    "                return x\n",
    "    raise NotConverging()"
   ]
  },
  {
   "cell_type": "code",
   "execution_count": 17,
   "metadata": {},
   "outputs": [
    {
     "data": {
      "image/png": "[encoded data removed]",
      "text/plain": [
       "<Figure size 720x504 with 1 Axes>"
      ]
     },
     "metadata": {},
     "output_type": "display_data"
    }
   ],
   "source": [
    "# Example test case: find root for x^2-1=0\n",
    "def f(x): return np.array(x)**2-1.0\n",
    "def df(x): return 2.0*x\n",
    "\n",
    "# initial guess x0=0.5, x1=2\n",
    "# accuracy is acc = 1e-3\n",
    "x0, x1, acc = 0.5, 2.0, 1e-3\n",
    "ans = bisect(f, x0, x1, acc, returnPoints=True)\n",
    "\n",
    "# plot approach to converged root\n",
    "fig, ax = plt.subplots(1,1, figsize=(10, 7))\n",
    "\n",
    "ax.plot(ans[1][0],f(ans[1][0]),'v')\n",
    "ax.plot(ans[1][0],f(ans[1][0]))\n",
    "ax.set_xlim([0,3.])\n",
    "ax.set_ylim([-2, 4.])\n",
    "ax.set_ylabel(r\"$x^2-1$\")\n",
    "ax.set_xlabel(r\"$x$\")\n",
    "ax.title.set_text(r\"Bisection root finding, $x^2-1=0$\")\n",
    "ax.grid(True)"
   ]
  },
  {
   "cell_type": "markdown",
   "metadata": {
    "deletable": false,
    "editable": false,
    "nbgrader": {
     "cell_type": "markdown",
     "checksum": "2022ac2185d78c240355c124f0852e29",
     "grade": false,
     "grade_id": "cell-53c470e320f0c6b0",
     "locked": true,
     "schema_version": 3,
     "solution": false,
     "task": false
    }
   },
   "source": [
    "The cell below tests your implementation of the bisection method.\n",
    "\n",
    "** 2 marks **"
   ]
  },
  {
   "cell_type": "code",
   "execution_count": 18,
   "metadata": {
    "deletable": false,
    "editable": false,
    "nbgrader": {
     "cell_type": "code",
     "checksum": "9037d78129b84b530009a79effcbe932",
     "grade": true,
     "grade_id": "cell-d3f38347876a79b5",
     "locked": true,
     "points": 2,
     "schema_version": 3,
     "solution": false,
     "task": false
    }
   },
   "outputs": [],
   "source": [
    "# this tests the implementation of bisection root finding on another function\n",
    "def f(x): return np.cos(x)-np.sin(x) \n",
    "def df(x): return -np.sin(x)-np.cos(x)\n",
    "\n",
    "assert np.isclose(bisect(f,0,2,1e-10),np.pi/4)\n",
    "x,(xs,vs)=bisect(f,0,2,1e-3,returnPoints=True)\n",
    "assert len(xs)==12 and len(vs)==12"
   ]
  },
  {
   "cell_type": "markdown",
   "metadata": {
    "deletable": false,
    "editable": false,
    "nbgrader": {
     "cell_type": "markdown",
     "checksum": "b8b70766f5f4a6e735831028dac381ef",
     "grade": false,
     "grade_id": "cell-092b0bb1e2def453",
     "locked": true,
     "schema_version": 3,
     "solution": false,
     "task": false
    }
   },
   "source": [
    "### Computing the roots of a function\n",
    "\n",
    "The hidden cell below defines a function f(x), and plots it over a given range in x.\n",
    "Compute the first three roots of f(x) to 6 significant figures.\n",
    "\n",
    "Enter your answers in the boxes below, in increasing order. The boxes will appear when you run the hidden cells below.\n"
   ]
  },
  {
   "cell_type": "code",
   "execution_count": 2,
   "metadata": {
    "init_cell": true,
    "tags": [
     "hide_input"
    ]
   },
   "outputs": [],
   "source": [
    "def mybisect(f, x0, x1, tolerance, returnPoints=False):\n",
    "    '''\n",
    "    finds a root of the equation f(x)=0. \n",
    "    x0 and x1 are the first two guesses.\n",
    "    They need to **straddle** a root, meaning f(x0)*f(x1)<0.\n",
    " \n",
    "    It should not matter which one corresponds to a positive \n",
    "    value of f. \n",
    "    \n",
    "    The iteration terminates when the length of the interval\n",
    "    between the two last estimates is smaller than the tolerance,\n",
    "    \n",
    "    | x_{i+1} - x_{i} | < tolerance\n",
    "    \n",
    "    When this condition is satisfied, the function should return\n",
    "    \n",
    "    x_{i+2} = (x_{i+1}-x{i}) / 2\n",
    "     \n",
    "     \n",
    "   The list of returned points should not include x0 or x1.\n",
    "\n",
    "    '''\n",
    "    nIter=0\n",
    "    f0=f(x0)\n",
    "    f1=f(x1)\n",
    "    if f0*f1>0:\n",
    "        print(f0,f1)\n",
    "        raise NotConverging\n",
    "    if f0>0:\n",
    "        xpos=x0\n",
    "        xneg=x1\n",
    "    else:\n",
    "        xpos=x1\n",
    "        xneg=x0        \n",
    "    xs=[]\n",
    "    vs=[]\n",
    "    while nIter<10000:\n",
    "        xnew=(xpos+xneg)/2\n",
    "        fnew=f(xnew)\n",
    "        # print(xpos,xneg,xnew)\n",
    "        # print(f(xpos),f(xneg),f(xnew))\n",
    "        xs.append(xnew)\n",
    "        vs.append(fnew)\n",
    "        if abs(xpos-xneg)<tolerance:\n",
    "            if returnPoints:\n",
    "                return xnew,(xs,vs)\n",
    "            else:\n",
    "                return xnew\n",
    "        if fnew>0:\n",
    "            xpos=xnew\n",
    "        else:\n",
    "            xneg=xnew\n",
    "            \n"
   ]
  },
  {
   "cell_type": "code",
   "execution_count": 3,
   "metadata": {
    "init_cell": true,
    "tags": [
     "hide_input"
    ]
   },
   "outputs": [
    {
     "name": "stdout",
     "output_type": "stream",
     "text": [
      "[2.4048255383968353, 5.520078107714653, 8.653727933764458]\n"
     ]
    },
    {
     "data": {
      "image/png": "[encoded data removed]",
      "text/plain": [
       "<Figure size 720x504 with 1 Axes>"
      ]
     },
     "metadata": {},
     "output_type": "display_data"
    }
   ],
   "source": [
    "def f(x):\n",
    "    return special.jv(0,x)\n",
    "\n",
    "x = np.arange(0,100,0.1)    \n",
    "fig, ax = plt.subplots(1,1, figsize=(10, 7))\n",
    "\n",
    "ax.plot(x,f(x))\n",
    "\n",
    "ax.set_xlim([0, 14])\n",
    "ax.set_ylim([-0.5, 0.75])\n",
    "ax.set_ylabel(r\"$f(x)$\")\n",
    "ax.set_xlabel(r\"$x$\")\n",
    "ax.title.set_text(r\"The function f(x)\")\n",
    "ax.grid(True)\n",
    "    \n",
    "\n",
    "# Our solution uses bi-section\n",
    "xlow    = [1., 3., 6.]\n",
    "xhigh   = [3., 6., 9.]\n",
    "myroots = []\n",
    "for x0,x1 in zip(xlow, xhigh):\n",
    "    myroots.append(mybisect(f, x0, x1, 1e-7))\n",
    "\n",
    "# print bisection answer, and compare to known zeros of bessel function    \n",
    "print(myroots)\n",
    "# roots are [2.4048255383968353, 5.520078107714653, 8.653727933764458]\n",
    "# print(special.jn_zeros(0,3)-myroots)\n",
    "\n"
   ]
  },
  {
   "cell_type": "markdown",
   "metadata": {
    "deletable": false,
    "editable": false,
    "nbgrader": {
     "cell_type": "markdown",
     "checksum": "d1281c934ad4e052f2e8d4bf5f2dd3db",
     "grade": false,
     "grade_id": "cell-b37bf064c56da7ad",
     "locked": true,
     "schema_version": 3,
     "solution": false,
     "task": false
    }
   },
   "source": [
    "Compute the roots of function `f(x)` above. You may want to create some more cells to do so.\n"
   ]
  },
  {
   "cell_type": "code",
   "execution_count": 4,
   "metadata": {
    "deletable": false,
    "editable": false,
    "init_cell": true,
    "nbgrader": {
     "cell_type": "code",
     "checksum": "6bc5cdb5fc9aee98dbad1fb77e0ade4c",
     "grade": false,
     "grade_id": "cell-4420c37571859848",
     "locked": true,
     "schema_version": 3,
     "solution": false,
     "task": false
    },
    "tags": [
     "hide_input"
    ]
   },
   "outputs": [
    {
     "data": {
      "application/vnd.jupyter.widget-view+json": {
       "model_id": "ff0ad24fe3cd45dea69ef1b8568ceb19",
       "version_major": 2,
       "version_minor": 0
      },
      "text/plain": [
       "VBox(children=(HTMLMath(value='First root. (Specify the answer to 7 significant digits)', placeholder=''), Flo…"
      ]
     },
     "metadata": {},
     "output_type": "display_data"
    }
   ],
   "source": [
    "import mywidgets\n",
    "root1=mywidgets.myFloatBox('root','q1','Root 1 = ','First root. (Specify the answer to 7 significant digits)')\n",
    "root1.getWidget()\n",
    "\n"
   ]
  },
  {
   "cell_type": "code",
   "execution_count": 5,
   "metadata": {
    "deletable": false,
    "editable": false,
    "init_cell": true,
    "nbgrader": {
     "cell_type": "code",
     "checksum": "aa3166d0e4f1609a38da9b9f04517055",
     "grade": false,
     "grade_id": "cell-5179458a9d833e9c",
     "locked": true,
     "schema_version": 3,
     "solution": false,
     "task": false
    },
    "tags": [
     "hide_input"
    ]
   },
   "outputs": [
    {
     "data": {
      "application/vnd.jupyter.widget-view+json": {
       "model_id": "80f3f34e76d040b9b0ddc5a32def8b4c",
       "version_major": 2,
       "version_minor": 0
      },
      "text/plain": [
       "VBox(children=(HTMLMath(value='Second root. (Specify the answer to 7 significant digits)', placeholder=''), Fl…"
      ]
     },
     "metadata": {},
     "output_type": "display_data"
    }
   ],
   "source": [
    "root2=mywidgets.myFloatBox('root','q2','Root 2 = ','Second root. (Specify the answer to 7 significant digits)')\n",
    "root2.getWidget()"
   ]
  },
  {
   "cell_type": "code",
   "execution_count": 6,
   "metadata": {
    "deletable": false,
    "editable": false,
    "init_cell": true,
    "nbgrader": {
     "cell_type": "code",
     "checksum": "8848390fe8c02e985cf9e453697013fe",
     "grade": false,
     "grade_id": "cell-176dad6317501e73",
     "locked": true,
     "schema_version": 3,
     "solution": false,
     "task": false
    },
    "tags": [
     "hide_input"
    ]
   },
   "outputs": [
    {
     "data": {
      "application/vnd.jupyter.widget-view+json": {
       "model_id": "7ddd66a571be469fa5d375bb0d041a13",
       "version_major": 2,
       "version_minor": 0
      },
      "text/plain": [
       "VBox(children=(HTMLMath(value='Third root. (Specify the answer to 7 significant digits)', placeholder=''), Flo…"
      ]
     },
     "metadata": {},
     "output_type": "display_data"
    }
   ],
   "source": [
    "root3=mywidgets.myFloatBox('root','q3','Root 3 = ','Third root. (Specify the answer to 7 significant digits)')\n",
    "root3.getWidget()\n"
   ]
  },
  {
   "cell_type": "code",
   "execution_count": null,
   "metadata": {
    "deletable": false,
    "editable": false,
    "nbgrader": {
     "cell_type": "code",
     "checksum": "b024df1247ff01950f6eb128270ac8c4",
     "grade": true,
     "grade_id": "cell-4eb90e5ddc9c6e03",
     "locked": true,
     "points": 2,
     "schema_version": 3,
     "solution": false,
     "task": false
    },
    "tags": [
     "hide_input"
    ]
   },
   "outputs": [],
   "source": []
  },
  {
   "cell_type": "markdown",
   "metadata": {
    "deletable": false,
    "editable": false,
    "nbgrader": {
     "cell_type": "markdown",
     "checksum": "1a977e1f5cf634be14736cfed49add0b",
     "grade": false,
     "grade_id": "cell-0ba59195e379d061",
     "locked": true,
     "schema_version": 3,
     "solution": false,
     "task": false
    }
   },
   "source": [
    "## Rate of convergence of root finders\n",
    "\n",
    "We are now going to look at the three methods and see how they compare, by finding zeroes of the function  f(x)=x−tanh(2x). The first few cells below illustrate the method. Run them to see what happens. Next you will be asked to examine the convergence for a different function."
   ]
  },
  {
   "cell_type": "code",
   "execution_count": 24,
   "metadata": {},
   "outputs": [
    {
     "data": {
      "image/png": "[encoded data removed]",
      "text/plain": [
       "<Figure size 720x504 with 1 Axes>"
      ]
     },
     "metadata": {},
     "output_type": "display_data"
    }
   ],
   "source": [
    "# define the function and compute its derivative\n",
    "def f(x): return x-np.tanh(2*x)\n",
    "def df(x): return 1.0-2.0/np.cosh(2*x)**2\n",
    "\n",
    "# plot the function\n",
    "fig, ax = plt.subplots(1,1, figsize=(10, 7))\n",
    "xmin,xmax =0, 1.2\n",
    "xs=np.linspace(xmin,xmax,50)\n",
    "ax.plot(xs,f(xs))\n",
    "\n",
    "#ax.plot.hlines(0,xmin,xmax)\n",
    "ax.set_xlim([0,1.5])\n",
    "ax.set_ylim([-0.5, 0.5])\n",
    "ax.set_ylabel(r\"$f(x)$\")\n",
    "ax.set_xlabel(r\"$x$\")\n",
    "ax.title.set_text(r\"The function f(x)\")\n",
    "ax.grid(True)\n",
    "\n",
    "\n"
   ]
  },
  {
   "cell_type": "markdown",
   "metadata": {
    "deletable": false,
    "editable": false,
    "nbgrader": {
     "cell_type": "markdown",
     "checksum": "66ece82d9b5a9fccfd0d568dc5b656ff",
     "grade": false,
     "grade_id": "cell-eceb41a1b3f4c64f",
     "locked": true,
     "schema_version": 3,
     "solution": false,
     "task": false
    }
   },
   "source": [
    "In the following cell, we use all three methods to compute the root. We also plot the relative error versus the iteration count, to examine the rate of convergence\n"
   ]
  },
  {
   "cell_type": "code",
   "execution_count": 25,
   "metadata": {},
   "outputs": [
    {
     "data": {
      "text/plain": [
       "<matplotlib.legend.Legend at 0x7f2f0e2cce48>"
      ]
     },
     "execution_count": 25,
     "metadata": {},
     "output_type": "execute_result"
    },
    {
     "data": {
      "image/png": "[encoded data removed]",
      "text/plain": [
       "<Figure size 1080x504 with 3 Axes>"
      ]
     },
     "metadata": {},
     "output_type": "display_data"
    }
   ],
   "source": [
    "fig, ax = plt.subplots(1,3, figsize=(15, 7))\n",
    "\n",
    "methods = ['Newton-Rapshon', 'Secant', 'Bisection']\n",
    "# methods = ['Bisection']\n",
    "\n",
    "ax[0].set_xlim([0, 20])\n",
    "ax[0].xaxis.set_major_locator(MaxNLocator(integer=True))\n",
    "ax[0].set_ylim([-0.5, 0.5])\n",
    "ax[0].set_ylabel(r\"$f(x)$\")\n",
    "ax[0].set_xlabel(r\"Iteration count\")\n",
    "ax[0].title.set_text(r\"The function f(x)\")\n",
    "ax[0].grid(True)\n",
    "\n",
    "ax[1].set_xlim([0, 20])\n",
    "ax[1].xaxis.set_major_locator(MaxNLocator(integer=True))\n",
    "ax[1].set_ylim([0.6, 1.1])\n",
    "ax[1].set_ylabel(r\"x\")\n",
    "ax[1].set_xlabel(r\"Iteration count\")\n",
    "ax[1].title.set_text(r\"The root\")\n",
    "ax[1].grid(True)\n",
    "\n",
    "ax[2].set_xlim([0, 20])\n",
    "ax[2].xaxis.set_major_locator(MaxNLocator(integer=True))\n",
    "ax[2].set_ylim([-10, 0.])\n",
    "ax[2].set_ylabel(r\"log relative error\")\n",
    "ax[2].set_xlabel(r\"Iteration count\")\n",
    "ax[2].title.set_text(r\"Convergence rate\")\n",
    "\n",
    "\n",
    "for method in methods:\n",
    "    if(method == methods[0]):\n",
    "        x,(xs,vs)=NewtonRaphson(f,df,0.6,1e-10,returnPoints=True)\n",
    "    if(method == methods[1]):\n",
    "        x,(xs,vs)=secant(f,1.0,0.5,1e-10,returnPoints=True)\n",
    "    if(method == methods[2]):\n",
    "        x,(xs,vs)=bisect(f,0.7,1.2,1e-10,returnPoints=True)\n",
    "\n",
    "    # plot function value for successive roots\n",
    "    xs    = np.array(xs)\n",
    "    vs    = np.array(vs)\n",
    "    count = np.arange(0, len(xs), 1) \n",
    "    \n",
    "    # function value\n",
    "    ax[0].plot(count, vs, marker = 'o', ls = '-', label=method)\n",
    "    \n",
    "    # root\n",
    "    ax[1].plot(count, xs, marker = 'o', ls = '-', label=method)\n",
    "    \n",
    "    # relative accuracy\n",
    "    target=xs[-1]\n",
    "    reldiff=abs((xs-target)/target)\n",
    "    mask = np.where(reldiff > 0)[0].astype(np.int32)\n",
    "    ax[2].plot(count[mask], np.log10(reldiff[mask]), marker = 'o', ls = '-', label=method)\n",
    " \n",
    "ax[0].legend()\n",
    "ax[1].legend()\n",
    "ax[2].legend()\n"
   ]
  },
  {
   "cell_type": "markdown",
   "metadata": {},
   "source": [
    "The function $f(x)=x^5-3x^2+3$ has a root near $x=0.8$. Use the Newton-Raphson scheme to find the root.\n",
    "Start from the guess $x=-0.1$. After how many iterations is the tolerance better than $10^{-6}$?\n",
    "Create some more cells below to answer this question.\n",
    "\n",
    "**1 mark **\n",
    "\n"
   ]
  },
  {
   "cell_type": "code",
   "execution_count": 26,
   "metadata": {},
   "outputs": [
    {
     "name": "stdout",
     "output_type": "stream",
     "text": [
      "13\n"
     ]
    }
   ],
   "source": [
    "def f(x): return x ** 5 - 3 * x ** 2 + 3\n",
    "def df(x): return 5 * x ** 4 - 6 * x\n",
    "x,(xs,vs)=NewtonRaphson(f,df,-0.1,1e-6,returnPoints=True)\n",
    "print(len(vs))\n"
   ]
  },
  {
   "cell_type": "markdown",
   "metadata": {},
   "source": [
    "13 iterations are used to make the tolerance better than 1e-6"
   ]
  },
  {
   "cell_type": "code",
   "execution_count": 27,
   "metadata": {
    "deletable": false,
    "editable": false,
    "nbgrader": {
     "cell_type": "code",
     "checksum": "a17b3e7540f4dad463841fadfa0e6201",
     "grade": true,
     "grade_id": "cell-9e16407c55382eb0",
     "locked": true,
     "points": 0,
     "schema_version": 3,
     "solution": false,
     "task": false
    },
    "tags": [
     "hide_input"
    ]
   },
   "outputs": [
    {
     "data": {
      "text/html": [
       "<hr>"
      ],
      "text/plain": [
       "<IPython.core.display.HTML object>"
      ]
     },
     "metadata": {},
     "output_type": "display_data"
    }
   ],
   "source": [
    "from IPython.display import display, HTML\n",
    "display(HTML('<hr>'))"
   ]
  },
  {
   "cell_type": "code",
   "execution_count": null,
   "metadata": {
    "deletable": false,
    "editable": false,
    "nbgrader": {
     "cell_type": "code",
     "checksum": "706dcce7d7399abdaa30189c02d4390c",
     "grade": true,
     "grade_id": "cell-06908e1485246933",
     "locked": true,
     "points": 1,
     "schema_version": 3,
     "solution": false,
     "task": false
    }
   },
   "outputs": [],
   "source": []
  },
  {
   "cell_type": "markdown",
   "metadata": {
    "deletable": false,
    "editable": false,
    "nbgrader": {
     "cell_type": "markdown",
     "checksum": "43cf984a6bda401973ec068e46fcfed1",
     "grade": false,
     "grade_id": "cell-3a5cf328b20da0e4",
     "locked": true,
     "schema_version": 3,
     "solution": false,
     "task": false
    }
   },
   "source": [
    "Examine root finding for the function $f(x)=x^3+3x^2+x+1$.\n",
    "Insert some more cells to answer the following questions.\n",
    "\n",
    "**2 marks**"
   ]
  },
  {
   "cell_type": "code",
   "execution_count": 28,
   "metadata": {},
   "outputs": [
    {
     "name": "stdout",
     "output_type": "stream",
     "text": [
      "21\n"
     ]
    }
   ],
   "source": [
    "def f(x): return x ** 3 - 3 * x ** 2 + x + 1\n",
    "def df(x): return 3 * x ** 2 + 6 * x + 1\n",
    "x,(xs,vs) = bisect(f,-3,-2,1e-6,returnPoints=True)\n",
    "print(len(vs))"
   ]
  },
  {
   "cell_type": "code",
   "execution_count": 7,
   "metadata": {
    "deletable": false,
    "editable": false,
    "init_cell": true,
    "nbgrader": {
     "cell_type": "code",
     "checksum": "e26549b2b0a6d15e8f3e4adc30b7b51e",
     "grade": false,
     "grade_id": "cell-cbd88aa3d17b261c",
     "locked": true,
     "schema_version": 3,
     "solution": false,
     "task": false
    }
   },
   "outputs": [
    {
     "data": {
      "application/vnd.jupyter.widget-view+json": {
       "model_id": "ec6f65b0cf7f4d9b81f932ff763c56cc",
       "version_major": 2,
       "version_minor": 0
      },
      "text/plain": [
       "VBox(children=(HTMLMath(value='Next we consider the function $f(x)=x^3+3x^2+x+1$, which of the following state…"
      ]
     },
     "metadata": {},
     "output_type": "display_data"
    }
   ],
   "source": [
    "import mywidgets\n",
    "mcb=mywidgets.myCheckBoxSet('root','q5',\"Next we consider the function $f(x)=x^3+3x^2+x+1$, which of the following statements are true?\",[\n",
    "    \"The Newton-Raphson method converges for $x_0=0$ in less than 10 iterations\",\n",
    "    \"The Newton-Raphson method converges quicker for $x_0=-3$ than for $x_0=-2$\",\n",
    "    \"For a tolerance of $10^{-6}$ the secant method is quicker than the bisection method with $x_0=-3$ and $x_1=-2$\"\n",
    "])\n",
    "mcb.getWidget()"
   ]
  },
  {
   "cell_type": "code",
   "execution_count": 30,
   "metadata": {
    "deletable": false,
    "editable": false,
    "nbgrader": {
     "cell_type": "code",
     "checksum": "8dc015efd6cc0182e741412741977b75",
     "grade": true,
     "grade_id": "cell-85ecd5c244f3a014",
     "locked": true,
     "points": 2,
     "schema_version": 3,
     "solution": false,
     "task": false
    },
    "tags": [
     "hide_input"
    ]
   },
   "outputs": [
    {
     "data": {
      "text/html": [
       "<hr>"
      ],
      "text/plain": [
       "<IPython.core.display.HTML object>"
      ]
     },
     "metadata": {},
     "output_type": "display_data"
    }
   ],
   "source": [
    "from IPython.display import display, HTML\n",
    "display(HTML('<hr>'))"
   ]
  },
  {
   "cell_type": "markdown",
   "metadata": {
    "deletable": false,
    "editable": false,
    "nbgrader": {
     "cell_type": "markdown",
     "checksum": "6d11ca25c45787c662fdeb0731083ee3",
     "grade": false,
     "grade_id": "cell-aff9c9cdac528303",
     "locked": true,
     "schema_version": 3,
     "solution": false,
     "task": false
    }
   },
   "source": [
    "# Part 2: Numerical integration"
   ]
  },
  {
   "cell_type": "markdown",
   "metadata": {
    "deletable": false,
    "editable": false,
    "nbgrader": {
     "cell_type": "markdown",
     "checksum": "aa78fa90f58b51af02ff1bcd58505585",
     "grade": false,
     "grade_id": "cell-bfc40045588483e0",
     "locked": true,
     "schema_version": 3,
     "solution": false,
     "task": false
    }
   },
   "source": [
    "## Integration\n",
    "Please implement the Newton-Cotes, Trapezoidal and Simpson rule integration methods in the following cells. Each integrator should take the following arguments:\n",
    "\n",
    "- `f`: the function to be integrated\n",
    "- `xmin` and `xmax`: the lower and upper limits of integration\n",
    "- `N`: the number of subdivisions of the interval, for `N` subdivisions we will evaluate the function `f` at `N+1` locations (including at `xmin` and `xmax`)  \n",
    "\n",
    "Hint: You might want to look at the function `linspace` in the numpy module... "
   ]
  },
  {
   "cell_type": "markdown",
   "metadata": {
    "deletable": false,
    "editable": false,
    "nbgrader": {
     "cell_type": "markdown",
     "checksum": "a7c880e75f5bf6e3a40c130d6f21a3d0",
     "grade": false,
     "grade_id": "cell-5439927964ea8811",
     "locked": true,
     "schema_version": 3,
     "solution": false,
     "task": false
    }
   },
   "source": [
    "### Newton-Cotes\n",
    "\n",
    "Implement the Newton-Cotes integration method in the next cell"
   ]
  },
  {
   "cell_type": "code",
   "execution_count": 31,
   "metadata": {
    "deletable": false,
    "nbgrader": {
     "cell_type": "code",
     "checksum": "16b166a9a06ec139d4bf7d559a01306e",
     "grade": false,
     "grade_id": "cell-f09f2b70177aa623",
     "locked": false,
     "schema_version": 3,
     "solution": true
    }
   },
   "outputs": [],
   "source": [
    "def NCintegrate(f,xmin,xmax,N):\n",
    "    ''' This function performs a Newton-Cotes integration of function'''\n",
    "    # YOUR CODE HERE\n",
    "    delta_x = (xmax - xmin) / N\n",
    "    square = 0\n",
    "    for i in range(N):\n",
    "        square += f(xmin + i * delta_x) * delta_x\n",
    "    return square"
   ]
  },
  {
   "cell_type": "markdown",
   "metadata": {
    "deletable": false,
    "editable": false,
    "nbgrader": {
     "cell_type": "markdown",
     "checksum": "1cd5ea546e1c10f9d76d7073978791ee",
     "grade": false,
     "grade_id": "cell-25c13d1d931a11f2",
     "locked": true,
     "schema_version": 3,
     "solution": false,
     "task": false
    }
   },
   "source": [
    "The next cell tests your Newton-Cotes implementaton, by calculating the following numerical integrals, using **500** segments.\n",
    "\n",
    " - $\\int_0^1 x^{1/2}\\,{\\rm d}x$\n",
    "\n",
    " - $\\int_0^1 exp(-x^2)\\,{\\rm dx}$\n",
    "\n",
    "**1 mark**\n"
   ]
  },
  {
   "cell_type": "code",
   "execution_count": 32,
   "metadata": {
    "deletable": false,
    "editable": false,
    "nbgrader": {
     "cell_type": "code",
     "checksum": "8b4c3f7f5801887b9f62d46c44b3394e",
     "grade": true,
     "grade_id": "cell-513f8dcc166f16ca",
     "locked": true,
     "points": 1,
     "schema_version": 3,
     "solution": false
    }
   },
   "outputs": [],
   "source": [
    "# test of the NC method\n",
    "def test_sqrt(x): return np.sqrt(x)\n",
    "def test_gauss(x): return np.exp(-x**2)\n",
    "\n",
    "#\n",
    "# print(NCintegrate(test_gauss,0,1,500))\n",
    "# print(np.sqrt(np.pi)*special.erf(1.)/2)\n",
    "# print(NCintegrate(test_sqrt,0,1,500))\n",
    "# print(2./3.)\n",
    "#\n",
    "\n",
    "assert np.isclose(NCintegrate(test_sqrt,0,1,500),0.665648239)\n",
    "assert np.isclose(NCintegrate(test_gauss,0,1,500),0.7474560081182616)"
   ]
  },
  {
   "cell_type": "markdown",
   "metadata": {
    "deletable": false,
    "editable": false,
    "nbgrader": {
     "cell_type": "markdown",
     "checksum": "82dc9eaea7b8da9b86ed2e43c3bdec7c",
     "grade": false,
     "grade_id": "cell-3fc60e070c095cd8",
     "locked": true,
     "schema_version": 3,
     "solution": false,
     "task": false
    }
   },
   "source": [
    "### Trapezoidal rule\n",
    "\n",
    "Implement the trapezoidal rule integration method in the next cell"
   ]
  },
  {
   "cell_type": "code",
   "execution_count": 33,
   "metadata": {
    "deletable": false,
    "nbgrader": {
     "cell_type": "code",
     "checksum": "cd00868ed2024104f1b97212333c35fe",
     "grade": false,
     "grade_id": "cell-5b4babb4a8ef2a2b",
     "locked": false,
     "schema_version": 3,
     "solution": true
    }
   },
   "outputs": [],
   "source": [
    "def Trapezoidal(f,xmin,xmax,N):\n",
    "    delta_x = (xmax - xmin) / N\n",
    "    square = 0\n",
    "    for i in range(N):\n",
    "        square += f(xmin + i * delta_x) * delta_x\n",
    "    square += (f(xmax) - f(xmin)) * delta_x / 2\n",
    "    return square"
   ]
  },
  {
   "cell_type": "markdown",
   "metadata": {
    "deletable": false,
    "editable": false,
    "nbgrader": {
     "cell_type": "markdown",
     "checksum": "bca3b574f1014e9a1dbb43916050da13",
     "grade": false,
     "grade_id": "cell-7f2ba92363b7df8d",
     "locked": true,
     "schema_version": 3,
     "solution": false,
     "task": false
    }
   },
   "source": [
    "The next cell tests trapezoidal rule implementaton, by calculating the following numerical integrals, using **N=500** segments\n",
    "\n",
    "  - $\\int_0^{10} \\sin(x)^{2}\\,{\\rm d}x$\n",
    "\n",
    "  - $\\int_0^1 exp(-x^2)\\,{\\rm dx}$\n",
    "\n",
    "**1 mark**"
   ]
  },
  {
   "cell_type": "code",
   "execution_count": 34,
   "metadata": {
    "deletable": false,
    "editable": false,
    "nbgrader": {
     "cell_type": "code",
     "checksum": "67c45be48a0884c8a4c472f195696805",
     "grade": true,
     "grade_id": "cell-bb5e254109f41241",
     "locked": true,
     "points": 1,
     "schema_version": 3,
     "solution": false
    }
   },
   "outputs": [],
   "source": [
    "# test of the Trapezoidal method\n",
    "def test(x): return np.sin(x**2)\n",
    "\n",
    "# \n",
    "# print(Trapezoidal(test_sqrt,0,1,500))\n",
    "# print(Trapezoidal(test_gauss,0,1,500))\n",
    "#\n",
    "\n",
    "assert np.isclose(Trapezoidal(test_sqrt,0,1,500),0.6666482394240997)\n",
    "assert np.isclose(Trapezoidal(test_gauss,0,1,500),0.7468238875594331)"
   ]
  },
  {
   "cell_type": "markdown",
   "metadata": {
    "deletable": false,
    "editable": false,
    "nbgrader": {
     "cell_type": "markdown",
     "checksum": "a2da3e6bc796eec278bb6ac4113a95cc",
     "grade": false,
     "grade_id": "cell-77313ce47f79016a",
     "locked": true,
     "schema_version": 3,
     "solution": false,
     "task": false
    }
   },
   "source": [
    "### Simpson's rule\n",
    "\n",
    "Implement Simpson's rule integration method in the next cell"
   ]
  },
  {
   "cell_type": "code",
   "execution_count": 35,
   "metadata": {
    "deletable": false,
    "nbgrader": {
     "cell_type": "code",
     "checksum": "8a4491201dfcb76e61e4c130cbc871e2",
     "grade": false,
     "grade_id": "cell-75a83b9700b0fecb",
     "locked": false,
     "schema_version": 3,
     "solution": true
    }
   },
   "outputs": [],
   "source": [
    "def Simpson(f,xmin,xmax,N):\n",
    "    # YOUR CODE HERE\n",
    "    delta_x = (xmax - xmin) / N\n",
    "    square = 0\n",
    "    for i in range(0, N - 1, 2):\n",
    "        square += delta_x / 3 * (f(xmin + i * delta_x) + 4 * f(xmin + (i + 1) * delta_x) + f(xmin + (i + 2) * delta_x))\n",
    "    return square"
   ]
  },
  {
   "cell_type": "markdown",
   "metadata": {},
   "source": [
    "The next cell tests your Simpson's rule implementation, using **N=500** segments.\n",
    "**N needs to be even**\n",
    "\n",
    "  - $\\int_2^{5} 1/x\\,{\\rm d}x$\n",
    "\n",
    "  - $\\int_0^1 exp(-x^2)\\,{\\rm dx}$\n",
    "\n",
    "**1 mark**"
   ]
  },
  {
   "cell_type": "code",
   "execution_count": 36,
   "metadata": {
    "deletable": false,
    "editable": false,
    "nbgrader": {
     "cell_type": "code",
     "checksum": "c2d485bba119748e72cce09d583b3790",
     "grade": true,
     "grade_id": "cell-57baf4f587d92cd1",
     "locked": true,
     "points": 1,
     "schema_version": 3,
     "solution": false
    }
   },
   "outputs": [],
   "source": [
    "def test_oneover(x): return 1.0/x\n",
    "\n",
    "#\n",
    "# print(Simpson(test_oneover,2,5,500))\n",
    "# print(np.log(5/2))\n",
    "# print(Simpson(test_gauss,0,1,500))\n",
    "#\n",
    "assert np.isclose(Simpson(test_oneover,2,5,500),0.9162907318767844)\n",
    "assert np.isclose(Simpson(test_gauss,0,1,500),0.7468241328125584)"
   ]
  },
  {
   "cell_type": "markdown",
   "metadata": {
    "deletable": false,
    "editable": false,
    "nbgrader": {
     "cell_type": "markdown",
     "checksum": "b5572ae2f80432bab594e441fa90babe",
     "grade": false,
     "grade_id": "cell-79cd33fde6ccec43",
     "locked": true,
     "schema_version": 3,
     "solution": false,
     "task": false
    }
   },
   "source": [
    "### Test of integration\n",
    "\n",
    "Integate the function $f$, defined below, over the interval $[0,10]$. Enter your answer in the box below.\n",
    "It should be accurate to 7 significant digits."
   ]
  },
  {
   "cell_type": "code",
   "execution_count": 37,
   "metadata": {
    "tags": [
     "hide_input"
    ]
   },
   "outputs": [
    {
     "name": "stdout",
     "output_type": "stream",
     "text": [
      "0.2835267455586614\n"
     ]
    },
    {
     "data": {
      "image/png": "[encoded data removed]",
      "text/plain": [
       "<Figure size 1080x504 with 1 Axes>"
      ]
     },
     "metadata": {},
     "output_type": "display_data"
    }
   ],
   "source": [
    "# Function to be integrated\n",
    "def f(x):\n",
    "    return np.exp(special.jv(3,x)) * special.jv(0,4*x)\n",
    "a   = 0\n",
    "b   = 10\n",
    "\n",
    "fig, ax = plt.subplots(1,1, figsize=(15, 7))\n",
    "\n",
    "ax.set_xlim([0, 10])\n",
    "ax.set_ylim([-0.5, 1.0])\n",
    "ax.set_ylabel(r\"$f(x)$\")\n",
    "ax.set_xlabel(r\"$x$\")\n",
    "ax.title.set_text(r\"The function f(x)\")\n",
    "\n",
    "x   = np.arange(a,b,b/100)\n",
    "ax.plot(x, f(x))\n",
    "print(Simpson(f,a,b,1000000))"
   ]
  },
  {
   "cell_type": "code",
   "execution_count": 8,
   "metadata": {
    "init_cell": true,
    "tags": [
     "hide_input"
    ]
   },
   "outputs": [
    {
     "data": {
      "application/vnd.jupyter.widget-view+json": {
       "model_id": "3a6fb99008f7466baf41ae3b5b5a474a",
       "version_major": 2,
       "version_minor": 0
      },
      "text/plain": [
       "VBox(children=(HTMLMath(value='Result of numerical integration. Specify the answer to 7 significant digits', p…"
      ]
     },
     "metadata": {},
     "output_type": "display_data"
    }
   ],
   "source": [
    "import mywidgets\n",
    "mfb=mywidgets.myFloatBox('integration','q1','Integral','Result of numerical integration. Specify the answer to 7 significant digits')\n",
    "mfb.getWidget()"
   ]
  },
  {
   "cell_type": "code",
   "execution_count": 39,
   "metadata": {
    "deletable": false,
    "editable": false,
    "nbgrader": {
     "cell_type": "code",
     "checksum": "ac8d71cdcebb503c685eba20d02f959e",
     "grade": true,
     "grade_id": "cell-ffde85fa1555009e",
     "locked": true,
     "points": 2,
     "schema_version": 3,
     "solution": false,
     "task": false
    },
    "tags": [
     "hide_input"
    ]
   },
   "outputs": [],
   "source": [
    "# HIDDEN TESTS\n",
    "#a   = 0\n",
    "#b   = 10\n",
    "#x   = np.arange(a,b,b/100)\n",
    "#plt.plot(x, f(x))\n",
    "#ans = []\n",
    "#Ns  = [3,4,5,6,7,8,9]\n",
    "#ans = np.zeros(np.amax(Ns))\n",
    "#answer = 0.2835267523610387\n",
    "#for n in Ns:\n",
    "#    m        = 2**n\n",
    "#    ans[n-1] = Simpson(f, a, b, m)\n",
    "#err = ans - answer\n",
    "# print(ans[-1])\n",
    "# print((ans[-1]-answer)/answer)\n",
    "# print(err)\n",
    "\n",
    "\n",
    "answer   = 0.2835267523610387                   # correct answer\n",
    "reply    = mfb.widgets[0].value                 # student's answer\n",
    "accuracy = np.abs(reply-answer)/answer * 1e7    # relative error\n",
    "# print(reply, answer, accuracy)\n",
    "assert np.isclose(accuracy,0,atol=1)\n",
    "\n",
    "\n",
    "\n",
    "\n"
   ]
  },
  {
   "cell_type": "markdown",
   "metadata": {
    "deletable": false,
    "editable": false,
    "nbgrader": {
     "cell_type": "markdown",
     "checksum": "530d0e8fd5b6ccf21eb705a2bce3bc3b",
     "grade": false,
     "grade_id": "cell-4a6643288a5c414a",
     "locked": true,
     "schema_version": 3,
     "solution": false,
     "task": false
    }
   },
   "source": [
    "## Play area: Convergence rates\n",
    "\n",
    "We compare the convergence rates of the integrators.\n",
    "\n",
    "This part has no assignment, it is only a place to play. In the following cells we implement higher order integration routines. We use these to compute the numerical integral of some functions, varying the number of segments. This allows you to contrast the rate of convergence of the schemes.\n",
    "\n",
    "Run the cells below. Can you provide a rule of thumb to the question: ** does the functional shape determine which integrator gives the most accurate answer for a given number of function evaluations**?\n",
    "\n"
   ]
  },
  {
   "cell_type": "code",
   "execution_count": 40,
   "metadata": {},
   "outputs": [],
   "source": [
    "# Define third, fourth and fifth-order integrators\n",
    "from itertools import cycle\n",
    "\n",
    "def i3(f,xmin,xmax,Nin):\n",
    "    N=Nin-(Nin%4)\n",
    "    xs=np.linspace(xmin,xmax,N+1)\n",
    "    dx=(xmax-xmin)/float(N)\n",
    "    fs=f(xs)\n",
    "    c=cycle([14,32,12,32])\n",
    "    l=list(next(c) for i in range(N))\n",
    "    l.append(7)\n",
    "    l[0]=7\n",
    "    coeffs=np.array(l)\n",
    "    return dx*sum(fs*coeffs)*2.0/45.0\n",
    "\n",
    "def i4(f,xmin,xmax,Nin):\n",
    "    N=Nin-(Nin%5)\n",
    "    xs=np.linspace(xmin,xmax,N+1)\n",
    "    dx=(xmax-xmin)/float(N)\n",
    "    fs=f(xs)\n",
    "    c=cycle([38,75,50,50,75])\n",
    "    l=list(next(c) for i in range(N))\n",
    "    l.append(19)\n",
    "    l[0]=19\n",
    "    coeffs=np.array(l)\n",
    "    return dx*sum(fs*coeffs)*5.0/288.0\n",
    "def i5(f,xmin,xmax,Nin):\n",
    "    N=Nin-(Nin%6)\n",
    "    xs=np.linspace(xmin,xmax,N+1)\n",
    "    dx=(xmax-xmin)/float(N)\n",
    "    fs=f(xs)\n",
    "    c=cycle([82,216,27,272,27,216])\n",
    "    l=list(next(c) for i in range(N))\n",
    "    l.append(41)\n",
    "    l[0]=41\n",
    "    coeffs=np.array(l)\n",
    "    return dx*sum(fs*coeffs)*1.0/140.0"
   ]
  },
  {
   "cell_type": "code",
   "execution_count": 41,
   "metadata": {},
   "outputs": [],
   "source": [
    "# for each method, run the integrator for a range of step sizes, and compute the error\n",
    "# make a plot contasting the convergence with increasing number of steps, N\n",
    "methods=[\n",
    "    (NCintegrate,'NC'),\n",
    "    (Trapezoidal,'Trap'),\n",
    "    (Simpson,'Simpson'),\n",
    "    (i3,'cubic'),\n",
    "    (i4,'quartic'),\n",
    "    (i5,'5th order')\n",
    "]\n",
    "\n",
    "def makeErrorPlot(f,xmin,xmax,trueValue):\n",
    "    '''This function plots the error as a function of the number of subdivisions for the \n",
    "       integration methods defined above.'''    \n",
    "    def error(IntFn,N):\n",
    "        est=IntFn(f,xmin,xmax,N)\n",
    "        return abs(est-trueValue)\n",
    "\n",
    "    Ns=[4**n for n in range(3,12)]\n",
    "    for (fn,label) in methods:    \n",
    "        errors=[error(fn,N) for N in Ns]\n",
    "        plt.plot(Ns,errors,label=label)\n",
    "    plt.xscale('log')\n",
    "    plt.yscale('log')\n",
    "    plt.xlabel(r'$N$')\n",
    "    plt.ylabel('error')\n",
    "    plt.legend()"
   ]
  },
  {
   "cell_type": "code",
   "execution_count": 42,
   "metadata": {},
   "outputs": [
    {
     "data": {
      "image/png": "[encoded data removed]",
      "text/plain": [
       "<Figure size 432x288 with 1 Axes>"
      ]
     },
     "metadata": {},
     "output_type": "display_data"
    }
   ],
   "source": [
    "# f(x) = x^7: higher-order methods converge much faster\n",
    "def xto7(x):\n",
    "    return x**7\n",
    "\n",
    "makeErrorPlot(xto7,0.0,1.0,0.125)"
   ]
  },
  {
   "cell_type": "code",
   "execution_count": 43,
   "metadata": {},
   "outputs": [
    {
     "data": {
      "image/png": "[encoded data removed]",
      "text/plain": [
       "<Figure size 432x288 with 1 Axes>"
      ]
     },
     "metadata": {},
     "output_type": "display_data"
    }
   ],
   "source": [
    "# f(x)=2-4x: not surprisingly, higher order schemes all converge at the same rate for this linear function\n",
    "def linear(x):\n",
    "    return 2.0-4.0*x \n",
    "makeErrorPlot(linear,0.0,1.0,0)"
   ]
  },
  {
   "cell_type": "code",
   "execution_count": 44,
   "metadata": {},
   "outputs": [
    {
     "data": {
      "image/png": "[encoded data removed]",
      "text/plain": [
       "<Figure size 432x288 with 1 Axes>"
      ]
     },
     "metadata": {},
     "output_type": "display_data"
    }
   ],
   "source": [
    "# f(x) = 2-4x+3x^2: again, once method is of high enough order, all converge at the same rate. Note the onset of round-off errors set\n",
    "def quadratic(x):\n",
    "    return 2.0-4.0*x+3.0*x**2 \n",
    "makeErrorPlot(quadratic,0.0,1.0,1.0)"
   ]
  },
  {
   "cell_type": "code",
   "execution_count": null,
   "metadata": {},
   "outputs": [],
   "source": [
    "def discontinous(x):\n",
    "    return x*np.sin(x)/abs(np.sin(x))\n",
    "\n",
    "xs=np.linspace(1,1+10*np.pi,2000)\n",
    "plt.plot(xs,discontinous(xs))"
   ]
  },
  {
   "cell_type": "code",
   "execution_count": null,
   "metadata": {},
   "outputs": [],
   "source": [
    "# If the function is discontinuous, going to high-orders does not improve convergence\n",
    "makeErrorPlot(discontinous,1,1+10*np.pi,5*(2*np.pi-np.pi**2))"
   ]
  },
  {
   "cell_type": "code",
   "execution_count": null,
   "metadata": {},
   "outputs": [],
   "source": [
    "def complicated(x):\n",
    "    return np.sqrt(x+np.cos(5*x)**2)/(1+(x-0.3)**2)\n",
    "\n",
    "makeErrorPlot(complicated,0.0,1.0,0.85683203415819954517417626994)"
   ]
  },
  {
   "cell_type": "code",
   "execution_count": null,
   "metadata": {},
   "outputs": [],
   "source": [
    "def exponential(x):\n",
    "    return np.exp(x)\n",
    "\n",
    "makeErrorPlot(exponential,0.0,1.0,np.exp(1)-1)"
   ]
  },
  {
   "cell_type": "code",
   "execution_count": null,
   "metadata": {},
   "outputs": [],
   "source": [
    "def exponential2(x):\n",
    "    return np.exp(1.0/x)/(x**2)\n",
    "\n",
    "makeErrorPlot(exponential2,1.0,4.0,-np.exp(1.0/4.0)+np.exp(1.0))"
   ]
  },
  {
   "cell_type": "code",
   "execution_count": null,
   "metadata": {},
   "outputs": [],
   "source": [
    "def sqrt1(x):\n",
    "    return np.sqrt(1.0-x**2)\n",
    "\n",
    "makeErrorPlot(sqrt1,0.0,1.0,np.pi/4.0)"
   ]
  },
  {
   "cell_type": "code",
   "execution_count": null,
   "metadata": {},
   "outputs": [],
   "source": []
  }
 ],
 "metadata": {
  "kernelspec": {
   "display_name": "Python 3",
   "language": "python",
   "name": "python3"
  },
  "language_info": {
   "codemirror_mode": {
    "name": "ipython",
    "version": 3
   },
   "file_extension": ".py",
   "mimetype": "text/x-python",
   "name": "python",
   "nbconvert_exporter": "python",
   "pygments_lexer": "ipython3",
   "version": "3.6.3"
  }
 },
 "nbformat": 4,
 "nbformat_minor": 2
}
