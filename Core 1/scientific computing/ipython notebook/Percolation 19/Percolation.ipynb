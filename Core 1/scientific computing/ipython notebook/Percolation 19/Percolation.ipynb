{
 "cells": [
  {
   "cell_type": "markdown",
   "metadata": {
    "deletable": false,
    "editable": false,
    "nbgrader": {
     "cell_type": "markdown",
     "checksum": "ec932d281c7343d2a2617d9edb24269c",
     "grade": false,
     "grade_id": "cell-bbf88e10bb307ab1",
     "locked": true,
     "schema_version": 3,
     "solution": false,
     "task": false
    }
   },
   "source": [
    "# Percolation and cluster growth"
   ]
  },
  {
   "cell_type": "markdown",
   "metadata": {
    "deletable": false,
    "editable": false,
    "nbgrader": {
     "cell_type": "markdown",
     "checksum": "129395d26f96b6b2f57a83a15a248c14",
     "grade": false,
     "grade_id": "cell-9db68bd67af1cca3",
     "locked": true,
     "schema_version": 3,
     "solution": false,
     "task": false
    }
   },
   "source": [
    "### Remarks on completing the module\n",
    "\n",
    "This assignement is summatively assessed. It is imperative that you submit the notebook on time.\n",
    "\n"
   ]
  },
  {
   "cell_type": "code",
   "execution_count": 1,
   "metadata": {
    "init_cell": true
   },
   "outputs": [],
   "source": [
    "import numpy as np\n",
    "from scipy import special\n",
    "import random as R\n",
    "import math\n",
    "import pylab as pl\n",
    "from matplotlib import animation,rc\n",
    "import matplotlib.pyplot as plt\n",
    "rc('animation', html='html5')\n",
    "from ipywidgets import IntProgress\n",
    "from IPython.display import display"
   ]
  },
  {
   "cell_type": "code",
   "execution_count": 2,
   "metadata": {
    "init_cell": true,
    "tags": [
     "hide_input"
    ]
   },
   "outputs": [],
   "source": [
    "# This cell is hidden from the student's notebook. It generates the buttons used in the answers.\n",
    "from ipywidgets import widgets, interact, interactive, fixed\n",
    "from ipywidgets import Button, HBox, VBox\n",
    "import shelve\n",
    "assessmentName=\"test\";\n",
    "import os\n",
    "\n",
    "def get_last_value(key):\n",
    "    if os.path.isfile('.choices.shelve') or os.path.isfile('.choices.shelve.dir'):\n",
    "        s=shelve.open('.choices.shelve')\n",
    "        return s.get(key,None)\n",
    "    return None\n",
    "\n",
    "\n",
    "class myRadioButton:\n",
    "    def __init__(self,name,description,options):\n",
    "        self.name=name\n",
    "        self.options=options\n",
    "        self.description=description\n",
    "    def getWidget(self):\n",
    "        def on_value_change(change):\n",
    "            s=shelve.open('.choices.shelve')\n",
    "            key=self.getKey()\n",
    "            s[key]=change['new']\n",
    "            s.close()\n",
    "\n",
    "        self.widget=widgets.RadioButtons(\n",
    "            options=self.options,\n",
    "            value=get_last_value(self.getKey()),\n",
    "            description=self.description,\n",
    "            disabled=False\n",
    "        )\n",
    "        self.widget.observe(on_value_change, names='value')\n",
    "\n",
    "        return self.widget\n",
    "    def getKey(self):\n",
    "        return '{0}_{1}'.format(assessmentName,self.name)\n",
    "        \n",
    "        \n",
    "def on_value_change(change):\n",
    "                s=shelve.open('.choices.shelve')\n",
    "                key='{0}_{1}_{2}'.format(assessmentName,self.name,i)\n",
    "                s[key]=change['new']\n",
    "                s.close()\n",
    "\n",
    "def make_value_change_fn(assessmentName,name,i):\n",
    "        def fn(change):\n",
    "            s=shelve.open('.choices.shelve')\n",
    "            key='{0}_{1}_{2}'.format(assessmentName,name,i)\n",
    "            s[key]=change['new']\n",
    "            s.close()\n",
    "        return fn\n",
    "\n",
    "class myCheckBoxSet:\n",
    "    def __init__(self,name,description,options):\n",
    "        self.name=name\n",
    "        self.options=options\n",
    "        self.description=description\n",
    "    def getWidget(self):\n",
    "        keys=['{0}_{1}_{2}'.format(assessmentName,self.name,i) for i in range(len(self.options))]    \n",
    "        self.widgets=[ widgets.Checkbox(value=get_last_value(key),\n",
    "    description=o,\n",
    "    disabled=False\n",
    "        ) for key,o in zip(keys,self.options)]\n",
    "        \n",
    "        txt=widgets.HTMLMath(\n",
    "            value=self.description,\n",
    "            placeholder='',\n",
    "            description='',\n",
    "        )\n",
    "\n",
    "        \n",
    "        self.widget=VBox([txt]+self.widgets)\n",
    "        for i,w in enumerate(self.widgets):\n",
    "            w.observe(make_value_change_fn(assessmentName,self.name,i), names='value')\n",
    "\n",
    "        return self.widget\n",
    "import mywidgets    "
   ]
  },
  {
   "cell_type": "markdown",
   "metadata": {
    "deletable": false,
    "editable": false,
    "nbgrader": {
     "cell_type": "markdown",
     "checksum": "d75f579284da04ad914ad9c9beafdefa",
     "grade": false,
     "grade_id": "cell-ed6fdce58752a39a",
     "locked": true,
     "schema_version": 3,
     "solution": false,
     "task": false
    }
   },
   "source": [
    "## Cluster growth"
   ]
  },
  {
   "cell_type": "markdown",
   "metadata": {
    "deletable": false,
    "editable": false,
    "nbgrader": {
     "cell_type": "markdown",
     "checksum": "f4ccd8f550e9405a4dc96515db9e8ed6",
     "grade": false,
     "grade_id": "cell-1d22aac375ec9408",
     "locked": true,
     "schema_version": 3,
     "solution": false,
     "task": false
    }
   },
   "source": [
    "### The cell below defines the Cluster class. Complete the methods that are only partially implemented.\n",
    "\n",
    "You can the use the following cells to test your implementation."
   ]
  },
  {
   "cell_type": "markdown",
   "metadata": {},
   "source": [
    "Completing the class `Cluster` is the main part of the assignment. Some parts of the methods need to be completed.\n",
    "The cells below it take you through this, one method at a time. There are also some cells to verify your implementation.\n",
    "\n",
    "The main components of an instance of the class are:\n",
    " - ndim: the dimension of the cluster. We only examine the special case of ndim=2\n",
    " - periodic: if True, impose periodic boundary conditions, else, impose isolated boundary conditions\n",
    " - size: the extent of a cluster in any dimension\n",
    " - grid: a dictionary of positions currently occupied by the cluster, in the form of tuples\n",
    "      for example ((0,1): True) if element (0,1) is part of the cluster\n",
    " - boundary: a dictionary of nearest-neighbours of cluster elements, that are not occupied\n",
    " - offsets: a list of all neigbours of location (0,0)\n",
    "     - for ndim=2, this is simple [(1,0), (-1,0), (0,1), (0,-1)]\n",
    " \n"
   ]
  },
  {
   "cell_type": "code",
   "execution_count": 51,
   "metadata": {
    "deletable": false,
    "nbgrader": {
     "cell_type": "code",
     "checksum": "e451c7141b851cd9328d3932b22c65fa",
     "grade": false,
     "grade_id": "cell-05bb92207c1e8869",
     "locked": false,
     "schema_version": 3,
     "solution": true,
     "task": false
    }
   },
   "outputs": [],
   "source": [
    "class Cluster:\n",
    "    # initialize the cluster\n",
    "    def __init__(self, ndim=2, size=32, random_number_seed=-1, periodic=False):\n",
    "        self.size     = size\n",
    "        self.ndim     = ndim\n",
    "        self.periodic = periodic\n",
    "        self.grid     = {}\n",
    "        self.boundary = None\n",
    "        \n",
    "        # Initialize random number generator if random_number_seed is > 0\n",
    "        if random_number_seed > 0:\n",
    "            np.random.seed(random_number_seed)\n",
    "        else:\n",
    "            np.random.seed(None)\n",
    "            \n",
    "        # create list of all nearest neighbours of element (0,) * ndim\n",
    "        self.offsets = []\n",
    "        for dim in range(self.ndim):\n",
    "            offset = np.zeros(ndim, dtype=int)\n",
    "            offset[dim] = 1\n",
    "            self.offsets.append(tuple(offset))\n",
    "            self.offsets.append(tuple(-offset))\n",
    "        self.noffsets = len(self.offsets)     \n",
    "            \n",
    "    #  The function return True / False depending on whether position is inside / outside the grid    \n",
    "    def element_inside(self, position):\n",
    "        if self.periodic:\n",
    "            return True\n",
    "        sp = np.array(position)\n",
    "        return (sp >= 0).all() and (sp < self.size).all()\n",
    "\n",
    "    # This function adds the element at location \"position\" to the cluster.\n",
    "    #   It returns an exception if that element is already in the cluster, or if it outside the grid's boundaries\n",
    "    def element_add(self, position):\n",
    "        # This routine adds the element at location \"position\" to the cluster\n",
    "        #    if the element is already part of the cluster, raise an exception\n",
    "        #    if periodic=True: wrap position periodically before inserting element\n",
    "        #    if periodc=False: raise exception if element is outside the grid boundaries\n",
    "        pos = np.array(position)\n",
    "\n",
    "        if self.periodic:\n",
    "            pos  = (pos + 2 * self.size) % self.size\n",
    "            \n",
    "        if(self.element_inside(pos)):\n",
    "            if tuple(pos) in self.grid:\n",
    "                print(\" ++ element_add, Position = \", pos)\n",
    "                raise Exception(\"Element is already in cluster\")\n",
    "            else:\n",
    "                self.grid[tuple(pos)] = True\n",
    "        else:\n",
    "            print(\" ++ element_add, Position = \", pos)\n",
    "            raise Exception(\"Element is outside of grid\")\n",
    "    \n",
    "    # The function returns the list of all nearest-neighbours of a given position, that are inside the grid\n",
    "    def element_neighbours(self, position):\n",
    "        # consistency check:\n",
    "        if len(position) != self.ndim:\n",
    "            raise Exception(\" Error: this position does not have the right dimension\")\n",
    "            \n",
    "        # use self.offsets to return a list of all nearest-neighbours of the specified position\n",
    "        neighbours = []\n",
    "        for offset in cluster.offsets:\n",
    "            element = tuple(np.asarray(position) + np.asarray(offset))\n",
    "            neighbours.append(element)\n",
    "        return neighbours\n",
    "\n",
    "    # This functon returns the distance between position1 and position2\n",
    "    def distance(self, position1, position2):\n",
    "        # consistency check\n",
    "        if len(position1) != self.ndim:\n",
    "            raise Exception(\"not a valid position 1 in distance\")\n",
    "        if len(position2) != self.ndim:\n",
    "            raise Exception(\"not a valid position 2 in distance\")\n",
    "        \n",
    "        #\n",
    "        p = np.asarray(position1)\n",
    "        q = np.asarray(position2)\n",
    "        distance = 0\n",
    "        for i in range(len(p)):\n",
    "            dx = np.abs(p[i]-q[i])\n",
    "            if self.periodic:\n",
    "                if dx > self.size/2:\n",
    "                    dx = self.size - dx\n",
    "            distance += dx * dx\n",
    "        return np.sqrt(distance)\n",
    "    \n",
    "    # This function returns all the distances from each element of the clyuster, to the given location \"position\"\n",
    "    def element_distances(self, position):\n",
    "        distance = {}\n",
    "        for element in self.grid:\n",
    "            distance[element] = self.distance(element, position)\n",
    "        return distance\n",
    "    \n",
    "    # This function periodically wraps \"position\" on the grid\n",
    "    def periodic_wrap(self, position):\n",
    "        if self.periodic:\n",
    "            return tuple(np.array(position) % self.size)\n",
    "        else:\n",
    "            return position\n",
    "        \n",
    "        \n",
    "        \n",
    "    #########################################################################################################\n",
    "    #      The three methods below implement the three models for cluster growth (Eden, DLA and Random)     #\n",
    "    #########################################################################################################\n",
    "    \n",
    "    \n",
    "    # Eden model for cluster growth\n",
    "    # The algorithm for adding an element is as follows\n",
    "    #  - pick at random, any unoccupied site that is a nearest neighbour of an element alreadu in the cluster\n",
    "    #  - add it to the cluster\n",
    "    # The method below should add 1 element to the cluster based on this algorithm\n",
    "    def Eden(self):\n",
    "        \n",
    "        # The first time Eden in invoked, we create a list, called self.boundary, \n",
    "        # of empty sites that neighbour the cluster\n",
    "        # When Eden is called again, we update self.boundary\n",
    "        if self.boundary == None:\n",
    "            # iterate over all neighbours of all elements in the cluster\n",
    "            #    if the neighbour is not in the cluster, and not in self.boundary, add it to self.boundary\n",
    "            # YOUR CODE HERE\n",
    "            self.boundary = {}\n",
    "            for key in self.grid:\n",
    "                neighbours = self.element_neighbours(key)\n",
    "                for neighbour in neighbours:\n",
    "                    if neighbour not in self.boundary and neighbour not in self.grid:\n",
    "                        self.boundary[self.periodic_wrap(neighbour)] = True\n",
    "            \n",
    "        # pick at random an element of self.boundary, and add this element to the cluster\n",
    "        # YOUR CODE HERE\n",
    "        keys = []\n",
    "        for i in self.boundary.keys():\n",
    "            keys.append(i)\n",
    "        random_num = np.random.randint(0, len(keys))\n",
    "        try:\n",
    "            self.element_add(keys[random_num])\n",
    "        except:\n",
    "            print(\"there is something wrong\")   \n",
    "        # remove this element from self.boundary\n",
    "        # YOUR CODE HERE\n",
    "        self.boundary.pop(tuple(keys[random_num]))\n",
    "        # add the neighbours of the element to self.boundary,\n",
    "        #      provided they are not in the cluster, and not already in the boundary\n",
    "        for neighbour in self.element_neighbours(keys[random_num]):\n",
    "            if neighbour not in self.grid:\n",
    "                if neighbour not in self.boundary:\n",
    "                    if self.element_inside(neighbour):\n",
    "                        self.boundary[self.periodic_wrap(neighbour)] = True\n",
    "\n",
    "        # return current number of elements in the boundary             \n",
    "        return len(self.boundary)\n",
    "\n",
    "    # DLA model for generating a cluster\n",
    "    # Start a random walk at distance \"radius\" away from the seed of the cluster, which is at location \"centre\"\n",
    "    # Terminate the walk, if either\n",
    "    #        walker hits the cluster - then add it to the cluster\n",
    "    #        crosses the edge, i.e. reaches a distances > edge from the centre\n",
    "    # DLA adds an element to cluster, and the function returns \"track\": the list of all sites visited in the \n",
    "    #     random walk\n",
    "    def DLA(self, centre, radius, edge):\n",
    "        start     = np.asarray(centre)\n",
    "        cont      = True\n",
    "        # choose starting point in polar coordinates - then convert to cartesian coordinates\n",
    "        rad = np.asarray([1, int(radius)])\n",
    "        rad = rad.max()\n",
    "        while tuple(start) in self.grid:\n",
    "            start     = np.asarray(centre)\n",
    "            phi = 2 * np.pi * np.random.random()  # angle uniform in [0, 2pi[\n",
    "            x   = rad * np.cos(phi)\n",
    "            y   = rad * np.sin(phi)\n",
    "            dr  = np.sqrt(x*x+y*y)\n",
    "\n",
    "            # round-off to integer coordinates\n",
    "            start[0] += int(x)\n",
    "            start[1] += int(y)\n",
    "            start     = tuple(start)\n",
    "            \n",
    "        \n",
    "        # track stores all the location that the random walk visits\n",
    "        track   = []\n",
    "        track.append(start)\n",
    "        step    = start   # the random walk steps from the current step, \"step\", to the next step, \"next_step\"\n",
    "        for nei in self.element_neighbours(step):\n",
    "            if nei in self.grid.keys():\n",
    "#                 print(self.grid)\n",
    "                self.element_add(step)\n",
    "                track.append(step)\n",
    "                cont = False\n",
    "                break\n",
    "        while cont:\n",
    "            # continue walking as long as cont = True\n",
    "            # take a random step, from step to next_step\n",
    "            # Hint: use RandomStep, implemented below, or write your own\n",
    "            # YOUR CODE HERE\n",
    "            next_step = self.RandomStep(step)\n",
    "#             raise NotImplementedError()\n",
    "            \n",
    "            # If any neighbour of next_step is in the cluster, then:\n",
    "            #    - add next_step to cluster\n",
    "            #    - add next_step to track\n",
    "            #    - set cont = False, to end walk\n",
    "            # YOUR CODE HERE\n",
    "            for nei in self.element_neighbours(next_step):\n",
    "                if nei in self.grid.keys():\n",
    "#                     print(self.grid)\n",
    "                    self.element_add(next_step)\n",
    "                    track.append(next_step)\n",
    "                    cont = False\n",
    "                    break\n",
    "#             raise NotImplementedError()\n",
    "            \n",
    "            # if cont is True, we need to check if walker is still in the allowed region\n",
    "            #     if distance to centre > edge: put cont = False, add element to track, and end walk\n",
    "            #     if distance to centre < edge: cont = True\n",
    "            #         - add next_step to track\n",
    "            #         - put step = next_step\n",
    "            #         - continue walk\n",
    "            # YOUR CODE HERE\n",
    "            if cont:\n",
    "                if (self.distance(centre, step) > edge):\n",
    "                    track.append(next_step)\n",
    "                    cont = False\n",
    "                else:\n",
    "                    track.append(next_step)\n",
    "                    step = next_step\n",
    "            \n",
    "        # walk finished: return the track \n",
    "        # You may want to uncomment the lines below for debugging your code\n",
    "#        if attach:\n",
    "#            print(\"Walker attached to cluster at position = \", next_step)\n",
    "#        else:\n",
    "#            print(\"walker off grid\")\n",
    "        return track\n",
    "\n",
    "    # This function randomly adds sites to a grid, based on comparing a uniform random number, prob,\n",
    "    #      to the input (given) probability \"probability\"\n",
    "    def Random(self, probability):\n",
    "        # for each site: if random number < probability, add element to cluster\n",
    "        shape  = (self.size,) * self.ndim\n",
    "        prob   = np.random.rand(*shape)\n",
    "        assign = np.where(prob < probability)\n",
    "        assign = np.array(assign).T\n",
    "        for a in assign:\n",
    "            self.element_add(a)\n",
    "            \n",
    "    #########################################################################################################\n",
    "    #   The routines below are helper routines                                                              #\n",
    "    #########################################################################################################\n",
    "\n",
    "    # Perform a single random step, starting at location \"position\"\n",
    "    #     function returns the location of the end of the step\n",
    "    def RandomStep(self, position):\n",
    "        itry      = np.random.choice(range(self.noffsets))\n",
    "        offset    = self.offsets[itry]\n",
    "        new       = tuple(np.array(position) + np.array(offset))\n",
    "        return self.periodic_wrap(new)\n",
    "\n",
    "    \n",
    "    # Starting from location \"position\", take nstep random walk steps\n",
    "    def RandomWalk(self, position, nstep):\n",
    "        track   = []\n",
    "        current = position\n",
    "        for i in range(nstep):\n",
    "            current  = self.RandomStep(current)\n",
    "            track.append(current)\n",
    "        return track\n",
    "    \n",
    "    # Plot the current cluster\n",
    "    #   Input is the cut to plot, and, optionally, the name of the plot, and the name of the file\n",
    "    #   to save the plot\n",
    "    def ShowCluster(self, cut, title=None, file=None):\n",
    "        # extract the cooridnates of the cluster specified by cut \n",
    "        xs, ys  = self.ExtractSlice(cut)\n",
    "        # create the figure, and plot all cluster sites\n",
    "        fig, ax = pl.subplots(figsize=(11,11))\n",
    "        ax.set_aspect('equal')\n",
    "        ax.set_xlim(-1, self.size)\n",
    "        ax.set_ylim(-1, self.size)\n",
    "        ax.set_xlabel('x')\n",
    "        ax.set_ylabel('y')\n",
    "        if not title == None:\n",
    "            ax.set_title(title)\n",
    "        ax.grid()\n",
    "        ax.plot(xs,ys,'ro',alpha=0.2)[0]\n",
    "        \n",
    "        # save the figure\n",
    "        if not file == None:\n",
    "            print(\"Saving cluster to file: \", file)\n",
    "            plt.savefig(file)\n",
    "            \n",
    "        plt.show()\n",
    "        \n",
    " \n",
    "    # Extract a slice: this is useful if the cluster is in ndim>2 dimensions\n",
    "    #    cut specifies the direction to cut the cluster and extract a 2D slice\n",
    "    def ExtractSlice(self, cut):\n",
    "        # cut is a tuple of length self.ndim\n",
    "        # the tuple should have exactly 2 elements equal to -1, which define the plane to extract\n",
    "        if len(cut) != self.ndim:\n",
    "            raise Exception(\" cut has wrong length\")\n",
    "        plane = np.where(np.asarray(cut) == -1)[0]\n",
    "        if len(plane) != 2:\n",
    "            raise Exception(\" plane has wrong dimenson \", len(plane))\n",
    "        for dim in range(self.ndim):\n",
    "            if dim not in plane:\n",
    "                if cut[dim] < 0 or cut[dim] >= self.size:\n",
    "                    raise Exception(\" cut is out of range \", dim, cut[dim])\n",
    "        #\n",
    "        sites = []\n",
    "        xs    = []\n",
    "        ys    = []\n",
    "        cut = np.asarray(cut)\n",
    "        for site in self.grid:\n",
    "            if np.all(np.logical_or(cut==-1,cut==np.asarray(site))):\n",
    "                sites.append(site)\n",
    "                xs.append(site[plane[0]])\n",
    "                ys.append(site[plane[1]])\n",
    "        return xs, ys        \n",
    "                \n",
    "    # This function plots a track, as generated by DLA for example, for a given random walk\n",
    "    #  Input is the track, and optionally, the name of the file to save the figure\n",
    "    def ShowTrack(self, track, file=None):\n",
    "        fig, ax = pl.subplots(figsize=(7,7))\n",
    "        ax.set_aspect('equal')\n",
    "        ax.set_xlim(-1, self.size)\n",
    "        ax.set_ylim(-1, self.size)\n",
    "        ax.set_xlabel(\"x-position\")\n",
    "        ax.set_ylabel(\"y-position\")\n",
    "        ax.set_title(\"Track of random\")\n",
    "        ax.grid()\n",
    "        xs = []\n",
    "        ys = []\n",
    "        for el in track:\n",
    "            xs.append(el[0]) \n",
    "            ys.append(el[1])\n",
    "#        ax.plot(xs,ys,'ro',alpha=0.2)[0]\n",
    "        ax.plot(xs, ys)\n",
    " \n",
    "        # save the figure\n",
    "        if not file == None:\n",
    "            print(\"Saving track to file: \", file)\n",
    "            plt.savefig(file)\n",
    "            \n",
    "        plt.show()  \n",
    "    "
   ]
  },
  {
   "cell_type": "markdown",
   "metadata": {},
   "source": [
    "### The cells below, test your implementation of methods in Cluster\n",
    "\n",
    "If your code does not pass this cell, you should debug your implementation of element_add before continuing"
   ]
  },
  {
   "cell_type": "code",
   "execution_count": 52,
   "metadata": {},
   "outputs": [
    {
     "name": "stdout",
     "output_type": "stream",
     "text": [
      "That's right! -- continue\n",
      "We are adding element =  (3, 2)\n",
      "That's right! -- continue\n",
      " ++ element_add, Position =  [2 2]\n",
      "That's right! -- continue\n",
      "We are adding element =  (10, 2)\n",
      "That's right! -- continue\n",
      " ++ element_add, Position =  [10  2]\n",
      "That's right! -- continue\n"
     ]
    }
   ],
   "source": [
    "# initialize a small cluster\n",
    "size     = 5          # size of cluster\n",
    "ndim     = 2          # dimensionallity of cluster\n",
    "periodic = True       # boundary condition\n",
    "cluster  = Cluster(ndim=ndim, size=size, periodic=periodic)\n",
    "\n",
    "# add a single element at the centre\n",
    "cent = int(size/2)          # location of seed\n",
    "seed = (cent,) * ndim       # seed of cluster\n",
    "cluster.element_add(seed)\n",
    "\n",
    "# Provided your implementation is correct, cluster.grid = {{2,2)}: True}\n",
    "test = {(2,2): True}\n",
    "if cluster.grid == test:\n",
    "    print(\"That's right! -- continue\")\n",
    "else:\n",
    "    print(\"you made and error in implementing add_element\")\n",
    "\n",
    "# Using the list of offsets, add the neighbour to the right of the seed to the cluster\n",
    "offset  = cluster.offsets[0]\n",
    "element = tuple(np.asarray(seed) + np.asarray(offset))\n",
    "print(\"We are adding element = \", element)\n",
    "cluster.element_add(element)\n",
    "test2 = {(2, 2): True, (3, 2): True}\n",
    "if cluster.grid == test2:\n",
    "    print(\"That's right! -- continue\")\n",
    "else:\n",
    "    print(\"you made and error in implementing add_element\")\n",
    "\n",
    "# Test adding an element that is already in the cluster\n",
    "try:\n",
    "    cluster.element_add(seed)\n",
    "    print(\" this should not happen: element should not be added twice \")\n",
    "except:\n",
    "    print(\"That's right! -- continue\")\n",
    "    pass    \n",
    "\n",
    "# Test periodic wrapping\n",
    "element = (2*size, int(size/2))  # this element is outside of the grid, but we are using periodic boundary conditions\n",
    "print(\"We are adding element = \", element)\n",
    "cluster.element_add(element)\n",
    "test3 = {(2, 2): True, (3, 2): True, (0, 2): True}\n",
    "if cluster.grid == test3:\n",
    "    print(\"That's right! -- continue\")\n",
    "else:\n",
    "    print(\"you made and error in implementing add_element (periodic boundary conditions)\")\n",
    "\n",
    "    \n",
    "    \n",
    "# now test non-periodic cluster\n",
    "cluster  = Cluster(ndim=ndim, size=size, periodic=False)\n",
    "try: \n",
    "    cluster.element_add(element)\n",
    "    print(\" this should not happen: element should not be added\")\n",
    "except:\n",
    "    print(\"That's right! -- continue\")\n",
    "    pass"
   ]
  },
  {
   "cell_type": "code",
   "execution_count": 53,
   "metadata": {},
   "outputs": [
    {
     "name": "stdout",
     "output_type": "stream",
     "text": [
      " That's right! -- continue\n"
     ]
    }
   ],
   "source": [
    "# This cell test your implementation of the \"element_neighbours\" method\"\n",
    "\n",
    "# create a small cluster and add some elements to it\n",
    "size     = 7          # size of cluster\n",
    "ndim     = 2          # dimensionallity of cluster\n",
    "periodic = False      # boundary condition\n",
    "cluster  = Cluster(ndim=ndim, size=size, periodic=periodic)\n",
    "\n",
    "# start with seed at centre, and add all off its neighbours\n",
    "cent = int(size/2)          # location of seed\n",
    "seed = (cent,) * ndim       # seed of cluster\n",
    "cluster.element_add(seed)\n",
    "for offset in cluster.offsets:\n",
    "    element = tuple(np.asarray(seed) + np.asarray(offset))\n",
    "    cluster.element_add(element)\n",
    "\n",
    "# list all neighbours of some positions\n",
    "neighbours = cluster.element_neighbours(seed)\n",
    "test = [(4, 3), (2, 3), (3, 4), (3, 2)]\n",
    "if neighbours == test:\n",
    "    print(\" That's right! -- continue\")\n",
    "else:\n",
    "    print(\"you made an error in implementing element_neighbours\")"
   ]
  },
  {
   "cell_type": "markdown",
   "metadata": {
    "deletable": false,
    "editable": false,
    "nbgrader": {
     "cell_type": "markdown",
     "checksum": "b0ea5390603aa4715c12a74d1eb6b36f",
     "grade": false,
     "grade_id": "cell-4af13f5a5b7eeb79",
     "locked": true,
     "schema_version": 3,
     "solution": false,
     "task": false
    }
   },
   "source": [
    "### The Eden model of cluster growth\n",
    "\n",
    "Use the methods you have implemented so far, to complete implementing the Eden model.\n",
    "The growth algortihm is as follows (see lecture notes)\n",
    "    - at start-up, create self.boundary - a list of all valid, empty sites that are nearest-neighbours of cluster elements\n",
    "    - pick randomly one of the elements in the list of boundary cells, self.boundary\n",
    "        - add it to the cluster\n",
    "        - remove it from the list of empty boundary sites\n",
    "        - add its neighbours to the list of boundary sites, provided theya re not in the cluster and not already in the list of boundary sites\n",
    "        \n",
    "        \n",
    "\n"
   ]
  },
  {
   "cell_type": "code",
   "execution_count": 54,
   "metadata": {},
   "outputs": [
    {
     "name": "stdout",
     "output_type": "stream",
     "text": [
      "Saving cluster to file:  Eden.pdf\n"
     ]
    },
    {
     "data": {
      "image/png": "[encoded data removed]",
      "text/plain": [
       "<Figure size 792x792 with 1 Axes>"
      ]
     },
     "metadata": {},
     "output_type": "display_data"
    }
   ],
   "source": [
    "size     = 21         # size of cluster\n",
    "ndim     = 2          # dimensionallity of cluster\n",
    "periodic = False      # boundary condition\n",
    "cluster  = Cluster(ndim=ndim, size=size, random_number_seed = 1, periodic=periodic)\n",
    "cent     = int(size/2)\n",
    "seed     = (cent,) * ndim       # seed of cluster\n",
    "\n",
    "cluster.element_add(seed)\n",
    "nsites = 200               # add nsites=200 elements to the Eden cluster\n",
    "for i in range(nsites):\n",
    "    cluster.Eden()\n",
    "\n",
    "cut   = [-1, -1]\n",
    "file  = 'Eden.pdf'\n",
    "#file  = 'Eden_solution.pdf'\n",
    "title = 'Eden cluster'\n",
    "cluster.ShowCluster(cut, file=file)\n",
    "\n",
    "# Compare your result to Eden_solution.pdf\n"
   ]
  },
  {
   "cell_type": "markdown",
   "metadata": {
    "deletable": false,
    "editable": false,
    "nbgrader": {
     "cell_type": "markdown",
     "checksum": "9d46bcbe76a27026e904307f013911b1",
     "grade": false,
     "grade_id": "cell-38a1000710c80341",
     "locked": true,
     "schema_version": 3,
     "solution": false,
     "task": false
    }
   },
   "source": [
    "### Fractal dimension of Eden cluster\n"
   ]
  },
  {
   "cell_type": "markdown",
   "metadata": {
    "deletable": false,
    "editable": false,
    "nbgrader": {
     "cell_type": "markdown",
     "checksum": "cf201bafad2a4a2012e29152f60f19c8",
     "grade": false,
     "grade_id": "cell-5f8946de50fbf5a6",
     "locked": true,
     "schema_version": 3,
     "solution": false,
     "task": false
    }
   },
   "source": [
    "In the next cell:\n",
    " - Generate an Eden cluster with the parameters given (size, ndim, periodic, and location of starting seed)\n",
    " - Compute the distance of each element to the seed\n",
    " - Sort the distance in ascending order\n",
    " - Plot the enclosed mass as a function of radius. Assume that each element has mass = 1\n",
    " \n",
    "Compare your answer to Eden_mass.pdf \n"
   ]
  },
  {
   "cell_type": "code",
   "execution_count": 55,
   "metadata": {
    "deletable": false,
    "nbgrader": {
     "cell_type": "code",
     "checksum": "5531df9b397d1877887b5d13ad012423",
     "grade": false,
     "grade_id": "cell-7668aeb88e5f84ae",
     "locked": false,
     "schema_version": 3,
     "solution": true,
     "task": false
    }
   },
   "outputs": [
    {
     "name": "stdout",
     "output_type": "stream",
     "text": [
      " max radius = 16.401219466856727\n"
     ]
    },
    {
     "name": "stderr",
     "output_type": "stream",
     "text": [
      "/opt/conda/lib/python3.6/site-packages/ipykernel_launcher.py:37: RuntimeWarning: divide by zero encountered in double_scalars\n"
     ]
    },
    {
     "data": {
      "image/png": "[encoded data removed]",
      "text/plain": [
       "<Figure size 1224x504 with 2 Axes>"
      ]
     },
     "metadata": {},
     "output_type": "display_data"
    }
   ],
   "source": [
    "size       = 101\n",
    "ndim       = 2\n",
    "periodic   = False\n",
    "cent       = int(size/2)\n",
    "seed       = (cent,) * ndim       # seed of cluster\n",
    "nsites     = 499\n",
    "\n",
    "# YOUR CODE HERE\n",
    "cluster = Cluster(ndim=ndim, size=size, periodic=periodic)\n",
    "cluster.element_add(seed)\n",
    "for i in range(nsites):\n",
    "    cluster.Eden()\n",
    "\n",
    "# radius is an array of all the distances of each element to seed, sorted in ascening order\n",
    "# you may want to exclude from it the seed itself\n",
    "\n",
    "radius = []\n",
    "for point in cluster.grid.keys():\n",
    "    radius.append(cluster.distance(seed, point))\n",
    "\n",
    "radius.sort()\n",
    "radius = radius[1:]\n",
    "\n",
    "radius = np.array(radius)\n",
    "# provide some statistics\n",
    "print(\" max radius =\", radius.max())\n",
    "\n",
    "\n",
    "# unit volume of ndim dimensional sphere\n",
    "vol = np.pi # special case for ndim = 2\n",
    "mass = 500\n",
    "# estimate fractal dimension\n",
    "\n",
    "dimen = []\n",
    "mass = [i + 1 for i in range(499)]\n",
    "for i in range(len(radius)):\n",
    "    dimen.append(np.log(mass[i]/vol) / np.log(radius[i]))\n",
    "\n",
    "# plot the result\n",
    "fig, ax = pl.subplots(1, 2, figsize=(17,7))\n",
    "ax[0].set_ylim(cluster.ndim-2, cluster.ndim+0.2)\n",
    "ax[0].set_xlabel('distance to centre')\n",
    "ax[0].set_ylabel('estimate of fractal dimension')\n",
    "ax[0].plot(radius, dimen, '.')\n",
    "ax[0].set_xscale('log')\n",
    "ax[0].set_title('fractal dimension')\n",
    "\n",
    "# enclosed mass as a function of radius\n",
    "ax[1].set_xscale('log')\n",
    "ax[1].set_yscale('log')\n",
    "ax[1].plot(radius, mass, '.')\n",
    "ax[1].set_xlabel('log distance to centre')\n",
    "ax[1].set_ylabel('log enclosed mass')\n",
    "ax[1].set_title('enclosed mass as a function of radius')\n",
    "\n",
    "# overplot mass-radius relation for ndim = 2\n",
    "mfit2 = vol * radius**(2)\n",
    "ax[1].plot(radius, mfit2, label='ndim=2')\n",
    "\n",
    "# overplot mass-radius relation for ndim = 1.9\n",
    "d     = 1.9\n",
    "mfitd = vol * radius**(d)\n",
    "ax[1].plot(radius, mfitd, label='ndim=1.9')\n",
    "ax[1].legend()\n",
    "# plt.savefig(\"Eden_mass.pdf\")\n",
    "plt.show()\n"
   ]
  },
  {
   "cell_type": "markdown",
   "metadata": {
    "deletable": false,
    "editable": false,
    "nbgrader": {
     "cell_type": "markdown",
     "checksum": "b23a0a3aa1754aa4aed6b353e74d81e8",
     "grade": false,
     "grade_id": "cell-f244e80ba6cd2ace",
     "locked": true,
     "schema_version": 3,
     "solution": false,
     "task": false
    }
   },
   "source": [
    "Now generate 2000 realisation of an Eden cluster with the parameters of the cell above.\n",
    "Compute the fractal dimension $d$, defined as $m=\\pi r^d$, where $m$ is the mass enclosed with radius $r$,\n",
    "for $r=9$. \n",
    "\n",
    "Plot a histogram of the values of $d$. **Annotate** the plot with axes labels, and save it as **histogram.pdf**\n",
    "\n",
    "Compute the mean value and dispersion of d. Report your values in the cells below to the required precision."
   ]
  },
  {
   "cell_type": "code",
   "execution_count": 56,
   "metadata": {
    "deletable": false,
    "nbgrader": {
     "cell_type": "code",
     "checksum": "958d3da1ce9c84699ade427222079c72",
     "grade": false,
     "grade_id": "cell-6712094001e020a7",
     "locked": false,
     "schema_version": 3,
     "solution": true,
     "task": false
    }
   },
   "outputs": [
    {
     "name": "stdout",
     "output_type": "stream",
     "text": [
      "Calculation finished\n"
     ]
    }
   ],
   "source": [
    "# YOUR CODE HERE\n",
    "size       = 101\n",
    "ndim       = 2\n",
    "periodic   = False\n",
    "cent       = int(size/2)\n",
    "seed       = (cent,) * ndim       # seed of cluster\n",
    "nsites     = 499\n",
    "times      = 2000\n",
    "dimen      = []\n",
    "radius     = 9\n",
    "vol        = np.pi\n",
    "for i in range(times):   \n",
    "    cluster = Cluster(ndim=ndim, size=size, periodic=periodic)\n",
    "    cluster.element_add(seed)\n",
    "    for i in range(nsites):\n",
    "        cluster.Eden()\n",
    "    mass = 0\n",
    "    for point in cluster.grid.keys():\n",
    "        if cluster.distance(seed, point) <= radius:\n",
    "            mass += 1\n",
    "    dimen.append(np.log(mass/vol) / np.log(radius))\n",
    "\n",
    "  \n",
    "\n",
    "print(\"Calculation finished\")    "
   ]
  },
  {
   "cell_type": "markdown",
   "metadata": {
    "deletable": false,
    "editable": false,
    "nbgrader": {
     "cell_type": "markdown",
     "checksum": "a6d594f80a509f23f9138d00226b17dc",
     "grade": false,
     "grade_id": "cell-d288de3c1c1062fb",
     "locked": true,
     "schema_version": 3,
     "solution": false,
     "task": false
    }
   },
   "source": [
    "### Compute and plot a histogram of estimates of the fractal dimension.\n",
    "\n",
    "** 2 marks **\n"
   ]
  },
  {
   "cell_type": "code",
   "execution_count": 19,
   "metadata": {
    "deletable": false,
    "nbgrader": {
     "cell_type": "code",
     "checksum": "d360b54ade5803bd79721f7f76d47999",
     "grade": true,
     "grade_id": "cell-ddf8e640b5c59f65",
     "locked": false,
     "points": 2,
     "schema_version": 3,
     "solution": true,
     "task": false
    }
   },
   "outputs": [
    {
     "name": "stdout",
     "output_type": "stream",
     "text": [
      "1.979462488039539\n",
      "0.008613000772697076\n"
     ]
    },
    {
     "data": {
      "image/png": "[encoded data removed]",
      "text/plain": [
       "<Figure size 1224x504 with 1 Axes>"
      ]
     },
     "metadata": {},
     "output_type": "display_data"
    }
   ],
   "source": [
    "# use this cell to \n",
    "# -- compute a histgram of the dimensions \"dimen\", estimate for each of the nEden Eden clusters\n",
    "# -- plot this histogram and save it to a file, called Eden_fractal.pdf\n",
    "#    Annote the histogram: add labels to the axes\n",
    "\n",
    "print(np.mean(dimen))\n",
    "print(np.std(dimen))\n",
    "# YOUR CODE HERE\n",
    "fig, ax = pl.subplots(1, 1, figsize=(17,7))\n",
    "ax.set_xlabel('the value of d')\n",
    "ax.set_ylabel('the number of dimen in the interval')\n",
    "ax.set_title('calculate the distribution of dimen value')\n",
    "ax.hist(dimen,label='frequency of d', bins=80)\n",
    "ax.legend(loc='best')\n",
    "plt.savefig(\"Eden_fractal.pdf\")\n"
   ]
  },
  {
   "cell_type": "markdown",
   "metadata": {
    "deletable": false,
    "editable": false,
    "nbgrader": {
     "cell_type": "markdown",
     "checksum": "9f7ad214c4bf47e4be318dc3a8d75bbd",
     "grade": false,
     "grade_id": "cell-5b9a84e96f829efa",
     "locked": true,
     "schema_version": 3,
     "solution": false,
     "task": false
    }
   },
   "source": [
    "Compute the mean (**2 marks**) and standard deviation (**2 marks**) of the fractal dimension.\n",
    "Enter your values in the boxes below. Execute the hidden cells below if the boxes do not appear."
   ]
  },
  {
   "cell_type": "code",
   "execution_count": 3,
   "metadata": {
    "init_cell": true,
    "tags": [
     "hide_input"
    ]
   },
   "outputs": [
    {
     "data": {
      "application/vnd.jupyter.widget-view+json": {
       "model_id": "",
       "version_major": 2,
       "version_minor": 0
      },
      "text/plain": [
       "VBox(children=(HTMLMath(value='Enter your estimate of the mean fractal dimension to a least 3 significant figu…"
      ]
     },
     "metadata": {},
     "output_type": "display_data"
    }
   ],
   "source": [
    "dimen=mywidgets.myFloatBox('Percolation','P1','Dimension=', 'Enter your estimate of the mean fractal dimension to a least 3 significant figures')\n",
    "dimen.getWidget()\n",
    "\n"
   ]
  },
  {
   "cell_type": "markdown",
   "metadata": {
    "deletable": false,
    "editable": false,
    "nbgrader": {
     "cell_type": "code",
     "checksum": "b83c1a8a4dff19619755a22f007a402b",
     "grade": true,
     "grade_id": "cell-9aafdd5d3e7361ee",
     "locked": true,
     "points": 2,
     "schema_version": 3,
     "solution": false,
     "task": false
    },
    "tags": [
     "hide_input"
    ]
   },
   "source": []
  },
  {
   "cell_type": "code",
   "execution_count": 4,
   "metadata": {
    "init_cell": true,
    "tags": [
     "hide_input"
    ]
   },
   "outputs": [
    {
     "data": {
      "application/vnd.jupyter.widget-view+json": {
       "model_id": "",
       "version_major": 2,
       "version_minor": 0
      },
      "text/plain": [
       "VBox(children=(HTMLMath(value='Enter your estimate of the standard deviation of the dimension to at least 3 si…"
      ]
     },
     "metadata": {},
     "output_type": "display_data"
    }
   ],
   "source": [
    "dimen_var=mywidgets.myFloatBox('Percolation','P2','stdev =', 'Enter your estimate of the standard deviation of the dimension to at least 3 significant figures')\n",
    "dimen_var.getWidget()\n"
   ]
  },
  {
   "cell_type": "code",
   "execution_count": null,
   "metadata": {
    "deletable": false,
    "editable": false,
    "nbgrader": {
     "cell_type": "code",
     "checksum": "2f7a23ce3bd00363abe6ce9ea346e417",
     "grade": true,
     "grade_id": "cell-538aa64f8a3aa5f0",
     "locked": true,
     "points": 2,
     "schema_version": 3,
     "solution": false,
     "task": false
    },
    "tags": [
     "hide_input"
    ]
   },
   "outputs": [],
   "source": []
  },
  {
   "cell_type": "markdown",
   "metadata": {
    "deletable": false,
    "editable": false,
    "nbgrader": {
     "cell_type": "markdown",
     "checksum": "d1bafc8d2e466c04f93356473ccce309",
     "grade": false,
     "grade_id": "cell-4874dbf26aeb97d7",
     "locked": true,
     "schema_version": 3,
     "solution": false,
     "task": false
    }
   },
   "source": [
    "## The DLA model of cluster growth\n",
    "\n",
    "Use the methods you have implemented so far, to complete the implemention of the DLA model of cluster growth (see course notes). In brief, the growth algorithm is as follows:\n",
    "\n",
    "- create a cluster with a single seed at the centre, using the Cluster class you've developped\n",
    "- choose an inner radius, $r_1$, and an outer radius $r_2$.\n",
    "    - start a random walker from a location at distance close to $r_1$ from the seed, and let it walk\n",
    "        - if it hits any part of the existing cluster, add it to the cluster, and start a new walk\n",
    "        - if it crosses the outer boundary, $r>r_2$, terminate the random walk, and start a new walk\n",
    "- terminate the programme, when the cluster contains a specified number of elements\n",
    "        \n",
    "You may want to base the random walk on the implementation you wrote in lecture 6 on random walks\n",
    "\n",
    "Use the cells below to test intermediate steps of this assignment\n",
    "\n",
    "        \n",
    "      "
   ]
  },
  {
   "cell_type": "code",
   "execution_count": 22,
   "metadata": {},
   "outputs": [],
   "source": [
    "# create a cluster, and add a seed to the centre\n",
    "size       = 101                  # the size here is only ever used for plotting\n",
    "ndim       = 2                    # we only do the 2 dimensional case\n",
    "periodic   = False                # non-periodic grid\n",
    "cent       = int(size/2)          # put the seed in the center of the grid\n",
    "seed       = (cent,) * ndim       # seed of cluster\n",
    "\n",
    "# We specify a random number seed for this test, so you should always get the same shape of walk\n",
    "dla = Cluster(ndim=ndim, size=size, random_number_seed=12, periodic=periodic)\n",
    "dla.element_add(seed)"
   ]
  },
  {
   "cell_type": "code",
   "execution_count": 23,
   "metadata": {},
   "outputs": [
    {
     "name": "stdout",
     "output_type": "stream",
     "text": [
      "Saving track to file:  Randomwalk.pdf\n"
     ]
    },
    {
     "data": {
      "image/png": "[encoded data removed]",
      "text/plain": [
       "<Figure size 504x504 with 1 Axes>"
      ]
     },
     "metadata": {},
     "output_type": "display_data"
    }
   ],
   "source": [
    "# as an example, perform a single walk to see what happens\n",
    "centre = seed\n",
    "radius = 20\n",
    "edge   = 40\n",
    "track  = dla.DLA(centre, radius, edge)\n",
    "#file   = \"Randomwalk_solution.pdf\"\n",
    "file   = \"Randomwalk.pdf\"\n",
    "\n",
    "# the call below plots the track the random walk followed, before it terminated\n",
    "#     - either by travelling further than 'edge' from the seed\n",
    "#     - or by hitting the seed\n",
    "dla.ShowTrack(track, file=file)\n",
    "\n",
    "# you may want to compare your answer to the file \"Randomwalk_solution.pdf\"\n",
    "# It should not look identical, but if it looks very different you may have a bug somewhere in your code"
   ]
  },
  {
   "cell_type": "markdown",
   "metadata": {
    "deletable": false,
    "editable": false,
    "nbgrader": {
     "cell_type": "markdown",
     "checksum": "55e591220c169dfaa02f66e79f73befa",
     "grade": false,
     "grade_id": "cell-de855c349553d44c",
     "locked": true,
     "schema_version": 3,
     "solution": false,
     "task": false
    }
   },
   "source": [
    "### Now create a DLA cluster with nel = 400 elements in it\n",
    "\n",
    "Use the cell below it plot the DLA cluster and saving the plot to a file.\n",
    "\n",
    "Take care with the parameter 'radius' and 'edge'.\n",
    "The values in the cell below are reasonable initialize values from where to start the walk (at a distance \"radius\" from the centre of the DLA cluster), and for when to abort the random walk (if the walker ventures further than \"edge' from the centre of the cluster). However, as the cluster grows in size, you will need to increase both \"radius\" and \"edge\".\n",
    "    - If radius is too small, the centre of the cluster will be densely filled,\n",
    "        since all walkers are started too close in.\n",
    "    - If edge is too small, you again get a cluster that is too centrally concentrated.\n",
    "    - If edge and or radius are too large, then the code becomes very inefficient, because the walker can run everywhere with little chance of ever hitting the cluster.\n",
    "\n",
    "Therefore, you may want to experiment with both these parameters.\n",
    "\n",
    "** 4 marks **\n"
   ]
  },
  {
   "cell_type": "code",
   "execution_count": 24,
   "metadata": {
    "deletable": false,
    "nbgrader": {
     "cell_type": "code",
     "checksum": "fac2a61ccbdd27f766fc53b07fcd64e1",
     "grade": false,
     "grade_id": "cell-dd67b2c0d3dd784c",
     "locked": false,
     "schema_version": 3,
     "solution": true,
     "task": false
    }
   },
   "outputs": [
    {
     "name": "stdout",
     "output_type": "stream",
     "text": [
      "Calculation is finished\n"
     ]
    }
   ],
   "source": [
    "# Use this cell to compute the DLA cluster\n",
    "# The use the next cell to plot it and save it to a file called \"DLA.pdf\"\n",
    "#       You may want to use the ShowCluster method for plotting, with cut=[-1,-1]\n",
    "\n",
    "\n",
    "# start with these parameters for the cluster\n",
    "size     = 101                  # size is only relevant for plotting and setting the starting location\n",
    "cent     = int(size/2)\n",
    "seed     = (cent,) * ndim       # seed of cluster\n",
    "periodic = False\n",
    "dla      = Cluster(ndim=ndim, size=size, random_number_seed=12, periodic=periodic)\n",
    "dla.element_add(seed)\n",
    "\n",
    "# name of file to save result, and location of cut to plot\n",
    "cut      = [-1, -1]\n",
    "file     = 'DLA.pdf'\n",
    "\n",
    "#\n",
    "centre = seed\n",
    "radius = 10\n",
    "edge   = 20\n",
    "nel    = 400\n",
    "\n",
    "\n",
    "    \n",
    "# YOUR CODE HERE\n",
    "# raise NotImplementedError()\n",
    "count = 0\n",
    "while len(dla.grid.keys()) < nel:\n",
    "    count += 1\n",
    "    increasing = count / nel * 15\n",
    "    dla.DLA(centre, radius + increasing, edge + 2 * increasing)\n",
    "print(\"Calculation is finished\")\n",
    "\n",
    "\n"
   ]
  },
  {
   "cell_type": "code",
   "execution_count": 25,
   "metadata": {
    "deletable": false,
    "nbgrader": {
     "cell_type": "code",
     "checksum": "d01172d886d9e2cb682a59e61e5bb238",
     "grade": true,
     "grade_id": "cell-73098ab5370774f3",
     "locked": false,
     "points": 4,
     "schema_version": 3,
     "solution": true,
     "task": false
    }
   },
   "outputs": [
    {
     "name": "stdout",
     "output_type": "stream",
     "text": [
      "Saving cluster to file:  DLA.pdf\n"
     ]
    },
    {
     "data": {
      "image/png": "[encoded data removed]",
      "text/plain": [
       "<Figure size 792x792 with 1 Axes>"
      ]
     },
     "metadata": {},
     "output_type": "display_data"
    }
   ],
   "source": [
    "dla.ShowCluster(cut, file=file)"
   ]
  },
  {
   "cell_type": "markdown",
   "metadata": {
    "deletable": false,
    "editable": false,
    "nbgrader": {
     "cell_type": "markdown",
     "checksum": "96108a4b8add18f3352d88f1a6325a87",
     "grade": false,
     "grade_id": "cell-4f2d3929b7938733",
     "locked": true,
     "schema_version": 3,
     "solution": false,
     "task": false
    }
   },
   "source": [
    "## Percolation"
   ]
  },
  {
   "cell_type": "markdown",
   "metadata": {},
   "source": [
    "### The cell defines a class GroupFinder that identifies groups in a cluster.\n",
    "\n",
    "The structure of the cluster required by GroupFinder is the same as what we had so far. The Eden cluster, or DLA clusters, have the right format. Given a cluster, the groupfinder partitions the elements in a cluster by making\n",
    "sure that ** any two elements of the cluster that are nearest-neighbours, belong to the same group**.\n",
    "\n",
    "\n"
   ]
  },
  {
   "cell_type": "code",
   "execution_count": 26,
   "metadata": {},
   "outputs": [],
   "source": [
    "# This class contains methods to\n",
    "#   - identify all groups in  a given cluster\n",
    "#        a group is a set of sites that are neaarest-neighbours\n",
    "#   - examine whether a group percolates\n",
    "# You should not have to edit any of these methods\n",
    "# Use the cells below to learn how to use the method to identify groups, and examine percolation\n",
    "class GroupFinder():\n",
    "    # return a list of connected clusters\n",
    "    def __init__(self, cluster):\n",
    "        self.cluster = cluster\n",
    "        # Each element within a group will point to a common element of the group - the head\n",
    "        self.heads   = {}\n",
    "        for element in self.cluster.grid:\n",
    "            self.heads[element] = element  # initialize by assuming each element is in its own group\n",
    "            \n",
    "    # Iteratively loop over all elements in the cluster to identify groups\n",
    "    def FoF(self):\n",
    "        # Begin partitioning \n",
    "        #    We only loop over pairs of neighbours\n",
    "        maxcount = 10000\n",
    "        for element in self.cluster.grid:\n",
    "            element_head = element\n",
    "            count = 0\n",
    "            while element_head != self.heads[element_head] and count < maxcount:\n",
    "                element_head = self.heads[element_head]\n",
    "            count = 0\n",
    "            for neighbour in self.cluster.element_neighbours(element)[::2]:\n",
    "                count = 0\n",
    "                if neighbour in self.cluster.grid:\n",
    "                    neighbour_head = neighbour\n",
    "                    while neighbour_head != self.heads[neighbour_head] and count < maxcount:\n",
    "                        count += 1\n",
    "                        neighbour_head = self.heads[neighbour_head]\n",
    "                    self.heads[neighbour_head] = element_head\n",
    "            if count == maxcount:\n",
    "                raise Exception(\"Error: partitioning does not converge\")\n",
    "\n",
    "        #\n",
    "        count = 0\n",
    "        for element in self.cluster.grid:\n",
    "            element_head = element\n",
    "\n",
    "            while element_head != self.heads[element_head] and count < maxcount:\n",
    "                element_head = self.heads[element_head]\n",
    "            self.heads[element] = element_head\n",
    "        \n",
    "        \n",
    "        unique  = {}\n",
    "        ngroups = 0\n",
    "        for head in self.heads:\n",
    "            if head not in unique:\n",
    "                unique[head] = ngroups\n",
    "                ngroups     += 1\n",
    "        \n",
    "        groupid = []\n",
    "        for element in self.cluster.grid:\n",
    "            groupid.append(unique[self.heads[element]])\n",
    "\n",
    "        return np.asarray(groupid)\n",
    "\n",
    "    # Alternative group finder   \n",
    "    def Groups(self):\n",
    "        groupid    = np.arange(len(self.cluster.grid), dtype=int)\n",
    "        groupindx  = {}\n",
    "        for index, element in enumerate(self.cluster.grid):\n",
    "            groupindx[element] = index\n",
    "        success = False\n",
    "        count   = 0\n",
    "        while not success:\n",
    "            success = True\n",
    "            for element in self.cluster.grid:\n",
    "                for neighbour in self.cluster.element_neighbours(element):\n",
    "                    if neighbour in self.cluster.grid:\n",
    "                        indx1 = groupid[groupindx[element]]\n",
    "                        indx2 = groupid[groupindx[neighbour]]\n",
    "                        if indx1 < indx2:\n",
    "                            groupid[groupid==indx2] = indx1\n",
    "                            success = False\n",
    "                            count += 1\n",
    "                        elif indx1 > indx2:\n",
    "                            groupid[groupid==indx1] = indx2\n",
    "                            success = False\n",
    "                            count += 1\n",
    "            print(\" count = \", count)\n",
    "        return groupid\n",
    "\n",
    "    # Examine the percolation of groups identified using a group finder\n",
    "    # Loop over all unique groups in groupdid\n",
    "    #     for each group, loop over all dimensions\n",
    "    #     if a group percolates, store its id and the dimension that it percoaltes in\n",
    "    #   return this to the calling routine\n",
    "    def PercolateGrid(self, groupid):\n",
    "        # determine whether thisgroup percolates\n",
    "        \n",
    "        # consistency: only works for non-periodic grids\n",
    "        if self.cluster.periodic:\n",
    "            raise Exception(\" We only implement non-periodic grids \")\n",
    "            \n",
    "        #     \n",
    "        groupindx  = {}\n",
    "        for index, element in enumerate(self.cluster.grid):\n",
    "            groupindx[element] = index\n",
    "         \n",
    "        # extract group by group\n",
    "        result = []\n",
    "        for group in np.unique(groupid):\n",
    "            newcluster = Cluster(self.cluster.ndim, self.cluster.size, self.cluster.periodic)\n",
    "            for element in self.cluster.grid:\n",
    "                if groupid[groupindx[element]] == group:\n",
    "                    newcluster.grid[element] = True \n",
    "                    \n",
    "            # find whether this group percolates\n",
    "            for dimen in range(self.cluster.ndim):\n",
    "                if self.PercolateGroup(newcluster, dimen):\n",
    "                    result.append([group, dimen])\n",
    "        return result                \n",
    "    \n",
    "    # This method examines whether a given group percolates in a given dimension\n",
    "    def PercolateGroup(self, cluster, dimen):\n",
    "        # inputs:\n",
    "        #    self: the class GroupFinder\n",
    "        #    cluster: one of the groups identified by the group finder\n",
    "        #    dimen: the dimension to check for percolation\n",
    "\n",
    "        # consistency check\n",
    "        if dimen < 0 or dimen >= cluster.ndim:\n",
    "            raise Exception(\" too many dimensions \")\n",
    "        \n",
    "        # Determine with this cluster touches both boundaries in dimension dimen of the dimensions simultaneously\n",
    "        x = [sp[dimen] for sp in cluster.grid.keys()]\n",
    "        return (min(x) == 0 and max(x) == cluster.size-1)\n",
    "\n",
    "    ####### The routines below are ueful for plotting groups #################\n",
    "    def ExtractGroup(self, groupid, plotid, cut):\n",
    "        groupindx  = {}\n",
    "        for index, element in enumerate(self.cluster.grid):\n",
    "            groupindx[element] = index\n",
    "            \n",
    "        newcluster = Cluster(self.cluster.ndim, self.cluster.size, self.cluster.periodic)\n",
    "        for element in self.cluster.grid:\n",
    "            if groupid[groupindx[element]] == plotid:\n",
    "                newcluster.grid[element] = True\n",
    "            \n",
    "        xs, ys  = newcluster.ExtractSlice(cut)\n",
    "        return xs, ys    \n",
    "    \n",
    "    def ShowGroup(self, groupid, plotid, cut):\n",
    "        xs, ys = self.ExtractGroup(groupid, plotid, cut)\n",
    "        ax.plot(xs, ys, 'o',alpha=0.2)[0]\n",
    "\n",
    "   "
   ]
  },
  {
   "cell_type": "markdown",
   "metadata": {
    "deletable": false,
    "editable": false,
    "nbgrader": {
     "cell_type": "markdown",
     "checksum": "895bfa62a20c6d0edbfcd5377340d7ee",
     "grade": false,
     "grade_id": "cell-7e3f7fc485b789c5",
     "locked": true,
     "schema_version": 3,
     "solution": false,
     "task": false
    }
   },
   "source": [
    "### Examine the cell to see how the methods of GroupFinder and Cluster can be used to\n",
    " - create a cluster to work on\n",
    " - identify the groups inside the cluster\n",
    " - plot the result\n"
   ]
  },
  {
   "cell_type": "code",
   "execution_count": 27,
   "metadata": {},
   "outputs": [
    {
     "name": "stdout",
     "output_type": "stream",
     "text": [
      " Number of elements in groups =  [1823, 2311, 3989, 1882]\n",
      " Number of unique groups =  4\n",
      " Number of elements in largest group =  3989\n"
     ]
    },
    {
     "data": {
      "image/png": "[encoded data removed]",
      "text/plain": [
       "<Figure size 504x504 with 1 Axes>"
      ]
     },
     "metadata": {},
     "output_type": "display_data"
    }
   ],
   "source": [
    "# set-up the grid parameters\n",
    "size      = 512\n",
    "ndim      = 2\n",
    "periodic  = True\n",
    "rseed     = 12\n",
    "cluster   = Cluster(size=size, ndim=ndim, periodic=periodic, random_number_seed = rseed)\n",
    "\n",
    "# Use the Eden model to grow some clusters\n",
    "#    start woth 5 seperate seeds\n",
    "seed1     = (50,50)\n",
    "seed2     = (50,200)\n",
    "seed3     = (100,50)\n",
    "seed4     = (200,400)\n",
    "seed5     = (300,200)\n",
    "cluster.element_add(seed1)\n",
    "cluster.element_add(seed2)\n",
    "cluster.element_add(seed3)\n",
    "cluster.element_add(seed4)\n",
    "cluster.element_add(seed5)\n",
    "\n",
    "# run the Eden model, growing each seed\n",
    "for i in range(10000):\n",
    "    cluster.Eden()\n",
    "\n",
    "# Identify the groups\n",
    "groupfinder = GroupFinder(cluster)\n",
    "\n",
    "# Assign each element to its group. Elements of the same group have the same groupid\n",
    "groupid     = groupfinder.FoF()\n",
    "\n",
    "grouplen    = []\n",
    "\n",
    "# Next, count the number of elements in each seperate group\n",
    "for id in np.unique(groupid):\n",
    "    grouplen.append(len(np.where(groupid == id)[0]))\n",
    "print(\" Number of elements in groups = \", grouplen)\n",
    "    \n",
    "    \n",
    "# Print some statistics    \n",
    "print(\" Number of unique groups = \", len(np.unique(groupid)))\n",
    "print(\" Number of elements in largest group = \", max(grouplen))\n",
    "\n",
    "# Now plot all groups, using different colours for each group\n",
    "fig, ax = pl.subplots(1, 1, figsize=(7,7))\n",
    "ax.set_aspect('equal')\n",
    "ax.set_xlim(-1, cluster.size)\n",
    "ax.set_ylim(-1, cluster.size)\n",
    "ax.set_xlabel('x-position')\n",
    "ax.set_ylabel('y-position')\n",
    "ax.set_title(' connected groups')\n",
    "ax.grid()\n",
    "for id in np.unique(groupid):\n",
    "    xs, ys = groupfinder.ExtractGroup(groupid, id, cut)\n",
    "    ax.plot(xs, ys, 'o', alpha=0.2)[0]\n",
    "    \n",
    "# plot a histogram of the size distribution    \n",
    "#hist, edges = np.histogram(grouplen, bins = 5)\n",
    "#centre = 0.5 * (edges[1:]+edges[0:-1])\n",
    "#ax[1].plot(centre, hist)\n",
    "    \n",
    "plt.show()\n",
    "\n",
    "# Description: we grew Eden clusters starting at 5 different locations.\n",
    "# Running the group finder, we identified 4 seperat groups - as you can see, the green group consists\n",
    "#     of 2 Eden clusters that now touch - and hence are only one group"
   ]
  },
  {
   "cell_type": "markdown",
   "metadata": {
    "deletable": false,
    "editable": false,
    "nbgrader": {
     "cell_type": "markdown",
     "checksum": "238f240dced7fbeb77b1e9e5044d1f0b",
     "grade": false,
     "grade_id": "cell-cd852e229bcd777f",
     "locked": true,
     "schema_version": 3,
     "solution": false,
     "task": false
    }
   },
   "source": [
    "We will now use the group finder to study percolation.\n",
    "\n",
    "Begin by examining the method \"Random\" in the class Cluster, which has as parameter $p$, in addition to size, ndim and periodic. \n",
    "\n",
    "In this method, we generate a random number, $r$, for each grid point of square mesh, [size, size] in extent.\n",
    "If $r<p$, then we add this element to the cluster."
   ]
  },
  {
   "cell_type": "code",
   "execution_count": 28,
   "metadata": {},
   "outputs": [
    {
     "name": "stdout",
     "output_type": "stream",
     "text": [
      " generating sample grid with probability =  0.2  fraction of occupied elements=  0.1968\n"
     ]
    },
    {
     "data": {
      "image/png": "[encoded data removed]",
      "text/plain": [
       "<Figure size 792x792 with 1 Axes>"
      ]
     },
     "metadata": {},
     "output_type": "display_data"
    },
    {
     "name": "stdout",
     "output_type": "stream",
     "text": [
      " generating sample grid with probability =  0.4  fraction of occupied elements=  0.3932\n"
     ]
    },
    {
     "data": {
      "image/png": "[encoded data removed]",
      "text/plain": [
       "<Figure size 792x792 with 1 Axes>"
      ]
     },
     "metadata": {},
     "output_type": "display_data"
    },
    {
     "name": "stdout",
     "output_type": "stream",
     "text": [
      " generating sample grid with probability =  0.6  fraction of occupied elements=  0.5944\n"
     ]
    },
    {
     "data": {
      "image/png": "[encoded data removed]",
      "text/plain": [
       "<Figure size 792x792 with 1 Axes>"
      ]
     },
     "metadata": {},
     "output_type": "display_data"
    }
   ],
   "source": [
    "# Example of the method Cluster.Random for generating a cluster of points on a regular grid, with a given probability\n",
    "\n",
    "size = 50         # size of the grid\n",
    "ndim = 2          # dimensionality\n",
    "\n",
    "# variable needed by ShowCluster\n",
    "cut = np.zeros(ndim)\n",
    "cut[0] = -1\n",
    "cut[1] = -1\n",
    "cut    = tuple(cut)\n",
    "\n",
    "# generate some with different probabilities as an example\n",
    "\n",
    "# first example\n",
    "probability = 0.2\n",
    "cluster = Cluster(ndim=ndim, size=size, random_number_seed=1, periodic=False)\n",
    "cluster.Random(probability)\n",
    "fraction = len(cluster.grid) / float(size**ndim)\n",
    "print(\" generating sample grid with probability = \", probability,\" fraction of occupied elements= \", fraction)\n",
    "cluster.ShowCluster(cut)\n",
    "\n",
    "# second example\n",
    "probability = 0.4\n",
    "cluster = Cluster(ndim=ndim, size=size, random_number_seed=1, periodic=False)\n",
    "cluster.Random(probability)\n",
    "fraction = len(cluster.grid) / float(size**ndim)\n",
    "print(\" generating sample grid with probability = \", probability,\" fraction of occupied elements= \", fraction)\n",
    "cluster.ShowCluster(cut)\n",
    "\n",
    "# third example\n",
    "probability = 0.6\n",
    "cluster = Cluster(ndim=ndim, size=size, random_number_seed=1, periodic=False)\n",
    "cluster.Random(probability)\n",
    "fraction = len(cluster.grid) / float(size**ndim)\n",
    "print(\" generating sample grid with probability = \", probability,\" fraction of occupied elements= \", fraction)\n",
    "cluster.ShowCluster(cut)\n",
    "\n",
    "\n"
   ]
  },
  {
   "cell_type": "code",
   "execution_count": 29,
   "metadata": {},
   "outputs": [
    {
     "name": "stdout",
     "output_type": "stream",
     "text": [
      " generating sample grid with probability =  0.59  fraction of occupied elements=  0.6\n",
      " Number of unique groups =  88\n",
      " Biggest group =  625\n"
     ]
    },
    {
     "data": {
      "image/png": "[encoded data removed]",
      "text/plain": [
       "<Figure size 504x504 with 1 Axes>"
      ]
     },
     "metadata": {},
     "output_type": "display_data"
    }
   ],
   "source": [
    "# we now use the group finder to identify clusters in this random grid\n",
    "probability = 0.59\n",
    "cluster = Cluster(ndim=ndim, size=size, random_number_seed=3, periodic=False)\n",
    "cluster.Random(probability)\n",
    "fraction = len(cluster.grid) / float(size**ndim)\n",
    "print(\" generating sample grid with probability = \", probability,\" fraction of occupied elements= \", fraction)\n",
    "\n",
    "groupfinder = GroupFinder(cluster)\n",
    "groupid     = groupfinder.FoF()\n",
    "grouplen    = []\n",
    "for id in np.unique(groupid):\n",
    "    grouplen.append(len(np.where(groupid == id)[0]))\n",
    "\n",
    "print(\" Number of unique groups = \", len(np.unique(groupid)))\n",
    "print(\" Biggest group = \", max(grouplen))\n",
    "\n",
    "fig, ax = pl.subplots(1, 1, figsize=(7,7))\n",
    "ax.set_aspect('equal')\n",
    "ax.set_xlim(-1, cluster.size)\n",
    "ax.set_ylim(-1, cluster.size)\n",
    "ax.grid()\n",
    "for id in np.unique(groupid):\n",
    "    xs, ys = groupfinder.ExtractGroup(groupid, id, cut)\n",
    "    ax.plot(xs, ys, 'o', alpha=0.2)[0]"
   ]
  },
  {
   "cell_type": "markdown",
   "metadata": {
    "deletable": false,
    "editable": false,
    "nbgrader": {
     "cell_type": "markdown",
     "checksum": "6d516ba29970b54fca384376d53fa6c8",
     "grade": false,
     "grade_id": "cell-239a8f6b68bad191",
     "locked": true,
     "schema_version": 3,
     "solution": false,
     "task": false
    }
   },
   "source": [
    "### Assignment"
   ]
  },
  {
   "cell_type": "markdown",
   "metadata": {},
   "source": [
    "Having played with random grids, and dividing a cluster into a set of connected groups, we will analyse\n",
    "the appearance of a **percolating** cluster. A percolating cluster, is a group that touches both sides of the grid\n",
    "(either in the (horizontal) $x$-direction, or in the (vertical) $y$-direction). In the example above, you will see that the pink cluster percolates in the vertical direction, but not in the horizontal direction.\n",
    "\n",
    "If the probability $p$ is small, then most clusters are small as well, and usually none of them percolates. If the probability $p$ is large, then there is usually one large cluster that percolates in either $x$ or $y$, or indeed in both directions.\n",
    "\n",
    "As discussed in the lecture, the transition between these two regimes - no percolating cluster on average at low $p$, versus the presence of one or more peroclating clusters, depends on size, and on the value of $p$. Let $p_c$ be the characteristic value of $p$ where the transition happens. Operationally we will define $p_c$ as follows:\n",
    "\n",
    "  - $p<p_c$: the average number of percolating clusters is < 50 per cent\n",
    "  - $p>=p_c$: the average number of percolating clusters is >= 50 per cent\n",
    "\n",
    "To determine the average, we need to generate many random grids with a given value of $p$.\n",
    "\n",
    "Proceed as follows:\n",
    "\n",
    " - Generate a number of random clusters for a range of values of $p$. Set size=50, and ndim=2, periodic=False\n",
    " - For each cluster, identify the groups, and examine whether any of the groups percolates. Compute the fraction, $f_{\\rm perc}$, of clusters with this value of $p$, that have (one or more) percoalting groups\n",
    "- Plot $f_{\\rm perc}$ versus $p$ to estimate $p_c$.\n",
    "- Reduce the range in $p$ to zoom in on $p_c$, and increase the number of clusters generated per $p$ value, to measure $p_c$ more accurately.\n",
    "- Compute and report your value of $p_c$ to 3 significant digits.\n"
   ]
  },
  {
   "cell_type": "code",
   "execution_count": 30,
   "metadata": {
    "deletable": false,
    "nbgrader": {
     "cell_type": "code",
     "checksum": "497fb9b58b38f852d9376bb0b58a0baf",
     "grade": false,
     "grade_id": "cell-64f4f163a3083d47",
     "locked": false,
     "schema_version": 3,
     "solution": true,
     "task": false
    }
   },
   "outputs": [
    {
     "name": "stdout",
     "output_type": "stream",
     "text": [
      "[0.5775, 0.5776, 0.5777, 0.5778, 0.5779, 0.578, 0.5781000000000001, 0.5782, 0.5783, 0.5784, 0.5785, 0.5786, 0.5787, 0.5788, 0.5789, 0.579, 0.5791000000000001, 0.5792, 0.5793, 0.5794, 0.5795, 0.5796, 0.5797, 0.5798, 0.5799, 0.58, 0.5801000000000001, 0.5802, 0.5803, 0.5804, 0.5805, 0.5806, 0.5807, 0.5808, 0.5809, 0.581, 0.5811000000000001, 0.5812, 0.5813, 0.5814, 0.5815, 0.5816, 0.5817, 0.5818, 0.5819, 0.582, 0.5821000000000001, 0.5822, 0.5823, 0.5824, 0.5825, 0.5826, 0.5827, 0.5828, 0.5829, 0.583, 0.5831000000000001, 0.5832, 0.5833, 0.5834, 0.5835]\n",
      "[0.437, 0.452, 0.448, 0.439, 0.487, 0.46, 0.447, 0.496, 0.464, 0.48, 0.492, 0.46, 0.485, 0.489, 0.483, 0.453, 0.489, 0.475, 0.471, 0.478, 0.461, 0.491, 0.49, 0.486, 0.514, 0.526, 0.471, 0.471, 0.487, 0.483, 0.5, 0.511, 0.51, 0.498, 0.488, 0.497, 0.522, 0.514, 0.542, 0.534, 0.522, 0.512, 0.508, 0.512, 0.516, 0.527, 0.531, 0.509, 0.477, 0.512, 0.544, 0.533, 0.54, 0.552, 0.552, 0.556, 0.554, 0.545, 0.549, 0.542, 0.537]\n",
      " Calculation finished\n"
     ]
    }
   ],
   "source": [
    "# Use this cell to zoom in on the calculation of $p_c$\n",
    "# YOUR CODE HERE\n",
    "size=50\n",
    "ndim=2\n",
    "calculate_times = 1000\n",
    "# probabilitys = [0.57 + 0.001 * i for i in range(20)]\n",
    "probabilitys = [0.5775 + i * 0.0001 for i in range(61)]\n",
    "# probabilitys = [0.5 + i * 0.005 for i in range(41)]\n",
    "print(probabilitys)\n",
    "f_perc = []\n",
    "for probability in probabilitys:\n",
    "    count = 0\n",
    "    for i in range(calculate_times):\n",
    "        cluster = Cluster(ndim=ndim, size=size, periodic=False)\n",
    "        cluster.Random(probability)\n",
    "        groupfinder = GroupFinder(cluster)\n",
    "        groupid     = groupfinder.FoF()\n",
    "        if(groupfinder.PercolateGrid(groupid)):\n",
    "            count += 1\n",
    "    f_perc.append(count / calculate_times)\n",
    "\n",
    "\n",
    "\n",
    "print(f_perc)\n",
    "    \n",
    "\n",
    "print(\" Calculation finished\") "
   ]
  },
  {
   "cell_type": "markdown",
   "metadata": {
    "deletable": false,
    "editable": false,
    "nbgrader": {
     "cell_type": "markdown",
     "checksum": "149065279ebe41d01fa0d5e74728eea8",
     "grade": false,
     "grade_id": "cell-a85f350ffa087c07",
     "locked": true,
     "schema_version": 3,
     "solution": false,
     "task": false
    }
   },
   "source": [
    "Plot the relation $f_{\\rm perc}$ versus $p$ close to $p_c$. Use the curve to estimate $p_c$.\n",
    "Save the plot to a file called \"pc.pdf\"\n",
    "\n",
    "** 2 marks **"
   ]
  },
  {
   "cell_type": "code",
   "execution_count": 33,
   "metadata": {
    "deletable": false,
    "nbgrader": {
     "cell_type": "code",
     "checksum": "80d4833b6f174432c464558b898c72b5",
     "grade": false,
     "grade_id": "cell-1c4d0d2bc99faaf0",
     "locked": false,
     "schema_version": 3,
     "solution": true,
     "task": false
    }
   },
   "outputs": [
    {
     "data": {
      "image/png": "[encoded data removed]",
      "text/plain": [
       "<Figure size 1224x504 with 1 Axes>"
      ]
     },
     "metadata": {},
     "output_type": "display_data"
    }
   ],
   "source": [
    "# use this cell to plot the histogram and save the answer to \"pc.pdf\"\n",
    "# YOUR CODE HERE\n",
    "file = \"pc.pdf\"  \n",
    "fig, ax = pl.subplots(1, 1, figsize=(17,7))\n",
    "ax.set_xlabel('the probability of adding element into grid')\n",
    "ax.set_ylabel('the fraction of grid which is percolated')\n",
    "ax.set_title('pc')\n",
    "ax.plot(probabilitys, f_perc)\n",
    "plt.savefig(file)"
   ]
  },
  {
   "cell_type": "markdown",
   "metadata": {},
   "source": [
    "Compute the value of $p_c$. Enter your value in the box below. Execute the hidden cell below if the box is not visible."
   ]
  },
  {
   "cell_type": "code",
   "execution_count": 5,
   "metadata": {
    "init_cell": true,
    "tags": [
     "hide_input"
    ]
   },
   "outputs": [
    {
     "data": {
      "application/vnd.jupyter.widget-view+json": {
       "model_id": "",
       "version_major": 2,
       "version_minor": 0
      },
      "text/plain": [
       "VBox(children=(HTMLMath(value='Enter your estimate of the critical value $p_c$ to at least three significant f…"
      ]
     },
     "metadata": {},
     "output_type": "display_data"
    }
   ],
   "source": [
    "perc=mywidgets.myFloatBox('Percolation','P4','$p_c$ =', 'Enter your estimate of the critical value $p_c$ to at least three significant figures')\n",
    "perc.getWidget()\n"
   ]
  },
  {
   "cell_type": "code",
   "execution_count": null,
   "metadata": {
    "deletable": false,
    "editable": false,
    "nbgrader": {
     "cell_type": "code",
     "checksum": "12226078cf681ad0d3c50c429c8b25e8",
     "grade": true,
     "grade_id": "cell-16c2e0d9ef258267",
     "locked": true,
     "points": 2,
     "schema_version": 3,
     "solution": false,
     "task": false
    },
    "tags": [
     "hide_input"
    ]
   },
   "outputs": [],
   "source": []
  },
  {
   "cell_type": "code",
   "execution_count": null,
   "metadata": {},
   "outputs": [],
   "source": []
  }
 ],
 "metadata": {
  "kernelspec": {
   "display_name": "Python 3",
   "language": "python",
   "name": "python3"
  },
  "language_info": {
   "codemirror_mode": {
    "name": "ipython",
    "version": 3
   },
   "file_extension": ".py",
   "mimetype": "text/x-python",
   "name": "python",
   "nbconvert_exporter": "python",
   "pygments_lexer": "ipython3",
   "version": "3.6.3"
  }
 },
 "nbformat": 4,
 "nbformat_minor": 2
}
