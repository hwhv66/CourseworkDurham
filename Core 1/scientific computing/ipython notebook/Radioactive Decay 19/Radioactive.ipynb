{
 "cells": [
  {
   "cell_type": "markdown",
   "metadata": {
    "deletable": false,
    "editable": false,
    "nbgrader": {
     "cell_type": "markdown",
     "checksum": "a6554f6f11ded1cb31d284b618c2aa05",
     "grade": false,
     "grade_id": "cell-98fb230769097d5c",
     "locked": true,
     "schema_version": 3,
     "solution": false,
     "task": false
    }
   },
   "source": [
    "## Workshop notebooks\n",
    "\n",
    "When working on your solution, you can save your notebook as many times as you like. You can also submit \n",
    "as many times as you like. In fact, it is a good idea to save and submit often.\n",
    "\n",
    "**Only the last submission before the deadline** will be marked.\n",
    "Note that you have to **submit** at least once for your work to be marked.\n"
   ]
  },
  {
   "cell_type": "markdown",
   "metadata": {
    "deletable": false,
    "editable": false,
    "nbgrader": {
     "cell_type": "markdown",
     "checksum": "1a7893f962faf23571b65c79d99feb69",
     "grade": false,
     "grade_id": "cell-8e8189e6f1bc29b8",
     "locked": true,
     "schema_version": 3,
     "solution": false,
     "task": false
    }
   },
   "source": [
    "The notebook contains cells with code. Some of the code is (intentionally) missing. Please insert appropriate code where it says 'YOUR CODE HERE' and delete or comment out the 'raise NotImplementedError()' statements. Cells which do not contain any 'YOUR CODE HERE' lines will allow you to test your code; if they return an error there is something wrong with your implementation; if they do not return an error your code might be correct (it is unfortunately not possible to check for every possible error).\n"
   ]
  },
  {
   "cell_type": "markdown",
   "metadata": {
    "deletable": false,
    "editable": false,
    "nbgrader": {
     "cell_type": "markdown",
     "checksum": "203b20737bbce424060f5427849e5d3a",
     "grade": false,
     "grade_id": "cell-7849d038086926af",
     "locked": true,
     "schema_version": 3,
     "solution": false,
     "task": false
    }
   },
   "source": [
    "## Workshop I: Radioactive decay\n",
    "\n",
    "In this exercise we will solve numerically the equation for radioactive decay of isotope A to isotope B and compare the numerical result to its analytical counterpart. We will use Euler's method.\n",
    "\n",
    "As a second step we will generalize the solver to deal with three elements, where isotope A decays to isotope B and isotope B decays to isotope C. \n",
    "\n",
    "Total marks for this assignment is 10.\n",
    "\n",
    "Note:\n",
    "  - simply add numerical value in a dropbox for it to get marked\n",
    "  \n",
    "  - when asked for true/false in a box: \n",
    "      - ticking a box means True\n",
    "      - not ticking (or ticking an even number of times) yields False \n",
    "\n"
   ]
  },
  {
   "cell_type": "code",
   "execution_count": 12,
   "metadata": {},
   "outputs": [],
   "source": [
    "%matplotlib inline\n",
    "import numpy\n",
    "import pylab\n",
    "import sys\n",
    "import os\n",
    "from DEq_Solver import DEq_Solver\n",
    "sys.path.append(os.getcwd())"
   ]
  },
  {
   "cell_type": "markdown",
   "metadata": {
    "deletable": false,
    "editable": false,
    "nbgrader": {
     "cell_type": "markdown",
     "checksum": "d8324e67a872fd607b941b9bcbd66df5",
     "grade": false,
     "grade_id": "cell-7cd18e0222d98da0",
     "locked": true,
     "schema_version": 3,
     "solution": false,
     "task": false
    }
   },
   "source": [
    "## Euler's method\n",
    "\n",
    "Euler's method for solving the first order DE\n",
    "\n",
    "\n",
    "$\\frac{{\\rm d}x}{{\\rm d}t} = f(x,t)$\n",
    "\n",
    "is\n",
    "\n",
    "$x^{n+1} = x^{n} + f(x^n,t^n)\\,\\Delta t$.\n",
    "\n",
    "We begin by implementing a routine, ``makeStep``, that implements this time integration, and test it in the special case where\n",
    "$f(x,t)$ is a constant.\n",
    "\n"
   ]
  },
  {
   "cell_type": "markdown",
   "metadata": {
    "deletable": false,
    "editable": false,
    "nbgrader": {
     "cell_type": "markdown",
     "checksum": "00f838bba35ba4e2e1e1afd01948a552",
     "grade": false,
     "grade_id": "cell-dc6597f7a959eda0",
     "locked": true,
     "schema_version": 3,
     "solution": false,
     "task": false
    }
   },
   "source": [
    "This is where we define the Euler solver. The class Euler Solver below is derived from the more general DEq_Solver class (see DEq_Solver.py in the same directory). This means that the resulting EulerSolver class features all the methods defined in DEq_Solver as well as the additional EulerSolver methods which you are supposed to complete below. \n",
    "\n",
    "Implement the makeStep(self) function. Within this function you have access to \n",
    "\n",
    "- the current coordinates array as ``self.x``\n",
    "- the current time as ``self.t``\n",
    "- the derivative $dx/dt$ as ``self.kernel.dx_dt(self.x,self.t)``\n",
    "- the timestep as ``self.delta_t``\n",
    "\n",
    "the function ``makeStep`` has to update ``self.x`` and ``self.t``.\n",
    " \n",
    "**3 marks** "
   ]
  },
  {
   "cell_type": "code",
   "execution_count": 13,
   "metadata": {
    "deletable": false,
    "nbgrader": {
     "cell_type": "code",
     "checksum": "c87ab245a734da6ee7058fe49d745fd9",
     "grade": false,
     "grade_id": "cell-d8aabd8211ad6321",
     "locked": false,
     "schema_version": 3,
     "solution": true
    }
   },
   "outputs": [],
   "source": [
    "class EulerSolver(DEq_Solver):\n",
    "    def __init__(self,kernel):\n",
    "        self.kernel  = kernel\n",
    "    def makeStep(self):\n",
    "        self.t += self.delta_t\n",
    "        self.x += self.kernel.dx_dt(self.x,self.t)*self.delta_t\n"
   ]
  },
  {
   "cell_type": "markdown",
   "metadata": {},
   "source": [
    "These two cells test your implementation of the ``makeStep`` routine."
   ]
  },
  {
   "cell_type": "code",
   "execution_count": 14,
   "metadata": {
    "deletable": false,
    "editable": false,
    "nbgrader": {
     "cell_type": "code",
     "checksum": "431b373d39b0222b1e4683547c0e887d",
     "grade": true,
     "grade_id": "cell-2b12a87bf0144c9b",
     "locked": true,
     "points": 1,
     "schema_version": 3,
     "solution": false
    }
   },
   "outputs": [],
   "source": [
    "class ConstantSpeedKernel:\n",
    "    def dx_dt(x,t):\n",
    "        return 2.3\n",
    "d=EulerSolver(ConstantSpeedKernel)\n",
    "x0=numpy.array([0.0])\n",
    "t0=0\n",
    "t1=10\n",
    "delta_t=0.1\n",
    "d.initialise(x0,t0,t1,delta_t)\n",
    "\n",
    "# test 20 steps\n",
    "for i in range(20):\n",
    "    d.makeStep()\n",
    "assert numpy.isclose(d.x,numpy.array([ 4.6]))"
   ]
  },
  {
   "cell_type": "code",
   "execution_count": 15,
   "metadata": {
    "deletable": false,
    "editable": false,
    "nbgrader": {
     "cell_type": "code",
     "checksum": "f4fb418fff74789ca21497089d066cf5",
     "grade": true,
     "grade_id": "cell-0856885444e882ac",
     "locked": true,
     "points": 2,
     "schema_version": 3,
     "solution": false
    }
   },
   "outputs": [],
   "source": [
    "class testKernel:\n",
    "    def dx_dt(x,t):\n",
    "        return sum(x)*numpy.ones_like(x)\n",
    "d=EulerSolver(testKernel)\n",
    "x0=numpy.array([1.0,2.0,3.0])\n",
    "t0=0\n",
    "t1=10\n",
    "delta_t=0.1\n",
    "d.initialise(x0,t0,t1,delta_t)\n",
    "\n",
    "for i in range(10):\n",
    "    d.makeStep()\n",
    "\n",
    "assert numpy.isclose(d.x,numpy.array([ 26.57169837,  27.57169837,  28.57169837])).all()"
   ]
  },
  {
   "cell_type": "markdown",
   "metadata": {
    "deletable": false,
    "editable": false,
    "nbgrader": {
     "cell_type": "markdown",
     "checksum": "66d32e6c87baa11c06749f66e1223b54",
     "grade": false,
     "grade_id": "cell-3ce509183754e8d7",
     "locked": true,
     "schema_version": 3,
     "solution": false,
     "task": false
    }
   },
   "source": [
    "## Radioactive decay\n",
    "\n",
    "We use the ``EulerSolver`` routine to calculate the radioactive decay of isotope A. "
   ]
  },
  {
   "cell_type": "markdown",
   "metadata": {
    "deletable": false,
    "editable": false,
    "nbgrader": {
     "cell_type": "markdown",
     "checksum": "315e91ce7e2857d24b04bf56bc9b41bb",
     "grade": false,
     "grade_id": "cell-14ab654577031e46",
     "locked": true,
     "schema_version": 3,
     "solution": false,
     "task": false
    }
   },
   "source": [
    "The mathematical model describing the radioactive decay of A to B is \n",
    "\n",
    "$$  \\frac{{\\rm d}N_A}{{\\rm d}t} = -\\frac{N_A}{\\tau} $$\n",
    "\n",
    "We will use the solver above but we now need to provide the kernel for this \n",
    "specific case -- that is we have to provide the function $f$ in the \"canonical form\"\n",
    "\n",
    "$$  \\frac{{\\rm d}x_i}{{\\rm d}t} = f_i(x_i,t)$$\n",
    "\n",
    "\n",
    "that is used in the lecture for describing differential equations of order one and their solution. To this end, the method\n",
    "\n",
    "   ``dx_dt(self,x,t)``\n",
    "\n",
    " needs to be modified. \n",
    " \n",
    "In this case we know the analytical solution so we can compare our numerical result with the analytical formula that you need to implement in ``analytical``\n",
    "\n",
    "In addition, in the ``__init__`` routine the half-life given by `hlife` needs to be converted into the time constant `tau`. \n",
    "\n",
    "All other input, plotting of results, etc. is already implemented in the following cells.\n",
    "\n",
    "**2 marks**"
   ]
  },
  {
   "cell_type": "code",
   "execution_count": 16,
   "metadata": {
    "deletable": false,
    "nbgrader": {
     "cell_type": "code",
     "checksum": "1ce52b14ef24f377882bc6c53e2a1e40",
     "grade": false,
     "grade_id": "cell-692708ec395f5742",
     "locked": false,
     "schema_version": 3,
     "solution": true
    }
   },
   "outputs": [],
   "source": [
    "class Radioactive:\n",
    "    def __init__(self,hlife):\n",
    "        self.tau = hlife / numpy.log(2)\n",
    "        \n",
    "\n",
    "    def dx_dt(self,x,t):\n",
    "        return -x / self.tau\n",
    "        \n",
    "        \n",
    "    def analytical(self,x0,t):\n",
    "        return x0 * numpy.exp(-t / self.tau)\n",
    "\n",
    "    def relative_error(self,test,t0,t1):\n",
    "        res = []\n",
    "        for t,x in test:\n",
    "            if len(res)==0:\n",
    "                x0 = x\n",
    "            res.append( (t, x/self.analytical(x0,t-t0)-1) )\n",
    "        return res"
   ]
  },
  {
   "cell_type": "markdown",
   "metadata": {},
   "source": [
    "Use the cells below to test your implementation and to create some plots."
   ]
  },
  {
   "cell_type": "code",
   "execution_count": 17,
   "metadata": {
    "deletable": false,
    "editable": false,
    "nbgrader": {
     "cell_type": "code",
     "checksum": "03ef7be8ea88fcc1f3c65d0a564a8f9a",
     "grade": true,
     "grade_id": "cell-12a0e717ac13ed62",
     "locked": true,
     "points": 1,
     "schema_version": 3,
     "solution": false,
     "task": false
    }
   },
   "outputs": [],
   "source": [
    "# this checks the tau implementation\n",
    "r=Radioactive(0.9)\n",
    "assert numpy.isclose(r.tau,1.2984255368)"
   ]
  },
  {
   "cell_type": "code",
   "execution_count": 18,
   "metadata": {
    "deletable": false,
    "editable": false,
    "nbgrader": {
     "cell_type": "code",
     "checksum": "b731c9b321c3911c745512a9802fb886",
     "grade": true,
     "grade_id": "cell-955c476bb51c2d9b",
     "locked": true,
     "points": 1,
     "schema_version": 3,
     "solution": false
    }
   },
   "outputs": [],
   "source": [
    "# this checks the kernel implementation\n",
    "r=Radioactive(0.9)\n",
    "assert numpy.isclose(r.dx_dt(5000,1.0),-3850.8176697774734)"
   ]
  },
  {
   "cell_type": "code",
   "execution_count": 19,
   "metadata": {},
   "outputs": [],
   "source": [
    "natoms = 10000\n",
    "hlife  = 0.2   # Half-life of the element\n",
    "t0     = 0.0   # Initial time\n",
    "t1     = 1.0   # Final time of simulation\n",
    "deltat = 0.01   # Size of timestep"
   ]
  },
  {
   "cell_type": "code",
   "execution_count": 22,
   "metadata": {},
   "outputs": [
    {
     "name": "stdout",
     "output_type": "stream",
     "text": [
      "<zip object at 0x7f4fed1b2cc8>\n"
     ]
    }
   ],
   "source": [
    "radioactive = Radioactive(hlife)\n",
    "deq_solver  = EulerSolver(radioactive)\n",
    "\n",
    "x0  = numpy.array([natoms],dtype='f')\n",
    "result1 = deq_solver.solve(x0,t0,t1,deltat)\n",
    "ts1, xs1 = zip(*result1)\n",
    "\n",
    "x0 = numpy.array([natoms],dtype='f')\n",
    "result2 = deq_solver.solve(x0,t0,t1,deltat/10)\n",
    "ts2, xs2 = zip(*result2)\n",
    "\n",
    "x0 = numpy.array([natoms],dtype='f')\n",
    "result3 = deq_solver.solve(x0,t0,t1,5*deltat)\n",
    "ts3, xs3 = zip(*result3)"
   ]
  },
  {
   "cell_type": "code",
   "execution_count": 14,
   "metadata": {},
   "outputs": [
    {
     "data": {
      "image/png": "[encoded data removed]",
      "text/plain": [
       "<Figure size 576x576 with 1 Axes>"
      ]
     },
     "metadata": {},
     "output_type": "display_data"
    }
   ],
   "source": [
    "pylab.figure(figsize=(8,8))\n",
    "numerical1 = pylab.semilogy(ts1,xs1,'gD',label='Numerical, dt')\n",
    "numerical2 = pylab.semilogy(ts2,xs2, 'c+',label='Numerical, dt/10')\n",
    "numerical3 = pylab.semilogy(ts3,xs3, 'bo',label='Numerical, 5*dt')\n",
    "\n",
    "t  = numpy.arange(t0,t1,deltat/100)\n",
    "analytical = pylab.semilogy(t, radioactive.analytical(natoms,t), \n",
    "                             color='r')\n",
    "# Annotate the graph\n",
    "pylab.title('Simple radioactive decay')\n",
    "pylab.ylabel('number of atoms')\n",
    "pylab.legend()\n",
    "pylab.grid(True)"
   ]
  },
  {
   "cell_type": "code",
   "execution_count": 15,
   "metadata": {},
   "outputs": [
    {
     "data": {
      "text/plain": [
       "Text(0.5,0,'time (s)')"
      ]
     },
     "execution_count": 15,
     "metadata": {},
     "output_type": "execute_result"
    },
    {
     "data": {
      "image/png": "[encoded data removed]",
      "text/plain": [
       "<Figure size 576x576 with 1 Axes>"
      ]
     },
     "metadata": {},
     "output_type": "display_data"
    }
   ],
   "source": [
    "pylab.figure(figsize=(8,8))\n",
    "pylab.ylabel('relative error (num-ana)/ana')\n",
    "\n",
    "errors1 = radioactive.relative_error(result1,t0,t1)\n",
    "ts1, xs1 = zip(*errors1)\n",
    "\n",
    "errors2 = radioactive.relative_error(result2,t0,t1)\n",
    "ts2, xs2 = zip(*errors2)\n",
    "\n",
    "errors3 = radioactive.relative_error(result3,t0,t1)\n",
    "ts3, xs3 = zip(*errors3)\n",
    "\n",
    "error1 = pylab.plot(ts1,xs1,'gD',label='Numerical, dt' )\n",
    "error2 = pylab.plot(ts2,xs2, 'c+', label='Numerical, dt/10')\n",
    "error3 = pylab.plot(ts3,xs3, 'bo', label='Numerical, 5*dt')\n",
    "pylab.legend()\n",
    "pylab.grid(True)\n",
    "pylab.xlabel('time (s)')\n"
   ]
  },
  {
   "cell_type": "markdown",
   "metadata": {
    "deletable": false,
    "editable": false,
    "nbgrader": {
     "cell_type": "markdown",
     "checksum": "1ea5e053c841d6a3030cd2eb21121036",
     "grade": false,
     "grade_id": "cell-1548bb1849171c2e",
     "locked": true,
     "schema_version": 3,
     "solution": false,
     "task": false
    }
   },
   "source": [
    "## Radioactive decay: three isotopes\n",
    "\n",
    "Generalise the `Radioactive` class to a new class, `RadioactiveABC`, which is able treat a problem with three types of isotopes named A, B and C:\n",
    "\n",
    "- A decays to B with half-life $h_A$\n",
    "- B decays to C with half-life $h_B$ \n",
    "\n",
    "We start with 1000000 isotopes of type A, and none of types B nor C. \n",
    "There is no need to implement an analytical solution. You should be able to re-use ``EulerSolver`` (hint: ``self.x`` can be an array, for example containing $N_A$, $N_B$ and $N_C$).\n",
    "\n",
    "You will have to add new empty cells below to implement your solution. Begin by creating a markdown cell with the equations you are intending to implement.\n",
    "\n",
    "Create a plot of the abundances of istopes as a function of time. Execute this cell, and the two hidden cells below, in case the two multiple-choice questions are not visible. Use your code to help you answer the questions.\n",
    "\n",
    "\n",
    "**5 marks**"
   ]
  },
  {
   "cell_type": "code",
   "execution_count": 18,
   "metadata": {
    "tags": [
     "hide_input"
    ]
   },
   "outputs": [],
   "source": [
    "# class RadioactiveABC:\n",
    "#     def __init__(self,hlifeA,hlifeB):\n",
    "#         self.tauA = hlifeA / numpy.log(2)\n",
    "#         self.tauB = hlifeB / numpy.log(2)\n",
    "\n",
    "#     def dx_dt(self,x,t):\n",
    "#         return numpy.array([\n",
    "#             -x[0] / self.tauA,\n",
    "#             -x[1] / self.tauB + x[0]/ self.tauA,\n",
    "#             x[1]/ self.tauB\n",
    "#         ])\n",
    "        \n",
    "\n",
    "\n",
    "# hlifeA=0.7\n",
    "# hlifeB=0.9\n",
    "\n",
    "# rABC = RadioactiveABC(hlifeA,hlifeB)\n",
    "# solver  = EulerSolver(rABC)\n",
    "\n",
    "# x0  = numpy.array([1000000,0,0],dtype='f')\n",
    "# result = solver.solve(x0,0,5,0.01)\n",
    "\n",
    "\n",
    "\n",
    "# na,nb,nc=solver.coordinateSteps()\n",
    "# ts=solver.timeSteps()\n",
    "\n",
    "# pylab.plot(ts,na)\n",
    "# pylab.plot(ts,nb)\n",
    "# pylab.plot(ts,nc)\n"
   ]
  },
  {
   "cell_type": "code",
   "execution_count": 13,
   "metadata": {
    "init_cell": true,
    "tags": [
     "hide_input"
    ]
   },
   "outputs": [],
   "source": [
    "from ipywidgets import widgets, interact, interactive, fixed\n",
    "from ipywidgets import Button, HBox, VBox\n",
    "import shelve\n",
    "assessmentName=\"test\";\n",
    "import os\n",
    "\n",
    "def get_last_value(key):\n",
    "    if os.path.isfile('.choices.shelve') or os.path.isfile('.choices.shelve.dir'):\n",
    "        s=shelve.open('.choices.shelve')\n",
    "        return s.get(key,None)\n",
    "    return None\n",
    "\n",
    "\n",
    "class myRadioButton:\n",
    "    def __init__(self,name,description,options):\n",
    "        self.name=name\n",
    "        self.options=options\n",
    "        self.description=description\n",
    "    def getWidget(self):\n",
    "        def on_value_change(change):\n",
    "            s=shelve.open('.choices.shelve')\n",
    "            key=self.getKey()\n",
    "            s[key]=change['new']\n",
    "            s.close()\n",
    "\n",
    "        self.widget=widgets.RadioButtons(\n",
    "            options=self.options,\n",
    "            value=get_last_value(self.getKey()),\n",
    "            description=self.description,\n",
    "            disabled=False\n",
    "        )\n",
    "        self.widget.observe(on_value_change, names='value')\n",
    "\n",
    "        return self.widget\n",
    "    def getKey(self):\n",
    "        return '{0}_{1}'.format(assessmentName,self.name)\n",
    "        \n",
    "        \n",
    "def on_value_change(change):\n",
    "                s=shelve.open('.choices.shelve')\n",
    "                key='{0}_{1}_{2}'.format(assessmentName,self.name,i)\n",
    "                s[key]=change['new']\n",
    "                s.close()\n",
    "\n",
    "def make_value_change_fn(assessmentName,name,i):\n",
    "        def fn(change):\n",
    "            s=shelve.open('.choices.shelve')\n",
    "            key='{0}_{1}_{2}'.format(assessmentName,name,i)\n",
    "            s[key]=change['new']\n",
    "            s.close()\n",
    "        return fn\n",
    "\n",
    "class myCheckBoxSet:\n",
    "    def __init__(self,name,description,options):\n",
    "        self.name=name\n",
    "        self.options=options\n",
    "        self.description=description\n",
    "    def getWidget(self):\n",
    "        keys=['{0}_{1}_{2}'.format(assessmentName,self.name,i) for i in range(len(self.options))]    \n",
    "        self.widgets=[ widgets.Checkbox(value=get_last_value(key),\n",
    "    description=o,\n",
    "    disabled=False\n",
    "        ) for key,o in zip(keys,self.options)]\n",
    "        \n",
    "        txt=widgets.HTMLMath(\n",
    "            value=self.description,\n",
    "            placeholder='',\n",
    "            description='',\n",
    "        )\n",
    "\n",
    "        \n",
    "        self.widget=VBox([txt]+self.widgets)\n",
    "        for i,w in enumerate(self.widgets):\n",
    "            w.observe(make_value_change_fn(assessmentName,self.name,i), names='value')\n",
    "\n",
    "        return self.widget"
   ]
  },
  {
   "cell_type": "code",
   "execution_count": 14,
   "metadata": {
    "init_cell": true,
    "tags": [
     "hide_input"
    ]
   },
   "outputs": [
    {
     "data": {
      "application/vnd.jupyter.widget-view+json": {
       "model_id": "",
       "version_major": 2,
       "version_minor": 0
      },
      "text/plain": [
       "VBox(children=(HTMLMath(value='We consider $h_A=0.3$ and $h_B=0.2$. Which of the nuclei type has the most nucl…"
      ]
     },
     "metadata": {},
     "output_type": "display_data"
    }
   ],
   "source": [
    "mcbs1=myCheckBoxSet('radioactiveABC1','We consider $h_A=0.3$ and $h_B=0.2$. Which of the nuclei type has the most nuclei at time $t=1$ ?',[\n",
    "    'type A',\n",
    "    'type B',\n",
    "    'type C']\n",
    ")\n",
    "mcbs1.getWidget()"
   ]
  },
  {
   "cell_type": "code",
   "execution_count": 15,
   "metadata": {
    "init_cell": true,
    "tags": [
     "hide_input"
    ]
   },
   "outputs": [
    {
     "data": {
      "application/vnd.jupyter.widget-view+json": {
       "model_id": "",
       "version_major": 2,
       "version_minor": 0
      },
      "text/plain": [
       "VBox(children=(HTMLMath(value='We consider $h_A=0.7$ and $h_B=0.9$. Which of the nuclei type number is increas…"
      ]
     },
     "metadata": {},
     "output_type": "display_data"
    }
   ],
   "source": [
    "mcbs2=myCheckBoxSet('radioactiveABC2',\n",
    "                   'We consider $h_A=0.7$ and $h_B=0.9$. Which of the nuclei type number is increasing at time $t=0.5$?',[\n",
    "    'type A',\n",
    "    'type B',\n",
    "    'type C']\n",
    ")\n",
    "mcbs2.getWidget()\n",
    "\n"
   ]
  },
  {
   "cell_type": "code",
   "execution_count": 29,
   "metadata": {},
   "outputs": [],
   "source": [
    "natoms = 1000000\n",
    "hlifeA  = 0.3   # Half-life of the element\n",
    "hlifeB  = 0.2   # Half-life of the element\n",
    "t0     = 0.0   # Initial time\n",
    "t1     = 2.0   # Final time of simulation\n",
    "deltat = 0.01   # Size of timestep"
   ]
  },
  {
   "cell_type": "code",
   "execution_count": 30,
   "metadata": {},
   "outputs": [
    {
     "data": {
      "text/plain": [
       "[<matplotlib.lines.Line2D at 0x7f41962b5ef0>]"
      ]
     },
     "execution_count": 30,
     "metadata": {},
     "output_type": "execute_result"
    },
    {
     "data": {
      "image/png": "[encoded data removed]",
      "text/plain": [
       "<Figure size 432x288 with 1 Axes>"
      ]
     },
     "metadata": {},
     "output_type": "display_data"
    }
   ],
   "source": [
    "class RadioactiveABC:\n",
    "    def __init__(self,hlifeA,hlifeB):\n",
    "        self.tauA = hlifeA / numpy.log(2)\n",
    "        self.tauB = hlifeB / numpy.log(2)\n",
    "\n",
    "    def dx_dt(self,x,t):\n",
    "        return numpy.array([\n",
    "            -x[0] / self.tauA,\n",
    "            -x[1] / self.tauB + x[0]/ self.tauA,\n",
    "            x[1]/ self.tauB\n",
    "        ])\n",
    "        \n",
    "\n",
    "\n",
    "\n",
    "rABC = RadioactiveABC(hlifeA,hlifeB)\n",
    "solver  = EulerSolver(rABC)\n",
    "\n",
    "x0  = numpy.array([natoms,0,0],dtype='f')\n",
    "result = solver.solve(x0,t0,t1,deltat)\n",
    "\n",
    "\n",
    "\n",
    "na,nb,nc=solver.coordinateSteps()\n",
    "ts=solver.timeSteps()\n",
    "\n",
    "pylab.plot(ts,na)\n",
    "pylab.plot(ts,nb)\n",
    "pylab.plot(ts,nc)"
   ]
  },
  {
   "cell_type": "code",
   "execution_count": null,
   "metadata": {},
   "outputs": [],
   "source": []
  },
  {
   "cell_type": "code",
   "execution_count": null,
   "metadata": {
    "deletable": false,
    "editable": false,
    "nbgrader": {
     "cell_type": "code",
     "checksum": "4c2e5f6d368283a80096b13d3a48092d",
     "grade": true,
     "grade_id": "cell-59df6cc9dab46d1a",
     "locked": true,
     "points": 2,
     "schema_version": 3,
     "solution": false
    }
   },
   "outputs": [],
   "source": []
  },
  {
   "cell_type": "code",
   "execution_count": null,
   "metadata": {
    "deletable": false,
    "editable": false,
    "nbgrader": {
     "cell_type": "code",
     "checksum": "23470ecc593d0aa54366aa7eed967b93",
     "grade": true,
     "grade_id": "cell-5b602a9fa9fa8021",
     "locked": true,
     "points": 1,
     "schema_version": 3,
     "solution": false
    }
   },
   "outputs": [],
   "source": []
  },
  {
   "cell_type": "code",
   "execution_count": null,
   "metadata": {
    "deletable": false,
    "editable": false,
    "nbgrader": {
     "cell_type": "code",
     "checksum": "015f699b3b0fdd849dae5b9193dd44ce",
     "grade": true,
     "grade_id": "cell-591c7aadb1d7bde9",
     "locked": true,
     "points": 1,
     "schema_version": 3,
     "solution": false,
     "task": false
    }
   },
   "outputs": [],
   "source": []
  },
  {
   "cell_type": "code",
   "execution_count": null,
   "metadata": {
    "deletable": false,
    "editable": false,
    "nbgrader": {
     "cell_type": "code",
     "checksum": "2ddea8504d7382955a8ebabc52e67130",
     "grade": true,
     "grade_id": "cell-8f5bc7d152f320bb",
     "locked": true,
     "points": 1,
     "schema_version": 3,
     "solution": false,
     "task": false
    }
   },
   "outputs": [],
   "source": []
  },
  {
   "cell_type": "markdown",
   "metadata": {
    "deletable": false,
    "editable": false,
    "nbgrader": {
     "cell_type": "markdown",
     "checksum": "af36d597d2b5c08e063a73772e6ea504",
     "grade": false,
     "grade_id": "cell-1522aaab42c00fd0",
     "locked": true,
     "schema_version": 3,
     "solution": false,
     "task": false
    }
   },
   "source": [
    "## Playground\n",
    "\n",
    "Below are some more exercises you may want to try. They are not graded\n"
   ]
  },
  {
   "cell_type": "markdown",
   "metadata": {},
   "source": [
    "The number of individuals in a population, $N$, changes because of births and deaths. Suppose this is described as\n",
    "\n",
    "\n",
    "$\\frac{{\\rm d}N}{{\\rm d}t} = a N - b N^2$\n",
    "\n",
    "where $a=10$ and $b=0.01$. Starting from $N=100$, evaluate the evolution of $N$. First analyse the expected behaviour, for example, is there an equilibrium population number? And what is the time-scale fo reaching this equilibrium.\n",
    "\n",
    "\n",
    "\n",
    "\n"
   ]
  },
  {
   "cell_type": "code",
   "execution_count": 60,
   "metadata": {},
   "outputs": [
    {
     "data": {
      "text/plain": [
       "[<matplotlib.lines.Line2D at 0x7f41892c5320>]"
      ]
     },
     "execution_count": 60,
     "metadata": {},
     "output_type": "execute_result"
    },
    {
     "data": {
      "image/png": "[encoded data removed]",
      "text/plain": [
       "<Figure size 432x288 with 1 Axes>"
      ]
     },
     "metadata": {},
     "output_type": "display_data"
    }
   ],
   "source": [
    "class populationsChange:\n",
    "    def __init__(self,a,b):\n",
    "        self.a = a\n",
    "        self.b = b\n",
    "\n",
    "    def dx_dt(self,x,t):\n",
    "        return (self.a * x - self.b * x ** 2)\n",
    "    \n",
    "a = 10\n",
    "b = 0.01\n",
    "N = 100\n",
    "t0 = 0\n",
    "t1 = 2\n",
    "deltat = 0.01\n",
    "\n",
    "rABC = populationsChange(a, b)\n",
    "solver  = EulerSolver(rABC)\n",
    "x0=numpy.array([100], dtype = 'f')\n",
    "result = solver.solve(x0, t0, t1, deltat)\n",
    "\n",
    "nx, ts = zip(*result)\n",
    "\n",
    "pylab.plot(nx, ts)"
   ]
  },
  {
   "cell_type": "code",
   "execution_count": null,
   "metadata": {},
   "outputs": [],
   "source": [
    "Yes, maybe after 0.65-0.75 can the population reaching this equilibrium."
   ]
  }
 ],
 "metadata": {
  "kernelspec": {
   "display_name": "Python 3",
   "language": "python",
   "name": "python3"
  },
  "language_info": {
   "codemirror_mode": {
    "name": "ipython",
    "version": 3
   },
   "file_extension": ".py",
   "mimetype": "text/x-python",
   "name": "python",
   "nbconvert_exporter": "python",
   "pygments_lexer": "ipython3",
   "version": "3.6.3"
  }
 },
 "nbformat": 4,
 "nbformat_minor": 2
}
